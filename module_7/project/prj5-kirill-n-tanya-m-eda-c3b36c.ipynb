{
 "cells": [
  {
   "cell_type": "markdown",
   "metadata": {
    "papermill": {
     "duration": 0.239343,
     "end_time": "2021-09-01T03:30:49.374415",
     "exception": false,
     "start_time": "2021-09-01T03:30:49.135072",
     "status": "completed"
    },
    "tags": []
   },
   "source": [
    "# **ПРОГНОЗ СТОИМОСТИ АВТОМОБИЛЕЙ**\n",
    "# EDA\n",
    "## Задача\n",
    "Необходимо создать модель, которая будет предсказывать стоимость автомобиля по его характеристикам. Для оценки использовать метрику MAPE\n",
    "\n",
    "С помощью данного ноутбука мы провели обаботку и анализ данных и подготовили датасет к обучению.\n",
    "\n",
    "Также в этом проекте мы использовали:\n",
    "\n",
    "* Ноутбук, через который парсили https://www.kaggle.com/tatianamukhidaeva/prj5-kirill-n-tanya-m-parser\n",
    "* Спарсенный датасет https://www.kaggle.com/tatianamukhidaeva/cars-df-v2\n",
    "* Ноутбук, в котором провели EDA и обучение https://www.kaggle.com/tatianamukhidaeva/prj5-kirill-n-tanya-m-eda\n",
    "\n",
    "## Библиотеки"
   ]
  },
  {
   "cell_type": "markdown",
   "metadata": {
    "papermill": {
     "duration": 0.23279,
     "end_time": "2021-09-01T03:30:49.841564",
     "exception": false,
     "start_time": "2021-09-01T03:30:49.608774",
     "status": "completed"
    },
    "tags": []
   },
   "source": [
    "Задача: спрогнозировать стоимость автомобилей, используя данные "
   ]
  },
  {
   "cell_type": "code",
   "execution_count": 1,
   "metadata": {
    "_cell_guid": "b1076dfc-b9ad-4769-8c92-a6c4dae69d19",
    "_uuid": "8f2839f25d086af736a60e9eeb907d3b93b6e0e5",
    "execution": {
     "iopub.execute_input": "2021-09-01T03:30:50.323295Z",
     "iopub.status.busy": "2021-09-01T03:30:50.322628Z",
     "iopub.status.idle": "2021-09-01T03:30:53.715470Z",
     "shell.execute_reply": "2021-09-01T03:30:53.715029Z",
     "shell.execute_reply.started": "2021-09-01T00:30:51.177452Z"
    },
    "papermill": {
     "duration": 3.635935,
     "end_time": "2021-09-01T03:30:53.715570",
     "exception": false,
     "start_time": "2021-09-01T03:30:50.079635",
     "status": "completed"
    },
    "tags": []
   },
   "outputs": [],
   "source": [
    "import numpy as np # linear algebra\n",
    "import pandas as pd # data processing, CSV file I/O (e.g. pd.read_csv)\n",
    "import sys\n",
    "from sklearn.model_selection import train_test_split\n",
    "from sklearn.model_selection import KFold\n",
    "from tqdm.notebook import tqdm\n",
    "from catboost import CatBoostRegressor, Pool\n",
    "from sklearn.ensemble import StackingRegressor\n",
    "\n",
    "import xgboost as xgb\n",
    "from sklearn.ensemble import RandomForestRegressor\n",
    "from sklearn.preprocessing import LabelEncoder\n",
    "from sklearn.linear_model import LinearRegression\n",
    "\n",
    "import time\n",
    "import os\n",
    "\n",
    "from pandas import Series\n",
    "import re\n",
    "\n",
    "import pandas_profiling\n",
    "import matplotlib.pyplot as plt\n",
    "import seaborn as sns\n",
    "from sklearn.base import clone\n",
    "from sklearn.neighbors import KNeighborsClassifier\n",
    "from sklearn.neighbors import KNeighborsRegressor\n",
    "from sklearn.model_selection import KFold\n",
    "from sklearn.feature_selection import f_classif, mutual_info_classif\n",
    "from sklearn.preprocessing import LabelEncoder, OneHotEncoder, StandardScaler\n",
    "from sklearn.ensemble import GradientBoostingRegressor\n",
    "from tqdm import tqdm\n",
    "from datetime import timedelta, datetime, date\n",
    "\n",
    "import json"
   ]
  },
  {
   "cell_type": "code",
   "execution_count": 2,
   "metadata": {
    "_kg_hide-input": true,
    "execution": {
     "iopub.execute_input": "2021-09-01T03:30:54.031701Z",
     "iopub.status.busy": "2021-09-01T03:30:54.031096Z",
     "iopub.status.idle": "2021-09-01T03:30:54.035041Z",
     "shell.execute_reply": "2021-09-01T03:30:54.034517Z",
     "shell.execute_reply.started": "2021-09-01T00:30:51.189590Z"
    },
    "papermill": {
     "duration": 0.167132,
     "end_time": "2021-09-01T03:30:54.035135",
     "exception": false,
     "start_time": "2021-09-01T03:30:53.868003",
     "status": "completed"
    },
    "tags": []
   },
   "outputs": [
    {
     "name": "stdout",
     "output_type": "stream",
     "text": [
      "Python       : 3.7.6 | packaged by conda-forge | (default, Mar 23 2020, 23:03:20) \n",
      "Numpy        : 1.18.5\n"
     ]
    }
   ],
   "source": [
    "print('Python       :', sys.version.split('\\n')[0])\n",
    "print('Numpy        :', np.__version__)"
   ]
  },
  {
   "cell_type": "code",
   "execution_count": 3,
   "metadata": {
    "_kg_hide-input": true,
    "execution": {
     "iopub.execute_input": "2021-09-01T03:30:54.377507Z",
     "iopub.status.busy": "2021-09-01T03:30:54.376897Z",
     "iopub.status.idle": "2021-09-01T03:30:56.880956Z",
     "shell.execute_reply": "2021-09-01T03:30:56.881346Z",
     "shell.execute_reply.started": "2021-09-01T00:30:51.263422Z"
    },
    "papermill": {
     "duration": 2.689306,
     "end_time": "2021-09-01T03:30:56.881478",
     "exception": false,
     "start_time": "2021-09-01T03:30:54.192172",
     "status": "completed"
    },
    "tags": []
   },
   "outputs": [],
   "source": [
    "# зафиксируем версию пакетов, чтобы эксперименты были воспроизводимы:\n",
    "!pip freeze > requirements.txt"
   ]
  },
  {
   "cell_type": "code",
   "execution_count": 4,
   "metadata": {
    "execution": {
     "iopub.execute_input": "2021-09-01T03:30:57.251920Z",
     "iopub.status.busy": "2021-09-01T03:30:57.251230Z",
     "iopub.status.idle": "2021-09-01T03:30:57.255055Z",
     "shell.execute_reply": "2021-09-01T03:30:57.254433Z",
     "shell.execute_reply.started": "2021-09-01T00:30:53.287176Z"
    },
    "papermill": {
     "duration": 0.167878,
     "end_time": "2021-09-01T03:30:57.255161",
     "exception": false,
     "start_time": "2021-09-01T03:30:57.087283",
     "status": "completed"
    },
    "tags": []
   },
   "outputs": [],
   "source": [
    "# всегда фиксируйте RANDOM_SEED, чтобы ваши эксперименты были воспроизводимы!\n",
    "RANDOM_SEED = 42"
   ]
  },
  {
   "cell_type": "code",
   "execution_count": 5,
   "metadata": {
    "_kg_hide-input": true,
    "execution": {
     "iopub.execute_input": "2021-09-01T03:30:57.586744Z",
     "iopub.status.busy": "2021-09-01T03:30:57.580739Z",
     "iopub.status.idle": "2021-09-01T03:30:57.590588Z",
     "shell.execute_reply": "2021-09-01T03:30:57.590113Z",
     "shell.execute_reply.started": "2021-09-01T00:30:53.293665Z"
    },
    "papermill": {
     "duration": 0.17581,
     "end_time": "2021-09-01T03:30:57.590700",
     "exception": false,
     "start_time": "2021-09-01T03:30:57.414890",
     "status": "completed"
    },
    "tags": []
   },
   "outputs": [],
   "source": [
    "# Подготовим функции для простоты дальнейшей работы:\n",
    "def visualizing_number(data, column): \n",
    "    bins = 100\n",
    "    if data[column].nunique() < 100:\n",
    "        bins = data[column].nunique()\n",
    "    \n",
    "    fig, axes = plt.subplots(2,1, figsize=(26,8))\n",
    "    sns.boxplot(ax=axes[0], y = data[column],data=data, orient='h')\n",
    "    axes[0].set_title(column)\n",
    "    data[column].hist(ax=axes[1], bins = bins)\n",
    "    plt.show()\n",
    "    print()\n",
    "    \n",
    "\n",
    "def get_outliers(column): \n",
    "    Q1 = column.quantile(0.25)\n",
    "    Q3 = column.quantile(0.75)\n",
    "    IQR = Q3 - Q1\n",
    "    min_out = Q1 - 1.5 * IQR\n",
    "    max_out = Q3 + 1.5 * IQR\n",
    "    return (column < min_out).sum() + (column > max_out).sum(), min_out, max_out\n",
    "\n",
    "def mape(y_true, y_pred):\n",
    "    return np.mean(np.abs((y_pred-y_true)/y_true))"
   ]
  },
  {
   "cell_type": "markdown",
   "metadata": {
    "papermill": {
     "duration": 0.159905,
     "end_time": "2021-09-01T03:30:57.910670",
     "exception": false,
     "start_time": "2021-09-01T03:30:57.750765",
     "status": "completed"
    },
    "tags": []
   },
   "source": [
    "# Setup"
   ]
  },
  {
   "cell_type": "code",
   "execution_count": 6,
   "metadata": {
    "execution": {
     "iopub.execute_input": "2021-09-01T03:30:58.231498Z",
     "iopub.status.busy": "2021-09-01T03:30:58.230915Z",
     "iopub.status.idle": "2021-09-01T03:30:58.234985Z",
     "shell.execute_reply": "2021-09-01T03:30:58.234500Z",
     "shell.execute_reply.started": "2021-09-01T00:30:53.310233Z"
    },
    "papermill": {
     "duration": 0.166448,
     "end_time": "2021-09-01T03:30:58.235087",
     "exception": false,
     "start_time": "2021-09-01T03:30:58.068639",
     "status": "completed"
    },
    "tags": []
   },
   "outputs": [],
   "source": [
    "VERSION    = 16\n",
    "DIR_TRAIN  = '../input/parsing-all-moscow-auto-ru-09-09-2020/' \n",
    "DIR_TRAIN2 = '../input/cars-df-v2/' #импортируем данные, которые были предвариельно взяты с сайта авто.ру\n",
    "DIR_TEST   = '../input/sf-dst-car-price-prediction/'\n",
    "VAL_SIZE   = 0.20   # 20%"
   ]
  },
  {
   "cell_type": "markdown",
   "metadata": {
    "papermill": {
     "duration": 0.156198,
     "end_time": "2021-09-01T03:30:58.548159",
     "exception": false,
     "start_time": "2021-09-01T03:30:58.391961",
     "status": "completed"
    },
    "tags": []
   },
   "source": [
    "# Data"
   ]
  },
  {
   "cell_type": "code",
   "execution_count": 7,
   "metadata": {
    "execution": {
     "iopub.execute_input": "2021-09-01T03:30:58.868207Z",
     "iopub.status.busy": "2021-09-01T03:30:58.867714Z",
     "iopub.status.idle": "2021-09-01T03:30:59.144745Z",
     "shell.execute_reply": "2021-09-01T03:30:59.144267Z",
     "shell.execute_reply.started": "2021-09-01T00:30:53.327142Z"
    },
    "papermill": {
     "duration": 0.439288,
     "end_time": "2021-09-01T03:30:59.144844",
     "exception": false,
     "start_time": "2021-09-01T03:30:58.705556",
     "status": "completed"
    },
    "tags": []
   },
   "outputs": [
    {
     "name": "stdout",
     "output_type": "stream",
     "text": [
      "cars-df-v2  parsing-all-moscow-auto-ru-09-09-2020  sf-dst-car-price-prediction\r\n"
     ]
    }
   ],
   "source": [
    "!ls '../input'"
   ]
  },
  {
   "cell_type": "code",
   "execution_count": 8,
   "metadata": {
    "_cell_guid": "79c7e3d0-c299-4dcb-8224-4455121ee9b0",
    "_uuid": "d629ff2d2480ee46fbb7e2d37f6b5fab8052498a",
    "execution": {
     "iopub.execute_input": "2021-09-01T03:30:59.471243Z",
     "iopub.status.busy": "2021-09-01T03:30:59.470679Z",
     "iopub.status.idle": "2021-09-01T03:31:11.707751Z",
     "shell.execute_reply": "2021-09-01T03:31:11.707239Z",
     "shell.execute_reply.started": "2021-09-01T00:30:54.085971Z"
    },
    "papermill": {
     "duration": 12.404783,
     "end_time": "2021-09-01T03:31:11.707867",
     "exception": false,
     "start_time": "2021-09-01T03:30:59.303084",
     "status": "completed"
    },
    "tags": []
   },
   "outputs": [],
   "source": [
    "train_2020 = pd.read_csv(DIR_TRAIN+'all_auto_ru_09_09_2020.csv')\n",
    "train = pd.read_csv(DIR_TRAIN2+'cars_df.csv') # датасет для обучения модели\n",
    "test = pd.read_csv(DIR_TEST+'test.csv')\n",
    "sample_submission = pd.read_csv(DIR_TEST+'sample_submission.csv')"
   ]
  },
  {
   "cell_type": "code",
   "execution_count": 9,
   "metadata": {
    "execution": {
     "iopub.execute_input": "2021-09-01T03:31:12.036357Z",
     "iopub.status.busy": "2021-09-01T03:31:12.035754Z",
     "iopub.status.idle": "2021-09-01T03:31:12.117693Z",
     "shell.execute_reply": "2021-09-01T03:31:12.116709Z",
     "shell.execute_reply.started": "2021-09-01T00:31:00.445365Z"
    },
    "papermill": {
     "duration": 0.251196,
     "end_time": "2021-09-01T03:31:12.117871",
     "exception": false,
     "start_time": "2021-09-01T03:31:11.866675",
     "status": "completed"
    },
    "tags": []
   },
   "outputs": [
    {
     "name": "stdout",
     "output_type": "stream",
     "text": [
      "<class 'pandas.core.frame.DataFrame'>\n",
      "RangeIndex: 89378 entries, 0 to 89377\n",
      "Data columns (total 26 columns):\n",
      " #   Column                Non-Null Count  Dtype  \n",
      "---  ------                --------------  -----  \n",
      " 0   bodyType              89377 non-null  object \n",
      " 1   brand                 89378 non-null  object \n",
      " 2   color                 89378 non-null  object \n",
      " 3   fuelType              89378 non-null  object \n",
      " 4   modelDate             89377 non-null  float64\n",
      " 5   name                  89377 non-null  object \n",
      " 6   numberOfDoors         89377 non-null  float64\n",
      " 7   productionDate        89378 non-null  int64  \n",
      " 8   vehicleConfiguration  89377 non-null  object \n",
      " 9   vehicleTransmission   89377 non-null  object \n",
      " 10  engineDisplacement    89377 non-null  object \n",
      " 11  enginePower           89377 non-null  float64\n",
      " 12  description           86124 non-null  object \n",
      " 13  mileage               89378 non-null  int64  \n",
      " 14  Комплектация          89378 non-null  object \n",
      " 15  Привод                89377 non-null  object \n",
      " 16  Руль                  89378 non-null  object \n",
      " 17  Состояние             0 non-null      float64\n",
      " 18  Владельцы             75790 non-null  float64\n",
      " 19  ПТС                   89017 non-null  object \n",
      " 20  Таможня               89378 non-null  bool   \n",
      " 21  Владение              29201 non-null  object \n",
      " 22  price                 88968 non-null  float64\n",
      " 23  start_date            89378 non-null  object \n",
      " 24  hidden                0 non-null      float64\n",
      " 25  model                 89378 non-null  object \n",
      "dtypes: bool(1), float64(7), int64(2), object(16)\n",
      "memory usage: 17.1+ MB\n"
     ]
    }
   ],
   "source": [
    "train_2020.info()"
   ]
  },
  {
   "cell_type": "code",
   "execution_count": 10,
   "metadata": {
    "execution": {
     "iopub.execute_input": "2021-09-01T03:31:12.477583Z",
     "iopub.status.busy": "2021-09-01T03:31:12.477077Z",
     "iopub.status.idle": "2021-09-01T03:31:12.489748Z",
     "shell.execute_reply": "2021-09-01T03:31:12.488590Z",
     "shell.execute_reply.started": "2021-09-01T00:31:00.614861Z"
    },
    "papermill": {
     "duration": 0.210891,
     "end_time": "2021-09-01T03:31:12.489921",
     "exception": false,
     "start_time": "2021-09-01T03:31:12.279030",
     "status": "completed"
    },
    "tags": []
   },
   "outputs": [
    {
     "name": "stdout",
     "output_type": "stream",
     "text": [
      "<class 'pandas.core.frame.DataFrame'>\n",
      "RangeIndex: 34240 entries, 0 to 34239\n",
      "Data columns (total 28 columns):\n",
      " #   Column                Non-Null Count  Dtype \n",
      "---  ------                --------------  ----- \n",
      " 0   bodyType              34240 non-null  object\n",
      " 1   brand                 34240 non-null  object\n",
      " 2   car_url               34240 non-null  object\n",
      " 3   color                 34240 non-null  object\n",
      " 4   description           34240 non-null  object\n",
      " 5   engineDisplacement    34240 non-null  object\n",
      " 6   enginePower           34240 non-null  object\n",
      " 7   fuelType              34240 non-null  object\n",
      " 8   image                 34240 non-null  object\n",
      " 9   mileage               34240 non-null  object\n",
      " 10  modelDate             34240 non-null  int64 \n",
      " 11  model_name            34240 non-null  object\n",
      " 12  name                  34240 non-null  object\n",
      " 13  numberOfDoors         34240 non-null  int64 \n",
      " 14  parsing_unixtime      34240 non-null  int64 \n",
      " 15  priceCurrency         34240 non-null  object\n",
      " 16  productionDate        34240 non-null  int64 \n",
      " 17  sell_id               34240 non-null  object\n",
      " 18  vehicleConfiguration  34240 non-null  object\n",
      " 19  vehicleTransmission   34240 non-null  object\n",
      " 20  Владельцы             34240 non-null  object\n",
      " 21  ПТС                   34240 non-null  object\n",
      " 22  Привод                34240 non-null  object\n",
      " 23  Руль                  34240 non-null  object\n",
      " 24  Состояние             34240 non-null  object\n",
      " 25  Таможня               34240 non-null  object\n",
      " 26  price                 34240 non-null  object\n",
      " 27  equipmentGroups       26208 non-null  object\n",
      "dtypes: int64(4), object(24)\n",
      "memory usage: 7.3+ MB\n"
     ]
    }
   ],
   "source": [
    "train.info()"
   ]
  },
  {
   "cell_type": "code",
   "execution_count": 11,
   "metadata": {
    "execution": {
     "iopub.execute_input": "2021-09-01T03:31:13.015230Z",
     "iopub.status.busy": "2021-09-01T03:31:13.014713Z",
     "iopub.status.idle": "2021-09-01T03:31:13.028876Z",
     "shell.execute_reply": "2021-09-01T03:31:13.029575Z",
     "shell.execute_reply.started": "2021-09-01T00:31:00.732649Z"
    },
    "papermill": {
     "duration": 0.300435,
     "end_time": "2021-09-01T03:31:13.029773",
     "exception": false,
     "start_time": "2021-09-01T03:31:12.729338",
     "status": "completed"
    },
    "tags": []
   },
   "outputs": [
    {
     "name": "stdout",
     "output_type": "stream",
     "text": [
      "<class 'pandas.core.frame.DataFrame'>\n",
      "RangeIndex: 34686 entries, 0 to 34685\n",
      "Data columns (total 32 columns):\n",
      " #   Column                Non-Null Count  Dtype \n",
      "---  ------                --------------  ----- \n",
      " 0   bodyType              34686 non-null  object\n",
      " 1   brand                 34686 non-null  object\n",
      " 2   car_url               34686 non-null  object\n",
      " 3   color                 34686 non-null  object\n",
      " 4   complectation_dict    6418 non-null   object\n",
      " 5   description           34686 non-null  object\n",
      " 6   engineDisplacement    34686 non-null  object\n",
      " 7   enginePower           34686 non-null  object\n",
      " 8   equipment_dict        24690 non-null  object\n",
      " 9   fuelType              34686 non-null  object\n",
      " 10  image                 34686 non-null  object\n",
      " 11  mileage               34686 non-null  int64 \n",
      " 12  modelDate             34686 non-null  int64 \n",
      " 13  model_info            34686 non-null  object\n",
      " 14  model_name            34686 non-null  object\n",
      " 15  name                  34686 non-null  object\n",
      " 16  numberOfDoors         34686 non-null  int64 \n",
      " 17  parsing_unixtime      34686 non-null  int64 \n",
      " 18  priceCurrency         34686 non-null  object\n",
      " 19  productionDate        34686 non-null  int64 \n",
      " 20  sell_id               34686 non-null  int64 \n",
      " 21  super_gen             34686 non-null  object\n",
      " 22  vehicleConfiguration  34686 non-null  object\n",
      " 23  vehicleTransmission   34686 non-null  object\n",
      " 24  vendor                34686 non-null  object\n",
      " 25  Владельцы             34686 non-null  object\n",
      " 26  Владение              11995 non-null  object\n",
      " 27  ПТС                   34685 non-null  object\n",
      " 28  Привод                34686 non-null  object\n",
      " 29  Руль                  34686 non-null  object\n",
      " 30  Состояние             34686 non-null  object\n",
      " 31  Таможня               34686 non-null  object\n",
      "dtypes: int64(6), object(26)\n",
      "memory usage: 8.5+ MB\n"
     ]
    }
   ],
   "source": [
    "test.info()"
   ]
  },
  {
   "cell_type": "markdown",
   "metadata": {
    "papermill": {
     "duration": 0.238828,
     "end_time": "2021-09-01T03:31:13.510126",
     "exception": false,
     "start_time": "2021-09-01T03:31:13.271298",
     "status": "completed"
    },
    "tags": []
   },
   "source": [
    "Заметим, что в файле 2020 года объявлений гораздо больше, чем в датасете 2021 года. Однако спарсить большее количество не удалось. Также цены в 2021 году сильно изменились. Учтем инфляцию и объединим датасеты 2020 и 2021 года."
   ]
  },
  {
   "cell_type": "markdown",
   "metadata": {
    "papermill": {
     "duration": 0.245099,
     "end_time": "2021-09-01T03:31:13.996052",
     "exception": false,
     "start_time": "2021-09-01T03:31:13.750953",
     "status": "completed"
    },
    "tags": []
   },
   "source": [
    "## Учет инфляции\n",
    "\n",
    "С 2020 по 2021 год цены на автомобили сильно поднялись, особенно на популярные модели. Почитать об этом можно по ссылкам:\n",
    "- https://mag.auto.ru/article/risepricescalltouchpres/\n",
    "- https://cenamashin.ru/statistika/moskva/avg_price?seg=1\n",
    "\n",
    "Причем цены на разные бренды менялись по-разному"
   ]
  },
  {
   "cell_type": "code",
   "execution_count": 12,
   "metadata": {
    "execution": {
     "iopub.execute_input": "2021-09-01T03:31:14.495109Z",
     "iopub.status.busy": "2021-09-01T03:31:14.487482Z",
     "iopub.status.idle": "2021-09-01T03:31:14.534452Z",
     "shell.execute_reply": "2021-09-01T03:31:14.535013Z",
     "shell.execute_reply.started": "2021-09-01T00:31:00.851389Z"
    },
    "papermill": {
     "duration": 0.300891,
     "end_time": "2021-09-01T03:31:14.535177",
     "exception": false,
     "start_time": "2021-09-01T03:31:14.234286",
     "status": "completed"
    },
    "tags": []
   },
   "outputs": [],
   "source": [
    "\n",
    "# удалим знак валюты и пробелы в цене\n",
    "train['price'] =train['price'].astype(str)\n",
    "train['price'] = train['price'].apply(lambda x: x if len(x) ==1 else ''.join(x.split()[0:-1])).astype(int)"
   ]
  },
  {
   "cell_type": "code",
   "execution_count": 13,
   "metadata": {
    "execution": {
     "iopub.execute_input": "2021-09-01T03:31:14.991310Z",
     "iopub.status.busy": "2021-09-01T03:31:14.990641Z",
     "iopub.status.idle": "2021-09-01T03:31:15.147351Z",
     "shell.execute_reply": "2021-09-01T03:31:15.146879Z",
     "shell.execute_reply.started": "2021-09-01T00:31:00.920865Z"
    },
    "papermill": {
     "duration": 0.374978,
     "end_time": "2021-09-01T03:31:15.147451",
     "exception": false,
     "start_time": "2021-09-01T03:31:14.772473",
     "status": "completed"
    },
    "tags": []
   },
   "outputs": [
    {
     "name": "stdout",
     "output_type": "stream",
     "text": [
      "SKODA 2020: 657326.633273703\n",
      "SKODA 2021: 910444.3177229388\n",
      "Инфляция: 38.51%\n",
      "\n",
      "AUDI 2020: 1502616.5201474202\n",
      "AUDI 2021: 1677113.6928999145\n",
      "Инфляция: 11.61%\n",
      "\n",
      "HONDA 2020: 595388.4040920716\n",
      "HONDA 2021: 699112.622754491\n",
      "Инфляция: 17.42%\n",
      "\n",
      "VOLVO 2020: 1776484.3166828323\n",
      "VOLVO 2021: 1233911.1361125063\n",
      "Инфляция: -30.54%\n",
      "\n",
      "BMW 2020: 2387441.4331296673\n",
      "BMW 2021: 2466772.130835735\n",
      "Инфляция: 3.32%\n",
      "\n",
      "NISSAN 2020: 891387.644173913\n",
      "NISSAN 2021: 931886.534647724\n",
      "Инфляция: 4.54%\n",
      "\n",
      "INFINITI 2020: 1564960.196911197\n",
      "INFINITI 2021: 1602153.632780083\n",
      "Инфляция: 2.38%\n",
      "\n",
      "MERCEDES 2020: 3526259.7003383883\n",
      "MERCEDES 2021: 3435923.9598136283\n",
      "Инфляция: -2.56%\n",
      "\n",
      "TOYOTA 2020: 1348232.2266944733\n",
      "TOYOTA 2021: 1764081.6214222484\n",
      "Инфляция: 30.84%\n",
      "\n",
      "LEXUS 2020: 2025737.124282983\n",
      "LEXUS 2021: 2708173.126965638\n",
      "Инфляция: 33.69%\n",
      "\n",
      "VOLKSWAGEN 2020: 999332.647869498\n",
      "VOLKSWAGEN 2021: 1113360.6555655566\n",
      "Инфляция: 11.41%\n",
      "\n",
      "MITSUBISHI 2020: 994034.449859658\n",
      "MITSUBISHI 2021: 874427.4276932084\n",
      "Инфляция: -12.03%\n",
      "\n"
     ]
    }
   ],
   "source": [
    "# инфляция по брендам\n",
    "\n",
    "\n",
    "brands = test.brand.unique()\n",
    "infs = []\n",
    "for brand in brands:\n",
    "    mean20 = train_2020[train_2020[\"brand\"]==brand].price.mean()\n",
    "    mean21 = train[train[\"brand\"]==brand].price.mean()\n",
    "    inf = (mean21-mean20)/mean20\n",
    "    infs.append(inf)\n",
    "    print(f'{brand} 2020: {mean20}')\n",
    "    print(f'{brand} 2021: {mean21}')\n",
    "    print(f'Инфляция: {round(inf * 100,2)}%')\n",
    "    print()\n"
   ]
  },
  {
   "cell_type": "markdown",
   "metadata": {
    "papermill": {
     "duration": 0.241448,
     "end_time": "2021-09-01T03:31:15.575463",
     "exception": false,
     "start_time": "2021-09-01T03:31:15.334015",
     "status": "completed"
    },
    "tags": []
   },
   "source": [
    "Учтем инфляцию и изменим цены так, чтобы они были похожи на осень 2020 года"
   ]
  },
  {
   "cell_type": "code",
   "execution_count": 14,
   "metadata": {
    "execution": {
     "iopub.execute_input": "2021-09-01T03:31:16.064125Z",
     "iopub.status.busy": "2021-09-01T03:31:16.063200Z",
     "iopub.status.idle": "2021-09-01T03:31:16.348860Z",
     "shell.execute_reply": "2021-09-01T03:31:16.349410Z",
     "shell.execute_reply.started": "2021-09-01T00:31:01.222776Z"
    },
    "papermill": {
     "duration": 0.53575,
     "end_time": "2021-09-01T03:31:16.349539",
     "exception": false,
     "start_time": "2021-09-01T03:31:15.813789",
     "status": "completed"
    },
    "tags": []
   },
   "outputs": [
    {
     "data": {
      "text/html": [
       "<div>\n",
       "<style scoped>\n",
       "    .dataframe tbody tr th:only-of-type {\n",
       "        vertical-align: middle;\n",
       "    }\n",
       "\n",
       "    .dataframe tbody tr th {\n",
       "        vertical-align: top;\n",
       "    }\n",
       "\n",
       "    .dataframe thead th {\n",
       "        text-align: right;\n",
       "    }\n",
       "</style>\n",
       "<table border=\"1\" class=\"dataframe\">\n",
       "  <thead>\n",
       "    <tr style=\"text-align: right;\">\n",
       "      <th></th>\n",
       "      <th>bodyType</th>\n",
       "      <th>brand</th>\n",
       "      <th>car_url</th>\n",
       "      <th>color</th>\n",
       "      <th>description</th>\n",
       "      <th>engineDisplacement</th>\n",
       "      <th>enginePower</th>\n",
       "      <th>fuelType</th>\n",
       "      <th>image</th>\n",
       "      <th>mileage</th>\n",
       "      <th>...</th>\n",
       "      <th>vehicleConfiguration</th>\n",
       "      <th>vehicleTransmission</th>\n",
       "      <th>Владельцы</th>\n",
       "      <th>ПТС</th>\n",
       "      <th>Привод</th>\n",
       "      <th>Руль</th>\n",
       "      <th>Состояние</th>\n",
       "      <th>Таможня</th>\n",
       "      <th>price</th>\n",
       "      <th>equipmentGroups</th>\n",
       "    </tr>\n",
       "  </thead>\n",
       "  <tbody>\n",
       "    <tr>\n",
       "      <th>0</th>\n",
       "      <td>лифтбек</td>\n",
       "      <td>SKODA</td>\n",
       "      <td>https://auto.ru/cars/used/sale/skoda/octavia/1...</td>\n",
       "      <td>серебристый</td>\n",
       "      <td>Машине нужны любящие руки понимающего человека...</td>\n",
       "      <td>1.8 LTR</td>\n",
       "      <td>152 N12</td>\n",
       "      <td>бензин</td>\n",
       "      <td>https://autoru.naydex.net/ggLF9n453/6ee1a95w/V...</td>\n",
       "      <td>205 500 км</td>\n",
       "      <td>...</td>\n",
       "      <td>LIFTBACK MECHANICAL 1.8</td>\n",
       "      <td>механическая</td>\n",
       "      <td>2 владельца</td>\n",
       "      <td>Оригинал</td>\n",
       "      <td>передний</td>\n",
       "      <td>Левый</td>\n",
       "      <td>Не требует ремонта</td>\n",
       "      <td>Растаможен</td>\n",
       "      <td>620999</td>\n",
       "      <td>[{'name': 'Безопасность', 'values': ['Антиблок...</td>\n",
       "    </tr>\n",
       "    <tr>\n",
       "      <th>1</th>\n",
       "      <td>компактвэн</td>\n",
       "      <td>SKODA</td>\n",
       "      <td>https://auto.ru/cars/used/sale/skoda/roomster/...</td>\n",
       "      <td>серый</td>\n",
       "      <td>🔆Добрый день! Просьба приезжать в маске! \\n👁Ос...</td>\n",
       "      <td>1.4 LTR</td>\n",
       "      <td>86 N12</td>\n",
       "      <td>бензин</td>\n",
       "      <td>https://avatars.mds.yandex.net/get-autoru-vos/...</td>\n",
       "      <td>86 602 км</td>\n",
       "      <td>...</td>\n",
       "      <td>COMPACTVAN MECHANICAL 1.4</td>\n",
       "      <td>механическая</td>\n",
       "      <td>1 владелец</td>\n",
       "      <td>Оригинал</td>\n",
       "      <td>передний</td>\n",
       "      <td>Левый</td>\n",
       "      <td>Не требует ремонта</td>\n",
       "      <td>Растаможен</td>\n",
       "      <td>699000</td>\n",
       "      <td>[{'name': 'Безопасность', 'values': ['Подушка ...</td>\n",
       "    </tr>\n",
       "  </tbody>\n",
       "</table>\n",
       "<p>2 rows × 28 columns</p>\n",
       "</div>"
      ],
      "text/plain": [
       "     bodyType  brand                                            car_url  \\\n",
       "0     лифтбек  SKODA  https://auto.ru/cars/used/sale/skoda/octavia/1...   \n",
       "1  компактвэн  SKODA  https://auto.ru/cars/used/sale/skoda/roomster/...   \n",
       "\n",
       "         color                                        description  \\\n",
       "0  серебристый  Машине нужны любящие руки понимающего человека...   \n",
       "1        серый  🔆Добрый день! Просьба приезжать в маске! \\n👁Ос...   \n",
       "\n",
       "  engineDisplacement enginePower fuelType  \\\n",
       "0            1.8 LTR     152 N12   бензин   \n",
       "1            1.4 LTR      86 N12   бензин   \n",
       "\n",
       "                                               image     mileage  ...  \\\n",
       "0  https://autoru.naydex.net/ggLF9n453/6ee1a95w/V...  205 500 км  ...   \n",
       "1  https://avatars.mds.yandex.net/get-autoru-vos/...   86 602 км  ...   \n",
       "\n",
       "        vehicleConfiguration vehicleTransmission    Владельцы       ПТС  \\\n",
       "0    LIFTBACK MECHANICAL 1.8        механическая  2 владельца  Оригинал   \n",
       "1  COMPACTVAN MECHANICAL 1.4        механическая   1 владелец  Оригинал   \n",
       "\n",
       "     Привод   Руль           Состояние     Таможня   price  \\\n",
       "0  передний  Левый  Не требует ремонта  Растаможен  620999   \n",
       "1  передний  Левый  Не требует ремонта  Растаможен  699000   \n",
       "\n",
       "                                     equipmentGroups  \n",
       "0  [{'name': 'Безопасность', 'values': ['Антиблок...  \n",
       "1  [{'name': 'Безопасность', 'values': ['Подушка ...  \n",
       "\n",
       "[2 rows x 28 columns]"
      ]
     },
     "metadata": {},
     "output_type": "display_data"
    },
    {
     "data": {
      "text/html": [
       "<div>\n",
       "<style scoped>\n",
       "    .dataframe tbody tr th:only-of-type {\n",
       "        vertical-align: middle;\n",
       "    }\n",
       "\n",
       "    .dataframe tbody tr th {\n",
       "        vertical-align: top;\n",
       "    }\n",
       "\n",
       "    .dataframe thead th {\n",
       "        text-align: right;\n",
       "    }\n",
       "</style>\n",
       "<table border=\"1\" class=\"dataframe\">\n",
       "  <thead>\n",
       "    <tr style=\"text-align: right;\">\n",
       "      <th></th>\n",
       "      <th>bodyType</th>\n",
       "      <th>brand</th>\n",
       "      <th>car_url</th>\n",
       "      <th>color</th>\n",
       "      <th>description</th>\n",
       "      <th>engineDisplacement</th>\n",
       "      <th>enginePower</th>\n",
       "      <th>fuelType</th>\n",
       "      <th>image</th>\n",
       "      <th>mileage</th>\n",
       "      <th>...</th>\n",
       "      <th>vehicleConfiguration</th>\n",
       "      <th>vehicleTransmission</th>\n",
       "      <th>Владельцы</th>\n",
       "      <th>ПТС</th>\n",
       "      <th>Привод</th>\n",
       "      <th>Руль</th>\n",
       "      <th>Состояние</th>\n",
       "      <th>Таможня</th>\n",
       "      <th>price</th>\n",
       "      <th>equipmentGroups</th>\n",
       "    </tr>\n",
       "  </thead>\n",
       "  <tbody>\n",
       "    <tr>\n",
       "      <th>0</th>\n",
       "      <td>лифтбек</td>\n",
       "      <td>SKODA</td>\n",
       "      <td>https://auto.ru/cars/used/sale/skoda/octavia/1...</td>\n",
       "      <td>серебристый</td>\n",
       "      <td>Машине нужны любящие руки понимающего человека...</td>\n",
       "      <td>1.8 LTR</td>\n",
       "      <td>152 N12</td>\n",
       "      <td>бензин</td>\n",
       "      <td>https://autoru.naydex.net/ggLF9n453/6ee1a95w/V...</td>\n",
       "      <td>205 500 км</td>\n",
       "      <td>...</td>\n",
       "      <td>LIFTBACK MECHANICAL 1.8</td>\n",
       "      <td>механическая</td>\n",
       "      <td>2 владельца</td>\n",
       "      <td>Оригинал</td>\n",
       "      <td>передний</td>\n",
       "      <td>Левый</td>\n",
       "      <td>Не требует ремонта</td>\n",
       "      <td>Растаможен</td>\n",
       "      <td>448352.0</td>\n",
       "      <td>[{'name': 'Безопасность', 'values': ['Антиблок...</td>\n",
       "    </tr>\n",
       "    <tr>\n",
       "      <th>1</th>\n",
       "      <td>компактвэн</td>\n",
       "      <td>SKODA</td>\n",
       "      <td>https://auto.ru/cars/used/sale/skoda/roomster/...</td>\n",
       "      <td>серый</td>\n",
       "      <td>🔆Добрый день! Просьба приезжать в маске! \\n👁Ос...</td>\n",
       "      <td>1.4 LTR</td>\n",
       "      <td>86 N12</td>\n",
       "      <td>бензин</td>\n",
       "      <td>https://avatars.mds.yandex.net/get-autoru-vos/...</td>\n",
       "      <td>86 602 км</td>\n",
       "      <td>...</td>\n",
       "      <td>COMPACTVAN MECHANICAL 1.4</td>\n",
       "      <td>механическая</td>\n",
       "      <td>1 владелец</td>\n",
       "      <td>Оригинал</td>\n",
       "      <td>передний</td>\n",
       "      <td>Левый</td>\n",
       "      <td>Не требует ремонта</td>\n",
       "      <td>Растаможен</td>\n",
       "      <td>504667.0</td>\n",
       "      <td>[{'name': 'Безопасность', 'values': ['Подушка ...</td>\n",
       "    </tr>\n",
       "  </tbody>\n",
       "</table>\n",
       "<p>2 rows × 28 columns</p>\n",
       "</div>"
      ],
      "text/plain": [
       "     bodyType  brand                                            car_url  \\\n",
       "0     лифтбек  SKODA  https://auto.ru/cars/used/sale/skoda/octavia/1...   \n",
       "1  компактвэн  SKODA  https://auto.ru/cars/used/sale/skoda/roomster/...   \n",
       "\n",
       "         color                                        description  \\\n",
       "0  серебристый  Машине нужны любящие руки понимающего человека...   \n",
       "1        серый  🔆Добрый день! Просьба приезжать в маске! \\n👁Ос...   \n",
       "\n",
       "  engineDisplacement enginePower fuelType  \\\n",
       "0            1.8 LTR     152 N12   бензин   \n",
       "1            1.4 LTR      86 N12   бензин   \n",
       "\n",
       "                                               image     mileage  ...  \\\n",
       "0  https://autoru.naydex.net/ggLF9n453/6ee1a95w/V...  205 500 км  ...   \n",
       "1  https://avatars.mds.yandex.net/get-autoru-vos/...   86 602 км  ...   \n",
       "\n",
       "        vehicleConfiguration vehicleTransmission    Владельцы       ПТС  \\\n",
       "0    LIFTBACK MECHANICAL 1.8        механическая  2 владельца  Оригинал   \n",
       "1  COMPACTVAN MECHANICAL 1.4        механическая   1 владелец  Оригинал   \n",
       "\n",
       "     Привод   Руль           Состояние     Таможня     price  \\\n",
       "0  передний  Левый  Не требует ремонта  Растаможен  448352.0   \n",
       "1  передний  Левый  Не требует ремонта  Растаможен  504667.0   \n",
       "\n",
       "                                     equipmentGroups  \n",
       "0  [{'name': 'Безопасность', 'values': ['Антиблок...  \n",
       "1  [{'name': 'Безопасность', 'values': ['Подушка ...  \n",
       "\n",
       "[2 rows x 28 columns]"
      ]
     },
     "metadata": {},
     "output_type": "display_data"
    }
   ],
   "source": [
    "brands = test.brand.unique()\n",
    "tt = train.copy()\n",
    "display(tt.head(2))\n",
    "for brand in brands:\n",
    "    mean20 = train_2020[train_2020[\"brand\"]==brand].price.mean()\n",
    "    mean21 = train[train[\"brand\"]==brand].price.mean()\n",
    "    inf = (mean21-mean20)/mean20\n",
    "    if inf>0:\n",
    "        tt.loc[tt[\"brand\"]==brand, ['price']] = tt.loc[tt[\"brand\"]==brand, ['price']].apply(lambda x: round(x/(1+inf),0))\n",
    "display(tt.head(2))"
   ]
  },
  {
   "cell_type": "code",
   "execution_count": 15,
   "metadata": {
    "execution": {
     "iopub.execute_input": "2021-09-01T03:31:16.684060Z",
     "iopub.status.busy": "2021-09-01T03:31:16.683519Z",
     "iopub.status.idle": "2021-09-01T03:31:16.688345Z",
     "shell.execute_reply": "2021-09-01T03:31:16.687383Z",
     "shell.execute_reply.started": "2021-09-01T00:31:01.712651Z"
    },
    "papermill": {
     "duration": 0.171764,
     "end_time": "2021-09-01T03:31:16.688533",
     "exception": false,
     "start_time": "2021-09-01T03:31:16.516769",
     "status": "completed"
    },
    "tags": []
   },
   "outputs": [],
   "source": [
    "# Цены изменились верно.\n",
    "data = tt"
   ]
  },
  {
   "cell_type": "markdown",
   "metadata": {
    "papermill": {
     "duration": 0.159325,
     "end_time": "2021-09-01T03:31:17.009341",
     "exception": false,
     "start_time": "2021-09-01T03:31:16.850016",
     "status": "completed"
    },
    "tags": []
   },
   "source": []
  },
  {
   "cell_type": "markdown",
   "metadata": {
    "papermill": {
     "duration": 0.159461,
     "end_time": "2021-09-01T03:31:17.328471",
     "exception": false,
     "start_time": "2021-09-01T03:31:17.169010",
     "status": "completed"
    },
    "tags": []
   },
   "source": [
    "## Data Preprocessing"
   ]
  },
  {
   "cell_type": "markdown",
   "metadata": {
    "papermill": {
     "duration": 0.156798,
     "end_time": "2021-09-01T03:31:17.642963",
     "exception": false,
     "start_time": "2021-09-01T03:31:17.486165",
     "status": "completed"
    },
    "tags": []
   },
   "source": [
    "### Подготовка столбцов к объединению"
   ]
  },
  {
   "cell_type": "code",
   "execution_count": 16,
   "metadata": {
    "execution": {
     "iopub.execute_input": "2021-09-01T03:31:17.964176Z",
     "iopub.status.busy": "2021-09-01T03:31:17.963186Z",
     "iopub.status.idle": "2021-09-01T03:31:17.968284Z",
     "shell.execute_reply": "2021-09-01T03:31:17.968872Z",
     "shell.execute_reply.started": "2021-09-01T00:31:01.719225Z"
    },
    "papermill": {
     "duration": 0.168158,
     "end_time": "2021-09-01T03:31:17.969030",
     "exception": false,
     "start_time": "2021-09-01T03:31:17.800872",
     "status": "completed"
    },
    "tags": []
   },
   "outputs": [
    {
     "name": "stdout",
     "output_type": "stream",
     "text": [
      "Index(['bodyType', 'brand', 'car_url', 'color', 'description',\n",
      "       'engineDisplacement', 'enginePower', 'fuelType', 'image', 'mileage',\n",
      "       'modelDate', 'model_name', 'name', 'numberOfDoors', 'parsing_unixtime',\n",
      "       'priceCurrency', 'productionDate', 'sell_id', 'vehicleConfiguration',\n",
      "       'vehicleTransmission', 'Владельцы', 'ПТС', 'Привод', 'Руль',\n",
      "       'Состояние', 'Таможня', 'price', 'equipmentGroups'],\n",
      "      dtype='object')\n",
      "Index(['bodyType', 'brand', 'color', 'fuelType', 'modelDate', 'name',\n",
      "       'numberOfDoors', 'productionDate', 'vehicleConfiguration',\n",
      "       'vehicleTransmission', 'engineDisplacement', 'enginePower',\n",
      "       'description', 'mileage', 'Комплектация', 'Привод', 'Руль', 'Состояние',\n",
      "       'Владельцы', 'ПТС', 'Таможня', 'Владение', 'price', 'start_date',\n",
      "       'hidden', 'model'],\n",
      "      dtype='object')\n",
      "Index(['bodyType', 'brand', 'car_url', 'color', 'complectation_dict',\n",
      "       'description', 'engineDisplacement', 'enginePower', 'equipment_dict',\n",
      "       'fuelType', 'image', 'mileage', 'modelDate', 'model_info', 'model_name',\n",
      "       'name', 'numberOfDoors', 'parsing_unixtime', 'priceCurrency',\n",
      "       'productionDate', 'sell_id', 'super_gen', 'vehicleConfiguration',\n",
      "       'vehicleTransmission', 'vendor', 'Владельцы', 'Владение', 'ПТС',\n",
      "       'Привод', 'Руль', 'Состояние', 'Таможня'],\n",
      "      dtype='object')\n"
     ]
    }
   ],
   "source": [
    "print(train.columns)\n",
    "print(train_2020.columns)\n",
    "print(test.columns)"
   ]
  },
  {
   "cell_type": "code",
   "execution_count": 17,
   "metadata": {
    "execution": {
     "iopub.execute_input": "2021-09-01T03:31:18.450819Z",
     "iopub.status.busy": "2021-09-01T03:31:18.449887Z",
     "iopub.status.idle": "2021-09-01T03:31:18.454557Z",
     "shell.execute_reply": "2021-09-01T03:31:18.454010Z",
     "shell.execute_reply.started": "2021-09-01T00:31:01.734107Z"
    },
    "papermill": {
     "duration": 0.246582,
     "end_time": "2021-09-01T03:31:18.454691",
     "exception": false,
     "start_time": "2021-09-01T03:31:18.208109",
     "status": "completed"
    },
    "tags": []
   },
   "outputs": [
    {
     "name": "stdout",
     "output_type": "stream",
     "text": [
      "Столбцы, которые есть в тесте, но их нет в трейне 2020: ['image', 'model_info', 'sell_id', 'model_name', 'car_url', 'equipment_dict', 'super_gen', 'priceCurrency', 'complectation_dict', 'vendor', 'parsing_unixtime']\n",
      "Столбцы, которые есть в тесте, но их нет в трейне 2021: ['model_info', 'equipment_dict', 'super_gen', 'complectation_dict', 'vendor', 'Владение']\n"
     ]
    }
   ],
   "source": [
    "# Создадим список общих переменных для теста и трейна:\n",
    "s2020 = list(train_2020.columns)\n",
    "s2021 = list(train.columns)\n",
    "s = set(list(test.columns))\n",
    "no2020 = [x for x in s if not x in s2020] #найдем стобцы, которых нет в трейне\n",
    "print('Столбцы, которые есть в тесте, но их нет в трейне 2020:', no2020)\n",
    "no2021 = [x for x in s if not x in s2021] #найдем стобцы, которых нет в трейне\n",
    "print('Столбцы, которые есть в тесте, но их нет в трейне 2021:', no2021)\n",
    "#посмотрим, какие признаки отличают два датасета, чтобы определить нужно ли дополнительно парсить данные для трейна или не стоит\n",
    "#test[s3]\n",
    "#model_info дублирует полезную информацию из столбца car_url, \n",
    "#super_gen - аккумулирует и дублирует много информации с разных стобцов,\n",
    "#а остальные столбцы имеют много пропусков и не совсем репрезентативны\n"
   ]
  },
  {
   "cell_type": "markdown",
   "metadata": {
    "papermill": {
     "duration": 0.237074,
     "end_time": "2021-09-01T03:31:18.929109",
     "exception": false,
     "start_time": "2021-09-01T03:31:18.692035",
     "status": "completed"
    },
    "tags": []
   },
   "source": [
    "**Столбцы, которых нет в трейне 2021**\n",
    "\n",
    "'super_gen'  - аккумулирует и дублирует много информации с разных стобцов, \n",
    "\n",
    "'model_info' - дублирует полезную информацию из столбца car_url,\n",
    "\n",
    "'Владение' - длительность последнего  или общего владения (не удалось спарсить, так как эти данные подгружаются AJAX), \n",
    "\n",
    "'vendor' - продавец, пока уберем этот столбец, \n",
    "\n",
    "'equipment_dict' - аналог 'equipmentGroups', \n",
    "\n",
    "'complectation_dict' - частично содержится в 'equipmentGroups'"
   ]
  },
  {
   "cell_type": "code",
   "execution_count": 18,
   "metadata": {
    "execution": {
     "iopub.execute_input": "2021-09-01T03:31:19.426350Z",
     "iopub.status.busy": "2021-09-01T03:31:19.418278Z",
     "iopub.status.idle": "2021-09-01T03:31:19.460805Z",
     "shell.execute_reply": "2021-09-01T03:31:19.459834Z",
     "shell.execute_reply.started": "2021-09-01T00:31:01.745190Z"
    },
    "papermill": {
     "duration": 0.290912,
     "end_time": "2021-09-01T03:31:19.460924",
     "exception": false,
     "start_time": "2021-09-01T03:31:19.170012",
     "status": "completed"
    },
    "tags": []
   },
   "outputs": [
    {
     "data": {
      "text/plain": [
       "Index(['bodyType', 'brand', 'car_url', 'color', 'description',\n",
       "       'engineDisplacement', 'enginePower', 'fuelType', 'image', 'mileage',\n",
       "       'modelDate', 'model_name', 'name', 'numberOfDoors', 'parsing_unixtime',\n",
       "       'priceCurrency', 'productionDate', 'sell_id', 'vehicleConfiguration',\n",
       "       'vehicleTransmission', 'Владельцы', 'ПТС', 'Привод', 'Руль',\n",
       "       'Состояние', 'Таможня', 'price', 'equipment_dict'],\n",
       "      dtype='object')"
      ]
     },
     "execution_count": 18,
     "metadata": {},
     "output_type": "execute_result"
    }
   ],
   "source": [
    "train['equipment_dict'] = train['equipmentGroups']\n",
    "train = train.drop(['equipmentGroups'], axis=1)\n",
    "\n",
    "train.columns"
   ]
  },
  {
   "cell_type": "markdown",
   "metadata": {
    "papermill": {
     "duration": 0.161028,
     "end_time": "2021-09-01T03:31:19.781800",
     "exception": false,
     "start_time": "2021-09-01T03:31:19.620772",
     "status": "completed"
    },
    "tags": []
   },
   "source": [
    "**Столбцы, которых нет в трейне 2020**\n",
    "\n",
    "'sell_id' - создадим его, наполнив 0\n",
    "\n",
    "'car_url' - создадим, изменив model\n",
    "\n",
    "'priceCurrency', 'parsing_unixtime', 'complectation_dict', 'equipment_dict', 'image', 'super_gen' - можно удалить,\n"
   ]
  },
  {
   "cell_type": "code",
   "execution_count": 19,
   "metadata": {
    "execution": {
     "iopub.execute_input": "2021-09-01T03:31:20.109057Z",
     "iopub.status.busy": "2021-09-01T03:31:20.108460Z",
     "iopub.status.idle": "2021-09-01T03:31:20.120919Z",
     "shell.execute_reply": "2021-09-01T03:31:20.120457Z",
     "shell.execute_reply.started": "2021-09-01T00:31:01.794872Z"
    },
    "papermill": {
     "duration": 0.175689,
     "end_time": "2021-09-01T03:31:20.121013",
     "exception": false,
     "start_time": "2021-09-01T03:31:19.945324",
     "status": "completed"
    },
    "tags": []
   },
   "outputs": [],
   "source": [
    "train_2020['sell_id'] = 0\n",
    "train['sell_id'] = 0\n",
    "train_2020['car_url'] = train_2020['model']"
   ]
  },
  {
   "cell_type": "code",
   "execution_count": 20,
   "metadata": {
    "execution": {
     "iopub.execute_input": "2021-09-01T03:31:20.437527Z",
     "iopub.status.busy": "2021-09-01T03:31:20.436884Z",
     "iopub.status.idle": "2021-09-01T03:31:20.441299Z",
     "shell.execute_reply": "2021-09-01T03:31:20.442055Z",
     "shell.execute_reply.started": "2021-09-01T00:31:01.813312Z"
    },
    "papermill": {
     "duration": 0.166464,
     "end_time": "2021-09-01T03:31:20.442303",
     "exception": false,
     "start_time": "2021-09-01T03:31:20.275839",
     "status": "completed"
    },
    "tags": []
   },
   "outputs": [
    {
     "name": "stdout",
     "output_type": "stream",
     "text": [
      "Общие для 2021\n",
      "Общее количество 28\n",
      "['bodyType', 'brand', 'car_url', 'color', 'description', 'engineDisplacement', 'enginePower', 'fuelType', 'image', 'mileage', 'modelDate', 'model_name', 'name', 'numberOfDoors', 'parsing_unixtime', 'priceCurrency', 'productionDate', 'sell_id', 'vehicleConfiguration', 'vehicleTransmission', 'Владельцы', 'ПТС', 'Привод', 'Руль', 'Состояние', 'Таможня', 'price', 'equipmentGroups']\n",
      "Общие для 2020\n",
      "Общее количество 26\n",
      "['bodyType', 'brand', 'color', 'fuelType', 'modelDate', 'name', 'numberOfDoors', 'productionDate', 'vehicleConfiguration', 'vehicleTransmission', 'engineDisplacement', 'enginePower', 'description', 'mileage', 'Комплектация', 'Привод', 'Руль', 'Состояние', 'Владельцы', 'ПТС', 'Таможня', 'Владение', 'price', 'start_date', 'hidden', 'model']\n"
     ]
    }
   ],
   "source": [
    "# список общих переменных\n",
    "columns2021 = [x for x in s2021 if not x in no2021]\n",
    "print('Общие для 2021')\n",
    "print('Общее количество', len(columns2021))\n",
    "print(columns2021)\n",
    "\n",
    "columns2020 = [x for x in s2020 if not x in no2020]\n",
    "print('Общие для 2020')\n",
    "print('Общее количество', len(columns2020))\n",
    "print(columns2020)\n",
    "# columns"
   ]
  },
  {
   "cell_type": "markdown",
   "metadata": {
    "papermill": {
     "duration": 0.156966,
     "end_time": "2021-09-01T03:31:20.755776",
     "exception": false,
     "start_time": "2021-09-01T03:31:20.598810",
     "status": "completed"
    },
    "tags": []
   },
   "source": [
    "Удалим столбцы:\n",
    "\n",
    "Из 2021\n",
    "\n",
    "- *не несут информации для цены* - 'image','parsing_unixtime',\n",
    "- *слишком сложные в обработке* - 'description', 'equipmentGroups'\n",
    "- *дублируют другие признаки* -'model_name', \n",
    "- *единственное значение* - 'priceCurrency', 'Состояние'\n"
   ]
  },
  {
   "cell_type": "code",
   "execution_count": 21,
   "metadata": {
    "execution": {
     "iopub.execute_input": "2021-09-01T03:31:21.103801Z",
     "iopub.status.busy": "2021-09-01T03:31:21.088189Z",
     "iopub.status.idle": "2021-09-01T03:31:21.110278Z",
     "shell.execute_reply": "2021-09-01T03:31:21.110680Z",
     "shell.execute_reply.started": "2021-09-01T00:31:01.823816Z"
    },
    "papermill": {
     "duration": 0.19382,
     "end_time": "2021-09-01T03:31:21.110795",
     "exception": false,
     "start_time": "2021-09-01T03:31:20.916975",
     "status": "completed"
    },
    "tags": []
   },
   "outputs": [
    {
     "name": "stdout",
     "output_type": "stream",
     "text": [
      "train - priceCurrency - \n",
      "RUB    34240\n",
      "Name: priceCurrency, dtype: int64\n",
      "test - priceCurrency - \n",
      "RUB    34686\n",
      "Name: priceCurrency, dtype: int64\n",
      "\n",
      "train - Состояние - \n",
      "Не требует ремонта    34238\n",
      "Битый / не на ходу        2\n",
      "Name: Состояние, dtype: int64\n",
      "test - Состояние - \n",
      "Не требует ремонта    34686\n",
      "Name: Состояние, dtype: int64\n"
     ]
    }
   ],
   "source": [
    "print('train - priceCurrency - ', train.priceCurrency.value_counts(), sep='\\n')\n",
    "print('test - priceCurrency - ', test.priceCurrency.value_counts(), sep='\\n')\n",
    "print()\n",
    "print('train - Состояние - ', train['Состояние'].value_counts(), sep='\\n')\n",
    "print('test - Состояние - ', test['Состояние'].value_counts(), sep='\\n')"
   ]
  },
  {
   "cell_type": "code",
   "execution_count": 22,
   "metadata": {
    "execution": {
     "iopub.execute_input": "2021-09-01T03:31:21.431116Z",
     "iopub.status.busy": "2021-09-01T03:31:21.430527Z",
     "iopub.status.idle": "2021-09-01T03:31:21.434136Z",
     "shell.execute_reply": "2021-09-01T03:31:21.433691Z",
     "shell.execute_reply.started": "2021-09-01T00:31:01.878658Z"
    },
    "papermill": {
     "duration": 0.168195,
     "end_time": "2021-09-01T03:31:21.434233",
     "exception": false,
     "start_time": "2021-09-01T03:31:21.266038",
     "status": "completed"
    },
    "tags": []
   },
   "outputs": [],
   "source": [
    "to_del = ['image','parsing_unixtime','priceCurrency','description','model_name', 'Состояние','equipmentGroups']"
   ]
  },
  {
   "cell_type": "code",
   "execution_count": 23,
   "metadata": {
    "execution": {
     "iopub.execute_input": "2021-09-01T03:31:21.797285Z",
     "iopub.status.busy": "2021-09-01T03:31:21.796787Z",
     "iopub.status.idle": "2021-09-01T03:31:21.798168Z",
     "shell.execute_reply": "2021-09-01T03:31:21.798545Z",
     "shell.execute_reply.started": "2021-09-01T00:31:01.885070Z"
    },
    "papermill": {
     "duration": 0.165848,
     "end_time": "2021-09-01T03:31:21.798686",
     "exception": false,
     "start_time": "2021-09-01T03:31:21.632838",
     "status": "completed"
    },
    "tags": []
   },
   "outputs": [],
   "source": [
    "columns = [x for x in columns2021 if not x in to_del] \n",
    "columns = ([x for x in columns if x in columns2020+['car_url', 'sell_id']] )"
   ]
  },
  {
   "cell_type": "code",
   "execution_count": null,
   "metadata": {
    "papermill": {
     "duration": 0.159754,
     "end_time": "2021-09-01T03:31:22.117399",
     "exception": false,
     "start_time": "2021-09-01T03:31:21.957645",
     "status": "completed"
    },
    "tags": []
   },
   "outputs": [],
   "source": []
  },
  {
   "cell_type": "markdown",
   "metadata": {
    "papermill": {
     "duration": 0.161296,
     "end_time": "2021-09-01T03:31:22.444646",
     "exception": false,
     "start_time": "2021-09-01T03:31:22.283350",
     "status": "completed"
    },
    "tags": []
   },
   "source": [
    "У тестового датасета нет цены, добавим нулевую цену"
   ]
  },
  {
   "cell_type": "code",
   "execution_count": 24,
   "metadata": {
    "execution": {
     "iopub.execute_input": "2021-09-01T03:31:22.768922Z",
     "iopub.status.busy": "2021-09-01T03:31:22.768398Z",
     "iopub.status.idle": "2021-09-01T03:31:22.774569Z",
     "shell.execute_reply": "2021-09-01T03:31:22.774081Z",
     "shell.execute_reply.started": "2021-09-01T00:31:01.897469Z"
    },
    "papermill": {
     "duration": 0.169189,
     "end_time": "2021-09-01T03:31:22.774710",
     "exception": false,
     "start_time": "2021-09-01T03:31:22.605521",
     "status": "completed"
    },
    "tags": []
   },
   "outputs": [],
   "source": [
    "test['price']=0"
   ]
  },
  {
   "cell_type": "code",
   "execution_count": 25,
   "metadata": {
    "execution": {
     "iopub.execute_input": "2021-09-01T03:31:23.100097Z",
     "iopub.status.busy": "2021-09-01T03:31:23.099527Z",
     "iopub.status.idle": "2021-09-01T03:31:23.160121Z",
     "shell.execute_reply": "2021-09-01T03:31:23.160523Z",
     "shell.execute_reply.started": "2021-09-01T00:31:01.910778Z"
    },
    "papermill": {
     "duration": 0.224702,
     "end_time": "2021-09-01T03:31:23.160677",
     "exception": false,
     "start_time": "2021-09-01T03:31:22.935975",
     "status": "completed"
    },
    "tags": []
   },
   "outputs": [],
   "source": [
    "df_train_2020 = train_2020[columns]\n",
    "df_train = train[columns]\n",
    "df_test = test[columns]"
   ]
  },
  {
   "cell_type": "markdown",
   "metadata": {
    "papermill": {
     "duration": 0.160175,
     "end_time": "2021-09-01T03:31:23.480769",
     "exception": false,
     "start_time": "2021-09-01T03:31:23.320594",
     "status": "completed"
    },
    "tags": []
   },
   "source": [
    "### Объединение train и test"
   ]
  },
  {
   "cell_type": "code",
   "execution_count": 26,
   "metadata": {
    "execution": {
     "iopub.execute_input": "2021-09-01T03:31:23.800322Z",
     "iopub.status.busy": "2021-09-01T03:31:23.799774Z",
     "iopub.status.idle": "2021-09-01T03:31:24.000522Z",
     "shell.execute_reply": "2021-09-01T03:31:24.001129Z",
     "shell.execute_reply.started": "2021-09-01T00:31:01.979581Z"
    },
    "papermill": {
     "duration": 0.363518,
     "end_time": "2021-09-01T03:31:24.001271",
     "exception": false,
     "start_time": "2021-09-01T03:31:23.637753",
     "status": "completed"
    },
    "tags": []
   },
   "outputs": [
    {
     "name": "stderr",
     "output_type": "stream",
     "text": [
      "/opt/conda/lib/python3.7/site-packages/ipykernel_launcher.py:2: SettingWithCopyWarning: \n",
      "A value is trying to be set on a copy of a slice from a DataFrame.\n",
      "Try using .loc[row_indexer,col_indexer] = value instead\n",
      "\n",
      "See the caveats in the documentation: https://pandas.pydata.org/pandas-docs/stable/user_guide/indexing.html#returning-a-view-versus-a-copy\n",
      "  \n",
      "/opt/conda/lib/python3.7/site-packages/ipykernel_launcher.py:3: SettingWithCopyWarning: \n",
      "A value is trying to be set on a copy of a slice from a DataFrame.\n",
      "Try using .loc[row_indexer,col_indexer] = value instead\n",
      "\n",
      "See the caveats in the documentation: https://pandas.pydata.org/pandas-docs/stable/user_guide/indexing.html#returning-a-view-versus-a-copy\n",
      "  This is separate from the ipykernel package so we can avoid doing imports until\n",
      "/opt/conda/lib/python3.7/site-packages/ipykernel_launcher.py:4: SettingWithCopyWarning: \n",
      "A value is trying to be set on a copy of a slice from a DataFrame.\n",
      "Try using .loc[row_indexer,col_indexer] = value instead\n",
      "\n",
      "See the caveats in the documentation: https://pandas.pydata.org/pandas-docs/stable/user_guide/indexing.html#returning-a-view-versus-a-copy\n",
      "  after removing the cwd from sys.path.\n"
     ]
    },
    {
     "data": {
      "text/plain": [
       "(34686, 22)"
      ]
     },
     "execution_count": 26,
     "metadata": {},
     "output_type": "execute_result"
    }
   ],
   "source": [
    "# ВАЖНО! дря корректной обработки признаков объединяем трейн и тест в один датасет\n",
    "df_train_2020['sample'] = 1 # помечаем где у нас трейн\n",
    "df_train['sample'] = 1 # помечаем где у нас трейн\n",
    "df_test['sample'] = 0 # помечаем где у нас тест\n",
    "\n",
    "data = df_test.append(df_train, sort=False).append(df_train_2020, sort=False).reset_index(drop=True) # объединяем\n",
    "data[data['sample']==0].shape"
   ]
  },
  {
   "cell_type": "code",
   "execution_count": 27,
   "metadata": {
    "execution": {
     "iopub.execute_input": "2021-09-01T03:31:24.326474Z",
     "iopub.status.busy": "2021-09-01T03:31:24.325858Z",
     "iopub.status.idle": "2021-09-01T03:31:24.425980Z",
     "shell.execute_reply": "2021-09-01T03:31:24.426432Z",
     "shell.execute_reply.started": "2021-09-01T00:31:02.215895Z"
    },
    "papermill": {
     "duration": 0.264199,
     "end_time": "2021-09-01T03:31:24.426571",
     "exception": false,
     "start_time": "2021-09-01T03:31:24.162372",
     "status": "completed"
    },
    "tags": []
   },
   "outputs": [
    {
     "name": "stdout",
     "output_type": "stream",
     "text": [
      "<class 'pandas.core.frame.DataFrame'>\n",
      "RangeIndex: 158304 entries, 0 to 158303\n",
      "Data columns (total 22 columns):\n",
      " #   Column                Non-Null Count   Dtype  \n",
      "---  ------                --------------   -----  \n",
      " 0   bodyType              158303 non-null  object \n",
      " 1   brand                 158304 non-null  object \n",
      " 2   car_url               158304 non-null  object \n",
      " 3   color                 158304 non-null  object \n",
      " 4   engineDisplacement    158303 non-null  object \n",
      " 5   enginePower           158303 non-null  object \n",
      " 6   fuelType              158304 non-null  object \n",
      " 7   mileage               158304 non-null  object \n",
      " 8   modelDate             158303 non-null  float64\n",
      " 9   name                  158303 non-null  object \n",
      " 10  numberOfDoors         158303 non-null  float64\n",
      " 11  productionDate        158304 non-null  int64  \n",
      " 12  sell_id               158304 non-null  int64  \n",
      " 13  vehicleConfiguration  158303 non-null  object \n",
      " 14  vehicleTransmission   158303 non-null  object \n",
      " 15  Владельцы             144716 non-null  object \n",
      " 16  ПТС                   157942 non-null  object \n",
      " 17  Привод                158303 non-null  object \n",
      " 18  Руль                  158304 non-null  object \n",
      " 19  Таможня               158304 non-null  object \n",
      " 20  price                 157894 non-null  float64\n",
      " 21  sample                158304 non-null  int64  \n",
      "dtypes: float64(3), int64(3), object(16)\n",
      "memory usage: 26.6+ MB\n"
     ]
    }
   ],
   "source": [
    "data.info()"
   ]
  },
  {
   "cell_type": "markdown",
   "metadata": {
    "papermill": {
     "duration": 0.159828,
     "end_time": "2021-09-01T03:31:24.745737",
     "exception": false,
     "start_time": "2021-09-01T03:31:24.585909",
     "status": "completed"
    },
    "tags": []
   },
   "source": [
    "У нас получилось 21 признак. Из которых 6 числовые, 15 категориальные."
   ]
  },
  {
   "cell_type": "code",
   "execution_count": 28,
   "metadata": {
    "execution": {
     "iopub.execute_input": "2021-09-01T03:31:25.072982Z",
     "iopub.status.busy": "2021-09-01T03:31:25.072445Z",
     "iopub.status.idle": "2021-09-01T03:31:25.085227Z",
     "shell.execute_reply": "2021-09-01T03:31:25.084760Z",
     "shell.execute_reply.started": "2021-09-01T00:31:02.488298Z"
    },
    "papermill": {
     "duration": 0.177751,
     "end_time": "2021-09-01T03:31:25.085326",
     "exception": false,
     "start_time": "2021-09-01T03:31:24.907575",
     "status": "completed"
    },
    "tags": []
   },
   "outputs": [
    {
     "data": {
      "text/plain": [
       "Index(['body_type', 'brand', 'car_url', 'color', 'engine_volume',\n",
       "       'engine_power', 'fuel_type', 'mileage', 'model_date', 'gear',\n",
       "       'number_of_doors', 'production_date', 'sell_id',\n",
       "       'vehicle_configuration', 'vehicle_transmission', 'owners_qty',\n",
       "       'licence', 'type_of_drive', 'steering_wheel', 'customs', 'price',\n",
       "       'sample'],\n",
       "      dtype='object')"
      ]
     },
     "execution_count": 28,
     "metadata": {},
     "output_type": "execute_result"
    }
   ],
   "source": [
    "#переименуем признаки\n",
    "data.rename(columns={'productionDate': 'production_date',\n",
    "                     'vehicleConfiguration': 'vehicle_configuration',\n",
    "                     'vehicleTransmission': 'vehicle_transmission',\n",
    "                     'name':'gear',\n",
    "                     'Владельцы': 'owners_qty',\n",
    "                     'Владение': 'ownership_time',\n",
    "                     'ПТС': 'licence',\n",
    "                     'Привод': 'type_of_drive',\n",
    "                     'Руль': 'steering_wheel',\n",
    "                     'Таможня': 'customs', \n",
    "                     'Price': 'price',\n",
    "                     'bodyType': 'body_type', \n",
    "                     'engineDisplacement': 'engine_volume',\n",
    "                     'enginePower': 'engine_power',\n",
    "                     'fuelType': 'fuel_type',\n",
    "                     'modelDate': 'model_date',\n",
    "                     'numberOfDoors': 'number_of_doors',}, inplace=True)\n",
    "data.columns"
   ]
  },
  {
   "cell_type": "markdown",
   "metadata": {
    "papermill": {
     "duration": 0.160913,
     "end_time": "2021-09-01T03:31:25.408809",
     "exception": false,
     "start_time": "2021-09-01T03:31:25.247896",
     "status": "completed"
    },
    "tags": []
   },
   "source": [
    "* body_type - тип кузова,\n",
    "* brand - марка автомобиля,\n",
    "* car_url - url страницы объявления\n",
    "* color - цвет автомобиля,\n",
    "* engine_displacement - объём двигателя,\n",
    "* engine_volume - мощность двигателя,\n",
    "* fuel_type - тип топлива,\n",
    "* mileage - пробег,\n",
    "* model_date - дата релиза модели,\n",
    "* name - имя, введенное пользователем\n",
    "* number_of_doors - количество дверей,\n",
    "* production_date - дата производства автомобиля\n",
    "* vehicle_configuration - конфигурация транспортного средства (ТС),\n",
    "* vehicle_transmoission - тип коробки передач,\n",
    "* owners_qty - количество владельцев,\n",
    "* licence - паспорт ТС,\n",
    "* type_of_drive - тип привода,\n",
    "* steering_wheel - сторона руля,\n",
    "* customs - этап растаможки,\n",
    "* price - цена автомобиля, целевой параметр,\n",
    "* sample - индикатор принадлежности данных к тесту (0) и трейну (1),\n"
   ]
  },
  {
   "cell_type": "code",
   "execution_count": 29,
   "metadata": {
    "execution": {
     "iopub.execute_input": "2021-09-01T03:31:25.746533Z",
     "iopub.status.busy": "2021-09-01T03:31:25.738933Z",
     "iopub.status.idle": "2021-09-01T03:31:26.155345Z",
     "shell.execute_reply": "2021-09-01T03:31:26.154903Z",
     "shell.execute_reply.started": "2021-09-01T00:31:02.502923Z"
    },
    "papermill": {
     "duration": 0.584891,
     "end_time": "2021-09-01T03:31:26.155441",
     "exception": false,
     "start_time": "2021-09-01T03:31:25.570550",
     "status": "completed"
    },
    "tags": []
   },
   "outputs": [
    {
     "name": "stdout",
     "output_type": "stream",
     "text": [
      "<class 'pandas.core.frame.DataFrame'>\n",
      "Int64Index: 34686 entries, 0 to 34685\n",
      "Data columns (total 22 columns):\n",
      " #   Column                 Non-Null Count  Dtype  \n",
      "---  ------                 --------------  -----  \n",
      " 0   body_type              34686 non-null  object \n",
      " 1   brand                  34686 non-null  object \n",
      " 2   car_url                34686 non-null  object \n",
      " 3   color                  34686 non-null  object \n",
      " 4   engine_volume          34686 non-null  object \n",
      " 5   engine_power           34686 non-null  object \n",
      " 6   fuel_type              34686 non-null  object \n",
      " 7   mileage                34686 non-null  object \n",
      " 8   model_date             34686 non-null  float64\n",
      " 9   gear                   34686 non-null  object \n",
      " 10  number_of_doors        34686 non-null  float64\n",
      " 11  production_date        34686 non-null  int64  \n",
      " 12  sell_id                34686 non-null  int64  \n",
      " 13  vehicle_configuration  34686 non-null  object \n",
      " 14  vehicle_transmission   34686 non-null  object \n",
      " 15  owners_qty             34686 non-null  object \n",
      " 16  licence                34685 non-null  object \n",
      " 17  type_of_drive          34686 non-null  object \n",
      " 18  steering_wheel         34686 non-null  object \n",
      " 19  customs                34686 non-null  object \n",
      " 20  price                  34686 non-null  float64\n",
      " 21  sample                 34686 non-null  int64  \n",
      "dtypes: float64(3), int64(3), object(16)\n",
      "memory usage: 6.1+ MB\n"
     ]
    }
   ],
   "source": [
    "#удалим дубликаты из датафрейма\n",
    "# data[data.duplicated(keep=False)]\n",
    "data = data.drop_duplicates()\n",
    "data[data['sample'] ==0].info()"
   ]
  },
  {
   "cell_type": "markdown",
   "metadata": {
    "papermill": {
     "duration": 0.162878,
     "end_time": "2021-09-01T03:31:26.481236",
     "exception": false,
     "start_time": "2021-09-01T03:31:26.318358",
     "status": "completed"
    },
    "tags": []
   },
   "source": [
    "# # ***EDA***"
   ]
  },
  {
   "cell_type": "code",
   "execution_count": 30,
   "metadata": {
    "execution": {
     "iopub.execute_input": "2021-09-01T03:31:26.808615Z",
     "iopub.status.busy": "2021-09-01T03:31:26.808060Z",
     "iopub.status.idle": "2021-09-01T03:31:26.814381Z",
     "shell.execute_reply": "2021-09-01T03:31:26.813953Z",
     "shell.execute_reply.started": "2021-09-01T00:31:03.000288Z"
    },
    "papermill": {
     "duration": 0.172252,
     "end_time": "2021-09-01T03:31:26.814477",
     "exception": false,
     "start_time": "2021-09-01T03:31:26.642225",
     "status": "completed"
    },
    "tags": []
   },
   "outputs": [],
   "source": [
    "# числовые признаки\n",
    "num_cols = []\n",
    "\n",
    "# бинарные признаки\n",
    "bin_cols = []\n",
    "\n",
    "# категориальные признаки\n",
    "cat_cols = []\n",
    "\n",
    "# обработанные категориальные признаки\n",
    "ready_cat_cols = []"
   ]
  },
  {
   "cell_type": "markdown",
   "metadata": {
    "papermill": {
     "duration": 0.164718,
     "end_time": "2021-09-01T03:31:27.142205",
     "exception": false,
     "start_time": "2021-09-01T03:31:26.977487",
     "status": "completed"
    },
    "tags": []
   },
   "source": [
    "## **CAR_URL**"
   ]
  },
  {
   "cell_type": "code",
   "execution_count": 31,
   "metadata": {
    "execution": {
     "iopub.execute_input": "2021-09-01T03:31:27.485987Z",
     "iopub.status.busy": "2021-09-01T03:31:27.485282Z",
     "iopub.status.idle": "2021-09-01T03:31:27.507040Z",
     "shell.execute_reply": "2021-09-01T03:31:27.507670Z",
     "shell.execute_reply.started": "2021-09-01T00:31:03.008595Z"
    },
    "papermill": {
     "duration": 0.193464,
     "end_time": "2021-09-01T03:31:27.507804",
     "exception": false,
     "start_time": "2021-09-01T03:31:27.314340",
     "status": "completed"
    },
    "tags": []
   },
   "outputs": [
    {
     "data": {
      "text/plain": [
       "(34686, 22)"
      ]
     },
     "execution_count": 31,
     "metadata": {},
     "output_type": "execute_result"
    }
   ],
   "source": [
    "data1 = data.copy() # сохраним данные в data1, чтобы зафиксировать изменения\n",
    "data[data['sample']==0].shape"
   ]
  },
  {
   "cell_type": "code",
   "execution_count": 32,
   "metadata": {
    "execution": {
     "iopub.execute_input": "2021-09-01T03:31:27.999503Z",
     "iopub.status.busy": "2021-09-01T03:31:27.998824Z",
     "iopub.status.idle": "2021-09-01T03:31:28.004758Z",
     "shell.execute_reply": "2021-09-01T03:31:28.005394Z",
     "shell.execute_reply.started": "2021-09-01T00:31:03.049144Z"
    },
    "papermill": {
     "duration": 0.25365,
     "end_time": "2021-09-01T03:31:28.005530",
     "exception": false,
     "start_time": "2021-09-01T03:31:27.751880",
     "status": "completed"
    },
    "tags": []
   },
   "outputs": [
    {
     "data": {
      "text/plain": [
       "0         https://auto.ru/cars/used/sale/skoda/octavia/1...\n",
       "1         https://auto.ru/cars/used/sale/skoda/octavia/1...\n",
       "2         https://auto.ru/cars/used/sale/skoda/superb/11...\n",
       "3         https://auto.ru/cars/used/sale/skoda/octavia/1...\n",
       "4         https://auto.ru/cars/used/sale/skoda/octavia/1...\n",
       "                                ...                        \n",
       "158299                                               RODIUS\n",
       "158300                                               RODIUS\n",
       "158301                                               STAVIC\n",
       "158302                                               STAVIC\n",
       "158303                                               STAVIC\n",
       "Name: car_url, Length: 151852, dtype: object"
      ]
     },
     "execution_count": 32,
     "metadata": {},
     "output_type": "execute_result"
    }
   ],
   "source": [
    "data.car_url"
   ]
  },
  {
   "cell_type": "code",
   "execution_count": 33,
   "metadata": {
    "execution": {
     "iopub.execute_input": "2021-09-01T03:31:28.498321Z",
     "iopub.status.busy": "2021-09-01T03:31:28.497705Z",
     "iopub.status.idle": "2021-09-01T03:31:28.724694Z",
     "shell.execute_reply": "2021-09-01T03:31:28.725195Z",
     "shell.execute_reply.started": "2021-09-01T00:31:03.061748Z"
    },
    "papermill": {
     "duration": 0.477682,
     "end_time": "2021-09-01T03:31:28.725319",
     "exception": false,
     "start_time": "2021-09-01T03:31:28.247637",
     "status": "completed"
    },
    "tags": []
   },
   "outputs": [
    {
     "name": "stdout",
     "output_type": "stream",
     "text": [
      "<class 'pandas.core.frame.DataFrame'>\n",
      "Int64Index: 34686 entries, 0 to 34685\n",
      "Data columns (total 22 columns):\n",
      " #   Column                 Non-Null Count  Dtype  \n",
      "---  ------                 --------------  -----  \n",
      " 0   body_type              34686 non-null  object \n",
      " 1   brand                  34686 non-null  object \n",
      " 2   model_of_car           34686 non-null  object \n",
      " 3   color                  34686 non-null  object \n",
      " 4   engine_volume          34686 non-null  object \n",
      " 5   engine_power           34686 non-null  object \n",
      " 6   fuel_type              34686 non-null  object \n",
      " 7   mileage                34686 non-null  object \n",
      " 8   model_date             34686 non-null  float64\n",
      " 9   gear                   34686 non-null  object \n",
      " 10  number_of_doors        34686 non-null  float64\n",
      " 11  production_date        34686 non-null  int64  \n",
      " 12  sell_id                34686 non-null  int64  \n",
      " 13  vehicle_configuration  34686 non-null  object \n",
      " 14  vehicle_transmission   34686 non-null  object \n",
      " 15  owners_qty             34686 non-null  object \n",
      " 16  licence                34685 non-null  object \n",
      " 17  type_of_drive          34686 non-null  object \n",
      " 18  steering_wheel         34686 non-null  object \n",
      " 19  customs                34686 non-null  object \n",
      " 20  price                  34686 non-null  float64\n",
      " 21  sample                 34686 non-null  int64  \n",
      "dtypes: float64(3), int64(3), object(16)\n",
      "memory usage: 6.1+ MB\n"
     ]
    }
   ],
   "source": [
    "#Изменим столбец car_url на модель авто\n",
    "\n",
    "value = data.car_url.apply(lambda x: x.lower() if len(x.split('/'))==1 else x.split('/')[7].lower())\n",
    "idx = data.columns.get_loc('brand') \n",
    "data.insert(loc=idx+1, column='model_of_car', value=value )\n",
    "data = data.drop('car_url',1)\n",
    "data[data['sample'] ==0].info()"
   ]
  },
  {
   "cell_type": "code",
   "execution_count": 34,
   "metadata": {
    "execution": {
     "iopub.execute_input": "2021-09-01T03:31:29.059355Z",
     "iopub.status.busy": "2021-09-01T03:31:29.058842Z",
     "iopub.status.idle": "2021-09-01T03:31:29.062574Z",
     "shell.execute_reply": "2021-09-01T03:31:29.063000Z",
     "shell.execute_reply.started": "2021-09-01T00:31:03.438037Z"
    },
    "papermill": {
     "duration": 0.173582,
     "end_time": "2021-09-01T03:31:29.063133",
     "exception": false,
     "start_time": "2021-09-01T03:31:28.889551",
     "status": "completed"
    },
    "tags": []
   },
   "outputs": [
    {
     "data": {
      "text/plain": [
       "<bound method IndexOpsMixin.value_counts of 0         octavia\n",
       "1         octavia\n",
       "2          superb\n",
       "3         octavia\n",
       "4         octavia\n",
       "           ...   \n",
       "158299     rodius\n",
       "158300     rodius\n",
       "158301     stavic\n",
       "158302     stavic\n",
       "158303     stavic\n",
       "Name: model_of_car, Length: 151852, dtype: object>"
      ]
     },
     "execution_count": 34,
     "metadata": {},
     "output_type": "execute_result"
    }
   ],
   "source": [
    "data['model_of_car'].value_counts"
   ]
  },
  {
   "cell_type": "code",
   "execution_count": 35,
   "metadata": {
    "execution": {
     "iopub.execute_input": "2021-09-01T03:31:29.393530Z",
     "iopub.status.busy": "2021-09-01T03:31:29.393021Z",
     "iopub.status.idle": "2021-09-01T03:31:29.396568Z",
     "shell.execute_reply": "2021-09-01T03:31:29.397001Z",
     "shell.execute_reply.started": "2021-09-01T00:31:03.456642Z"
    },
    "papermill": {
     "duration": 0.170873,
     "end_time": "2021-09-01T03:31:29.397136",
     "exception": false,
     "start_time": "2021-09-01T03:31:29.226263",
     "status": "completed"
    },
    "tags": []
   },
   "outputs": [],
   "source": [
    "cat_cols.append('model_of_car')"
   ]
  },
  {
   "cell_type": "markdown",
   "metadata": {
    "papermill": {
     "duration": 0.165335,
     "end_time": "2021-09-01T03:31:29.726053",
     "exception": false,
     "start_time": "2021-09-01T03:31:29.560718",
     "status": "completed"
    },
    "tags": []
   },
   "source": [
    "\n",
    "# **bodyType**"
   ]
  },
  {
   "cell_type": "code",
   "execution_count": 36,
   "metadata": {
    "execution": {
     "iopub.execute_input": "2021-09-01T03:31:30.060440Z",
     "iopub.status.busy": "2021-09-01T03:31:30.059949Z",
     "iopub.status.idle": "2021-09-01T03:31:30.075119Z",
     "shell.execute_reply": "2021-09-01T03:31:30.075524Z",
     "shell.execute_reply.started": "2021-09-01T00:31:03.464837Z"
    },
    "papermill": {
     "duration": 0.183131,
     "end_time": "2021-09-01T03:31:30.075681",
     "exception": false,
     "start_time": "2021-09-01T03:31:29.892550",
     "status": "completed"
    },
    "tags": []
   },
   "outputs": [
    {
     "data": {
      "text/plain": [
       "array(['лифтбек', 'внедорожник 5 дв.', 'хэтчбек 5 дв.', 'седан',\n",
       "       'компактвэн', 'универсал 5 дв.', 'пикап одинарная кабина',\n",
       "       'хэтчбек 3 дв.', 'купе', 'кабриолет', 'минивэн',\n",
       "       'пикап двойная кабина', 'внедорожник 3 дв.', 'родстер', 'микровэн',\n",
       "       'седан 2 дв.', 'купе-хардтоп', 'фастбек', 'тарга',\n",
       "       'внедорожник открытый', 'лимузин', 'пикап полуторная кабина',\n",
       "       'седан-хардтоп', 'фургон', 'универсал 3 дв.', 'Седан',\n",
       "       'Универсал 5 дв.', 'Хэтчбек 5 дв. Sportback', 'Хэтчбек 3 дв.',\n",
       "       'Хэтчбек 5 дв.', 'Кабриолет', 'Купе', 'Лифтбек Sportback',\n",
       "       'Лифтбек', 'Седан Long', 'Внедорожник 5 дв.', 'Кабриолет Roadster',\n",
       "       'Седан 2 дв.', 'Седан Gran Coupe', 'Компактвэн',\n",
       "       'Компактвэн Gran Tourer', 'Лифтбек Gran Turismo',\n",
       "       'Хэтчбек 3 дв. Compact', 'Лифтбек Gran Coupe', 'Купе-хардтоп',\n",
       "       'Родстер Roadster', 'Родстер', 'Внедорожник 5 дв. ESV', 'Минивэн',\n",
       "       'Пикап Двойная кабина', 'Внедорожник 3 дв.',\n",
       "       'Пикап Одинарная кабина', 'Тарга', 'Пикап Двойная кабина Crew Cab',\n",
       "       'Пикап Двойная кабина Double',\n",
       "       'Пикап Одинарная кабина Regular Cab', 'Внедорожник 5 дв. EXT',\n",
       "       'Седан SRT8', 'Минивэн SWB', 'Минивэн Grand', 'Компактвэн Grand',\n",
       "       'Универсал 5 дв. CrossTourer', 'Минивэн Long', 'Минивэн XL',\n",
       "       'Микровэн Coach', 'Хэтчбек 5 дв. Best', 'Хэтчбек 5 дв. SRT4',\n",
       "       'Купе SRT', 'Седан SRT', 'Пикап Полуторная кабина',\n",
       "       'Пикап Двойная кабина Quad Cab',\n",
       "       'Пикап Полуторная кабина Quad Cab',\n",
       "       'Пикап Двойная кабина Crew Cab TRX',\n",
       "       'Пикап Полуторная кабина Club Cab',\n",
       "       'Пикап Двойная кабина Raptor SuperCrew',\n",
       "       'Пикап Двойная кабина CrewCab',\n",
       "       'Пикап Двойная кабина Raptor CrewCab',\n",
       "       'Пикап Двойная кабина Super Crew',\n",
       "       'Пикап Полуторная кабина Raptor', 'Пикап Двойная кабина SuperCrew',\n",
       "       'Кабриолет StreetKa', 'Пикап Двойная кабина Double Cab',\n",
       "       'Пикап Полуторная кабина Rap Cab', 'Компактвэн LWB',\n",
       "       'Компактвэн SWB', 'Минивэн LWB', 'Фастбек', 'Седан Type-S',\n",
       "       'Микровэн', 'Универсал 5 дв. Shuttle', nan, 'Родстер del Sol',\n",
       "       'Компактвэн Spike', 'Минивэн Spada', 'Седан Limousine',\n",
       "       'Внедорожник 5 дв. Grand', 'Хэтчбек 4 дв.', 'Седан SWB',\n",
       "       'Седан LWB', 'Внедорожник 5 дв. SRT',\n",
       "       'Внедорожник 5 дв. Trackhawk', 'Внедорожник 5 дв. SRT8',\n",
       "       'Внедорожник открытый', 'Хэтчбек 5 дв. GT Line',\n",
       "       'Хэтчбек 5 дв. X-Line', 'Хэтчбек 5 дв. EU',\n",
       "       'Внедорожник 5 дв. Prime', 'Внедорожник 5 дв. L', 'Минивэн Brawny',\n",
       "       'Универсал 5 дв. S-Familia', 'Кабриолет JCW', 'Кабриолет Cooper S',\n",
       "       'Хэтчбек 3 дв. Cooper S', 'Универсал 5 дв. JCW',\n",
       "       'Универсал 5 дв. Cooper S', 'Внедорожник 5 дв. Cooper S',\n",
       "       'Внедорожник 5 дв. JCW', 'Купе Cooper S', 'Хэтчбек 3 дв. JCW',\n",
       "       'Хэтчбек 5 дв. Cooper S', 'Универсал 5 дв. Plus', 'Купе Asti',\n",
       "       'Минивэн Caravan Elgrand', 'Компактвэн Joy',\n",
       "       'Универсал 5 дв. California', 'Седан Latio', 'Хэтчбек 3 дв. GTC',\n",
       "       'Универсал 5 дв. Country Tourer', 'Минивэн L', 'Тарга Targa',\n",
       "       'Купе RS', 'Седан Stepway', 'Хэтчбек 5 дв. Stepway',\n",
       "       'Компактвэн RX4', 'Компактвэн Conquest', 'Седан 120',\n",
       "       'Хэтчбек 5 дв. Scout', 'Универсал 5 дв. Scout',\n",
       "       'Универсал 5 дв. Spaceback', 'Внедорожник 5 дв. tS',\n",
       "       'Хэтчбек 5 дв. XV', 'Внедорожник 5 дв. XL-7',\n",
       "       'Универсал 5 дв. Gita', 'Седан US Market', 'Седан Japan Market',\n",
       "       'Седан Gracia', 'Универсал 5 дв. Gracia', 'Седан-хардтоп',\n",
       "       'Универсал 5 дв. Fielder', 'Седан Axio', 'Седан-хардтоп Ceres',\n",
       "       'Хэтчбек 5 дв. Runx', 'Лифтбек Liftback', 'Седан Premio',\n",
       "       'Седан T140', 'Минивэн Lucida', 'Минивэн Emina', 'Минивэн Regius',\n",
       "       'Пикап Двойная кабина Double cab', 'Внедорожник 3 дв. 78',\n",
       "       'Внедорожник 5 дв. 76', 'Пикап Одинарная кабина 79',\n",
       "       'Внедорожник 5 дв. Arctic Trucks', 'Компактвэн Noah',\n",
       "       'Универсал 5 дв. Blit', 'Универсал 5 дв. Qualis',\n",
       "       'Внедорожник 5 дв. Long', 'Пикап Полуторная кабина Long Bed',\n",
       "       'Пикап Двойная кабина CrewMax', 'Универсал 5 дв. Ardeo',\n",
       "       'Компактвэн Life', 'Компактвэн Maxi', 'Компактвэн Life Maxi',\n",
       "       'Компактвэн Alltrack', 'Универсал 5 дв. Alltrack',\n",
       "       'Хэтчбек 5 дв. Cross', 'Внедорожник 5 дв. Allspace',\n",
       "       'Компактвэн Cross', 'Фургон', 'Фургон Kasten',\n",
       "       'Универсал 5 дв. XC', 'Внедорожник 5 дв. 110',\n",
       "       'Внедорожник 3 дв. 90', 'Хэтчбек 5 дв. Long',\n",
       "       'Универсал 5 дв. All-Terrain', 'Внедорожник 5 дв. 4x4',\n",
       "       'Лимузин Pullman', 'Минивэн Extralong', 'Минивэн Marco Polo',\n",
       "       'Минивэн Extra Long', 'Минивэн L2', 'Минивэн L3', 'Минивэн L1',\n",
       "       'Пикап Двойная кабина Sports'], dtype=object)"
      ]
     },
     "execution_count": 36,
     "metadata": {},
     "output_type": "execute_result"
    }
   ],
   "source": [
    "data['body_type'].unique()"
   ]
  },
  {
   "cell_type": "code",
   "execution_count": 37,
   "metadata": {
    "execution": {
     "iopub.execute_input": "2021-09-01T03:31:30.412889Z",
     "iopub.status.busy": "2021-09-01T03:31:30.412341Z",
     "iopub.status.idle": "2021-09-01T03:31:30.560354Z",
     "shell.execute_reply": "2021-09-01T03:31:30.559825Z",
     "shell.execute_reply.started": "2021-09-01T00:31:03.495772Z"
    },
    "papermill": {
     "duration": 0.317676,
     "end_time": "2021-09-01T03:31:30.560451",
     "exception": false,
     "start_time": "2021-09-01T03:31:30.242775",
     "status": "completed"
    },
    "tags": []
   },
   "outputs": [],
   "source": [
    "#переделаем названия\n",
    "data['body_type'] = data['body_type'].astype(str).apply(lambda x: None if x.strip()=='' else x)\n",
    "data['body_type'] = data['body_type'].apply(lambda x: x.split(' ')[0].lower())"
   ]
  },
  {
   "cell_type": "code",
   "execution_count": 38,
   "metadata": {
    "execution": {
     "iopub.execute_input": "2021-09-01T03:31:30.925963Z",
     "iopub.status.busy": "2021-09-01T03:31:30.912815Z",
     "iopub.status.idle": "2021-09-01T03:31:31.352489Z",
     "shell.execute_reply": "2021-09-01T03:31:31.352091Z",
     "shell.execute_reply.started": "2021-09-01T00:31:03.717622Z"
    },
    "papermill": {
     "duration": 0.623942,
     "end_time": "2021-09-01T03:31:31.352593",
     "exception": false,
     "start_time": "2021-09-01T03:31:30.728651",
     "status": "completed"
    },
    "tags": []
   },
   "outputs": [
    {
     "data": {
      "text/plain": [
       "<matplotlib.axes._subplots.AxesSubplot at 0x7f09b2c642d0>"
      ]
     },
     "execution_count": 38,
     "metadata": {},
     "output_type": "execute_result"
    },
    {
     "data": {
      "image/png": "[encoded data removed]",
      "text/plain": [
       "<Figure size 576x396 with 1 Axes>"
      ]
     },
     "metadata": {},
     "output_type": "display_data"
    }
   ],
   "source": [
    "sns.countplot(y = data['body_type'], data = data, order = data['body_type'].value_counts().index)\n",
    "# sns.countplot?"
   ]
  },
  {
   "cell_type": "markdown",
   "metadata": {
    "execution": {
     "iopub.execute_input": "2021-06-27T16:38:16.563747Z",
     "iopub.status.busy": "2021-06-27T16:38:16.563349Z",
     "iopub.status.idle": "2021-06-27T16:38:16.569401Z",
     "shell.execute_reply": "2021-06-27T16:38:16.568267Z",
     "shell.execute_reply.started": "2021-06-27T16:38:16.563714Z"
    },
    "papermill": {
     "duration": 0.163759,
     "end_time": "2021-09-01T03:31:31.678467",
     "exception": false,
     "start_time": "2021-09-01T03:31:31.514708",
     "status": "completed"
    },
    "tags": []
   },
   "source": [
    "Самый популярный кузов внедорожник, на втором месте седан\n",
    "\n",
    "посмотрим на пропуски,если они есть,заполним их кузов типа \"внедорожник\""
   ]
  },
  {
   "cell_type": "code",
   "execution_count": 39,
   "metadata": {
    "execution": {
     "iopub.execute_input": "2021-09-01T03:31:32.018341Z",
     "iopub.status.busy": "2021-09-01T03:31:32.017820Z",
     "iopub.status.idle": "2021-09-01T03:31:32.021503Z",
     "shell.execute_reply": "2021-09-01T03:31:32.020823Z",
     "shell.execute_reply.started": "2021-09-01T00:31:04.300302Z"
    },
    "papermill": {
     "duration": 0.176778,
     "end_time": "2021-09-01T03:31:32.021642",
     "exception": false,
     "start_time": "2021-09-01T03:31:31.844864",
     "status": "completed"
    },
    "tags": []
   },
   "outputs": [],
   "source": [
    "data.at[93550,'body_type'] = None"
   ]
  },
  {
   "cell_type": "code",
   "execution_count": 40,
   "metadata": {
    "execution": {
     "iopub.execute_input": "2021-09-01T03:31:32.463709Z",
     "iopub.status.busy": "2021-09-01T03:31:32.461539Z",
     "iopub.status.idle": "2021-09-01T03:31:32.468452Z",
     "shell.execute_reply": "2021-09-01T03:31:32.467854Z",
     "shell.execute_reply.started": "2021-09-01T00:31:04.306901Z"
    },
    "papermill": {
     "duration": 0.192829,
     "end_time": "2021-09-01T03:31:32.468563",
     "exception": false,
     "start_time": "2021-09-01T03:31:32.275734",
     "status": "completed"
    },
    "tags": []
   },
   "outputs": [
    {
     "data": {
      "text/plain": [
       "1"
      ]
     },
     "execution_count": 40,
     "metadata": {},
     "output_type": "execute_result"
    }
   ],
   "source": [
    "data['body_type'].isna().sum()"
   ]
  },
  {
   "cell_type": "code",
   "execution_count": 41,
   "metadata": {
    "execution": {
     "iopub.execute_input": "2021-09-01T03:31:32.995795Z",
     "iopub.status.busy": "2021-09-01T03:31:32.993381Z",
     "iopub.status.idle": "2021-09-01T03:31:33.017540Z",
     "shell.execute_reply": "2021-09-01T03:31:33.016654Z",
     "shell.execute_reply.started": "2021-09-01T00:31:04.337836Z"
    },
    "papermill": {
     "duration": 0.301613,
     "end_time": "2021-09-01T03:31:33.017661",
     "exception": false,
     "start_time": "2021-09-01T03:31:32.716048",
     "status": "completed"
    },
    "tags": []
   },
   "outputs": [],
   "source": [
    "data['body_type'] = data['body_type'].fillna(data['body_type'].mode())"
   ]
  },
  {
   "cell_type": "code",
   "execution_count": 42,
   "metadata": {
    "execution": {
     "iopub.execute_input": "2021-09-01T03:31:33.351693Z",
     "iopub.status.busy": "2021-09-01T03:31:33.350755Z",
     "iopub.status.idle": "2021-09-01T03:31:33.353365Z",
     "shell.execute_reply": "2021-09-01T03:31:33.353930Z",
     "shell.execute_reply.started": "2021-09-01T00:31:04.400726Z"
    },
    "papermill": {
     "duration": 0.171247,
     "end_time": "2021-09-01T03:31:33.354082",
     "exception": false,
     "start_time": "2021-09-01T03:31:33.182835",
     "status": "completed"
    },
    "tags": []
   },
   "outputs": [],
   "source": [
    "cat_cols.append('body_type')"
   ]
  },
  {
   "cell_type": "code",
   "execution_count": 43,
   "metadata": {
    "execution": {
     "iopub.execute_input": "2021-09-01T03:31:33.935362Z",
     "iopub.status.busy": "2021-09-01T03:31:33.934483Z",
     "iopub.status.idle": "2021-09-01T03:31:33.951920Z",
     "shell.execute_reply": "2021-09-01T03:31:33.952774Z",
     "shell.execute_reply.started": "2021-09-01T00:31:04.406779Z"
    },
    "papermill": {
     "duration": 0.352289,
     "end_time": "2021-09-01T03:31:33.952973",
     "exception": false,
     "start_time": "2021-09-01T03:31:33.600684",
     "status": "completed"
    },
    "tags": []
   },
   "outputs": [
    {
     "data": {
      "text/plain": [
       "(34686, 22)"
      ]
     },
     "execution_count": 43,
     "metadata": {},
     "output_type": "execute_result"
    }
   ],
   "source": [
    "data[data['sample']==0].shape"
   ]
  },
  {
   "cell_type": "markdown",
   "metadata": {
    "papermill": {
     "duration": 0.254477,
     "end_time": "2021-09-01T03:31:34.463235",
     "exception": false,
     "start_time": "2021-09-01T03:31:34.208758",
     "status": "completed"
    },
    "tags": []
   },
   "source": [
    "# **brand**"
   ]
  },
  {
   "cell_type": "code",
   "execution_count": 44,
   "metadata": {
    "execution": {
     "iopub.execute_input": "2021-09-01T03:31:34.963202Z",
     "iopub.status.busy": "2021-09-01T03:31:34.962550Z",
     "iopub.status.idle": "2021-09-01T03:31:34.976240Z",
     "shell.execute_reply": "2021-09-01T03:31:34.976836Z",
     "shell.execute_reply.started": "2021-09-01T00:31:04.428911Z"
    },
    "papermill": {
     "duration": 0.265638,
     "end_time": "2021-09-01T03:31:34.976979",
     "exception": false,
     "start_time": "2021-09-01T03:31:34.711341",
     "status": "completed"
    },
    "tags": []
   },
   "outputs": [
    {
     "data": {
      "text/plain": [
       "array(['SKODA', 'AUDI', 'HONDA', 'VOLVO', 'BMW', 'NISSAN', 'INFINITI',\n",
       "       'MERCEDES', 'TOYOTA', 'LEXUS', 'VOLKSWAGEN', 'MITSUBISHI',\n",
       "       'CADILLAC', 'CHERY', 'CHEVROLET', 'CHRYSLER', 'CITROEN', 'DAEWOO',\n",
       "       'DODGE', 'FORD', 'GEELY', 'HYUNDAI', 'JAGUAR', 'JEEP', 'KIA',\n",
       "       'MAZDA', 'MINI', 'OPEL', 'PEUGEOT', 'PORSCHE', 'RENAULT', 'SUBARU',\n",
       "       'SUZUKI', 'GREAT_WALL', 'LAND_ROVER', 'SSANG_YONG'], dtype=object)"
      ]
     },
     "execution_count": 44,
     "metadata": {},
     "output_type": "execute_result"
    }
   ],
   "source": [
    "data['brand'].unique() "
   ]
  },
  {
   "cell_type": "code",
   "execution_count": 45,
   "metadata": {
    "execution": {
     "iopub.execute_input": "2021-09-01T03:31:35.483995Z",
     "iopub.status.busy": "2021-09-01T03:31:35.483286Z",
     "iopub.status.idle": "2021-09-01T03:31:35.804177Z",
     "shell.execute_reply": "2021-09-01T03:31:35.804705Z",
     "shell.execute_reply.started": "2021-09-01T00:31:04.450157Z"
    },
    "papermill": {
     "duration": 0.574043,
     "end_time": "2021-09-01T03:31:35.804848",
     "exception": false,
     "start_time": "2021-09-01T03:31:35.230805",
     "status": "completed"
    },
    "tags": []
   },
   "outputs": [
    {
     "data": {
      "text/plain": [
       "<matplotlib.axes._subplots.AxesSubplot at 0x7f09af4bedd0>"
      ]
     },
     "execution_count": 45,
     "metadata": {},
     "output_type": "execute_result"
    },
    {
     "data": {
      "image/png": "[encoded data removed]",
      "text/plain": [
       "<Figure size 576x396 with 1 Axes>"
      ]
     },
     "metadata": {},
     "output_type": "display_data"
    }
   ],
   "source": [
    "data['brand'].value_counts().plot.barh()"
   ]
  },
  {
   "cell_type": "markdown",
   "metadata": {
    "execution": {
     "iopub.execute_input": "2020-10-26T12:47:03.489637Z",
     "iopub.status.busy": "2020-10-26T12:47:03.483022Z",
     "iopub.status.idle": "2020-10-26T12:47:03.549376Z",
     "shell.execute_reply": "2020-10-26T12:47:03.548539Z"
    },
    "papermill": {
     "duration": 0.257128,
     "end_time": "2021-09-01T03:31:36.314949",
     "exception": false,
     "start_time": "2021-09-01T03:31:36.057821",
     "status": "completed"
    },
    "tags": []
   },
   "source": [
    "Наиболее популярные бренды-, БМВ, Mercedes"
   ]
  },
  {
   "cell_type": "code",
   "execution_count": 46,
   "metadata": {
    "execution": {
     "iopub.execute_input": "2021-09-01T03:31:36.826350Z",
     "iopub.status.busy": "2021-09-01T03:31:36.825657Z",
     "iopub.status.idle": "2021-09-01T03:31:36.829575Z",
     "shell.execute_reply": "2021-09-01T03:31:36.830085Z",
     "shell.execute_reply.started": "2021-09-01T00:31:04.908566Z"
    },
    "papermill": {
     "duration": 0.264351,
     "end_time": "2021-09-01T03:31:36.830223",
     "exception": false,
     "start_time": "2021-09-01T03:31:36.565872",
     "status": "completed"
    },
    "tags": []
   },
   "outputs": [
    {
     "data": {
      "text/plain": [
       "0"
      ]
     },
     "execution_count": 46,
     "metadata": {},
     "output_type": "execute_result"
    }
   ],
   "source": [
    "data['brand'].isnull().sum()"
   ]
  },
  {
   "cell_type": "code",
   "execution_count": 47,
   "metadata": {
    "execution": {
     "iopub.execute_input": "2021-09-01T03:31:37.345003Z",
     "iopub.status.busy": "2021-09-01T03:31:37.344077Z",
     "iopub.status.idle": "2021-09-01T03:31:37.347255Z",
     "shell.execute_reply": "2021-09-01T03:31:37.346705Z",
     "shell.execute_reply.started": "2021-09-01T00:31:04.933728Z"
    },
    "papermill": {
     "duration": 0.26335,
     "end_time": "2021-09-01T03:31:37.347367",
     "exception": false,
     "start_time": "2021-09-01T03:31:37.084017",
     "status": "completed"
    },
    "tags": []
   },
   "outputs": [],
   "source": [
    "cat_cols.append('brand')"
   ]
  },
  {
   "cell_type": "markdown",
   "metadata": {
    "papermill": {
     "duration": 0.252828,
     "end_time": "2021-09-01T03:31:37.854583",
     "exception": false,
     "start_time": "2021-09-01T03:31:37.601755",
     "status": "completed"
    },
    "tags": []
   },
   "source": [
    "# **color**"
   ]
  },
  {
   "cell_type": "code",
   "execution_count": 48,
   "metadata": {
    "execution": {
     "iopub.execute_input": "2021-09-01T03:31:38.381566Z",
     "iopub.status.busy": "2021-09-01T03:31:38.380901Z",
     "iopub.status.idle": "2021-09-01T03:31:38.394649Z",
     "shell.execute_reply": "2021-09-01T03:31:38.395189Z",
     "shell.execute_reply.started": "2021-09-01T00:31:04.943738Z"
    },
    "papermill": {
     "duration": 0.287678,
     "end_time": "2021-09-01T03:31:38.395333",
     "exception": false,
     "start_time": "2021-09-01T03:31:38.107655",
     "status": "completed"
    },
    "tags": []
   },
   "outputs": [
    {
     "data": {
      "text/plain": [
       "array(['синий', 'чёрный', 'серый', 'коричневый', 'белый', 'пурпурный',\n",
       "       'бежевый', 'серебристый', 'красный', 'зелёный', 'жёлтый',\n",
       "       'голубой', 'оранжевый', 'фиолетовый', 'золотистый', 'розовый',\n",
       "       '040001', 'EE1D19', '0000CC', 'CACECB', '007F00', 'FAFBFB',\n",
       "       '97948F', '22A0F8', '660099', '200204', 'C49648', 'DEA522',\n",
       "       '4A2197', 'FFD600', 'FF8649', 'FFC0CB'], dtype=object)"
      ]
     },
     "execution_count": 48,
     "metadata": {},
     "output_type": "execute_result"
    }
   ],
   "source": [
    "data['color'].unique() "
   ]
  },
  {
   "cell_type": "code",
   "execution_count": 49,
   "metadata": {
    "execution": {
     "iopub.execute_input": "2021-09-01T03:31:38.951054Z",
     "iopub.status.busy": "2021-09-01T03:31:38.942489Z",
     "iopub.status.idle": "2021-09-01T03:31:39.257515Z",
     "shell.execute_reply": "2021-09-01T03:31:39.257057Z",
     "shell.execute_reply.started": "2021-09-01T00:31:04.972330Z"
    },
    "papermill": {
     "duration": 0.612256,
     "end_time": "2021-09-01T03:31:39.257644",
     "exception": false,
     "start_time": "2021-09-01T03:31:38.645388",
     "status": "completed"
    },
    "tags": []
   },
   "outputs": [
    {
     "data": {
      "text/plain": [
       "<matplotlib.axes._subplots.AxesSubplot at 0x7f09af34ad50>"
      ]
     },
     "execution_count": 49,
     "metadata": {},
     "output_type": "execute_result"
    },
    {
     "data": {
      "image/png": "[encoded data removed]",
      "text/plain": [
       "<Figure size 576x396 with 1 Axes>"
      ]
     },
     "metadata": {},
     "output_type": "display_data"
    }
   ],
   "source": [
    "data['color'].value_counts().plot.barh()"
   ]
  },
  {
   "cell_type": "markdown",
   "metadata": {
    "papermill": {
     "duration": 0.167967,
     "end_time": "2021-09-01T03:31:39.593754",
     "exception": false,
     "start_time": "2021-09-01T03:31:39.425787",
     "status": "completed"
    },
    "tags": []
   },
   "source": [
    "Самый популярные цвета среди автомобилей - чёрный и белый"
   ]
  },
  {
   "cell_type": "code",
   "execution_count": 50,
   "metadata": {
    "execution": {
     "iopub.execute_input": "2021-09-01T03:31:39.936579Z",
     "iopub.status.busy": "2021-09-01T03:31:39.936042Z",
     "iopub.status.idle": "2021-09-01T03:31:39.938943Z",
     "shell.execute_reply": "2021-09-01T03:31:39.939378Z",
     "shell.execute_reply.started": "2021-09-01T00:31:05.390184Z"
    },
    "papermill": {
     "duration": 0.178719,
     "end_time": "2021-09-01T03:31:39.939520",
     "exception": false,
     "start_time": "2021-09-01T03:31:39.760801",
     "status": "completed"
    },
    "tags": []
   },
   "outputs": [],
   "source": [
    "#переименуем признак\n",
    "color_dict = {'040001':'black', \n",
    "              'FAFBFB':'white',\n",
    "              'CACECB':'silver',\n",
    "              '97948F':'grey',\n",
    "              'чёрный':'black',\n",
    "              '0000CC':'blue',\n",
    "              'белый':'white',\n",
    "              '200204':'brown',\n",
    "              'EE1D19':'red',\n",
    "              'серебристый':'silver',\n",
    "              'серый':'grey',\n",
    "              'синий':'blue',\n",
    "              '007F00':'green',\n",
    "              'C49648':'beige',\n",
    "              'красный':'red', \n",
    "              'коричневый':'brown',\n",
    "              '22A0F8':'light_blue',\n",
    "              'зелёный':'green',\n",
    "              '660099':'purple',\n",
    "              'DEA522':'gold',\n",
    "              '4A2197':'violet',\n",
    "              'бежевый':'beige',\n",
    "              'FFD600':'yellow',\n",
    "              'голубой':'light_blue',\n",
    "              'FF8649':'orange',\n",
    "              'золотистый':'gold',\n",
    "              'пурпурный':'purple',\n",
    "              'фиолетовый':'violet',\n",
    "              'жёлтый':'yellow',\n",
    "              'оранжевый':'orange',\n",
    "              'FFC0CB':'pink',\n",
    "              'розовый':'pink'\n",
    "             }"
   ]
  },
  {
   "cell_type": "code",
   "execution_count": 51,
   "metadata": {
    "execution": {
     "iopub.execute_input": "2021-09-01T03:31:40.297494Z",
     "iopub.status.busy": "2021-09-01T03:31:40.296959Z",
     "iopub.status.idle": "2021-09-01T03:31:40.307159Z",
     "shell.execute_reply": "2021-09-01T03:31:40.307531Z",
     "shell.execute_reply.started": "2021-09-01T00:31:05.400048Z"
    },
    "papermill": {
     "duration": 0.197706,
     "end_time": "2021-09-01T03:31:40.307677",
     "exception": false,
     "start_time": "2021-09-01T03:31:40.109971",
     "status": "completed"
    },
    "tags": []
   },
   "outputs": [],
   "source": [
    "data['color'] = data['color'].map(color_dict)"
   ]
  },
  {
   "cell_type": "markdown",
   "metadata": {
    "papermill": {
     "duration": 0.166828,
     "end_time": "2021-09-01T03:31:40.643004",
     "exception": false,
     "start_time": "2021-09-01T03:31:40.476176",
     "status": "completed"
    },
    "tags": []
   },
   "source": [
    "Разделим цвета по популярности. Самые популярные: 1, менее популярные: 2,еще менее популярные: 3, не популярные: 4"
   ]
  },
  {
   "cell_type": "code",
   "execution_count": 52,
   "metadata": {
    "execution": {
     "iopub.execute_input": "2021-09-01T03:31:40.999628Z",
     "iopub.status.busy": "2021-09-01T03:31:40.999096Z",
     "iopub.status.idle": "2021-09-01T03:31:41.017527Z",
     "shell.execute_reply": "2021-09-01T03:31:41.017975Z",
     "shell.execute_reply.started": "2021-09-01T00:31:05.438691Z"
    },
    "papermill": {
     "duration": 0.205543,
     "end_time": "2021-09-01T03:31:41.018095",
     "exception": false,
     "start_time": "2021-09-01T03:31:40.812552",
     "status": "completed"
    },
    "tags": []
   },
   "outputs": [],
   "source": [
    "  \n",
    "pop_color_dict = {\n",
    "    'white': 1,\n",
    "    'black': 1,\n",
    "    'blue': 2,\n",
    "    'silver': 2,\n",
    "    'grey': 2,\n",
    "    'brown': 3,\n",
    "    'red': 3, \n",
    "    'green': 3,\n",
    "    'beige': 3,\n",
    "    'light_blue': 3,\n",
    "    'purple': 4,\n",
    "    'yellow': 4, \n",
    "    'orange': 4,\n",
    "    'violet': 4, \n",
    "    'gold': 4, \n",
    "    'pink': 4\n",
    "}\n",
    "data['color'] = data['color'].map(pop_color_dict)"
   ]
  },
  {
   "cell_type": "code",
   "execution_count": 53,
   "metadata": {
    "execution": {
     "iopub.execute_input": "2021-09-01T03:31:41.360524Z",
     "iopub.status.busy": "2021-09-01T03:31:41.359963Z",
     "iopub.status.idle": "2021-09-01T03:31:41.363905Z",
     "shell.execute_reply": "2021-09-01T03:31:41.364290Z",
     "shell.execute_reply.started": "2021-09-01T00:31:05.501592Z"
    },
    "papermill": {
     "duration": 0.17709,
     "end_time": "2021-09-01T03:31:41.364416",
     "exception": false,
     "start_time": "2021-09-01T03:31:41.187326",
     "status": "completed"
    },
    "tags": []
   },
   "outputs": [],
   "source": [
    "ready_cat_cols.append('color')"
   ]
  },
  {
   "cell_type": "code",
   "execution_count": 54,
   "metadata": {
    "execution": {
     "iopub.execute_input": "2021-09-01T03:31:41.706990Z",
     "iopub.status.busy": "2021-09-01T03:31:41.706287Z",
     "iopub.status.idle": "2021-09-01T03:31:41.711809Z",
     "shell.execute_reply": "2021-09-01T03:31:41.711274Z",
     "shell.execute_reply.started": "2021-09-01T00:31:05.507595Z"
    },
    "papermill": {
     "duration": 0.179812,
     "end_time": "2021-09-01T03:31:41.711904",
     "exception": false,
     "start_time": "2021-09-01T03:31:41.532092",
     "status": "completed"
    },
    "tags": []
   },
   "outputs": [
    {
     "data": {
      "text/plain": [
       "0"
      ]
     },
     "execution_count": 54,
     "metadata": {},
     "output_type": "execute_result"
    }
   ],
   "source": [
    "data['color'].isnull().sum()\n"
   ]
  },
  {
   "cell_type": "code",
   "execution_count": 55,
   "metadata": {
    "execution": {
     "iopub.execute_input": "2021-09-01T03:31:42.053239Z",
     "iopub.status.busy": "2021-09-01T03:31:42.052681Z",
     "iopub.status.idle": "2021-09-01T03:31:42.056460Z",
     "shell.execute_reply": "2021-09-01T03:31:42.055997Z",
     "shell.execute_reply.started": "2021-09-01T00:31:05.524072Z"
    },
    "papermill": {
     "duration": 0.177925,
     "end_time": "2021-09-01T03:31:42.056562",
     "exception": false,
     "start_time": "2021-09-01T03:31:41.878637",
     "status": "completed"
    },
    "tags": []
   },
   "outputs": [],
   "source": [
    "data['color'].fillna(1, inplace=True)"
   ]
  },
  {
   "cell_type": "code",
   "execution_count": 56,
   "metadata": {
    "execution": {
     "iopub.execute_input": "2021-09-01T03:31:42.402945Z",
     "iopub.status.busy": "2021-09-01T03:31:42.402263Z",
     "iopub.status.idle": "2021-09-01T03:31:42.417972Z",
     "shell.execute_reply": "2021-09-01T03:31:42.418334Z",
     "shell.execute_reply.started": "2021-09-01T00:31:05.534984Z"
    },
    "papermill": {
     "duration": 0.189751,
     "end_time": "2021-09-01T03:31:42.418474",
     "exception": false,
     "start_time": "2021-09-01T03:31:42.228723",
     "status": "completed"
    },
    "tags": []
   },
   "outputs": [
    {
     "data": {
      "text/plain": [
       "(34686, 22)"
      ]
     },
     "execution_count": 56,
     "metadata": {},
     "output_type": "execute_result"
    }
   ],
   "source": [
    "data[data['sample']==0].shape"
   ]
  },
  {
   "cell_type": "markdown",
   "metadata": {
    "papermill": {
     "duration": 0.168951,
     "end_time": "2021-09-01T03:31:42.757564",
     "exception": false,
     "start_time": "2021-09-01T03:31:42.588613",
     "status": "completed"
    },
    "tags": []
   },
   "source": [
    "# **fuelType**"
   ]
  },
  {
   "cell_type": "code",
   "execution_count": 57,
   "metadata": {
    "execution": {
     "iopub.execute_input": "2021-09-01T03:31:43.103084Z",
     "iopub.status.busy": "2021-09-01T03:31:43.094793Z",
     "iopub.status.idle": "2021-09-01T03:31:43.110065Z",
     "shell.execute_reply": "2021-09-01T03:31:43.110453Z",
     "shell.execute_reply.started": "2021-09-01T00:31:05.558554Z"
    },
    "papermill": {
     "duration": 0.18655,
     "end_time": "2021-09-01T03:31:43.110585",
     "exception": false,
     "start_time": "2021-09-01T03:31:42.924035",
     "status": "completed"
    },
    "tags": []
   },
   "outputs": [
    {
     "data": {
      "text/plain": [
       "array(['бензин', 'дизель', 'гибрид', 'электро', 'газ', 'универсал'],\n",
       "      dtype=object)"
      ]
     },
     "execution_count": 57,
     "metadata": {},
     "output_type": "execute_result"
    }
   ],
   "source": [
    "data['fuel_type'].unique()"
   ]
  },
  {
   "cell_type": "code",
   "execution_count": 58,
   "metadata": {
    "execution": {
     "iopub.execute_input": "2021-09-01T03:31:43.465153Z",
     "iopub.status.busy": "2021-09-01T03:31:43.447309Z",
     "iopub.status.idle": "2021-09-01T03:31:43.667712Z",
     "shell.execute_reply": "2021-09-01T03:31:43.668151Z",
     "shell.execute_reply.started": "2021-09-01T00:31:05.579258Z"
    },
    "papermill": {
     "duration": 0.391065,
     "end_time": "2021-09-01T03:31:43.668282",
     "exception": false,
     "start_time": "2021-09-01T03:31:43.277217",
     "status": "completed"
    },
    "tags": []
   },
   "outputs": [
    {
     "data": {
      "text/plain": [
       "<matplotlib.axes._subplots.AxesSubplot at 0x7f09af4fd390>"
      ]
     },
     "execution_count": 58,
     "metadata": {},
     "output_type": "execute_result"
    },
    {
     "data": {
      "image/png": "[encoded data removed]",
      "text/plain": [
       "<Figure size 576x396 with 1 Axes>"
      ]
     },
     "metadata": {},
     "output_type": "display_data"
    }
   ],
   "source": [
    "data['fuel_type'].value_counts().plot.barh()"
   ]
  },
  {
   "cell_type": "markdown",
   "metadata": {
    "execution": {
     "iopub.execute_input": "2021-06-27T17:02:40.193782Z",
     "iopub.status.busy": "2021-06-27T17:02:40.193365Z",
     "iopub.status.idle": "2021-06-27T17:02:40.201573Z",
     "shell.execute_reply": "2021-06-27T17:02:40.200098Z",
     "shell.execute_reply.started": "2021-06-27T17:02:40.193751Z"
    },
    "papermill": {
     "duration": 0.169389,
     "end_time": "2021-09-01T03:31:44.009083",
     "exception": false,
     "start_time": "2021-09-01T03:31:43.839694",
     "status": "completed"
    },
    "tags": []
   },
   "source": [
    "Наиболее популярные машины на бензине, наименее - на газу"
   ]
  },
  {
   "cell_type": "code",
   "execution_count": 59,
   "metadata": {
    "execution": {
     "iopub.execute_input": "2021-09-01T03:31:44.400731Z",
     "iopub.status.busy": "2021-09-01T03:31:44.388588Z",
     "iopub.status.idle": "2021-09-01T03:31:44.407937Z",
     "shell.execute_reply": "2021-09-01T03:31:44.407148Z",
     "shell.execute_reply.started": "2021-09-01T00:31:05.886548Z"
    },
    "papermill": {
     "duration": 0.228229,
     "end_time": "2021-09-01T03:31:44.408038",
     "exception": false,
     "start_time": "2021-09-01T03:31:44.179809",
     "status": "completed"
    },
    "tags": []
   },
   "outputs": [],
   "source": [
    "# дадим латинские названия\n",
    "d = {\n",
    "    'бензин': 'petrol', \n",
    "    'дизель': 'diesel', \n",
    "    'гибрид': 'hybrid', \n",
    "    'электро': 'electro', \n",
    "    'газ': 'gas'\n",
    "}\n",
    "data['fuel_type'] = data['fuel_type'].map(d)"
   ]
  },
  {
   "cell_type": "code",
   "execution_count": 60,
   "metadata": {
    "execution": {
     "iopub.execute_input": "2021-09-01T03:31:44.756486Z",
     "iopub.status.busy": "2021-09-01T03:31:44.755924Z",
     "iopub.status.idle": "2021-09-01T03:31:44.760925Z",
     "shell.execute_reply": "2021-09-01T03:31:44.760321Z",
     "shell.execute_reply.started": "2021-09-01T00:31:05.925215Z"
    },
    "papermill": {
     "duration": 0.182068,
     "end_time": "2021-09-01T03:31:44.761036",
     "exception": false,
     "start_time": "2021-09-01T03:31:44.578968",
     "status": "completed"
    },
    "tags": []
   },
   "outputs": [],
   "source": [
    "cat_cols.append('fuel_type')"
   ]
  },
  {
   "cell_type": "markdown",
   "metadata": {
    "papermill": {
     "duration": 0.171869,
     "end_time": "2021-09-01T03:31:45.105716",
     "exception": false,
     "start_time": "2021-09-01T03:31:44.933847",
     "status": "completed"
    },
    "tags": []
   },
   "source": [
    "# **model_date,production_date**"
   ]
  },
  {
   "cell_type": "code",
   "execution_count": 61,
   "metadata": {
    "execution": {
     "iopub.execute_input": "2021-09-01T03:31:45.456145Z",
     "iopub.status.busy": "2021-09-01T03:31:45.455619Z",
     "iopub.status.idle": "2021-09-01T03:31:45.477042Z",
     "shell.execute_reply": "2021-09-01T03:31:45.476517Z",
     "shell.execute_reply.started": "2021-09-01T00:31:05.931405Z"
    },
    "papermill": {
     "duration": 0.199579,
     "end_time": "2021-09-01T03:31:45.477157",
     "exception": false,
     "start_time": "2021-09-01T03:31:45.277578",
     "status": "completed"
    },
    "tags": []
   },
   "outputs": [],
   "source": [
    "data2 = data.copy() # Зафиксируем датасет перед изменениями"
   ]
  },
  {
   "cell_type": "code",
   "execution_count": 62,
   "metadata": {
    "execution": {
     "iopub.execute_input": "2021-09-01T03:31:45.821892Z",
     "iopub.status.busy": "2021-09-01T03:31:45.821311Z",
     "iopub.status.idle": "2021-09-01T03:31:45.827820Z",
     "shell.execute_reply": "2021-09-01T03:31:45.827309Z",
     "shell.execute_reply.started": "2021-09-01T00:31:05.989973Z"
    },
    "papermill": {
     "duration": 0.179821,
     "end_time": "2021-09-01T03:31:45.827916",
     "exception": false,
     "start_time": "2021-09-01T03:31:45.648095",
     "status": "completed"
    },
    "tags": []
   },
   "outputs": [
    {
     "data": {
      "text/plain": [
       "array([1904., 1908., 1927., 1932., 1934., 1935., 1936., 1937., 1938.,\n",
       "       1948., 1949., 1950., 1951., 1953., 1954., 1955., 1956., 1957.,\n",
       "       1958., 1959., 1960., 1961., 1963., 1964., 1965., 1966., 1967.,\n",
       "       1968., 1969., 1970., 1971., 1972., 1973., 1974., 1975., 1976.,\n",
       "       1977., 1978., 1979., 1980., 1981., 1982., 1983., 1984., 1985.,\n",
       "       1986., 1987., 1988., 1989., 1990., 1991., 1992., 1993., 1994.,\n",
       "       1995., 1996., 1997., 1998., 1999., 2000., 2001., 2002., 2003.,\n",
       "       2004., 2005., 2006., 2007., 2008., 2009., 2010., 2011., 2012.,\n",
       "       2013., 2014., 2015., 2016., 2017., 2018., 2019., 2020., 2021.,\n",
       "         nan])"
      ]
     },
     "execution_count": 62,
     "metadata": {},
     "output_type": "execute_result"
    }
   ],
   "source": [
    "np.sort(data['model_date'].unique())"
   ]
  },
  {
   "cell_type": "code",
   "execution_count": 63,
   "metadata": {
    "execution": {
     "iopub.execute_input": "2021-09-01T03:31:46.173924Z",
     "iopub.status.busy": "2021-09-01T03:31:46.173195Z",
     "iopub.status.idle": "2021-09-01T03:31:47.819940Z",
     "shell.execute_reply": "2021-09-01T03:31:47.820497Z",
     "shell.execute_reply.started": "2021-09-01T00:31:06.001321Z"
    },
    "papermill": {
     "duration": 1.823929,
     "end_time": "2021-09-01T03:31:47.820652",
     "exception": false,
     "start_time": "2021-09-01T03:31:45.996723",
     "status": "completed"
    },
    "tags": []
   },
   "outputs": [
    {
     "data": {
      "text/plain": [
       "<matplotlib.axes._subplots.AxesSubplot at 0x7f09adcf9490>"
      ]
     },
     "execution_count": 63,
     "metadata": {},
     "output_type": "execute_result"
    },
    {
     "data": {
      "image/png": "[encoded data removed]",
      "text/plain": [
       "<Figure size 1440x360 with 1 Axes>"
      ]
     },
     "metadata": {},
     "output_type": "display_data"
    }
   ],
   "source": [
    "fig, axes = plt.subplots(1, 1, figsize=(20,5))\n",
    "plt.title('Год выпуска автомобиля')\n",
    "plt.xticks(rotation=90)\n",
    "sns.countplot(x='model_date', data=data, orient='v')"
   ]
  },
  {
   "cell_type": "code",
   "execution_count": 64,
   "metadata": {
    "execution": {
     "iopub.execute_input": "2021-09-01T03:31:48.345147Z",
     "iopub.status.busy": "2021-09-01T03:31:48.344398Z",
     "iopub.status.idle": "2021-09-01T03:31:48.353396Z",
     "shell.execute_reply": "2021-09-01T03:31:48.353882Z",
     "shell.execute_reply.started": "2021-09-01T00:31:08.336685Z"
    },
    "papermill": {
     "duration": 0.271342,
     "end_time": "2021-09-01T03:31:48.354012",
     "exception": false,
     "start_time": "2021-09-01T03:31:48.082670",
     "status": "completed"
    },
    "tags": []
   },
   "outputs": [
    {
     "data": {
      "text/plain": [
       "1979.0    87\n",
       "1978.0    28\n",
       "1977.0    22\n",
       "1976.0    19\n",
       "1975.0    71\n",
       "1974.0    35\n",
       "1973.0     6\n",
       "1972.0    18\n",
       "1971.0    13\n",
       "1970.0     4\n",
       "1969.0     2\n",
       "1968.0    10\n",
       "1967.0     1\n",
       "1966.0     4\n",
       "1965.0     6\n",
       "1964.0     2\n",
       "1963.0     6\n",
       "1961.0     2\n",
       "1960.0     5\n",
       "1959.0    12\n",
       "1958.0    11\n",
       "1957.0     4\n",
       "1956.0     3\n",
       "1955.0    11\n",
       "1954.0     1\n",
       "1953.0     1\n",
       "1951.0     9\n",
       "1950.0     1\n",
       "1949.0     7\n",
       "1948.0     1\n",
       "1938.0    20\n",
       "1937.0    11\n",
       "1936.0    10\n",
       "1935.0     1\n",
       "1934.0     2\n",
       "1932.0     2\n",
       "1927.0     3\n",
       "1908.0     2\n",
       "1904.0     2\n",
       "Name: model_date, dtype: int64"
      ]
     },
     "execution_count": 64,
     "metadata": {},
     "output_type": "execute_result"
    }
   ],
   "source": [
    "data['model_date'][data['model_date']< 1980].value_counts(dropna=False).sort_index(ascending=False)"
   ]
  },
  {
   "cell_type": "markdown",
   "metadata": {
    "papermill": {
     "duration": 0.213663,
     "end_time": "2021-09-01T03:31:48.744656",
     "exception": false,
     "start_time": "2021-09-01T03:31:48.530993",
     "status": "completed"
    },
    "tags": []
   },
   "source": [
    "Автомобилей, произведенных ранее 1980 года очень мало. Однако должны ли мы уметь предсказывать цену на них? Возможно должны. Но:\n",
    "- во-первых: данных не достаточно,\n",
    "- во-вторых: даже если модель будет плохо предсказывать цены на столь старые автомобили, для основной массы результат предсказания не изменится, или даже станет лучше.\n",
    "\n",
    "Вывод: примем эти автомобили за выбросы"
   ]
  },
  {
   "cell_type": "code",
   "execution_count": 65,
   "metadata": {
    "execution": {
     "iopub.execute_input": "2021-09-01T03:31:49.101525Z",
     "iopub.status.busy": "2021-09-01T03:31:49.100501Z",
     "iopub.status.idle": "2021-09-01T03:31:49.144351Z",
     "shell.execute_reply": "2021-09-01T03:31:49.143886Z",
     "shell.execute_reply.started": "2021-09-01T00:31:08.352237Z"
    },
    "papermill": {
     "duration": 0.225073,
     "end_time": "2021-09-01T03:31:49.144450",
     "exception": false,
     "start_time": "2021-09-01T03:31:48.919377",
     "status": "completed"
    },
    "tags": []
   },
   "outputs": [],
   "source": [
    "# примем  автомобили старше 1980 г. за выбросы\n",
    "data = data[~((data.model_date < 1980)&(data.sample==1))]"
   ]
  },
  {
   "cell_type": "code",
   "execution_count": 66,
   "metadata": {
    "execution": {
     "iopub.execute_input": "2021-09-01T03:31:49.514657Z",
     "iopub.status.busy": "2021-09-01T03:31:49.514110Z",
     "iopub.status.idle": "2021-09-01T03:31:49.528952Z",
     "shell.execute_reply": "2021-09-01T03:31:49.528482Z",
     "shell.execute_reply.started": "2021-09-01T00:31:08.398682Z"
    },
    "papermill": {
     "duration": 0.200341,
     "end_time": "2021-09-01T03:31:49.529056",
     "exception": false,
     "start_time": "2021-09-01T03:31:49.328715",
     "status": "completed"
    },
    "tags": []
   },
   "outputs": [
    {
     "data": {
      "text/plain": [
       "(34686, 22)"
      ]
     },
     "execution_count": 66,
     "metadata": {},
     "output_type": "execute_result"
    }
   ],
   "source": [
    "data[data['sample']==0].shape"
   ]
  },
  {
   "cell_type": "code",
   "execution_count": 67,
   "metadata": {
    "execution": {
     "iopub.execute_input": "2021-09-01T03:31:49.878109Z",
     "iopub.status.busy": "2021-09-01T03:31:49.877413Z",
     "iopub.status.idle": "2021-09-01T03:31:49.885505Z",
     "shell.execute_reply": "2021-09-01T03:31:49.884934Z",
     "shell.execute_reply.started": "2021-09-01T00:31:08.414187Z"
    },
    "papermill": {
     "duration": 0.185871,
     "end_time": "2021-09-01T03:31:49.885630",
     "exception": false,
     "start_time": "2021-09-01T03:31:49.699759",
     "status": "completed"
    },
    "tags": []
   },
   "outputs": [
    {
     "data": {
      "text/plain": [
       "1"
      ]
     },
     "execution_count": 67,
     "metadata": {},
     "output_type": "execute_result"
    }
   ],
   "source": [
    "data['model_date'].isnull().sum()"
   ]
  },
  {
   "cell_type": "code",
   "execution_count": 68,
   "metadata": {
    "execution": {
     "iopub.execute_input": "2021-09-01T03:31:50.240696Z",
     "iopub.status.busy": "2021-09-01T03:31:50.240146Z",
     "iopub.status.idle": "2021-09-01T03:31:50.281647Z",
     "shell.execute_reply": "2021-09-01T03:31:50.281142Z",
     "shell.execute_reply.started": "2021-09-01T00:31:08.422858Z"
    },
    "papermill": {
     "duration": 0.222441,
     "end_time": "2021-09-01T03:31:50.281743",
     "exception": false,
     "start_time": "2021-09-01T03:31:50.059302",
     "status": "completed"
    },
    "tags": []
   },
   "outputs": [],
   "source": [
    "data = data.dropna(subset=['model_date'])"
   ]
  },
  {
   "cell_type": "code",
   "execution_count": 69,
   "metadata": {
    "execution": {
     "iopub.execute_input": "2021-09-01T03:31:50.631247Z",
     "iopub.status.busy": "2021-09-01T03:31:50.630562Z",
     "iopub.status.idle": "2021-09-01T03:31:50.634341Z",
     "shell.execute_reply": "2021-09-01T03:31:50.633712Z",
     "shell.execute_reply.started": "2021-09-01T00:31:08.465979Z"
    },
    "papermill": {
     "duration": 0.182422,
     "end_time": "2021-09-01T03:31:50.634453",
     "exception": false,
     "start_time": "2021-09-01T03:31:50.452031",
     "status": "completed"
    },
    "tags": []
   },
   "outputs": [
    {
     "data": {
      "text/plain": [
       "0"
      ]
     },
     "execution_count": 69,
     "metadata": {},
     "output_type": "execute_result"
    }
   ],
   "source": [
    "data['production_date'].isnull().sum()"
   ]
  },
  {
   "cell_type": "code",
   "execution_count": 70,
   "metadata": {
    "execution": {
     "iopub.execute_input": "2021-09-01T03:31:51.160768Z",
     "iopub.status.busy": "2021-09-01T03:31:51.160197Z",
     "iopub.status.idle": "2021-09-01T03:31:53.297262Z",
     "shell.execute_reply": "2021-09-01T03:31:53.296800Z",
     "shell.execute_reply.started": "2021-09-01T00:31:08.475435Z"
    },
    "papermill": {
     "duration": 2.401241,
     "end_time": "2021-09-01T03:31:53.297360",
     "exception": false,
     "start_time": "2021-09-01T03:31:50.896119",
     "status": "completed"
    },
    "tags": []
   },
   "outputs": [
    {
     "data": {
      "text/plain": [
       "<matplotlib.axes._subplots.AxesSubplot at 0x7f09adaa2dd0>"
      ]
     },
     "execution_count": 70,
     "metadata": {},
     "output_type": "execute_result"
    },
    {
     "data": {
      "image/png": "[encoded data removed]",
      "text/plain": [
       "<Figure size 1440x360 with 1 Axes>"
      ]
     },
     "metadata": {},
     "output_type": "display_data"
    }
   ],
   "source": [
    "fig, axes = plt.subplots(1, 1, figsize=(20,5))\n",
    "plt.title('Количество моделей, выпущенных в году')\n",
    "plt.xticks(rotation=90)\n",
    "sns.countplot(x='model_date', data=data, orient='v')"
   ]
  },
  {
   "cell_type": "code",
   "execution_count": 71,
   "metadata": {
    "execution": {
     "iopub.execute_input": "2021-09-01T03:31:53.649590Z",
     "iopub.status.busy": "2021-09-01T03:31:53.649101Z",
     "iopub.status.idle": "2021-09-01T03:31:53.654406Z",
     "shell.execute_reply": "2021-09-01T03:31:53.654839Z",
     "shell.execute_reply.started": "2021-09-01T00:31:10.742590Z"
    },
    "papermill": {
     "duration": 0.184635,
     "end_time": "2021-09-01T03:31:53.654956",
     "exception": false,
     "start_time": "2021-09-01T03:31:53.470321",
     "status": "completed"
    },
    "tags": []
   },
   "outputs": [],
   "source": [
    "#введем новые признаки возраст модели и возраст машины\n",
    "from datetime import date\n",
    "\n",
    "today = date.today()\n",
    "d1 = int(today.strftime(\"%Y\"))\n",
    "\n",
    "data['model_date'] = data['model_date'].astype('int')\n",
    "idx = data.columns.get_loc('model_date') \n",
    "data.insert(loc=idx+1, column='model_d', value=d1 - data['model_date'] )\n",
    "data.insert(loc=idx+1, column='production_d', value=d1 - data['production_date'] )\n"
   ]
  },
  {
   "cell_type": "code",
   "execution_count": 72,
   "metadata": {
    "execution": {
     "iopub.execute_input": "2021-09-01T03:31:54.004147Z",
     "iopub.status.busy": "2021-09-01T03:31:54.003627Z",
     "iopub.status.idle": "2021-09-01T03:31:54.006830Z",
     "shell.execute_reply": "2021-09-01T03:31:54.007293Z",
     "shell.execute_reply.started": "2021-09-01T00:31:10.756411Z"
    },
    "papermill": {
     "duration": 0.180129,
     "end_time": "2021-09-01T03:31:54.007417",
     "exception": false,
     "start_time": "2021-09-01T03:31:53.827288",
     "status": "completed"
    },
    "tags": []
   },
   "outputs": [],
   "source": [
    "num_cols.append('model_date')"
   ]
  },
  {
   "cell_type": "code",
   "execution_count": 73,
   "metadata": {
    "execution": {
     "iopub.execute_input": "2021-09-01T03:31:54.357300Z",
     "iopub.status.busy": "2021-09-01T03:31:54.356820Z",
     "iopub.status.idle": "2021-09-01T03:31:54.359038Z",
     "shell.execute_reply": "2021-09-01T03:31:54.359420Z",
     "shell.execute_reply.started": "2021-09-01T00:31:10.766197Z"
    },
    "papermill": {
     "duration": 0.178874,
     "end_time": "2021-09-01T03:31:54.359542",
     "exception": false,
     "start_time": "2021-09-01T03:31:54.180668",
     "status": "completed"
    },
    "tags": []
   },
   "outputs": [],
   "source": [
    "num_cols.append('production_date')"
   ]
  },
  {
   "cell_type": "code",
   "execution_count": 74,
   "metadata": {
    "execution": {
     "iopub.execute_input": "2021-09-01T03:31:54.706425Z",
     "iopub.status.busy": "2021-09-01T03:31:54.705959Z",
     "iopub.status.idle": "2021-09-01T03:31:54.711235Z",
     "shell.execute_reply": "2021-09-01T03:31:54.711641Z",
     "shell.execute_reply.started": "2021-09-01T00:31:10.777780Z"
    },
    "papermill": {
     "duration": 0.179717,
     "end_time": "2021-09-01T03:31:54.711761",
     "exception": false,
     "start_time": "2021-09-01T03:31:54.532044",
     "status": "completed"
    },
    "tags": []
   },
   "outputs": [],
   "source": [
    "num_cols.append('model_d')"
   ]
  },
  {
   "cell_type": "code",
   "execution_count": 75,
   "metadata": {
    "execution": {
     "iopub.execute_input": "2021-09-01T03:31:55.064555Z",
     "iopub.status.busy": "2021-09-01T03:31:55.064010Z",
     "iopub.status.idle": "2021-09-01T03:31:55.067795Z",
     "shell.execute_reply": "2021-09-01T03:31:55.067261Z",
     "shell.execute_reply.started": "2021-09-01T00:31:10.788031Z"
    },
    "papermill": {
     "duration": 0.182966,
     "end_time": "2021-09-01T03:31:55.067902",
     "exception": false,
     "start_time": "2021-09-01T03:31:54.884936",
     "status": "completed"
    },
    "tags": []
   },
   "outputs": [],
   "source": [
    "num_cols.append('production_d')"
   ]
  },
  {
   "cell_type": "code",
   "execution_count": 76,
   "metadata": {
    "execution": {
     "iopub.execute_input": "2021-09-01T03:31:55.423054Z",
     "iopub.status.busy": "2021-09-01T03:31:55.422448Z",
     "iopub.status.idle": "2021-09-01T03:31:55.437941Z",
     "shell.execute_reply": "2021-09-01T03:31:55.438338Z",
     "shell.execute_reply.started": "2021-09-01T00:31:10.798877Z"
    },
    "papermill": {
     "duration": 0.192439,
     "end_time": "2021-09-01T03:31:55.438475",
     "exception": false,
     "start_time": "2021-09-01T03:31:55.246036",
     "status": "completed"
    },
    "tags": []
   },
   "outputs": [
    {
     "data": {
      "text/plain": [
       "(34686, 24)"
      ]
     },
     "execution_count": 76,
     "metadata": {},
     "output_type": "execute_result"
    }
   ],
   "source": [
    "data[data['sample']==0].shape"
   ]
  },
  {
   "cell_type": "markdown",
   "metadata": {
    "execution": {
     "iopub.execute_input": "2021-06-28T17:12:40.741809Z",
     "iopub.status.busy": "2021-06-28T17:12:40.741258Z",
     "iopub.status.idle": "2021-06-28T17:12:40.87883Z",
     "shell.execute_reply": "2021-06-28T17:12:40.877352Z",
     "shell.execute_reply.started": "2021-06-28T17:12:40.741753Z"
    },
    "papermill": {
     "duration": 0.173315,
     "end_time": "2021-09-01T03:31:55.786068",
     "exception": false,
     "start_time": "2021-09-01T03:31:55.612753",
     "status": "completed"
    },
    "tags": []
   },
   "source": [
    "# **Gear**"
   ]
  },
  {
   "cell_type": "code",
   "execution_count": 77,
   "metadata": {
    "execution": {
     "iopub.execute_input": "2021-09-01T03:31:56.140667Z",
     "iopub.status.busy": "2021-09-01T03:31:56.139761Z",
     "iopub.status.idle": "2021-09-01T03:31:56.158451Z",
     "shell.execute_reply": "2021-09-01T03:31:56.158967Z",
     "shell.execute_reply.started": "2021-09-01T00:31:10.823384Z"
    },
    "papermill": {
     "duration": 0.198295,
     "end_time": "2021-09-01T03:31:56.159112",
     "exception": false,
     "start_time": "2021-09-01T03:31:55.960817",
     "status": "completed"
    },
    "tags": []
   },
   "outputs": [],
   "source": [
    "data3 = data.copy() # Зафиксируем датасет перед изменениями\n",
    "# data = data3.copy()"
   ]
  },
  {
   "cell_type": "code",
   "execution_count": 78,
   "metadata": {
    "execution": {
     "iopub.execute_input": "2021-09-01T03:31:56.686152Z",
     "iopub.status.busy": "2021-09-01T03:31:56.685308Z",
     "iopub.status.idle": "2021-09-01T03:31:56.704558Z",
     "shell.execute_reply": "2021-09-01T03:31:56.705020Z",
     "shell.execute_reply.started": "2021-09-01T00:31:10.869011Z"
    },
    "papermill": {
     "duration": 0.282406,
     "end_time": "2021-09-01T03:31:56.705153",
     "exception": false,
     "start_time": "2021-09-01T03:31:56.422747",
     "status": "completed"
    },
    "tags": []
   },
   "outputs": [
    {
     "data": {
      "text/plain": [
       "array(['1.2 AMT (105 л.с.)', '1.6 MT (110 л.с.)',\n",
       "       'DSG 1.8 AMT (152 л.с.)', ..., '2.3 AT (140 л.с.)',\n",
       "       '2.9d AT (132 л.с.) 4WD', '2.7d AT (165 л.с.) 4WD'], dtype=object)"
      ]
     },
     "execution_count": 78,
     "metadata": {},
     "output_type": "execute_result"
    }
   ],
   "source": [
    "data['gear'].unique()"
   ]
  },
  {
   "cell_type": "code",
   "execution_count": 79,
   "metadata": {
    "execution": {
     "iopub.execute_input": "2021-09-01T03:31:57.086431Z",
     "iopub.status.busy": "2021-09-01T03:31:57.085897Z",
     "iopub.status.idle": "2021-09-01T03:31:57.320323Z",
     "shell.execute_reply": "2021-09-01T03:31:57.319888Z",
     "shell.execute_reply.started": "2021-09-01T00:31:10.895046Z"
    },
    "papermill": {
     "duration": 0.440781,
     "end_time": "2021-09-01T03:31:57.320425",
     "exception": false,
     "start_time": "2021-09-01T03:31:56.879644",
     "status": "completed"
    },
    "tags": []
   },
   "outputs": [],
   "source": [
    "#из признака выберем только тип трансмиссии, т. к. остальные данные у нас есть\n",
    "data['gear'] = data['gear'].astype(str)\n",
    "idx = data.columns.get_loc('color') \n",
    "data.insert(loc=idx+1, column='transmis', value= data['gear'].str.extract('([A][T]|[M][T]|[A][M][T]|[C][V][T])',\n",
    "                                                expand=False).str.strip())"
   ]
  },
  {
   "cell_type": "code",
   "execution_count": 80,
   "metadata": {
    "execution": {
     "iopub.execute_input": "2021-09-01T03:31:57.704871Z",
     "iopub.status.busy": "2021-09-01T03:31:57.675101Z",
     "iopub.status.idle": "2021-09-01T03:31:57.901201Z",
     "shell.execute_reply": "2021-09-01T03:31:57.900662Z",
     "shell.execute_reply.started": "2021-09-01T00:31:11.336971Z"
    },
    "papermill": {
     "duration": 0.408531,
     "end_time": "2021-09-01T03:31:57.901299",
     "exception": false,
     "start_time": "2021-09-01T03:31:57.492768",
     "status": "completed"
    },
    "tags": []
   },
   "outputs": [
    {
     "data": {
      "text/plain": [
       "<matplotlib.axes._subplots.AxesSubplot at 0x7f09acee6f10>"
      ]
     },
     "execution_count": 80,
     "metadata": {},
     "output_type": "execute_result"
    },
    {
     "data": {
      "image/png": "[encoded data removed]",
      "text/plain": [
       "<Figure size 576x396 with 1 Axes>"
      ]
     },
     "metadata": {},
     "output_type": "display_data"
    }
   ],
   "source": [
    "sns.countplot(x = data['transmis'], data = data)"
   ]
  },
  {
   "cell_type": "markdown",
   "metadata": {
    "papermill": {
     "duration": 0.175204,
     "end_time": "2021-09-01T03:31:58.251645",
     "exception": false,
     "start_time": "2021-09-01T03:31:58.076441",
     "status": "completed"
    },
    "tags": []
   },
   "source": [
    "Очевидно, что наиболее популряной коробкой является AT"
   ]
  },
  {
   "cell_type": "code",
   "execution_count": 81,
   "metadata": {
    "execution": {
     "iopub.execute_input": "2021-09-01T03:31:58.625627Z",
     "iopub.status.busy": "2021-09-01T03:31:58.624808Z",
     "iopub.status.idle": "2021-09-01T03:31:58.632816Z",
     "shell.execute_reply": "2021-09-01T03:31:58.632305Z",
     "shell.execute_reply.started": "2021-09-01T00:31:11.906823Z"
    },
    "papermill": {
     "duration": 0.204763,
     "end_time": "2021-09-01T03:31:58.632915",
     "exception": false,
     "start_time": "2021-09-01T03:31:58.428152",
     "status": "completed"
    },
    "tags": []
   },
   "outputs": [
    {
     "data": {
      "text/plain": [
       "0"
      ]
     },
     "execution_count": 81,
     "metadata": {},
     "output_type": "execute_result"
    }
   ],
   "source": [
    "data['transmis'].isnull().sum()"
   ]
  },
  {
   "cell_type": "code",
   "execution_count": 82,
   "metadata": {
    "execution": {
     "iopub.execute_input": "2021-09-01T03:31:59.000539Z",
     "iopub.status.busy": "2021-09-01T03:31:58.999763Z",
     "iopub.status.idle": "2021-09-01T03:31:59.010495Z",
     "shell.execute_reply": "2021-09-01T03:31:59.009892Z",
     "shell.execute_reply.started": "2021-09-01T00:31:11.933555Z"
    },
    "papermill": {
     "duration": 0.202438,
     "end_time": "2021-09-01T03:31:59.010632",
     "exception": false,
     "start_time": "2021-09-01T03:31:58.808194",
     "status": "completed"
    },
    "tags": []
   },
   "outputs": [],
   "source": [
    "data['transmis']=data['transmis'].fillna('AT')"
   ]
  },
  {
   "cell_type": "code",
   "execution_count": 83,
   "metadata": {
    "execution": {
     "iopub.execute_input": "2021-09-01T03:31:59.547683Z",
     "iopub.status.busy": "2021-09-01T03:31:59.546968Z",
     "iopub.status.idle": "2021-09-01T03:31:59.549775Z",
     "shell.execute_reply": "2021-09-01T03:31:59.550337Z",
     "shell.execute_reply.started": "2021-09-01T00:31:11.964061Z"
    },
    "papermill": {
     "duration": 0.272836,
     "end_time": "2021-09-01T03:31:59.550494",
     "exception": false,
     "start_time": "2021-09-01T03:31:59.277658",
     "status": "completed"
    },
    "tags": []
   },
   "outputs": [],
   "source": [
    "cat_cols.append('transmis')"
   ]
  },
  {
   "cell_type": "code",
   "execution_count": 84,
   "metadata": {
    "execution": {
     "iopub.execute_input": "2021-09-01T03:32:00.087671Z",
     "iopub.status.busy": "2021-09-01T03:32:00.086948Z",
     "iopub.status.idle": "2021-09-01T03:32:00.166119Z",
     "shell.execute_reply": "2021-09-01T03:32:00.165488Z",
     "shell.execute_reply.started": "2021-09-01T00:31:11.970311Z"
    },
    "papermill": {
     "duration": 0.351416,
     "end_time": "2021-09-01T03:32:00.166246",
     "exception": false,
     "start_time": "2021-09-01T03:31:59.814830",
     "status": "completed"
    },
    "tags": []
   },
   "outputs": [],
   "source": [
    "data = data.drop('gear', 1)"
   ]
  },
  {
   "cell_type": "markdown",
   "metadata": {
    "papermill": {
     "duration": 0.264456,
     "end_time": "2021-09-01T03:32:00.714161",
     "exception": false,
     "start_time": "2021-09-01T03:32:00.449705",
     "status": "completed"
    },
    "tags": []
   },
   "source": [
    "# **number_of_doors**"
   ]
  },
  {
   "cell_type": "code",
   "execution_count": 85,
   "metadata": {
    "execution": {
     "iopub.execute_input": "2021-09-01T03:32:01.252140Z",
     "iopub.status.busy": "2021-09-01T03:32:01.251329Z",
     "iopub.status.idle": "2021-09-01T03:32:01.266484Z",
     "shell.execute_reply": "2021-09-01T03:32:01.266895Z",
     "shell.execute_reply.started": "2021-09-01T00:31:12.098591Z"
    },
    "papermill": {
     "duration": 0.287692,
     "end_time": "2021-09-01T03:32:01.267034",
     "exception": false,
     "start_time": "2021-09-01T03:32:00.979342",
     "status": "completed"
    },
    "tags": []
   },
   "outputs": [],
   "source": [
    "data4 = data.copy() # Зафиксируем датасет перед изменениями"
   ]
  },
  {
   "cell_type": "code",
   "execution_count": 86,
   "metadata": {
    "execution": {
     "iopub.execute_input": "2021-09-01T03:32:01.620901Z",
     "iopub.status.busy": "2021-09-01T03:32:01.620200Z",
     "iopub.status.idle": "2021-09-01T03:32:01.626529Z",
     "shell.execute_reply": "2021-09-01T03:32:01.626047Z",
     "shell.execute_reply.started": "2021-09-01T00:31:12.130869Z"
    },
    "papermill": {
     "duration": 0.184679,
     "end_time": "2021-09-01T03:32:01.626648",
     "exception": false,
     "start_time": "2021-09-01T03:32:01.441969",
     "status": "completed"
    },
    "tags": []
   },
   "outputs": [
    {
     "data": {
      "text/plain": [
       "array([5., 4., 2., 3., 0.])"
      ]
     },
     "execution_count": 86,
     "metadata": {},
     "output_type": "execute_result"
    }
   ],
   "source": [
    "data['number_of_doors'].unique()"
   ]
  },
  {
   "cell_type": "code",
   "execution_count": 87,
   "metadata": {
    "execution": {
     "iopub.execute_input": "2021-09-01T03:32:01.986541Z",
     "iopub.status.busy": "2021-09-01T03:32:01.986023Z",
     "iopub.status.idle": "2021-09-01T03:32:01.989975Z",
     "shell.execute_reply": "2021-09-01T03:32:01.990367Z",
     "shell.execute_reply.started": "2021-09-01T00:31:12.140424Z"
    },
    "papermill": {
     "duration": 0.186415,
     "end_time": "2021-09-01T03:32:01.990503",
     "exception": false,
     "start_time": "2021-09-01T03:32:01.804088",
     "status": "completed"
    },
    "tags": []
   },
   "outputs": [
    {
     "data": {
      "text/plain": [
       "4.0"
      ]
     },
     "execution_count": 87,
     "metadata": {},
     "output_type": "execute_result"
    }
   ],
   "source": [
    "mode = round(data['number_of_doors'].mean(),0)\n",
    "mode"
   ]
  },
  {
   "cell_type": "code",
   "execution_count": 88,
   "metadata": {
    "execution": {
     "iopub.execute_input": "2021-09-01T03:32:02.362392Z",
     "iopub.status.busy": "2021-09-01T03:32:02.361857Z",
     "iopub.status.idle": "2021-09-01T03:32:02.367139Z",
     "shell.execute_reply": "2021-09-01T03:32:02.367526Z",
     "shell.execute_reply.started": "2021-09-01T00:31:12.150028Z"
    },
    "papermill": {
     "duration": 0.191481,
     "end_time": "2021-09-01T03:32:02.367678",
     "exception": false,
     "start_time": "2021-09-01T03:32:02.176197",
     "status": "completed"
    },
    "tags": []
   },
   "outputs": [],
   "source": [
    "data['number_of_doors']=data['number_of_doors'].fillna(mode)"
   ]
  },
  {
   "cell_type": "code",
   "execution_count": 89,
   "metadata": {
    "execution": {
     "iopub.execute_input": "2021-09-01T03:32:02.726282Z",
     "iopub.status.busy": "2021-09-01T03:32:02.725779Z",
     "iopub.status.idle": "2021-09-01T03:32:03.274561Z",
     "shell.execute_reply": "2021-09-01T03:32:03.275033Z",
     "shell.execute_reply.started": "2021-09-01T00:31:12.160928Z"
    },
    "papermill": {
     "duration": 0.730717,
     "end_time": "2021-09-01T03:32:03.275171",
     "exception": false,
     "start_time": "2021-09-01T03:32:02.544454",
     "status": "completed"
    },
    "tags": []
   },
   "outputs": [
    {
     "data": {
      "text/plain": [
       "<matplotlib.axes._subplots.AxesSubplot at 0x7f09aceb8450>"
      ]
     },
     "execution_count": 89,
     "metadata": {},
     "output_type": "execute_result"
    },
    {
     "data": {
      "image/png": "[encoded data removed]",
      "text/plain": [
       "<Figure size 576x396 with 1 Axes>"
      ]
     },
     "metadata": {},
     "output_type": "display_data"
    }
   ],
   "source": [
    "sns.countplot(x = data['number_of_doors'], data = data)"
   ]
  },
  {
   "cell_type": "markdown",
   "metadata": {
    "papermill": {
     "duration": 0.17766,
     "end_time": "2021-09-01T03:32:03.630528",
     "exception": false,
     "start_time": "2021-09-01T03:32:03.452868",
     "status": "completed"
    },
    "tags": []
   },
   "source": [
    "Наибольшее количество автомобилей имеет 5 дверей"
   ]
  },
  {
   "cell_type": "code",
   "execution_count": 90,
   "metadata": {
    "execution": {
     "iopub.execute_input": "2021-09-01T03:32:03.989617Z",
     "iopub.status.busy": "2021-09-01T03:32:03.989044Z",
     "iopub.status.idle": "2021-09-01T03:32:03.994703Z",
     "shell.execute_reply": "2021-09-01T03:32:03.995112Z",
     "shell.execute_reply.started": "2021-09-01T00:31:12.540545Z"
    },
    "papermill": {
     "duration": 0.185422,
     "end_time": "2021-09-01T03:32:03.995239",
     "exception": false,
     "start_time": "2021-09-01T03:32:03.809817",
     "status": "completed"
    },
    "tags": []
   },
   "outputs": [],
   "source": [
    "num_cols.append('number_of_doors')"
   ]
  },
  {
   "cell_type": "code",
   "execution_count": 91,
   "metadata": {
    "execution": {
     "iopub.execute_input": "2021-09-01T03:32:04.398363Z",
     "iopub.status.busy": "2021-09-01T03:32:04.397861Z",
     "iopub.status.idle": "2021-09-01T03:32:04.412424Z",
     "shell.execute_reply": "2021-09-01T03:32:04.412833Z",
     "shell.execute_reply.started": "2021-09-01T00:31:12.545921Z"
    },
    "papermill": {
     "duration": 0.196939,
     "end_time": "2021-09-01T03:32:04.412972",
     "exception": false,
     "start_time": "2021-09-01T03:32:04.216033",
     "status": "completed"
    },
    "tags": []
   },
   "outputs": [
    {
     "data": {
      "text/plain": [
       "(34686, 24)"
      ]
     },
     "execution_count": 91,
     "metadata": {},
     "output_type": "execute_result"
    }
   ],
   "source": [
    "data[data['sample']==0].shape"
   ]
  },
  {
   "cell_type": "markdown",
   "metadata": {
    "papermill": {
     "duration": 0.177838,
     "end_time": "2021-09-01T03:32:04.767955",
     "exception": false,
     "start_time": "2021-09-01T03:32:04.590117",
     "status": "completed"
    },
    "tags": []
   },
   "source": [
    "# **vehicle_configuration**"
   ]
  },
  {
   "cell_type": "code",
   "execution_count": 92,
   "metadata": {
    "execution": {
     "iopub.execute_input": "2021-09-01T03:32:05.130367Z",
     "iopub.status.busy": "2021-09-01T03:32:05.129850Z",
     "iopub.status.idle": "2021-09-01T03:32:05.146587Z",
     "shell.execute_reply": "2021-09-01T03:32:05.146117Z",
     "shell.execute_reply.started": "2021-09-01T00:31:12.568185Z"
    },
    "papermill": {
     "duration": 0.200171,
     "end_time": "2021-09-01T03:32:05.146711",
     "exception": false,
     "start_time": "2021-09-01T03:32:04.946540",
     "status": "completed"
    },
    "tags": []
   },
   "outputs": [],
   "source": [
    "data5 = data.copy() # Зафиксируем датасет перед изменениями"
   ]
  },
  {
   "cell_type": "code",
   "execution_count": 93,
   "metadata": {
    "execution": {
     "iopub.execute_input": "2021-09-01T03:32:05.569981Z",
     "iopub.status.busy": "2021-09-01T03:32:05.569307Z",
     "iopub.status.idle": "2021-09-01T03:32:05.591298Z",
     "shell.execute_reply": "2021-09-01T03:32:05.591807Z",
     "shell.execute_reply.started": "2021-09-01T00:31:12.607379Z"
    },
    "papermill": {
     "duration": 0.248416,
     "end_time": "2021-09-01T03:32:05.591923",
     "exception": false,
     "start_time": "2021-09-01T03:32:05.343507",
     "status": "completed"
    },
    "tags": []
   },
   "outputs": [
    {
     "data": {
      "text/plain": [
       "SEDAN MECHANICAL 1.6               6499\n",
       "ALLROAD_5_DOORS AUTOMATIC 2.0      5849\n",
       "ALLROAD_5_DOORS AUTOMATIC 3.0      5467\n",
       "SEDAN AUTOMATIC 1.6                5216\n",
       "SEDAN AUTOMATIC 2.0                5173\n",
       "                                   ... \n",
       "HATCHBACK_3_DOORS MECHANICAL GT       1\n",
       "WAGON_5_DOORS ROBOT 4.0               1\n",
       "MINIVAN AUTOMATIC 7.3d                1\n",
       "PICKUP_TWO MECHANICAL G5              1\n",
       "SEDAN MECHANICAL 1.0                  1\n",
       "Name: vehicle_configuration, Length: 2088, dtype: int64"
      ]
     },
     "execution_count": 93,
     "metadata": {},
     "output_type": "execute_result"
    }
   ],
   "source": [
    "data['vehicle_configuration'].value_counts()"
   ]
  },
  {
   "cell_type": "markdown",
   "metadata": {
    "papermill": {
     "duration": 0.182498,
     "end_time": "2021-09-01T03:32:05.953700",
     "exception": false,
     "start_time": "2021-09-01T03:32:05.771202",
     "status": "completed"
    },
    "tags": []
   },
   "source": [
    "Получим данные о типе коробки передач"
   ]
  },
  {
   "cell_type": "code",
   "execution_count": 94,
   "metadata": {
    "execution": {
     "iopub.execute_input": "2021-09-01T03:32:06.324633Z",
     "iopub.status.busy": "2021-09-01T03:32:06.323909Z",
     "iopub.status.idle": "2021-09-01T03:32:06.585856Z",
     "shell.execute_reply": "2021-09-01T03:32:06.585391Z",
     "shell.execute_reply.started": "2021-09-01T00:31:12.659919Z"
    },
    "papermill": {
     "duration": 0.446111,
     "end_time": "2021-09-01T03:32:06.585960",
     "exception": false,
     "start_time": "2021-09-01T03:32:06.139849",
     "status": "completed"
    },
    "tags": []
   },
   "outputs": [],
   "source": [
    "data['vehicle_configuration'] = data['vehicle_configuration'].astype(\n",
    "                str).apply(lambda x: x if len(x) == 1 else x.split())"
   ]
  },
  {
   "cell_type": "code",
   "execution_count": 95,
   "metadata": {
    "execution": {
     "iopub.execute_input": "2021-09-01T03:32:06.959418Z",
     "iopub.status.busy": "2021-09-01T03:32:06.952294Z",
     "iopub.status.idle": "2021-09-01T03:32:07.078441Z",
     "shell.execute_reply": "2021-09-01T03:32:07.078008Z",
     "shell.execute_reply.started": "2021-09-01T00:31:13.068962Z"
    },
    "papermill": {
     "duration": 0.314332,
     "end_time": "2021-09-01T03:32:07.078542",
     "exception": false,
     "start_time": "2021-09-01T03:32:06.764210",
     "status": "completed"
    },
    "tags": []
   },
   "outputs": [],
   "source": [
    "data['vehicle_configuration'] = data['vehicle_configuration'].apply(\n",
    "    lambda x: x[0].lower() if len(x) == 1 else x[1].lower())"
   ]
  },
  {
   "cell_type": "code",
   "execution_count": 96,
   "metadata": {
    "execution": {
     "iopub.execute_input": "2021-09-01T03:32:07.452153Z",
     "iopub.status.busy": "2021-09-01T03:32:07.451263Z",
     "iopub.status.idle": "2021-09-01T03:32:07.674768Z",
     "shell.execute_reply": "2021-09-01T03:32:07.675310Z",
     "shell.execute_reply.started": "2021-09-01T00:31:13.178718Z"
    },
    "papermill": {
     "duration": 0.41048,
     "end_time": "2021-09-01T03:32:07.675458",
     "exception": false,
     "start_time": "2021-09-01T03:32:07.264978",
     "status": "completed"
    },
    "tags": []
   },
   "outputs": [
    {
     "data": {
      "text/plain": [
       "<matplotlib.axes._subplots.AxesSubplot at 0x7f09d1f84a10>"
      ]
     },
     "execution_count": 96,
     "metadata": {},
     "output_type": "execute_result"
    },
    {
     "data": {
      "image/png": "[encoded data removed]",
      "text/plain": [
       "<Figure size 576x396 with 1 Axes>"
      ]
     },
     "metadata": {},
     "output_type": "display_data"
    }
   ],
   "source": [
    "data['vehicle_configuration'].value_counts().plot.barh()"
   ]
  },
  {
   "cell_type": "markdown",
   "metadata": {
    "papermill": {
     "duration": 0.268521,
     "end_time": "2021-09-01T03:32:08.212538",
     "exception": false,
     "start_time": "2021-09-01T03:32:07.944017",
     "status": "completed"
    },
    "tags": []
   },
   "source": [
    "Больше всего машин с автоматической коробкой передач"
   ]
  },
  {
   "cell_type": "code",
   "execution_count": 97,
   "metadata": {
    "execution": {
     "iopub.execute_input": "2021-09-01T03:32:08.753075Z",
     "iopub.status.busy": "2021-09-01T03:32:08.751767Z",
     "iopub.status.idle": "2021-09-01T03:32:08.757591Z",
     "shell.execute_reply": "2021-09-01T03:32:08.756805Z",
     "shell.execute_reply.started": "2021-09-01T00:31:13.486731Z"
    },
    "papermill": {
     "duration": 0.273659,
     "end_time": "2021-09-01T03:32:08.757735",
     "exception": false,
     "start_time": "2021-09-01T03:32:08.484076",
     "status": "completed"
    },
    "tags": []
   },
   "outputs": [],
   "source": [
    "cat_cols.append('vehicle_configuration')"
   ]
  },
  {
   "cell_type": "markdown",
   "metadata": {
    "papermill": {
     "duration": 0.178649,
     "end_time": "2021-09-01T03:32:09.116419",
     "exception": false,
     "start_time": "2021-09-01T03:32:08.937770",
     "status": "completed"
    },
    "tags": []
   },
   "source": [
    "# **engine_volume**"
   ]
  },
  {
   "cell_type": "code",
   "execution_count": 98,
   "metadata": {
    "execution": {
     "iopub.execute_input": "2021-09-01T03:32:09.483277Z",
     "iopub.status.busy": "2021-09-01T03:32:09.482753Z",
     "iopub.status.idle": "2021-09-01T03:32:09.502983Z",
     "shell.execute_reply": "2021-09-01T03:32:09.502458Z",
     "shell.execute_reply.started": "2021-09-01T00:31:13.492746Z"
    },
    "papermill": {
     "duration": 0.205794,
     "end_time": "2021-09-01T03:32:09.503073",
     "exception": false,
     "start_time": "2021-09-01T03:32:09.297279",
     "status": "completed"
    },
    "tags": []
   },
   "outputs": [],
   "source": [
    "data6 = data.copy() # Зафиксируем датасет перед изменениями\n",
    "# data = data6.copy()"
   ]
  },
  {
   "cell_type": "code",
   "execution_count": 99,
   "metadata": {
    "execution": {
     "iopub.execute_input": "2021-09-01T03:32:09.867144Z",
     "iopub.status.busy": "2021-09-01T03:32:09.861074Z",
     "iopub.status.idle": "2021-09-01T03:32:09.875224Z",
     "shell.execute_reply": "2021-09-01T03:32:09.874709Z",
     "shell.execute_reply.started": "2021-09-01T00:31:13.535371Z"
    },
    "papermill": {
     "duration": 0.199862,
     "end_time": "2021-09-01T03:32:09.875319",
     "exception": false,
     "start_time": "2021-09-01T03:32:09.675457",
     "status": "completed"
    },
    "tags": []
   },
   "outputs": [
    {
     "data": {
      "text/plain": [
       "1.6        16377\n",
       "2.0 LTR    15700\n",
       "2.0        11490\n",
       "1.6 LTR     9885\n",
       "3.0 LTR     7733\n",
       "1.8 LTR     5913\n",
       "1.4         5295\n",
       "1.8         5065\n",
       "2.5 LTR     4825\n",
       "2.4 LTR     3597\n",
       "1.4 LTR     3581\n",
       "3.5 LTR     3187\n",
       "2.4         3046\n",
       "2.5         2486\n",
       "1.5         2104\n",
       "2.0d        1983\n",
       "1.5 LTR     1435\n",
       "350         1339\n",
       "3.0d        1334\n",
       "200         1217\n",
       "2.5d        1215\n",
       "3.0         1156\n",
       "3.5         1093\n",
       "1.2 LTR      962\n",
       "2.3          877\n",
       "1.2          837\n",
       "1.3 LTR      800\n",
       "4.5 LTR      779\n",
       "4.4 LTR      776\n",
       "2.8 LTR      763\n",
       "1.7          703\n",
       "4.7 LTR      690\n",
       "4.0 LTR      681\n",
       "1.3          671\n",
       "5.5 LTR      650\n",
       "2.2d         632\n",
       "3.2 LTR      607\n",
       "2.1 LTR      572\n",
       "500          564\n",
       "300          537\n",
       "250          515\n",
       "320i         467\n",
       "3.7 LTR      451\n",
       "180          444\n",
       "30d          440\n",
       "2.2 LTR      429\n",
       "3.6          421\n",
       "2.7 LTR      411\n",
       "4.2 LTR      385\n",
       "ТагАЗ        379\n",
       "Name: engine_volume, dtype: int64"
      ]
     },
     "execution_count": 99,
     "metadata": {},
     "output_type": "execute_result"
    }
   ],
   "source": [
    "data['engine_volume'].value_counts(dropna=False).head(50)"
   ]
  },
  {
   "cell_type": "code",
   "execution_count": 100,
   "metadata": {
    "execution": {
     "iopub.execute_input": "2021-09-01T03:32:10.262704Z",
     "iopub.status.busy": "2021-09-01T03:32:10.261914Z",
     "iopub.status.idle": "2021-09-01T03:32:10.270829Z",
     "shell.execute_reply": "2021-09-01T03:32:10.269997Z",
     "shell.execute_reply.started": "2021-09-01T00:31:13.588029Z"
    },
    "papermill": {
     "duration": 0.217242,
     "end_time": "2021-09-01T03:32:10.270957",
     "exception": false,
     "start_time": "2021-09-01T03:32:10.053715",
     "status": "completed"
    },
    "tags": []
   },
   "outputs": [],
   "source": [
    "data['engine_volume'] = data['engine_volume'].astype(str)"
   ]
  },
  {
   "cell_type": "markdown",
   "metadata": {
    "papermill": {
     "duration": 0.177533,
     "end_time": "2021-09-01T03:32:10.630611",
     "exception": false,
     "start_time": "2021-09-01T03:32:10.453078",
     "status": "completed"
    },
    "tags": []
   },
   "source": [
    "Получим объем двигателя"
   ]
  },
  {
   "cell_type": "code",
   "execution_count": 101,
   "metadata": {
    "execution": {
     "iopub.execute_input": "2021-09-01T03:32:11.024167Z",
     "iopub.status.busy": "2021-09-01T03:32:11.002989Z",
     "iopub.status.idle": "2021-09-01T03:32:11.217862Z",
     "shell.execute_reply": "2021-09-01T03:32:11.217266Z",
     "shell.execute_reply.started": "2021-09-01T00:31:13.643874Z"
    },
    "papermill": {
     "duration": 0.408511,
     "end_time": "2021-09-01T03:32:11.217968",
     "exception": false,
     "start_time": "2021-09-01T03:32:10.809457",
     "status": "completed"
    },
    "tags": []
   },
   "outputs": [],
   "source": [
    "data['engine_volume'] = data['engine_volume'].str.extract('(\\d.\\d)',expand=False).str.strip()"
   ]
  },
  {
   "cell_type": "code",
   "execution_count": 102,
   "metadata": {
    "execution": {
     "iopub.execute_input": "2021-09-01T03:32:11.776593Z",
     "iopub.status.busy": "2021-09-01T03:32:11.775776Z",
     "iopub.status.idle": "2021-09-01T03:32:11.794310Z",
     "shell.execute_reply": "2021-09-01T03:32:11.793750Z",
     "shell.execute_reply.started": "2021-09-01T00:31:14.006028Z"
    },
    "papermill": {
     "duration": 0.326686,
     "end_time": "2021-09-01T03:32:11.794433",
     "exception": false,
     "start_time": "2021-09-01T03:32:11.467747",
     "status": "completed"
    },
    "tags": []
   },
   "outputs": [],
   "source": [
    "data['engine_volume']=data['engine_volume'].astype(float)"
   ]
  },
  {
   "cell_type": "code",
   "execution_count": 103,
   "metadata": {
    "execution": {
     "iopub.execute_input": "2021-09-01T03:32:12.352678Z",
     "iopub.status.busy": "2021-09-01T03:32:12.347592Z",
     "iopub.status.idle": "2021-09-01T03:32:12.476955Z",
     "shell.execute_reply": "2021-09-01T03:32:12.476484Z",
     "shell.execute_reply.started": "2021-09-01T00:31:14.059046Z"
    },
    "papermill": {
     "duration": 0.408535,
     "end_time": "2021-09-01T03:32:12.477062",
     "exception": false,
     "start_time": "2021-09-01T03:32:12.068527",
     "status": "completed"
    },
    "tags": []
   },
   "outputs": [],
   "source": [
    "data['engine_volume'] = data['engine_volume'].apply(lambda x: round(x/100,1) if (x>10) else round(x,1))"
   ]
  },
  {
   "cell_type": "code",
   "execution_count": 104,
   "metadata": {
    "execution": {
     "iopub.execute_input": "2021-09-01T03:32:12.843778Z",
     "iopub.status.busy": "2021-09-01T03:32:12.843239Z",
     "iopub.status.idle": "2021-09-01T03:32:12.846670Z",
     "shell.execute_reply": "2021-09-01T03:32:12.847103Z",
     "shell.execute_reply.started": "2021-09-01T00:31:14.243316Z"
    },
    "papermill": {
     "duration": 0.188998,
     "end_time": "2021-09-01T03:32:12.847232",
     "exception": false,
     "start_time": "2021-09-01T03:32:12.658234",
     "status": "completed"
    },
    "tags": []
   },
   "outputs": [
    {
     "data": {
      "text/plain": [
       "2.3"
      ]
     },
     "execution_count": 104,
     "metadata": {},
     "output_type": "execute_result"
    }
   ],
   "source": [
    "mean = round(data['engine_volume'].mean(),1)\n",
    "mean"
   ]
  },
  {
   "cell_type": "code",
   "execution_count": 105,
   "metadata": {
    "execution": {
     "iopub.execute_input": "2021-09-01T03:32:13.212832Z",
     "iopub.status.busy": "2021-09-01T03:32:13.211725Z",
     "iopub.status.idle": "2021-09-01T03:32:13.229112Z",
     "shell.execute_reply": "2021-09-01T03:32:13.228578Z",
     "shell.execute_reply.started": "2021-09-01T00:31:14.251554Z"
    },
    "papermill": {
     "duration": 0.201995,
     "end_time": "2021-09-01T03:32:13.229226",
     "exception": false,
     "start_time": "2021-09-01T03:32:13.027231",
     "status": "completed"
    },
    "tags": []
   },
   "outputs": [
    {
     "data": {
      "text/plain": [
       "55"
      ]
     },
     "execution_count": 105,
     "metadata": {},
     "output_type": "execute_result"
    }
   ],
   "source": [
    "data[data['sample']==0]['engine_volume'].isnull().sum()"
   ]
  },
  {
   "cell_type": "code",
   "execution_count": 106,
   "metadata": {
    "execution": {
     "iopub.execute_input": "2021-09-01T03:32:13.598688Z",
     "iopub.status.busy": "2021-09-01T03:32:13.598111Z",
     "iopub.status.idle": "2021-09-01T03:32:13.603776Z",
     "shell.execute_reply": "2021-09-01T03:32:13.604170Z",
     "shell.execute_reply.started": "2021-09-01T00:31:14.275694Z"
    },
    "papermill": {
     "duration": 0.191154,
     "end_time": "2021-09-01T03:32:13.604325",
     "exception": false,
     "start_time": "2021-09-01T03:32:13.413171",
     "status": "completed"
    },
    "tags": []
   },
   "outputs": [],
   "source": [
    "data['engine_volume'].fillna(mean, inplace=True)"
   ]
  },
  {
   "cell_type": "code",
   "execution_count": 107,
   "metadata": {
    "execution": {
     "iopub.execute_input": "2021-09-01T03:32:13.972883Z",
     "iopub.status.busy": "2021-09-01T03:32:13.970859Z",
     "iopub.status.idle": "2021-09-01T03:32:14.732245Z",
     "shell.execute_reply": "2021-09-01T03:32:14.731544Z",
     "shell.execute_reply.started": "2021-09-01T00:31:14.282882Z"
    },
    "papermill": {
     "duration": 0.945154,
     "end_time": "2021-09-01T03:32:14.732367",
     "exception": false,
     "start_time": "2021-09-01T03:32:13.787213",
     "status": "completed"
    },
    "tags": []
   },
   "outputs": [
    {
     "data": {
      "text/plain": [
       "<matplotlib.axes._subplots.AxesSubplot at 0x7f09ac987a50>"
      ]
     },
     "execution_count": 107,
     "metadata": {},
     "output_type": "execute_result"
    },
    {
     "data": {
      "image/png": "[encoded data removed]",
      "text/plain": [
       "<Figure size 576x396 with 1 Axes>"
      ]
     },
     "metadata": {},
     "output_type": "display_data"
    }
   ],
   "source": [
    "data['engine_volume'].value_counts().plot.barh()"
   ]
  },
  {
   "cell_type": "code",
   "execution_count": 108,
   "metadata": {
    "execution": {
     "iopub.execute_input": "2021-09-01T03:32:15.284851Z",
     "iopub.status.busy": "2021-09-01T03:32:15.284153Z",
     "iopub.status.idle": "2021-09-01T03:32:15.286763Z",
     "shell.execute_reply": "2021-09-01T03:32:15.287275Z",
     "shell.execute_reply.started": "2021-09-01T00:31:15.049422Z"
    },
    "papermill": {
     "duration": 0.28222,
     "end_time": "2021-09-01T03:32:15.287402",
     "exception": false,
     "start_time": "2021-09-01T03:32:15.005182",
     "status": "completed"
    },
    "tags": []
   },
   "outputs": [],
   "source": [
    "num_cols.append('engine_volume')"
   ]
  },
  {
   "cell_type": "code",
   "execution_count": 109,
   "metadata": {
    "execution": {
     "iopub.execute_input": "2021-09-01T03:32:15.829507Z",
     "iopub.status.busy": "2021-09-01T03:32:15.828922Z",
     "iopub.status.idle": "2021-09-01T03:32:15.844276Z",
     "shell.execute_reply": "2021-09-01T03:32:15.843688Z",
     "shell.execute_reply.started": "2021-09-01T00:31:15.056629Z"
    },
    "papermill": {
     "duration": 0.291018,
     "end_time": "2021-09-01T03:32:15.844391",
     "exception": false,
     "start_time": "2021-09-01T03:32:15.553373",
     "status": "completed"
    },
    "tags": []
   },
   "outputs": [
    {
     "data": {
      "text/plain": [
       "(34686, 24)"
      ]
     },
     "execution_count": 109,
     "metadata": {},
     "output_type": "execute_result"
    }
   ],
   "source": [
    "data[data['sample']==0].shape"
   ]
  },
  {
   "cell_type": "markdown",
   "metadata": {
    "papermill": {
     "duration": 0.272733,
     "end_time": "2021-09-01T03:32:16.392349",
     "exception": false,
     "start_time": "2021-09-01T03:32:16.119616",
     "status": "completed"
    },
    "tags": []
   },
   "source": [
    "# **engine_power**"
   ]
  },
  {
   "cell_type": "code",
   "execution_count": 110,
   "metadata": {
    "execution": {
     "iopub.execute_input": "2021-09-01T03:32:16.941491Z",
     "iopub.status.busy": "2021-09-01T03:32:16.940954Z",
     "iopub.status.idle": "2021-09-01T03:32:16.960663Z",
     "shell.execute_reply": "2021-09-01T03:32:16.960093Z",
     "shell.execute_reply.started": "2021-09-01T00:31:15.079509Z"
    },
    "papermill": {
     "duration": 0.297823,
     "end_time": "2021-09-01T03:32:16.960765",
     "exception": false,
     "start_time": "2021-09-01T03:32:16.662942",
     "status": "completed"
    },
    "tags": []
   },
   "outputs": [],
   "source": [
    "data7 = data.copy() # Зафиксируем датасет перед изменениями"
   ]
  },
  {
   "cell_type": "code",
   "execution_count": 111,
   "metadata": {
    "execution": {
     "iopub.execute_input": "2021-09-01T03:32:17.375452Z",
     "iopub.status.busy": "2021-09-01T03:32:17.374710Z",
     "iopub.status.idle": "2021-09-01T03:32:17.380300Z",
     "shell.execute_reply": "2021-09-01T03:32:17.379844Z",
     "shell.execute_reply.started": "2021-09-01T00:31:15.115864Z"
    },
    "papermill": {
     "duration": 0.19524,
     "end_time": "2021-09-01T03:32:17.380407",
     "exception": false,
     "start_time": "2021-09-01T03:32:17.185167",
     "status": "completed"
    },
    "tags": []
   },
   "outputs": [
    {
     "data": {
      "text/plain": [
       "0         105 N12\n",
       "1         110 N12\n",
       "2         152 N12\n",
       "3         110 N12\n",
       "4         152 N12\n",
       "           ...   \n",
       "158299        163\n",
       "158300        163\n",
       "158301        149\n",
       "158302        149\n",
       "158303        149\n",
       "Name: engine_power, Length: 151851, dtype: object"
      ]
     },
     "execution_count": 111,
     "metadata": {},
     "output_type": "execute_result"
    }
   ],
   "source": [
    "data['engine_power']"
   ]
  },
  {
   "cell_type": "code",
   "execution_count": 112,
   "metadata": {
    "execution": {
     "iopub.execute_input": "2021-09-01T03:32:17.782950Z",
     "iopub.status.busy": "2021-09-01T03:32:17.748499Z",
     "iopub.status.idle": "2021-09-01T03:32:17.882392Z",
     "shell.execute_reply": "2021-09-01T03:32:17.881858Z",
     "shell.execute_reply.started": "2021-09-01T00:31:15.125329Z"
    },
    "papermill": {
     "duration": 0.320429,
     "end_time": "2021-09-01T03:32:17.882489",
     "exception": false,
     "start_time": "2021-09-01T03:32:17.562060",
     "status": "completed"
    },
    "tags": []
   },
   "outputs": [],
   "source": [
    "data['engine_power'] = data['engine_power'].astype(str).apply(lambda x: x.split()[0])\n",
    "data['engine_power'] = data['engine_power'].astype(float)"
   ]
  },
  {
   "cell_type": "code",
   "execution_count": 113,
   "metadata": {
    "execution": {
     "iopub.execute_input": "2021-09-01T03:32:18.250542Z",
     "iopub.status.busy": "2021-09-01T03:32:18.250038Z",
     "iopub.status.idle": "2021-09-01T03:32:18.260096Z",
     "shell.execute_reply": "2021-09-01T03:32:18.259543Z",
     "shell.execute_reply.started": "2021-09-01T00:31:15.299783Z"
    },
    "papermill": {
     "duration": 0.195754,
     "end_time": "2021-09-01T03:32:18.260209",
     "exception": false,
     "start_time": "2021-09-01T03:32:18.064455",
     "status": "completed"
    },
    "tags": []
   },
   "outputs": [
    {
     "data": {
      "text/plain": [
       "150.0    10317\n",
       "249.0     6909\n",
       "140.0     4704\n",
       "110.0     4255\n",
       "105.0     4097\n",
       "         ...  \n",
       "492.0        1\n",
       "700.0        1\n",
       "336.0        1\n",
       "489.0        1\n",
       "570.0        1\n",
       "Name: engine_power, Length: 409, dtype: int64"
      ]
     },
     "execution_count": 113,
     "metadata": {},
     "output_type": "execute_result"
    }
   ],
   "source": [
    "data['engine_power'].value_counts()"
   ]
  },
  {
   "cell_type": "code",
   "execution_count": 114,
   "metadata": {
    "execution": {
     "iopub.execute_input": "2021-09-01T03:32:18.806408Z",
     "iopub.status.busy": "2021-09-01T03:32:18.805739Z",
     "iopub.status.idle": "2021-09-01T03:32:18.818031Z",
     "shell.execute_reply": "2021-09-01T03:32:18.817546Z",
     "shell.execute_reply.started": "2021-09-01T00:31:15.313503Z"
    },
    "papermill": {
     "duration": 0.287313,
     "end_time": "2021-09-01T03:32:18.818139",
     "exception": false,
     "start_time": "2021-09-01T03:32:18.530826",
     "status": "completed"
    },
    "tags": []
   },
   "outputs": [
    {
     "data": {
      "text/plain": [
       "11.0     1\n",
       "17.0     1\n",
       "19.0     1\n",
       "20.0     2\n",
       "30.0     2\n",
       "        ..\n",
       "700.0    1\n",
       "702.0    1\n",
       "717.0    3\n",
       "761.0    1\n",
       "800.0    1\n",
       "Name: engine_power, Length: 409, dtype: int64"
      ]
     },
     "execution_count": 114,
     "metadata": {},
     "output_type": "execute_result"
    }
   ],
   "source": [
    "data['engine_power'].value_counts().sort_index()"
   ]
  },
  {
   "cell_type": "code",
   "execution_count": 115,
   "metadata": {
    "execution": {
     "iopub.execute_input": "2021-09-01T03:32:19.194505Z",
     "iopub.status.busy": "2021-09-01T03:32:19.192473Z",
     "iopub.status.idle": "2021-09-01T03:32:19.198932Z",
     "shell.execute_reply": "2021-09-01T03:32:19.198413Z",
     "shell.execute_reply.started": "2021-09-01T00:31:15.327518Z"
    },
    "papermill": {
     "duration": 0.198156,
     "end_time": "2021-09-01T03:32:19.199033",
     "exception": false,
     "start_time": "2021-09-01T03:32:19.000877",
     "status": "completed"
    },
    "tags": []
   },
   "outputs": [],
   "source": [
    "# Разобьём признак на категории\n",
    "def engine_power(x):\n",
    "    if x < 100: x = 1\n",
    "    elif 99 < x < 150: x = 2\n",
    "    elif 149 < x < 200: x = 3\n",
    "    elif 199 < x < 250: x = 4\n",
    "    elif 249 < x < 300: x = 5\n",
    "    elif 299 < x < 350: x = 6\n",
    "    elif 349 < x < 400: x = 7\n",
    "    elif 399 < x < 450: x = 8\n",
    "    elif 449 < x < 500: x = 9\n",
    "    elif 499 < x < 550: x = 10\n",
    "    elif 549 < x < 600: x = 11\n",
    "    else: x = 12\n",
    "    return x  "
   ]
  },
  {
   "cell_type": "code",
   "execution_count": 116,
   "metadata": {
    "execution": {
     "iopub.execute_input": "2021-09-01T03:32:19.575809Z",
     "iopub.status.busy": "2021-09-01T03:32:19.575087Z",
     "iopub.status.idle": "2021-09-01T03:32:19.772433Z",
     "shell.execute_reply": "2021-09-01T03:32:19.771999Z",
     "shell.execute_reply.started": "2021-09-01T00:31:15.339044Z"
    },
    "papermill": {
     "duration": 0.387075,
     "end_time": "2021-09-01T03:32:19.772536",
     "exception": false,
     "start_time": "2021-09-01T03:32:19.385461",
     "status": "completed"
    },
    "tags": []
   },
   "outputs": [],
   "source": [
    "data['engine_power'] = data['engine_power'].map(engine_power)"
   ]
  },
  {
   "cell_type": "code",
   "execution_count": 117,
   "metadata": {
    "execution": {
     "iopub.execute_input": "2021-09-01T03:32:20.157714Z",
     "iopub.status.busy": "2021-09-01T03:32:20.157160Z",
     "iopub.status.idle": "2021-09-01T03:32:20.410527Z",
     "shell.execute_reply": "2021-09-01T03:32:20.411017Z",
     "shell.execute_reply.started": "2021-09-01T00:31:15.538936Z"
    },
    "papermill": {
     "duration": 0.454609,
     "end_time": "2021-09-01T03:32:20.411171",
     "exception": false,
     "start_time": "2021-09-01T03:32:19.956562",
     "status": "completed"
    },
    "tags": []
   },
   "outputs": [
    {
     "data": {
      "text/plain": [
       "Text(0.5, 1.0, 'Мощность двигателя в л.с.')"
      ]
     },
     "execution_count": 117,
     "metadata": {},
     "output_type": "execute_result"
    },
    {
     "data": {
      "image/png": "[encoded data removed]",
      "text/plain": [
       "<Figure size 1152x576 with 1 Axes>"
      ]
     },
     "metadata": {},
     "output_type": "display_data"
    }
   ],
   "source": [
    "plt.figure(figsize=(16,8))\n",
    "sns.countplot(x = data['engine_power'], data = data) \n",
    "plt.title('Мощность двигателя в л.с.')"
   ]
  },
  {
   "cell_type": "code",
   "execution_count": 118,
   "metadata": {
    "execution": {
     "iopub.execute_input": "2021-09-01T03:32:20.780889Z",
     "iopub.status.busy": "2021-09-01T03:32:20.780380Z",
     "iopub.status.idle": "2021-09-01T03:32:20.784274Z",
     "shell.execute_reply": "2021-09-01T03:32:20.783795Z",
     "shell.execute_reply.started": "2021-09-01T00:31:15.901629Z"
    },
    "papermill": {
     "duration": 0.189186,
     "end_time": "2021-09-01T03:32:20.784362",
     "exception": false,
     "start_time": "2021-09-01T03:32:20.595176",
     "status": "completed"
    },
    "tags": []
   },
   "outputs": [
    {
     "data": {
      "text/plain": [
       "0"
      ]
     },
     "execution_count": 118,
     "metadata": {},
     "output_type": "execute_result"
    }
   ],
   "source": [
    "data['engine_power'].isnull().sum()"
   ]
  },
  {
   "cell_type": "code",
   "execution_count": 119,
   "metadata": {
    "execution": {
     "iopub.execute_input": "2021-09-01T03:32:21.159495Z",
     "iopub.status.busy": "2021-09-01T03:32:21.158931Z",
     "iopub.status.idle": "2021-09-01T03:32:21.160203Z",
     "shell.execute_reply": "2021-09-01T03:32:21.160576Z",
     "shell.execute_reply.started": "2021-09-01T00:31:15.910427Z"
    },
    "papermill": {
     "duration": 0.191016,
     "end_time": "2021-09-01T03:32:21.160734",
     "exception": false,
     "start_time": "2021-09-01T03:32:20.969718",
     "status": "completed"
    },
    "tags": []
   },
   "outputs": [],
   "source": [
    "num_cols.append('engine_power')"
   ]
  },
  {
   "cell_type": "code",
   "execution_count": 120,
   "metadata": {
    "execution": {
     "iopub.execute_input": "2021-09-01T03:32:21.538381Z",
     "iopub.status.busy": "2021-09-01T03:32:21.537588Z",
     "iopub.status.idle": "2021-09-01T03:32:21.557037Z",
     "shell.execute_reply": "2021-09-01T03:32:21.556509Z",
     "shell.execute_reply.started": "2021-09-01T00:31:15.924533Z"
    },
    "papermill": {
     "duration": 0.209046,
     "end_time": "2021-09-01T03:32:21.557136",
     "exception": false,
     "start_time": "2021-09-01T03:32:21.348090",
     "status": "completed"
    },
    "tags": []
   },
   "outputs": [
    {
     "data": {
      "text/plain": [
       "(34686, 24)"
      ]
     },
     "execution_count": 120,
     "metadata": {},
     "output_type": "execute_result"
    }
   ],
   "source": [
    "data[data['sample']==0].shape"
   ]
  },
  {
   "cell_type": "markdown",
   "metadata": {
    "papermill": {
     "duration": 0.183379,
     "end_time": "2021-09-01T03:32:21.925031",
     "exception": false,
     "start_time": "2021-09-01T03:32:21.741652",
     "status": "completed"
    },
    "tags": []
   },
   "source": [
    "# **mileage**"
   ]
  },
  {
   "cell_type": "code",
   "execution_count": 121,
   "metadata": {
    "execution": {
     "iopub.execute_input": "2021-09-01T03:32:22.310625Z",
     "iopub.status.busy": "2021-09-01T03:32:22.309752Z",
     "iopub.status.idle": "2021-09-01T03:32:22.332110Z",
     "shell.execute_reply": "2021-09-01T03:32:22.331591Z",
     "shell.execute_reply.started": "2021-09-01T00:31:15.956619Z"
    },
    "papermill": {
     "duration": 0.221816,
     "end_time": "2021-09-01T03:32:22.332209",
     "exception": false,
     "start_time": "2021-09-01T03:32:22.110393",
     "status": "completed"
    },
    "tags": []
   },
   "outputs": [],
   "source": [
    "data8 = data.copy() # Зафиксируем датасет перед изменениями\n",
    "# data = data8.copy()"
   ]
  },
  {
   "cell_type": "code",
   "execution_count": 122,
   "metadata": {
    "execution": {
     "iopub.execute_input": "2021-09-01T03:32:22.716146Z",
     "iopub.status.busy": "2021-09-01T03:32:22.715485Z",
     "iopub.status.idle": "2021-09-01T03:32:22.721105Z",
     "shell.execute_reply": "2021-09-01T03:32:22.720555Z",
     "shell.execute_reply.started": "2021-09-01T00:31:15.985182Z"
    },
    "papermill": {
     "duration": 0.195405,
     "end_time": "2021-09-01T03:32:22.721204",
     "exception": false,
     "start_time": "2021-09-01T03:32:22.525799",
     "status": "completed"
    },
    "tags": []
   },
   "outputs": [
    {
     "data": {
      "text/plain": [
       "0          74000\n",
       "1          60563\n",
       "2          88000\n",
       "3          95000\n",
       "4          58536\n",
       "           ...  \n",
       "158299    260000\n",
       "158300    300000\n",
       "158301    126000\n",
       "158302     84000\n",
       "158303    144000\n",
       "Name: mileage, Length: 151851, dtype: object"
      ]
     },
     "execution_count": 122,
     "metadata": {},
     "output_type": "execute_result"
    }
   ],
   "source": [
    "data['mileage']"
   ]
  },
  {
   "cell_type": "code",
   "execution_count": 123,
   "metadata": {
    "execution": {
     "iopub.execute_input": "2021-09-01T03:32:23.136516Z",
     "iopub.status.busy": "2021-09-01T03:32:23.101765Z",
     "iopub.status.idle": "2021-09-01T03:32:23.362124Z",
     "shell.execute_reply": "2021-09-01T03:32:23.361574Z",
     "shell.execute_reply.started": "2021-09-01T00:31:15.994948Z"
    },
    "papermill": {
     "duration": 0.454306,
     "end_time": "2021-09-01T03:32:23.362218",
     "exception": false,
     "start_time": "2021-09-01T03:32:22.907912",
     "status": "completed"
    },
    "tags": []
   },
   "outputs": [
    {
     "data": {
      "text/plain": [
       "0          74000\n",
       "1          60563\n",
       "2          88000\n",
       "3          95000\n",
       "4          58536\n",
       "           ...  \n",
       "158299    260000\n",
       "158300    300000\n",
       "158301    126000\n",
       "158302     84000\n",
       "158303    144000\n",
       "Name: mileage, Length: 151851, dtype: int64"
      ]
     },
     "execution_count": 123,
     "metadata": {},
     "output_type": "execute_result"
    }
   ],
   "source": [
    "data['mileage'] = data['mileage'].astype(str).apply(lambda x: x.replace('\\xa0',''))\n",
    "data['mileage'] = data['mileage'].astype(str).apply(lambda x: x.replace('км',''))\n",
    "data['mileage'] = data['mileage'].apply(lambda x: int(x.replace(' ','')))\n",
    "data['mileage']"
   ]
  },
  {
   "cell_type": "code",
   "execution_count": 124,
   "metadata": {
    "execution": {
     "iopub.execute_input": "2021-09-01T03:32:23.732746Z",
     "iopub.status.busy": "2021-09-01T03:32:23.732160Z",
     "iopub.status.idle": "2021-09-01T03:32:23.737213Z",
     "shell.execute_reply": "2021-09-01T03:32:23.736681Z",
     "shell.execute_reply.started": "2021-09-01T00:31:16.396935Z"
    },
    "papermill": {
     "duration": 0.192952,
     "end_time": "2021-09-01T03:32:23.737302",
     "exception": false,
     "start_time": "2021-09-01T03:32:23.544350",
     "status": "completed"
    },
    "tags": []
   },
   "outputs": [
    {
     "data": {
      "text/plain": [
       "0"
      ]
     },
     "execution_count": 124,
     "metadata": {},
     "output_type": "execute_result"
    }
   ],
   "source": [
    "data['mileage'].isna().sum()"
   ]
  },
  {
   "cell_type": "code",
   "execution_count": 125,
   "metadata": {
    "execution": {
     "iopub.execute_input": "2021-09-01T03:32:24.112388Z",
     "iopub.status.busy": "2021-09-01T03:32:24.111835Z",
     "iopub.status.idle": "2021-09-01T03:32:24.115657Z",
     "shell.execute_reply": "2021-09-01T03:32:24.116099Z",
     "shell.execute_reply.started": "2021-09-01T00:31:16.406118Z"
    },
    "papermill": {
     "duration": 0.194737,
     "end_time": "2021-09-01T03:32:24.116227",
     "exception": false,
     "start_time": "2021-09-01T03:32:23.921490",
     "status": "completed"
    },
    "tags": []
   },
   "outputs": [],
   "source": [
    "num_cols.append('mileage')"
   ]
  },
  {
   "cell_type": "markdown",
   "metadata": {
    "papermill": {
     "duration": 0.184835,
     "end_time": "2021-09-01T03:32:24.486735",
     "exception": false,
     "start_time": "2021-09-01T03:32:24.301900",
     "status": "completed"
    },
    "tags": []
   },
   "source": [
    "# **mileage_per_year**"
   ]
  },
  {
   "cell_type": "code",
   "execution_count": 126,
   "metadata": {
    "execution": {
     "iopub.execute_input": "2021-09-01T03:32:24.863918Z",
     "iopub.status.busy": "2021-09-01T03:32:24.861427Z",
     "iopub.status.idle": "2021-09-01T03:32:25.056580Z",
     "shell.execute_reply": "2021-09-01T03:32:25.056030Z",
     "shell.execute_reply.started": "2021-09-01T00:31:16.415165Z"
    },
    "papermill": {
     "duration": 0.386251,
     "end_time": "2021-09-01T03:32:25.056696",
     "exception": false,
     "start_time": "2021-09-01T03:32:24.670445",
     "status": "completed"
    },
    "tags": []
   },
   "outputs": [],
   "source": [
    "#Добавим новый признак - годовой пробег \n",
    "import math\n",
    "value= round(data['mileage'].astype(int)\n",
    "                                                       /(data['model_d'].apply(lambda x: x if x>0 else x+1)),-2)\n",
    "idx = data.columns.get_loc('licence') \n",
    "data.insert(loc=idx+1, column='mileage_per_year', value= value)\n",
    "data['mileage_per_year'] = data['mileage_per_year'].apply(lambda x: x if x != math.inf else 0 )"
   ]
  },
  {
   "cell_type": "code",
   "execution_count": 127,
   "metadata": {
    "execution": {
     "iopub.execute_input": "2021-09-01T03:32:25.441229Z",
     "iopub.status.busy": "2021-09-01T03:32:25.440692Z",
     "iopub.status.idle": "2021-09-01T03:32:29.198739Z",
     "shell.execute_reply": "2021-09-01T03:32:29.198249Z",
     "shell.execute_reply.started": "2021-09-01T00:31:16.603920Z"
    },
    "papermill": {
     "duration": 3.953917,
     "end_time": "2021-09-01T03:32:29.198847",
     "exception": false,
     "start_time": "2021-09-01T03:32:25.244930",
     "status": "completed"
    },
    "tags": []
   },
   "outputs": [
    {
     "data": {
      "image/png": "[encoded data removed]",
      "text/plain": [
       "<Figure size 1872x576 with 1 Axes>"
      ]
     },
     "metadata": {},
     "output_type": "display_data"
    }
   ],
   "source": [
    "plt.figure(figsize=(26,8))\n",
    "plt.title('Пробег в год')\n",
    "plt.xticks(rotation=90)\n",
    "\n",
    "plot_ = sns.countplot(x = data['mileage_per_year'], data = data) \n",
    "for ind, label in enumerate(plot_.get_xticklabels()):\n",
    "    if ind % 10 == 0:  # every 10th label is kept\n",
    "        label.set_visible(True)\n",
    "    else:\n",
    "        label.set_visible(False)"
   ]
  },
  {
   "cell_type": "code",
   "execution_count": 128,
   "metadata": {
    "execution": {
     "iopub.execute_input": "2021-09-01T03:32:29.579284Z",
     "iopub.status.busy": "2021-09-01T03:32:29.578757Z",
     "iopub.status.idle": "2021-09-01T03:32:29.581287Z",
     "shell.execute_reply": "2021-09-01T03:32:29.580806Z",
     "shell.execute_reply.started": "2021-09-01T00:31:21.670564Z"
    },
    "papermill": {
     "duration": 0.193938,
     "end_time": "2021-09-01T03:32:29.581386",
     "exception": false,
     "start_time": "2021-09-01T03:32:29.387448",
     "status": "completed"
    },
    "tags": []
   },
   "outputs": [],
   "source": [
    "num_cols.append('mileage_per_year')"
   ]
  },
  {
   "cell_type": "markdown",
   "metadata": {
    "papermill": {
     "duration": 0.1845,
     "end_time": "2021-09-01T03:32:29.950128",
     "exception": false,
     "start_time": "2021-09-01T03:32:29.765628",
     "status": "completed"
    },
    "tags": []
   },
   "source": [
    "# **type_of_drive**"
   ]
  },
  {
   "cell_type": "code",
   "execution_count": 129,
   "metadata": {
    "execution": {
     "iopub.execute_input": "2021-09-01T03:32:30.325631Z",
     "iopub.status.busy": "2021-09-01T03:32:30.325114Z",
     "iopub.status.idle": "2021-09-01T03:32:30.345527Z",
     "shell.execute_reply": "2021-09-01T03:32:30.345980Z",
     "shell.execute_reply.started": "2021-09-01T00:31:21.677466Z"
    },
    "papermill": {
     "duration": 0.209049,
     "end_time": "2021-09-01T03:32:30.346107",
     "exception": false,
     "start_time": "2021-09-01T03:32:30.137058",
     "status": "completed"
    },
    "tags": []
   },
   "outputs": [],
   "source": [
    "data9 = data.copy() # Зафиксируем датасет перед изменениями\n",
    "# data = data9.copy()"
   ]
  },
  {
   "cell_type": "code",
   "execution_count": 130,
   "metadata": {
    "execution": {
     "iopub.execute_input": "2021-09-01T03:32:30.727654Z",
     "iopub.status.busy": "2021-09-01T03:32:30.727098Z",
     "iopub.status.idle": "2021-09-01T03:32:30.743555Z",
     "shell.execute_reply": "2021-09-01T03:32:30.743091Z",
     "shell.execute_reply.started": "2021-09-01T00:31:21.728703Z"
    },
    "papermill": {
     "duration": 0.20698,
     "end_time": "2021-09-01T03:32:30.743670",
     "exception": false,
     "start_time": "2021-09-01T03:32:30.536690",
     "status": "completed"
    },
    "tags": []
   },
   "outputs": [
    {
     "data": {
      "text/plain": [
       "array(['передний', 'полный', 'задний'], dtype=object)"
      ]
     },
     "execution_count": 130,
     "metadata": {},
     "output_type": "execute_result"
    }
   ],
   "source": [
    "data['type_of_drive'].unique()"
   ]
  },
  {
   "cell_type": "code",
   "execution_count": 131,
   "metadata": {
    "execution": {
     "iopub.execute_input": "2021-09-01T03:32:31.140457Z",
     "iopub.status.busy": "2021-09-01T03:32:31.139785Z",
     "iopub.status.idle": "2021-09-01T03:32:31.144057Z",
     "shell.execute_reply": "2021-09-01T03:32:31.144576Z",
     "shell.execute_reply.started": "2021-09-01T00:31:21.749907Z"
    },
    "papermill": {
     "duration": 0.212923,
     "end_time": "2021-09-01T03:32:31.144730",
     "exception": false,
     "start_time": "2021-09-01T03:32:30.931807",
     "status": "completed"
    },
    "tags": []
   },
   "outputs": [
    {
     "data": {
      "text/plain": [
       "передний    75614\n",
       "полный      62556\n",
       "задний      13681\n",
       "Name: type_of_drive, dtype: int64"
      ]
     },
     "execution_count": 131,
     "metadata": {},
     "output_type": "execute_result"
    }
   ],
   "source": [
    "data['type_of_drive'].value_counts(dropna=False)"
   ]
  },
  {
   "cell_type": "code",
   "execution_count": 132,
   "metadata": {
    "execution": {
     "iopub.execute_input": "2021-09-01T03:32:31.711343Z",
     "iopub.status.busy": "2021-09-01T03:32:31.710692Z",
     "iopub.status.idle": "2021-09-01T03:32:31.731830Z",
     "shell.execute_reply": "2021-09-01T03:32:31.732333Z",
     "shell.execute_reply.started": "2021-09-01T00:31:21.799846Z"
    },
    "papermill": {
     "duration": 0.306029,
     "end_time": "2021-09-01T03:32:31.732529",
     "exception": false,
     "start_time": "2021-09-01T03:32:31.426500",
     "status": "completed"
    },
    "tags": []
   },
   "outputs": [],
   "source": [
    "# дадим латинские названия\n",
    "d = {\n",
    "    'передний': 'front', \n",
    "    'полный': 'full', \n",
    "    'задний': 'back'\n",
    "}\n",
    "data['type_of_drive'] = data['type_of_drive'].map(d)"
   ]
  },
  {
   "cell_type": "code",
   "execution_count": 133,
   "metadata": {
    "execution": {
     "iopub.execute_input": "2021-09-01T03:32:32.305009Z",
     "iopub.status.busy": "2021-09-01T03:32:32.304348Z",
     "iopub.status.idle": "2021-09-01T03:32:32.316342Z",
     "shell.execute_reply": "2021-09-01T03:32:32.316891Z",
     "shell.execute_reply.started": "2021-09-01T00:31:21.833330Z"
    },
    "papermill": {
     "duration": 0.302604,
     "end_time": "2021-09-01T03:32:32.317050",
     "exception": false,
     "start_time": "2021-09-01T03:32:32.014446",
     "status": "completed"
    },
    "tags": []
   },
   "outputs": [],
   "source": [
    "data['type_of_drive']=data['type_of_drive'].fillna('front')"
   ]
  },
  {
   "cell_type": "code",
   "execution_count": 134,
   "metadata": {
    "execution": {
     "iopub.execute_input": "2021-09-01T03:32:32.871971Z",
     "iopub.status.busy": "2021-09-01T03:32:32.871333Z",
     "iopub.status.idle": "2021-09-01T03:32:33.247833Z",
     "shell.execute_reply": "2021-09-01T03:32:33.248238Z",
     "shell.execute_reply.started": "2021-09-01T00:31:21.861584Z"
    },
    "papermill": {
     "duration": 0.651524,
     "end_time": "2021-09-01T03:32:33.248368",
     "exception": false,
     "start_time": "2021-09-01T03:32:32.596844",
     "status": "completed"
    },
    "tags": []
   },
   "outputs": [
    {
     "data": {
      "text/plain": [
       "Text(0.5, 1.0, 'Тип привода')"
      ]
     },
     "execution_count": 134,
     "metadata": {},
     "output_type": "execute_result"
    },
    {
     "data": {
      "image/png": "[encoded data removed]",
      "text/plain": [
       "<Figure size 576x576 with 1 Axes>"
      ]
     },
     "metadata": {},
     "output_type": "display_data"
    }
   ],
   "source": [
    "plt.figure(figsize=(8,8))\n",
    "sns.countplot(x = data['type_of_drive'], data = data)\n",
    "plt.title('Тип привода')"
   ]
  },
  {
   "cell_type": "markdown",
   "metadata": {
    "papermill": {
     "duration": 0.185016,
     "end_time": "2021-09-01T03:32:33.643039",
     "exception": false,
     "start_time": "2021-09-01T03:32:33.458023",
     "status": "completed"
    },
    "tags": []
   },
   "source": [
    "Наибольшее ко-во машин имеет передний привод"
   ]
  },
  {
   "cell_type": "code",
   "execution_count": 135,
   "metadata": {
    "execution": {
     "iopub.execute_input": "2021-09-01T03:32:34.020548Z",
     "iopub.status.busy": "2021-09-01T03:32:34.020021Z",
     "iopub.status.idle": "2021-09-01T03:32:34.024076Z",
     "shell.execute_reply": "2021-09-01T03:32:34.023648Z",
     "shell.execute_reply.started": "2021-09-01T00:31:22.212270Z"
    },
    "papermill": {
     "duration": 0.195314,
     "end_time": "2021-09-01T03:32:34.024165",
     "exception": false,
     "start_time": "2021-09-01T03:32:33.828851",
     "status": "completed"
    },
    "tags": []
   },
   "outputs": [],
   "source": [
    "cat_cols.append('type_of_drive')"
   ]
  },
  {
   "cell_type": "markdown",
   "metadata": {
    "papermill": {
     "duration": 0.188828,
     "end_time": "2021-09-01T03:32:34.402594",
     "exception": false,
     "start_time": "2021-09-01T03:32:34.213766",
     "status": "completed"
    },
    "tags": []
   },
   "source": [
    "# **steering_wheel**"
   ]
  },
  {
   "cell_type": "code",
   "execution_count": 136,
   "metadata": {
    "execution": {
     "iopub.execute_input": "2021-09-01T03:32:34.798248Z",
     "iopub.status.busy": "2021-09-01T03:32:34.795796Z",
     "iopub.status.idle": "2021-09-01T03:32:34.802591Z",
     "shell.execute_reply": "2021-09-01T03:32:34.803060Z",
     "shell.execute_reply.started": "2021-09-01T00:31:22.217819Z"
    },
    "papermill": {
     "duration": 0.210952,
     "end_time": "2021-09-01T03:32:34.803192",
     "exception": false,
     "start_time": "2021-09-01T03:32:34.592240",
     "status": "completed"
    },
    "tags": []
   },
   "outputs": [
    {
     "data": {
      "text/plain": [
       "LEFT      81142\n",
       "Левый     66250\n",
       "Правый     2676\n",
       "RIGHT      1783\n",
       "Name: steering_wheel, dtype: int64"
      ]
     },
     "execution_count": 136,
     "metadata": {},
     "output_type": "execute_result"
    }
   ],
   "source": [
    "data['steering_wheel'].value_counts(dropna=False)"
   ]
  },
  {
   "cell_type": "code",
   "execution_count": 137,
   "metadata": {
    "execution": {
     "iopub.execute_input": "2021-09-01T03:32:35.183645Z",
     "iopub.status.busy": "2021-09-01T03:32:35.183119Z",
     "iopub.status.idle": "2021-09-01T03:32:35.203508Z",
     "shell.execute_reply": "2021-09-01T03:32:35.203962Z",
     "shell.execute_reply.started": "2021-09-01T00:31:22.274145Z"
    },
    "papermill": {
     "duration": 0.211397,
     "end_time": "2021-09-01T03:32:35.204084",
     "exception": false,
     "start_time": "2021-09-01T03:32:34.992687",
     "status": "completed"
    },
    "tags": []
   },
   "outputs": [],
   "source": [
    "steering_wheel_dict = {'LEFT':'left', \n",
    "                       'Левый':'left',\n",
    "                       'RIGHT':'right', \n",
    "                       'Правый':'right',\n",
    "                        }\n",
    "data['steering_wheel'] = data['steering_wheel'].map(steering_wheel_dict)"
   ]
  },
  {
   "cell_type": "code",
   "execution_count": 138,
   "metadata": {
    "execution": {
     "iopub.execute_input": "2021-09-01T03:32:35.586215Z",
     "iopub.status.busy": "2021-09-01T03:32:35.585694Z",
     "iopub.status.idle": "2021-09-01T03:32:35.769777Z",
     "shell.execute_reply": "2021-09-01T03:32:35.770344Z",
     "shell.execute_reply.started": "2021-09-01T00:31:22.310045Z"
    },
    "papermill": {
     "duration": 0.377225,
     "end_time": "2021-09-01T03:32:35.770515",
     "exception": false,
     "start_time": "2021-09-01T03:32:35.393290",
     "status": "completed"
    },
    "tags": []
   },
   "outputs": [
    {
     "data": {
      "text/plain": [
       "<matplotlib.axes._subplots.AxesSubplot at 0x7f09aab8df90>"
      ]
     },
     "execution_count": 138,
     "metadata": {},
     "output_type": "execute_result"
    },
    {
     "data": {
      "image/png": "[encoded data removed]",
      "text/plain": [
       "<Figure size 576x576 with 1 Axes>"
      ]
     },
     "metadata": {},
     "output_type": "display_data"
    }
   ],
   "source": [
    "plt.figure(figsize=(8,8))\n",
    "sns.countplot(x = data['steering_wheel'], data = data) "
   ]
  },
  {
   "cell_type": "markdown",
   "metadata": {
    "papermill": {
     "duration": 0.2819,
     "end_time": "2021-09-01T03:32:36.335691",
     "exception": false,
     "start_time": "2021-09-01T03:32:36.053791",
     "status": "completed"
    },
    "tags": []
   },
   "source": [
    "Наибольшее количество машин леворульные"
   ]
  },
  {
   "cell_type": "code",
   "execution_count": 139,
   "metadata": {
    "execution": {
     "iopub.execute_input": "2021-09-01T03:32:36.920815Z",
     "iopub.status.busy": "2021-09-01T03:32:36.919901Z",
     "iopub.status.idle": "2021-09-01T03:32:36.932526Z",
     "shell.execute_reply": "2021-09-01T03:32:36.931992Z",
     "shell.execute_reply.started": "2021-09-01T00:31:22.718503Z"
    },
    "papermill": {
     "duration": 0.313685,
     "end_time": "2021-09-01T03:32:36.932669",
     "exception": false,
     "start_time": "2021-09-01T03:32:36.618984",
     "status": "completed"
    },
    "tags": []
   },
   "outputs": [
    {
     "data": {
      "text/plain": [
       "0"
      ]
     },
     "execution_count": 139,
     "metadata": {},
     "output_type": "execute_result"
    }
   ],
   "source": [
    "data['steering_wheel'].isnull().sum()"
   ]
  },
  {
   "cell_type": "code",
   "execution_count": 140,
   "metadata": {
    "execution": {
     "iopub.execute_input": "2021-09-01T03:32:37.527578Z",
     "iopub.status.busy": "2021-09-01T03:32:37.526810Z",
     "iopub.status.idle": "2021-09-01T03:32:37.531033Z",
     "shell.execute_reply": "2021-09-01T03:32:37.530571Z",
     "shell.execute_reply.started": "2021-09-01T00:31:22.746744Z"
    },
    "papermill": {
     "duration": 0.29787,
     "end_time": "2021-09-01T03:32:37.531138",
     "exception": false,
     "start_time": "2021-09-01T03:32:37.233268",
     "status": "completed"
    },
    "tags": []
   },
   "outputs": [],
   "source": [
    "bin_cols.append('steering_wheel')"
   ]
  },
  {
   "cell_type": "code",
   "execution_count": 141,
   "metadata": {
    "execution": {
     "iopub.execute_input": "2021-09-01T03:32:37.921314Z",
     "iopub.status.busy": "2021-09-01T03:32:37.919352Z",
     "iopub.status.idle": "2021-09-01T03:32:37.940817Z",
     "shell.execute_reply": "2021-09-01T03:32:37.940134Z",
     "shell.execute_reply.started": "2021-09-01T00:31:22.757115Z"
    },
    "papermill": {
     "duration": 0.216673,
     "end_time": "2021-09-01T03:32:37.940984",
     "exception": false,
     "start_time": "2021-09-01T03:32:37.724311",
     "status": "completed"
    },
    "tags": []
   },
   "outputs": [
    {
     "data": {
      "text/plain": [
       "(34686, 25)"
      ]
     },
     "execution_count": 141,
     "metadata": {},
     "output_type": "execute_result"
    }
   ],
   "source": [
    "data[data['sample']==0].shape"
   ]
  },
  {
   "cell_type": "markdown",
   "metadata": {
    "papermill": {
     "duration": 0.282984,
     "end_time": "2021-09-01T03:32:38.571843",
     "exception": false,
     "start_time": "2021-09-01T03:32:38.288859",
     "status": "completed"
    },
    "tags": []
   },
   "source": [
    "# **owners_qty**"
   ]
  },
  {
   "cell_type": "code",
   "execution_count": 142,
   "metadata": {
    "execution": {
     "iopub.execute_input": "2021-09-01T03:32:39.135755Z",
     "iopub.status.busy": "2021-09-01T03:32:39.134729Z",
     "iopub.status.idle": "2021-09-01T03:32:39.154034Z",
     "shell.execute_reply": "2021-09-01T03:32:39.153294Z",
     "shell.execute_reply.started": "2021-09-01T00:31:22.793909Z"
    },
    "papermill": {
     "duration": 0.306758,
     "end_time": "2021-09-01T03:32:39.154139",
     "exception": false,
     "start_time": "2021-09-01T03:32:38.847381",
     "status": "completed"
    },
    "tags": []
   },
   "outputs": [],
   "source": [
    "data11 = data.copy() # Зафиксируем датасет перед изменениями\n",
    "# data = data11.copy()"
   ]
  },
  {
   "cell_type": "code",
   "execution_count": 143,
   "metadata": {
    "execution": {
     "iopub.execute_input": "2021-09-01T03:32:39.557432Z",
     "iopub.status.busy": "2021-09-01T03:32:39.556833Z",
     "iopub.status.idle": "2021-09-01T03:32:39.561915Z",
     "shell.execute_reply": "2021-09-01T03:32:39.561363Z",
     "shell.execute_reply.started": "2021-09-01T00:31:22.821381Z"
    },
    "papermill": {
     "duration": 0.217052,
     "end_time": "2021-09-01T03:32:39.562007",
     "exception": false,
     "start_time": "2021-09-01T03:32:39.344955",
     "status": "completed"
    },
    "tags": []
   },
   "outputs": [
    {
     "data": {
      "text/plain": [
       "3.0            36002\n",
       "3 или более    30275\n",
       "2.0            20860\n",
       "1 владелец     20524\n",
       "1.0            18366\n",
       "2 владельца    18127\n",
       "NaN             7697\n",
       "Name: owners_qty, dtype: int64"
      ]
     },
     "execution_count": 143,
     "metadata": {},
     "output_type": "execute_result"
    }
   ],
   "source": [
    "data['owners_qty'].value_counts(dropna=False)\n",
    "# data['owners_qty'].unique()"
   ]
  },
  {
   "cell_type": "code",
   "execution_count": 144,
   "metadata": {
    "execution": {
     "iopub.execute_input": "2021-09-01T03:32:39.979779Z",
     "iopub.status.busy": "2021-09-01T03:32:39.945683Z",
     "iopub.status.idle": "2021-09-01T03:32:40.224993Z",
     "shell.execute_reply": "2021-09-01T03:32:40.224528Z",
     "shell.execute_reply.started": "2021-09-01T00:31:22.864519Z"
    },
    "papermill": {
     "duration": 0.474358,
     "end_time": "2021-09-01T03:32:40.225098",
     "exception": false,
     "start_time": "2021-09-01T03:32:39.750740",
     "status": "completed"
    },
    "tags": []
   },
   "outputs": [
    {
     "data": {
      "text/plain": [
       "0         [3, или, более]\n",
       "1           [1, владелец]\n",
       "2           [1, владелец]\n",
       "3           [1, владелец]\n",
       "4           [1, владелец]\n",
       "               ...       \n",
       "158299              [3.0]\n",
       "158300              [3.0]\n",
       "158301              [1.0]\n",
       "158302              [3.0]\n",
       "158303              [2.0]\n",
       "Name: owners_qty, Length: 151851, dtype: object"
      ]
     },
     "execution_count": 144,
     "metadata": {},
     "output_type": "execute_result"
    }
   ],
   "source": [
    "data['owners_qty'] = data['owners_qty'].astype(\n",
    "                str).apply(lambda x: x if len(x) == 1 else x.split())\n",
    "data['owners_qty']"
   ]
  },
  {
   "cell_type": "code",
   "execution_count": 145,
   "metadata": {
    "execution": {
     "iopub.execute_input": "2021-09-01T03:32:40.610512Z",
     "iopub.status.busy": "2021-09-01T03:32:40.609989Z",
     "iopub.status.idle": "2021-09-01T03:32:40.674365Z",
     "shell.execute_reply": "2021-09-01T03:32:40.673942Z",
     "shell.execute_reply.started": "2021-09-01T00:31:23.301964Z"
    },
    "papermill": {
     "duration": 0.260752,
     "end_time": "2021-09-01T03:32:40.674493",
     "exception": false,
     "start_time": "2021-09-01T03:32:40.413741",
     "status": "completed"
    },
    "tags": []
   },
   "outputs": [],
   "source": [
    "data['owners_qty']= data['owners_qty'].apply(\n",
    "    lambda x: x[0].lower() if len(x) == 1 else x[0].lower())"
   ]
  },
  {
   "cell_type": "code",
   "execution_count": 146,
   "metadata": {
    "execution": {
     "iopub.execute_input": "2021-09-01T03:32:41.096937Z",
     "iopub.status.busy": "2021-09-01T03:32:41.096371Z",
     "iopub.status.idle": "2021-09-01T03:32:41.112943Z",
     "shell.execute_reply": "2021-09-01T03:32:41.112458Z",
     "shell.execute_reply.started": "2021-09-01T00:31:23.407613Z"
    },
    "papermill": {
     "duration": 0.247072,
     "end_time": "2021-09-01T03:32:41.113040",
     "exception": false,
     "start_time": "2021-09-01T03:32:40.865968",
     "status": "completed"
    },
    "tags": []
   },
   "outputs": [],
   "source": [
    "data['owners_qty']=data['owners_qty'].astype(float)"
   ]
  },
  {
   "cell_type": "code",
   "execution_count": 147,
   "metadata": {
    "execution": {
     "iopub.execute_input": "2021-09-01T03:32:41.498090Z",
     "iopub.status.busy": "2021-09-01T03:32:41.497287Z",
     "iopub.status.idle": "2021-09-01T03:32:41.503432Z",
     "shell.execute_reply": "2021-09-01T03:32:41.502762Z",
     "shell.execute_reply.started": "2021-09-01T00:31:23.455154Z"
    },
    "papermill": {
     "duration": 0.200382,
     "end_time": "2021-09-01T03:32:41.503548",
     "exception": false,
     "start_time": "2021-09-01T03:32:41.303166",
     "status": "completed"
    },
    "tags": []
   },
   "outputs": [
    {
     "data": {
      "text/plain": [
       "7697"
      ]
     },
     "execution_count": 147,
     "metadata": {},
     "output_type": "execute_result"
    }
   ],
   "source": [
    "data['owners_qty'].isnull().sum()"
   ]
  },
  {
   "cell_type": "code",
   "execution_count": 148,
   "metadata": {
    "execution": {
     "iopub.execute_input": "2021-09-01T03:32:42.077281Z",
     "iopub.status.busy": "2021-09-01T03:32:42.076544Z",
     "iopub.status.idle": "2021-09-01T03:32:42.084148Z",
     "shell.execute_reply": "2021-09-01T03:32:42.084781Z",
     "shell.execute_reply.started": "2021-09-01T00:31:23.465675Z"
    },
    "papermill": {
     "duration": 0.299584,
     "end_time": "2021-09-01T03:32:42.084924",
     "exception": false,
     "start_time": "2021-09-01T03:32:41.785340",
     "status": "completed"
    },
    "tags": []
   },
   "outputs": [
    {
     "data": {
      "text/plain": [
       "0    3.0\n",
       "dtype: float64"
      ]
     },
     "execution_count": 148,
     "metadata": {},
     "output_type": "execute_result"
    }
   ],
   "source": [
    "mode = round(data['owners_qty'].mode(),0)\n",
    "mode"
   ]
  },
  {
   "cell_type": "code",
   "execution_count": 149,
   "metadata": {
    "execution": {
     "iopub.execute_input": "2021-09-01T03:32:42.659064Z",
     "iopub.status.busy": "2021-09-01T03:32:42.658436Z",
     "iopub.status.idle": "2021-09-01T03:32:42.663254Z",
     "shell.execute_reply": "2021-09-01T03:32:42.663828Z",
     "shell.execute_reply.started": "2021-09-01T00:31:23.478192Z"
    },
    "papermill": {
     "duration": 0.291924,
     "end_time": "2021-09-01T03:32:42.663992",
     "exception": false,
     "start_time": "2021-09-01T03:32:42.372068",
     "status": "completed"
    },
    "tags": []
   },
   "outputs": [],
   "source": [
    "data['owners_qty'].fillna(3, inplace=True)"
   ]
  },
  {
   "cell_type": "code",
   "execution_count": 150,
   "metadata": {
    "execution": {
     "iopub.execute_input": "2021-09-01T03:32:43.238431Z",
     "iopub.status.busy": "2021-09-01T03:32:43.236903Z",
     "iopub.status.idle": "2021-09-01T03:32:43.241292Z",
     "shell.execute_reply": "2021-09-01T03:32:43.240699Z",
     "shell.execute_reply.started": "2021-09-01T00:31:23.485188Z"
    },
    "papermill": {
     "duration": 0.294428,
     "end_time": "2021-09-01T03:32:43.241411",
     "exception": false,
     "start_time": "2021-09-01T03:32:42.946983",
     "status": "completed"
    },
    "tags": []
   },
   "outputs": [],
   "source": [
    "ready_cat_cols.append('owners_qty')\n"
   ]
  },
  {
   "cell_type": "markdown",
   "metadata": {
    "papermill": {
     "duration": 0.284854,
     "end_time": "2021-09-01T03:32:43.814220",
     "exception": false,
     "start_time": "2021-09-01T03:32:43.529366",
     "status": "completed"
    },
    "tags": []
   },
   "source": [
    "# **licence**"
   ]
  },
  {
   "cell_type": "code",
   "execution_count": 151,
   "metadata": {
    "execution": {
     "iopub.execute_input": "2021-09-01T03:32:44.404692Z",
     "iopub.status.busy": "2021-09-01T03:32:44.403968Z",
     "iopub.status.idle": "2021-09-01T03:32:44.423351Z",
     "shell.execute_reply": "2021-09-01T03:32:44.422772Z",
     "shell.execute_reply.started": "2021-09-01T00:31:23.495163Z"
    },
    "papermill": {
     "duration": 0.326185,
     "end_time": "2021-09-01T03:32:44.423463",
     "exception": false,
     "start_time": "2021-09-01T03:32:44.097278",
     "status": "completed"
    },
    "tags": []
   },
   "outputs": [],
   "source": [
    "data12 = data.copy() # Зафиксируем датасет перед изменениями\n",
    "# data = data12.copy()"
   ]
  },
  {
   "cell_type": "code",
   "execution_count": 152,
   "metadata": {
    "execution": {
     "iopub.execute_input": "2021-09-01T03:32:45.022677Z",
     "iopub.status.busy": "2021-09-01T03:32:45.021989Z",
     "iopub.status.idle": "2021-09-01T03:32:45.026294Z",
     "shell.execute_reply": "2021-09-01T03:32:45.026848Z",
     "shell.execute_reply.started": "2021-09-01T00:31:23.543100Z"
    },
    "papermill": {
     "duration": 0.316563,
     "end_time": "2021-09-01T03:32:45.026996",
     "exception": false,
     "start_time": "2021-09-01T03:32:44.710433",
     "status": "completed"
    },
    "tags": []
   },
   "outputs": [
    {
     "data": {
      "text/plain": [
       "array(['Оригинал', 'Дубликат', nan, 'ORIGINAL', 'DUPLICATE'], dtype=object)"
      ]
     },
     "execution_count": 152,
     "metadata": {},
     "output_type": "execute_result"
    }
   ],
   "source": [
    "data['licence'].unique()"
   ]
  },
  {
   "cell_type": "code",
   "execution_count": 153,
   "metadata": {
    "execution": {
     "iopub.execute_input": "2021-09-01T03:32:45.607506Z",
     "iopub.status.busy": "2021-09-01T03:32:45.606851Z",
     "iopub.status.idle": "2021-09-01T03:32:45.639649Z",
     "shell.execute_reply": "2021-09-01T03:32:45.640149Z",
     "shell.execute_reply.started": "2021-09-01T00:31:23.566421Z"
    },
    "papermill": {
     "duration": 0.325971,
     "end_time": "2021-09-01T03:32:45.640294",
     "exception": false,
     "start_time": "2021-09-01T03:32:45.314323",
     "status": "completed"
    },
    "tags": []
   },
   "outputs": [],
   "source": [
    "licence_dict={'Оригинал': 1,\n",
    "             'Дубликат': 0,\n",
    "             'ORIGINAL':1,\n",
    "             'DUPLICATE':0}\n",
    "data['licence'] = data['licence'].map(licence_dict)"
   ]
  },
  {
   "cell_type": "code",
   "execution_count": 154,
   "metadata": {
    "execution": {
     "iopub.execute_input": "2021-09-01T03:32:46.274813Z",
     "iopub.status.busy": "2021-09-01T03:32:46.274141Z",
     "iopub.status.idle": "2021-09-01T03:32:46.284633Z",
     "shell.execute_reply": "2021-09-01T03:32:46.283959Z",
     "shell.execute_reply.started": "2021-09-01T00:31:23.626402Z"
    },
    "papermill": {
     "duration": 0.298671,
     "end_time": "2021-09-01T03:32:46.284744",
     "exception": false,
     "start_time": "2021-09-01T03:32:45.986073",
     "status": "completed"
    },
    "tags": []
   },
   "outputs": [
    {
     "data": {
      "text/plain": [
       "1.0    131855\n",
       "0.0     19657\n",
       "NaN       339\n",
       "Name: licence, dtype: int64"
      ]
     },
     "execution_count": 154,
     "metadata": {},
     "output_type": "execute_result"
    }
   ],
   "source": [
    "data['licence'].value_counts( dropna=False)"
   ]
  },
  {
   "cell_type": "markdown",
   "metadata": {
    "papermill": {
     "duration": 0.290803,
     "end_time": "2021-09-01T03:32:46.860288",
     "exception": false,
     "start_time": "2021-09-01T03:32:46.569485",
     "status": "completed"
    },
    "tags": []
   },
   "source": [
    "Если лицензия не указана, то не будем ставить, что она есть, возможно машина без документов. Установим значение 2 - отличается от остальных"
   ]
  },
  {
   "cell_type": "code",
   "execution_count": 155,
   "metadata": {
    "execution": {
     "iopub.execute_input": "2021-09-01T03:32:47.445907Z",
     "iopub.status.busy": "2021-09-01T03:32:47.445354Z",
     "iopub.status.idle": "2021-09-01T03:32:47.451015Z",
     "shell.execute_reply": "2021-09-01T03:32:47.451428Z",
     "shell.execute_reply.started": "2021-09-01T00:31:23.637636Z"
    },
    "papermill": {
     "duration": 0.300586,
     "end_time": "2021-09-01T03:32:47.451561",
     "exception": false,
     "start_time": "2021-09-01T03:32:47.150975",
     "status": "completed"
    },
    "tags": []
   },
   "outputs": [],
   "source": [
    "data['licence'] = data['licence'].fillna(2)"
   ]
  },
  {
   "cell_type": "code",
   "execution_count": 156,
   "metadata": {
    "execution": {
     "iopub.execute_input": "2021-09-01T03:32:47.835783Z",
     "iopub.status.busy": "2021-09-01T03:32:47.835255Z",
     "iopub.status.idle": "2021-09-01T03:32:47.839797Z",
     "shell.execute_reply": "2021-09-01T03:32:47.839249Z",
     "shell.execute_reply.started": "2021-09-01T00:31:23.648822Z"
    },
    "papermill": {
     "duration": 0.196794,
     "end_time": "2021-09-01T03:32:47.839889",
     "exception": false,
     "start_time": "2021-09-01T03:32:47.643095",
     "status": "completed"
    },
    "tags": []
   },
   "outputs": [],
   "source": [
    "ready_cat_cols.append('licence')"
   ]
  },
  {
   "cell_type": "markdown",
   "metadata": {
    "papermill": {
     "duration": 0.193859,
     "end_time": "2021-09-01T03:32:48.226130",
     "exception": false,
     "start_time": "2021-09-01T03:32:48.032271",
     "status": "completed"
    },
    "tags": []
   },
   "source": [
    "# **customs**"
   ]
  },
  {
   "cell_type": "code",
   "execution_count": 157,
   "metadata": {
    "execution": {
     "iopub.execute_input": "2021-09-01T03:32:48.633134Z",
     "iopub.status.busy": "2021-09-01T03:32:48.632488Z",
     "iopub.status.idle": "2021-09-01T03:32:48.645272Z",
     "shell.execute_reply": "2021-09-01T03:32:48.644642Z",
     "shell.execute_reply.started": "2021-09-01T00:31:23.659301Z"
    },
    "papermill": {
     "duration": 0.227452,
     "end_time": "2021-09-01T03:32:48.645379",
     "exception": false,
     "start_time": "2021-09-01T03:32:48.417927",
     "status": "completed"
    },
    "tags": []
   },
   "outputs": [
    {
     "data": {
      "text/plain": [
       "True             82925\n",
       "Растаможен       68925\n",
       "Не растаможен        1\n",
       "Name: customs, dtype: int64"
      ]
     },
     "execution_count": 157,
     "metadata": {},
     "output_type": "execute_result"
    }
   ],
   "source": [
    "data['customs'].value_counts()"
   ]
  },
  {
   "cell_type": "markdown",
   "metadata": {
    "papermill": {
     "duration": 0.283897,
     "end_time": "2021-09-01T03:32:49.208225",
     "exception": false,
     "start_time": "2021-09-01T03:32:48.924328",
     "status": "completed"
    },
    "tags": []
   },
   "source": [
    "всего один нерастаможенный автомобиль. Нет смысла держать этот признак в датасете"
   ]
  },
  {
   "cell_type": "code",
   "execution_count": 158,
   "metadata": {
    "execution": {
     "iopub.execute_input": "2021-09-01T03:32:49.787808Z",
     "iopub.status.busy": "2021-09-01T03:32:49.786523Z",
     "iopub.status.idle": "2021-09-01T03:32:49.816486Z",
     "shell.execute_reply": "2021-09-01T03:32:49.815814Z",
     "shell.execute_reply.started": "2021-09-01T00:31:23.712660Z"
    },
    "papermill": {
     "duration": 0.322134,
     "end_time": "2021-09-01T03:32:49.816617",
     "exception": false,
     "start_time": "2021-09-01T03:32:49.494483",
     "status": "completed"
    },
    "tags": []
   },
   "outputs": [],
   "source": [
    "data = data.drop('customs', 1)"
   ]
  },
  {
   "cell_type": "markdown",
   "metadata": {
    "papermill": {
     "duration": 0.285838,
     "end_time": "2021-09-01T03:32:50.386347",
     "exception": false,
     "start_time": "2021-09-01T03:32:50.100509",
     "status": "completed"
    },
    "tags": []
   },
   "source": [
    "## **vehicle_transmission**"
   ]
  },
  {
   "cell_type": "code",
   "execution_count": 159,
   "metadata": {
    "execution": {
     "iopub.execute_input": "2021-09-01T03:32:50.975832Z",
     "iopub.status.busy": "2021-09-01T03:32:50.973139Z",
     "iopub.status.idle": "2021-09-01T03:32:50.980234Z",
     "shell.execute_reply": "2021-09-01T03:32:50.979756Z",
     "shell.execute_reply.started": "2021-09-01T00:31:23.753494Z"
    },
    "papermill": {
     "duration": 0.30925,
     "end_time": "2021-09-01T03:32:50.980328",
     "exception": false,
     "start_time": "2021-09-01T03:32:50.671078",
     "status": "completed"
    },
    "tags": []
   },
   "outputs": [
    {
     "data": {
      "text/plain": [
       "AUTOMATIC           45713\n",
       "автоматическая      38498\n",
       "MECHANICAL          24909\n",
       "механическая        13848\n",
       "роботизированная     8295\n",
       "вариатор             8285\n",
       "ROBOT                6937\n",
       "VARIATOR             5366\n",
       "Name: vehicle_transmission, dtype: int64"
      ]
     },
     "execution_count": 159,
     "metadata": {},
     "output_type": "execute_result"
    }
   ],
   "source": [
    "data['vehicle_transmission'].value_counts()"
   ]
  },
  {
   "cell_type": "markdown",
   "metadata": {
    "papermill": {
     "duration": 0.193526,
     "end_time": "2021-09-01T03:32:51.370086",
     "exception": false,
     "start_time": "2021-09-01T03:32:51.176560",
     "status": "completed"
    },
    "tags": []
   },
   "source": [
    "Такой признак уже был"
   ]
  },
  {
   "cell_type": "code",
   "execution_count": 160,
   "metadata": {
    "execution": {
     "iopub.execute_input": "2021-09-01T03:32:51.760336Z",
     "iopub.status.busy": "2021-09-01T03:32:51.759793Z",
     "iopub.status.idle": "2021-09-01T03:32:51.780492Z",
     "shell.execute_reply": "2021-09-01T03:32:51.780937Z",
     "shell.execute_reply.started": "2021-09-01T00:31:23.802524Z"
    },
    "papermill": {
     "duration": 0.220687,
     "end_time": "2021-09-01T03:32:51.781058",
     "exception": false,
     "start_time": "2021-09-01T03:32:51.560371",
     "status": "completed"
    },
    "tags": []
   },
   "outputs": [],
   "source": [
    "data = data.drop('vehicle_transmission',1 )"
   ]
  },
  {
   "cell_type": "markdown",
   "metadata": {
    "papermill": {
     "duration": 0.192103,
     "end_time": "2021-09-01T03:32:52.165660",
     "exception": false,
     "start_time": "2021-09-01T03:32:51.973557",
     "status": "completed"
    },
    "tags": []
   },
   "source": [
    "## Price\n",
    "\n",
    "Уже делали обработку при учете инфляции для train 2021"
   ]
  },
  {
   "cell_type": "code",
   "execution_count": 161,
   "metadata": {
    "execution": {
     "iopub.execute_input": "2021-09-01T03:32:52.557176Z",
     "iopub.status.busy": "2021-09-01T03:32:52.556634Z",
     "iopub.status.idle": "2021-09-01T03:32:52.563506Z",
     "shell.execute_reply": "2021-09-01T03:32:52.563964Z",
     "shell.execute_reply.started": "2021-09-01T00:31:23.834619Z"
    },
    "papermill": {
     "duration": 0.202036,
     "end_time": "2021-09-01T03:32:52.564095",
     "exception": false,
     "start_time": "2021-09-01T03:32:52.362059",
     "status": "completed"
    },
    "tags": []
   },
   "outputs": [
    {
     "data": {
      "text/plain": [
       "0               0.0\n",
       "1               0.0\n",
       "2               0.0\n",
       "3               0.0\n",
       "4               0.0\n",
       "            ...    \n",
       "158299     450000.0\n",
       "158300     485000.0\n",
       "158301    1090000.0\n",
       "158302    1180000.0\n",
       "158303    1075000.0\n",
       "Name: price, Length: 151851, dtype: float64"
      ]
     },
     "execution_count": 161,
     "metadata": {},
     "output_type": "execute_result"
    }
   ],
   "source": [
    "data['price']"
   ]
  },
  {
   "cell_type": "code",
   "execution_count": 162,
   "metadata": {
    "execution": {
     "iopub.execute_input": "2021-09-01T03:32:52.957437Z",
     "iopub.status.busy": "2021-09-01T03:32:52.956819Z",
     "iopub.status.idle": "2021-09-01T03:32:52.966767Z",
     "shell.execute_reply": "2021-09-01T03:32:52.967171Z",
     "shell.execute_reply.started": "2021-09-01T00:31:23.844361Z"
    },
    "papermill": {
     "duration": 0.206655,
     "end_time": "2021-09-01T03:32:52.967309",
     "exception": false,
     "start_time": "2021-09-01T03:32:52.760654",
     "status": "completed"
    },
    "tags": []
   },
   "outputs": [
    {
     "data": {
      "text/plain": [
       "68947    NaN\n",
       "69238    NaN\n",
       "69275    NaN\n",
       "69580    NaN\n",
       "69621    NaN\n",
       "          ..\n",
       "157347   NaN\n",
       "157508   NaN\n",
       "157593   NaN\n",
       "157916   NaN\n",
       "158202   NaN\n",
       "Name: price, Length: 410, dtype: float64"
      ]
     },
     "execution_count": 162,
     "metadata": {},
     "output_type": "execute_result"
    }
   ],
   "source": [
    "data['price'][(data['sample']==1)&(data['price'].isna())]"
   ]
  },
  {
   "cell_type": "markdown",
   "metadata": {
    "papermill": {
     "duration": 0.191506,
     "end_time": "2021-09-01T03:32:53.350993",
     "exception": false,
     "start_time": "2021-09-01T03:32:53.159487",
     "status": "completed"
    },
    "tags": []
   },
   "source": [
    "Так как это целевая переменная, удалим пустые значения"
   ]
  },
  {
   "cell_type": "code",
   "execution_count": 163,
   "metadata": {
    "execution": {
     "iopub.execute_input": "2021-09-01T03:32:53.748442Z",
     "iopub.status.busy": "2021-09-01T03:32:53.745532Z",
     "iopub.status.idle": "2021-09-01T03:32:53.775230Z",
     "shell.execute_reply": "2021-09-01T03:32:53.774759Z",
     "shell.execute_reply.started": "2021-09-01T00:31:23.860324Z"
    },
    "papermill": {
     "duration": 0.230975,
     "end_time": "2021-09-01T03:32:53.775341",
     "exception": false,
     "start_time": "2021-09-01T03:32:53.544366",
     "status": "completed"
    },
    "tags": []
   },
   "outputs": [],
   "source": [
    "data.dropna(subset=['price'], inplace=True)"
   ]
  },
  {
   "cell_type": "code",
   "execution_count": 164,
   "metadata": {
    "execution": {
     "iopub.execute_input": "2021-09-01T03:32:54.172414Z",
     "iopub.status.busy": "2021-09-01T03:32:54.168160Z",
     "iopub.status.idle": "2021-09-01T03:32:54.320998Z",
     "shell.execute_reply": "2021-09-01T03:32:54.321534Z",
     "shell.execute_reply.started": "2021-09-01T00:31:23.894922Z"
    },
    "papermill": {
     "duration": 0.354896,
     "end_time": "2021-09-01T03:32:54.321713",
     "exception": false,
     "start_time": "2021-09-01T03:32:53.966817",
     "status": "completed"
    },
    "tags": []
   },
   "outputs": [
    {
     "name": "stdout",
     "output_type": "stream",
     "text": [
      "Количество дубликатов: 969\n"
     ]
    }
   ],
   "source": [
    "# Посмотрим, есть ли  дубликаты:\n",
    "print('Количество дубликатов:',len(data) - len(data.drop_duplicates()))"
   ]
  },
  {
   "cell_type": "code",
   "execution_count": 165,
   "metadata": {
    "execution": {
     "iopub.execute_input": "2021-09-01T03:32:54.723813Z",
     "iopub.status.busy": "2021-09-01T03:32:54.723204Z",
     "iopub.status.idle": "2021-09-01T03:32:55.052362Z",
     "shell.execute_reply": "2021-09-01T03:32:55.051922Z",
     "shell.execute_reply.started": "2021-09-01T00:31:24.090879Z"
    },
    "papermill": {
     "duration": 0.536352,
     "end_time": "2021-09-01T03:32:55.052490",
     "exception": false,
     "start_time": "2021-09-01T03:32:54.516138",
     "status": "completed"
    },
    "tags": []
   },
   "outputs": [
    {
     "data": {
      "text/plain": [
       "body_type                0\n",
       "brand                    0\n",
       "model_of_car             0\n",
       "color                    0\n",
       "transmis                 0\n",
       "engine_volume            0\n",
       "engine_power             0\n",
       "fuel_type                0\n",
       "mileage                  0\n",
       "model_date               0\n",
       "production_d             0\n",
       "model_d                  0\n",
       "number_of_doors          0\n",
       "production_date          0\n",
       "sell_id                  0\n",
       "vehicle_configuration    0\n",
       "owners_qty               0\n",
       "licence                  0\n",
       "mileage_per_year         0\n",
       "type_of_drive            0\n",
       "steering_wheel           0\n",
       "price                    0\n",
       "sample                   0\n",
       "dtype: int64"
      ]
     },
     "execution_count": 165,
     "metadata": {},
     "output_type": "execute_result"
    }
   ],
   "source": [
    "# data[data.duplicated(keep=False)]\n",
    "data = data.drop_duplicates()\n",
    "data.isna().sum()"
   ]
  },
  {
   "cell_type": "markdown",
   "metadata": {
    "papermill": {
     "duration": 0.261162,
     "end_time": "2021-09-01T03:32:55.510193",
     "exception": false,
     "start_time": "2021-09-01T03:32:55.249031",
     "status": "completed"
    },
    "tags": []
   },
   "source": [
    "# **Анализ признаков**"
   ]
  },
  {
   "cell_type": "code",
   "execution_count": 166,
   "metadata": {
    "execution": {
     "iopub.execute_input": "2021-09-01T03:32:55.904478Z",
     "iopub.status.busy": "2021-09-01T03:32:55.903936Z",
     "iopub.status.idle": "2021-09-01T03:32:55.916223Z",
     "shell.execute_reply": "2021-09-01T03:32:55.915685Z",
     "shell.execute_reply.started": "2021-09-01T00:31:24.415129Z"
    },
    "papermill": {
     "duration": 0.210915,
     "end_time": "2021-09-01T03:32:55.916331",
     "exception": false,
     "start_time": "2021-09-01T03:32:55.705416",
     "status": "completed"
    },
    "tags": []
   },
   "outputs": [],
   "source": [
    "data15 = data.copy()\n",
    "# data = data15.copy()"
   ]
  },
  {
   "cell_type": "code",
   "execution_count": 167,
   "metadata": {
    "execution": {
     "iopub.execute_input": "2021-09-01T03:32:56.315450Z",
     "iopub.status.busy": "2021-09-01T03:32:56.314681Z",
     "iopub.status.idle": "2021-09-01T03:32:56.319510Z",
     "shell.execute_reply": "2021-09-01T03:32:56.319056Z",
     "shell.execute_reply.started": "2021-09-01T00:31:24.438311Z"
    },
    "papermill": {
     "duration": 0.208186,
     "end_time": "2021-09-01T03:32:56.319628",
     "exception": false,
     "start_time": "2021-09-01T03:32:56.111442",
     "status": "completed"
    },
    "tags": []
   },
   "outputs": [
    {
     "name": "stdout",
     "output_type": "stream",
     "text": [
      "['steering_wheel']\n",
      "['model_date', 'production_date', 'model_d', 'production_d', 'number_of_doors', 'engine_volume', 'engine_power', 'mileage', 'mileage_per_year']\n",
      "['model_of_car', 'body_type', 'brand', 'fuel_type', 'transmis', 'vehicle_configuration', 'type_of_drive']\n",
      "['color', 'owners_qty', 'licence']\n"
     ]
    }
   ],
   "source": [
    "print(bin_cols)\n",
    "print(num_cols)\n",
    "print(cat_cols)\n",
    "print(ready_cat_cols)"
   ]
  },
  {
   "cell_type": "code",
   "execution_count": 168,
   "metadata": {
    "execution": {
     "iopub.execute_input": "2021-09-01T03:32:56.708119Z",
     "iopub.status.busy": "2021-09-01T03:32:56.707640Z",
     "iopub.status.idle": "2021-09-01T03:32:56.834674Z",
     "shell.execute_reply": "2021-09-01T03:32:56.834194Z",
     "shell.execute_reply.started": "2021-09-01T00:31:24.446062Z"
    },
    "papermill": {
     "duration": 0.321771,
     "end_time": "2021-09-01T03:32:56.834774",
     "exception": false,
     "start_time": "2021-09-01T03:32:56.513003",
     "status": "completed"
    },
    "tags": []
   },
   "outputs": [
    {
     "name": "stdout",
     "output_type": "stream",
     "text": [
      "<class 'pandas.core.frame.DataFrame'>\n",
      "Int64Index: 150472 entries, 0 to 158303\n",
      "Data columns (total 23 columns):\n",
      " #   Column                 Non-Null Count   Dtype  \n",
      "---  ------                 --------------   -----  \n",
      " 0   body_type              150472 non-null  object \n",
      " 1   brand                  150472 non-null  object \n",
      " 2   model_of_car           150472 non-null  object \n",
      " 3   color                  150472 non-null  int64  \n",
      " 4   transmis               150472 non-null  object \n",
      " 5   engine_volume          150472 non-null  float64\n",
      " 6   engine_power           150472 non-null  int64  \n",
      " 7   fuel_type              150472 non-null  object \n",
      " 8   mileage                150472 non-null  int64  \n",
      " 9   model_date             150472 non-null  int64  \n",
      " 10  production_d           150472 non-null  int64  \n",
      " 11  model_d                150472 non-null  int64  \n",
      " 12  number_of_doors        150472 non-null  float64\n",
      " 13  production_date        150472 non-null  int64  \n",
      " 14  sell_id                150472 non-null  int64  \n",
      " 15  vehicle_configuration  150472 non-null  object \n",
      " 16  owners_qty             150472 non-null  float64\n",
      " 17  licence                150472 non-null  float64\n",
      " 18  mileage_per_year       150472 non-null  float64\n",
      " 19  type_of_drive          150472 non-null  object \n",
      " 20  steering_wheel         150472 non-null  object \n",
      " 21  price                  150472 non-null  float64\n",
      " 22  sample                 150472 non-null  int64  \n",
      "dtypes: float64(6), int64(9), object(8)\n",
      "memory usage: 27.6+ MB\n"
     ]
    }
   ],
   "source": [
    "data.info()"
   ]
  },
  {
   "cell_type": "markdown",
   "metadata": {
    "papermill": {
     "duration": 0.199088,
     "end_time": "2021-09-01T03:32:57.232715",
     "exception": false,
     "start_time": "2021-09-01T03:32:57.033627",
     "status": "completed"
    },
    "tags": []
   },
   "source": [
    "## 1. Анализ числовых переменных"
   ]
  },
  {
   "cell_type": "code",
   "execution_count": 169,
   "metadata": {
    "execution": {
     "iopub.execute_input": "2021-09-01T03:32:57.632582Z",
     "iopub.status.busy": "2021-09-01T03:32:57.632060Z",
     "iopub.status.idle": "2021-09-01T03:32:58.147464Z",
     "shell.execute_reply": "2021-09-01T03:32:58.147880Z",
     "shell.execute_reply.started": "2021-09-01T00:31:24.594360Z"
    },
    "papermill": {
     "duration": 0.720027,
     "end_time": "2021-09-01T03:32:58.148007",
     "exception": false,
     "start_time": "2021-09-01T03:32:57.427980",
     "status": "completed"
    },
    "tags": []
   },
   "outputs": [
    {
     "data": {
      "text/plain": [
       "<matplotlib.axes._subplots.AxesSubplot at 0x7f09aac08110>"
      ]
     },
     "execution_count": 169,
     "metadata": {},
     "output_type": "execute_result"
    },
    {
     "data": {
      "image/png": "[encoded data removed]",
      "text/plain": [
       "<Figure size 576x360 with 2 Axes>"
      ]
     },
     "metadata": {},
     "output_type": "display_data"
    }
   ],
   "source": [
    "# посмотрим на корреляцию признаков между собой\n",
    "plt.figure(figsize=(8, 5))\n",
    "sns.heatmap(data[num_cols + ['price']].corr().abs(), vmin=0, vmax=1,\n",
    "            annot=True, fmt=\".2f\", cmap=\"YlGnBu\")"
   ]
  },
  {
   "cell_type": "markdown",
   "metadata": {
    "papermill": {
     "duration": 0.195063,
     "end_time": "2021-09-01T03:32:58.542529",
     "exception": false,
     "start_time": "2021-09-01T03:32:58.347466",
     "status": "completed"
    },
    "tags": []
   },
   "source": [
    "Признаки model_date, production_date, model_d, production_d полностью коррелируют друг  другом, поэтому оставим только один из них: production_d"
   ]
  },
  {
   "cell_type": "code",
   "execution_count": 170,
   "metadata": {
    "execution": {
     "iopub.execute_input": "2021-09-01T03:32:58.941902Z",
     "iopub.status.busy": "2021-09-01T03:32:58.941367Z",
     "iopub.status.idle": "2021-09-01T03:32:58.963962Z",
     "shell.execute_reply": "2021-09-01T03:32:58.964348Z",
     "shell.execute_reply.started": "2021-09-01T00:31:25.254062Z"
    },
    "papermill": {
     "duration": 0.225663,
     "end_time": "2021-09-01T03:32:58.964475",
     "exception": false,
     "start_time": "2021-09-01T03:32:58.738812",
     "status": "completed"
    },
    "tags": []
   },
   "outputs": [],
   "source": [
    "data = data.drop(['model_date', 'production_date', 'model_d'], 1)"
   ]
  },
  {
   "cell_type": "code",
   "execution_count": 171,
   "metadata": {
    "execution": {
     "iopub.execute_input": "2021-09-01T03:32:59.368708Z",
     "iopub.status.busy": "2021-09-01T03:32:59.368109Z",
     "iopub.status.idle": "2021-09-01T03:32:59.370720Z",
     "shell.execute_reply": "2021-09-01T03:32:59.371447Z",
     "shell.execute_reply.started": "2021-09-01T00:31:25.280138Z"
    },
    "papermill": {
     "duration": 0.208364,
     "end_time": "2021-09-01T03:32:59.371642",
     "exception": false,
     "start_time": "2021-09-01T03:32:59.163278",
     "status": "completed"
    },
    "tags": []
   },
   "outputs": [],
   "source": [
    "num_cols.remove('model_date')\n",
    "num_cols.remove('production_date')\n",
    "num_cols.remove('model_d')"
   ]
  },
  {
   "cell_type": "code",
   "execution_count": 172,
   "metadata": {
    "execution": {
     "iopub.execute_input": "2021-09-01T03:32:59.771470Z",
     "iopub.status.busy": "2021-09-01T03:32:59.770917Z",
     "iopub.status.idle": "2021-09-01T03:33:04.157812Z",
     "shell.execute_reply": "2021-09-01T03:33:04.157204Z",
     "shell.execute_reply.started": "2021-09-01T00:31:25.287477Z"
    },
    "papermill": {
     "duration": 4.58953,
     "end_time": "2021-09-01T03:33:04.157940",
     "exception": false,
     "start_time": "2021-09-01T03:32:59.568410",
     "status": "completed"
    },
    "tags": []
   },
   "outputs": [
    {
     "data": {
      "image/png": "[encoded data removed]",
      "text/plain": [
       "<Figure size 1872x576 with 2 Axes>"
      ]
     },
     "metadata": {},
     "output_type": "display_data"
    },
    {
     "name": "stdout",
     "output_type": "stream",
     "text": [
      "\n"
     ]
    },
    {
     "data": {
      "image/png": "[encoded data removed]",
      "text/plain": [
       "<Figure size 1872x576 with 2 Axes>"
      ]
     },
     "metadata": {},
     "output_type": "display_data"
    },
    {
     "name": "stdout",
     "output_type": "stream",
     "text": [
      "\n"
     ]
    },
    {
     "data": {
      "image/png": "[encoded data removed]",
      "text/plain": [
       "<Figure size 1872x576 with 2 Axes>"
      ]
     },
     "metadata": {},
     "output_type": "display_data"
    },
    {
     "name": "stdout",
     "output_type": "stream",
     "text": [
      "\n"
     ]
    },
    {
     "data": {
      "image/png": "[encoded data removed]",
      "text/plain": [
       "<Figure size 1872x576 with 2 Axes>"
      ]
     },
     "metadata": {},
     "output_type": "display_data"
    },
    {
     "name": "stdout",
     "output_type": "stream",
     "text": [
      "\n"
     ]
    },
    {
     "data": {
      "image/png": "[encoded data removed]",
      "text/plain": [
       "<Figure size 1872x576 with 2 Axes>"
      ]
     },
     "metadata": {},
     "output_type": "display_data"
    },
    {
     "name": "stdout",
     "output_type": "stream",
     "text": [
      "\n"
     ]
    },
    {
     "data": {
      "image/png": "[encoded data removed]",
      "text/plain": [
       "<Figure size 1872x576 with 2 Axes>"
      ]
     },
     "metadata": {},
     "output_type": "display_data"
    },
    {
     "name": "stdout",
     "output_type": "stream",
     "text": [
      "\n"
     ]
    }
   ],
   "source": [
    "for col in num_cols:\n",
    "    visualizing_number(data, col)"
   ]
  },
  {
   "cell_type": "code",
   "execution_count": 173,
   "metadata": {
    "execution": {
     "iopub.execute_input": "2021-09-01T03:33:04.570811Z",
     "iopub.status.busy": "2021-09-01T03:33:04.570207Z",
     "iopub.status.idle": "2021-09-01T03:33:05.035352Z",
     "shell.execute_reply": "2021-09-01T03:33:05.034816Z",
     "shell.execute_reply.started": "2021-09-01T00:31:29.555558Z"
    },
    "papermill": {
     "duration": 0.670708,
     "end_time": "2021-09-01T03:33:05.035449",
     "exception": false,
     "start_time": "2021-09-01T03:33:04.364741",
     "status": "completed"
    },
    "tags": []
   },
   "outputs": [
    {
     "data": {
      "text/plain": [
       "Text(0.5, 1.0, 'Значимость чиловых переменных для price')"
      ]
     },
     "execution_count": 173,
     "metadata": {},
     "output_type": "execute_result"
    },
    {
     "data": {
      "image/png": "[encoded data removed]",
      "text/plain": [
       "<Figure size 576x396 with 1 Axes>"
      ]
     },
     "metadata": {},
     "output_type": "display_data"
    }
   ],
   "source": [
    "# #определяем значимость наших переменных:\n",
    "imp_cat = Series(mutual_info_classif(data[data['price'] >0][num_cols], \n",
    "                                     data[data['price'] >0]['price'],\n",
    "                                     discrete_features = True), index = num_cols)\n",
    "imp_cat.sort_values(inplace = True)\n",
    "imp_cat.plot(kind = 'barh')\n",
    "plt.title('Значимость чиловых переменных для price')"
   ]
  },
  {
   "cell_type": "markdown",
   "metadata": {
    "papermill": {
     "duration": 0.205134,
     "end_time": "2021-09-01T03:33:05.444175",
     "exception": false,
     "start_time": "2021-09-01T03:33:05.239041",
     "status": "completed"
    },
    "tags": []
   },
   "source": [
    "**imp_cat - это весы для признаков, будем использовать эти данные при обучении**"
   ]
  },
  {
   "cell_type": "markdown",
   "metadata": {
    "papermill": {
     "duration": 0.201967,
     "end_time": "2021-09-01T03:33:05.849937",
     "exception": false,
     "start_time": "2021-09-01T03:33:05.647970",
     "status": "completed"
    },
    "tags": []
   },
   "source": [
    "## 2. Анализ категориальных и бинарных переменных"
   ]
  },
  {
   "cell_type": "code",
   "execution_count": 174,
   "metadata": {
    "execution": {
     "iopub.execute_input": "2021-09-01T03:33:06.265839Z",
     "iopub.status.busy": "2021-09-01T03:33:06.265308Z",
     "iopub.status.idle": "2021-09-01T03:33:06.304696Z",
     "shell.execute_reply": "2021-09-01T03:33:06.303312Z",
     "shell.execute_reply.started": "2021-09-01T00:31:30.097019Z"
    },
    "papermill": {
     "duration": 0.249731,
     "end_time": "2021-09-01T03:33:06.304832",
     "exception": false,
     "start_time": "2021-09-01T03:33:06.055101",
     "status": "completed"
    },
    "tags": []
   },
   "outputs": [
    {
     "data": {
      "text/html": [
       "<div>\n",
       "<style scoped>\n",
       "    .dataframe tbody tr th:only-of-type {\n",
       "        vertical-align: middle;\n",
       "    }\n",
       "\n",
       "    .dataframe tbody tr th {\n",
       "        vertical-align: top;\n",
       "    }\n",
       "\n",
       "    .dataframe thead th {\n",
       "        text-align: right;\n",
       "    }\n",
       "</style>\n",
       "<table border=\"1\" class=\"dataframe\">\n",
       "  <thead>\n",
       "    <tr style=\"text-align: right;\">\n",
       "      <th></th>\n",
       "      <th>color</th>\n",
       "      <th>owners_qty</th>\n",
       "      <th>licence</th>\n",
       "      <th>model_of_car</th>\n",
       "      <th>body_type</th>\n",
       "      <th>brand</th>\n",
       "      <th>fuel_type</th>\n",
       "      <th>transmis</th>\n",
       "      <th>vehicle_configuration</th>\n",
       "      <th>type_of_drive</th>\n",
       "      <th>steering_wheel</th>\n",
       "    </tr>\n",
       "  </thead>\n",
       "  <tbody>\n",
       "    <tr>\n",
       "      <th>0</th>\n",
       "      <td>2</td>\n",
       "      <td>3.0</td>\n",
       "      <td>1.0</td>\n",
       "      <td>octavia</td>\n",
       "      <td>лифтбек</td>\n",
       "      <td>SKODA</td>\n",
       "      <td>petrol</td>\n",
       "      <td>AMT</td>\n",
       "      <td>robot</td>\n",
       "      <td>front</td>\n",
       "      <td>left</td>\n",
       "    </tr>\n",
       "    <tr>\n",
       "      <th>1</th>\n",
       "      <td>1</td>\n",
       "      <td>1.0</td>\n",
       "      <td>1.0</td>\n",
       "      <td>octavia</td>\n",
       "      <td>лифтбек</td>\n",
       "      <td>SKODA</td>\n",
       "      <td>petrol</td>\n",
       "      <td>MT</td>\n",
       "      <td>mechanical</td>\n",
       "      <td>front</td>\n",
       "      <td>left</td>\n",
       "    </tr>\n",
       "    <tr>\n",
       "      <th>2</th>\n",
       "      <td>2</td>\n",
       "      <td>1.0</td>\n",
       "      <td>1.0</td>\n",
       "      <td>superb</td>\n",
       "      <td>лифтбек</td>\n",
       "      <td>SKODA</td>\n",
       "      <td>petrol</td>\n",
       "      <td>AMT</td>\n",
       "      <td>robot</td>\n",
       "      <td>front</td>\n",
       "      <td>left</td>\n",
       "    </tr>\n",
       "    <tr>\n",
       "      <th>3</th>\n",
       "      <td>3</td>\n",
       "      <td>1.0</td>\n",
       "      <td>1.0</td>\n",
       "      <td>octavia</td>\n",
       "      <td>лифтбек</td>\n",
       "      <td>SKODA</td>\n",
       "      <td>petrol</td>\n",
       "      <td>AT</td>\n",
       "      <td>automatic</td>\n",
       "      <td>front</td>\n",
       "      <td>left</td>\n",
       "    </tr>\n",
       "    <tr>\n",
       "      <th>4</th>\n",
       "      <td>1</td>\n",
       "      <td>1.0</td>\n",
       "      <td>1.0</td>\n",
       "      <td>octavia</td>\n",
       "      <td>лифтбек</td>\n",
       "      <td>SKODA</td>\n",
       "      <td>petrol</td>\n",
       "      <td>AT</td>\n",
       "      <td>automatic</td>\n",
       "      <td>front</td>\n",
       "      <td>left</td>\n",
       "    </tr>\n",
       "    <tr>\n",
       "      <th>...</th>\n",
       "      <td>...</td>\n",
       "      <td>...</td>\n",
       "      <td>...</td>\n",
       "      <td>...</td>\n",
       "      <td>...</td>\n",
       "      <td>...</td>\n",
       "      <td>...</td>\n",
       "      <td>...</td>\n",
       "      <td>...</td>\n",
       "      <td>...</td>\n",
       "      <td>...</td>\n",
       "    </tr>\n",
       "    <tr>\n",
       "      <th>158299</th>\n",
       "      <td>1</td>\n",
       "      <td>3.0</td>\n",
       "      <td>1.0</td>\n",
       "      <td>rodius</td>\n",
       "      <td>минивэн</td>\n",
       "      <td>SSANG_YONG</td>\n",
       "      <td>diesel</td>\n",
       "      <td>AT</td>\n",
       "      <td>automatic</td>\n",
       "      <td>full</td>\n",
       "      <td>left</td>\n",
       "    </tr>\n",
       "    <tr>\n",
       "      <th>158300</th>\n",
       "      <td>2</td>\n",
       "      <td>3.0</td>\n",
       "      <td>1.0</td>\n",
       "      <td>rodius</td>\n",
       "      <td>минивэн</td>\n",
       "      <td>SSANG_YONG</td>\n",
       "      <td>diesel</td>\n",
       "      <td>AT</td>\n",
       "      <td>automatic</td>\n",
       "      <td>full</td>\n",
       "      <td>left</td>\n",
       "    </tr>\n",
       "    <tr>\n",
       "      <th>158301</th>\n",
       "      <td>1</td>\n",
       "      <td>1.0</td>\n",
       "      <td>1.0</td>\n",
       "      <td>stavic</td>\n",
       "      <td>минивэн</td>\n",
       "      <td>SSANG_YONG</td>\n",
       "      <td>diesel</td>\n",
       "      <td>AT</td>\n",
       "      <td>automatic</td>\n",
       "      <td>full</td>\n",
       "      <td>left</td>\n",
       "    </tr>\n",
       "    <tr>\n",
       "      <th>158302</th>\n",
       "      <td>2</td>\n",
       "      <td>3.0</td>\n",
       "      <td>1.0</td>\n",
       "      <td>stavic</td>\n",
       "      <td>минивэн</td>\n",
       "      <td>SSANG_YONG</td>\n",
       "      <td>diesel</td>\n",
       "      <td>AT</td>\n",
       "      <td>automatic</td>\n",
       "      <td>full</td>\n",
       "      <td>left</td>\n",
       "    </tr>\n",
       "    <tr>\n",
       "      <th>158303</th>\n",
       "      <td>1</td>\n",
       "      <td>2.0</td>\n",
       "      <td>1.0</td>\n",
       "      <td>stavic</td>\n",
       "      <td>минивэн</td>\n",
       "      <td>SSANG_YONG</td>\n",
       "      <td>diesel</td>\n",
       "      <td>AT</td>\n",
       "      <td>automatic</td>\n",
       "      <td>full</td>\n",
       "      <td>left</td>\n",
       "    </tr>\n",
       "  </tbody>\n",
       "</table>\n",
       "<p>150472 rows × 11 columns</p>\n",
       "</div>"
      ],
      "text/plain": [
       "        color  owners_qty  licence model_of_car body_type       brand  \\\n",
       "0           2         3.0      1.0      octavia   лифтбек       SKODA   \n",
       "1           1         1.0      1.0      octavia   лифтбек       SKODA   \n",
       "2           2         1.0      1.0       superb   лифтбек       SKODA   \n",
       "3           3         1.0      1.0      octavia   лифтбек       SKODA   \n",
       "4           1         1.0      1.0      octavia   лифтбек       SKODA   \n",
       "...       ...         ...      ...          ...       ...         ...   \n",
       "158299      1         3.0      1.0       rodius   минивэн  SSANG_YONG   \n",
       "158300      2         3.0      1.0       rodius   минивэн  SSANG_YONG   \n",
       "158301      1         1.0      1.0       stavic   минивэн  SSANG_YONG   \n",
       "158302      2         3.0      1.0       stavic   минивэн  SSANG_YONG   \n",
       "158303      1         2.0      1.0       stavic   минивэн  SSANG_YONG   \n",
       "\n",
       "       fuel_type transmis vehicle_configuration type_of_drive steering_wheel  \n",
       "0         petrol      AMT                 robot         front           left  \n",
       "1         petrol       MT            mechanical         front           left  \n",
       "2         petrol      AMT                 robot         front           left  \n",
       "3         petrol       AT             automatic         front           left  \n",
       "4         petrol       AT             automatic         front           left  \n",
       "...          ...      ...                   ...           ...            ...  \n",
       "158299    diesel       AT             automatic          full           left  \n",
       "158300    diesel       AT             automatic          full           left  \n",
       "158301    diesel       AT             automatic          full           left  \n",
       "158302    diesel       AT             automatic          full           left  \n",
       "158303    diesel       AT             automatic          full           left  \n",
       "\n",
       "[150472 rows x 11 columns]"
      ]
     },
     "execution_count": 174,
     "metadata": {},
     "output_type": "execute_result"
    }
   ],
   "source": [
    "data[ready_cat_cols + cat_cols + bin_cols]"
   ]
  },
  {
   "cell_type": "markdown",
   "metadata": {
    "papermill": {
     "duration": 0.207229,
     "end_time": "2021-09-01T03:33:06.732791",
     "exception": false,
     "start_time": "2021-09-01T03:33:06.525562",
     "status": "completed"
    },
    "tags": []
   },
   "source": [
    "Заметим, что vehicle_configuration и transmis означают одно и то же. Удалим vehicle_configuration"
   ]
  },
  {
   "cell_type": "code",
   "execution_count": 175,
   "metadata": {
    "execution": {
     "iopub.execute_input": "2021-09-01T03:33:07.144874Z",
     "iopub.status.busy": "2021-09-01T03:33:07.144281Z",
     "iopub.status.idle": "2021-09-01T03:33:07.165516Z",
     "shell.execute_reply": "2021-09-01T03:33:07.165107Z",
     "shell.execute_reply.started": "2021-09-01T00:31:30.135490Z"
    },
    "papermill": {
     "duration": 0.231327,
     "end_time": "2021-09-01T03:33:07.165633",
     "exception": false,
     "start_time": "2021-09-01T03:33:06.934306",
     "status": "completed"
    },
    "tags": []
   },
   "outputs": [],
   "source": [
    "data = data.drop(['vehicle_configuration'], 1)"
   ]
  },
  {
   "cell_type": "code",
   "execution_count": 176,
   "metadata": {
    "execution": {
     "iopub.execute_input": "2021-09-01T03:33:07.579717Z",
     "iopub.status.busy": "2021-09-01T03:33:07.579146Z",
     "iopub.status.idle": "2021-09-01T03:33:07.581716Z",
     "shell.execute_reply": "2021-09-01T03:33:07.582151Z",
     "shell.execute_reply.started": "2021-09-01T00:31:30.160925Z"
    },
    "papermill": {
     "duration": 0.212121,
     "end_time": "2021-09-01T03:33:07.582276",
     "exception": false,
     "start_time": "2021-09-01T03:33:07.370155",
     "status": "completed"
    },
    "tags": []
   },
   "outputs": [],
   "source": [
    "cat_cols.remove('vehicle_configuration')"
   ]
  },
  {
   "cell_type": "code",
   "execution_count": 177,
   "metadata": {
    "execution": {
     "iopub.execute_input": "2021-09-01T03:33:08.012654Z",
     "iopub.status.busy": "2021-09-01T03:33:08.006203Z",
     "iopub.status.idle": "2021-09-01T03:33:08.096570Z",
     "shell.execute_reply": "2021-09-01T03:33:08.097126Z",
     "shell.execute_reply.started": "2021-09-01T00:31:30.168080Z"
    },
    "papermill": {
     "duration": 0.311799,
     "end_time": "2021-09-01T03:33:08.097249",
     "exception": false,
     "start_time": "2021-09-01T03:33:07.785450",
     "status": "completed"
    },
    "tags": []
   },
   "outputs": [
    {
     "name": "stdout",
     "output_type": "stream",
     "text": [
      "model_of_car\n",
      "octavia       4363\n",
      "5er           3239\n",
      "passat        2629\n",
      "polo          2623\n",
      "e_klasse      2587\n",
      "              ... \n",
      "kei              1\n",
      "mx_6             1\n",
      "corolla_ii       1\n",
      "ray              1\n",
      "roomy            1\n",
      "Name: model_of_car, Length: 1155, dtype: int64\n",
      "\n",
      "body_type\n",
      "внедорожник      54440\n",
      "седан            53748\n",
      "хэтчбек          15478\n",
      "лифтбек           8271\n",
      "универсал         5930\n",
      "минивэн           4010\n",
      "компактвэн        2924\n",
      "купе              2922\n",
      "пикап             1149\n",
      "купе-хардтоп       478\n",
      "кабриолет          352\n",
      "родстер            334\n",
      "фургон             322\n",
      "микровэн            48\n",
      "седан-хардтоп       36\n",
      "лимузин             15\n",
      "тарга               11\n",
      "фастбек              4\n",
      "Name: body_type, dtype: int64\n",
      "\n",
      "brand\n",
      "MERCEDES      14318\n",
      "BMW           14254\n",
      "VOLKSWAGEN    14253\n",
      "NISSAN        12782\n",
      "TOYOTA        11548\n",
      "AUDI          10462\n",
      "MITSUBISHI     9285\n",
      "SKODA          8957\n",
      "HYUNDAI        5356\n",
      "VOLVO          5334\n",
      "KIA            5305\n",
      "FORD           4763\n",
      "HONDA          4305\n",
      "CHEVROLET      3578\n",
      "LEXUS          3551\n",
      "OPEL           3086\n",
      "INFINITI       2791\n",
      "RENAULT        2676\n",
      "MAZDA          2273\n",
      "PEUGEOT        1598\n",
      "LAND_ROVER     1564\n",
      "CITROEN        1101\n",
      "DAEWOO         1028\n",
      "SUBARU          859\n",
      "SUZUKI          816\n",
      "SSANG_YONG      707\n",
      "PORSCHE         697\n",
      "CHERY           551\n",
      "JEEP            453\n",
      "GREAT_WALL      416\n",
      "DODGE           412\n",
      "CHRYSLER        316\n",
      "CADILLAC        296\n",
      "JAGUAR          294\n",
      "MINI            290\n",
      "GEELY           197\n",
      "Name: brand, dtype: int64\n",
      "\n",
      "fuel_type\n",
      "petrol     124998\n",
      "diesel      24381\n",
      "hybrid        836\n",
      "electro       234\n",
      "gas            23\n",
      "Name: fuel_type, dtype: int64\n",
      "\n",
      "transmis\n",
      "AT     83389\n",
      "MT     38515\n",
      "AMT    15066\n",
      "CVT    13502\n",
      "Name: transmis, dtype: int64\n",
      "\n",
      "type_of_drive\n",
      "front    75014\n",
      "full     61873\n",
      "back     13585\n",
      "Name: type_of_drive, dtype: int64\n",
      "\n"
     ]
    }
   ],
   "source": [
    "for col in cat_cols:\n",
    "    print(col)\n",
    "    print(data[col].value_counts())\n",
    "    print()"
   ]
  },
  {
   "cell_type": "markdown",
   "metadata": {
    "papermill": {
     "duration": 0.20335,
     "end_time": "2021-09-01T03:33:08.504544",
     "exception": false,
     "start_time": "2021-09-01T03:33:08.301194",
     "status": "completed"
    },
    "tags": []
   },
   "source": [
    "Разделим cat_cols:\n",
    "- Если категорий мало, то будем обрабатывать их с помощью Dumming,\n",
    "- Если категорий много, то - LabelEncoder \n",
    "\n",
    "К категориям на LabelEncoder добавим bin_cols - бинарные признаки"
   ]
  },
  {
   "cell_type": "code",
   "execution_count": 178,
   "metadata": {
    "execution": {
     "iopub.execute_input": "2021-09-01T03:33:08.914398Z",
     "iopub.status.busy": "2021-09-01T03:33:08.913842Z",
     "iopub.status.idle": "2021-09-01T03:33:08.926631Z",
     "shell.execute_reply": "2021-09-01T03:33:08.926078Z",
     "shell.execute_reply.started": "2021-09-01T00:31:30.426442Z"
    },
    "papermill": {
     "duration": 0.220656,
     "end_time": "2021-09-01T03:33:08.926740",
     "exception": false,
     "start_time": "2021-09-01T03:33:08.706084",
     "status": "completed"
    },
    "tags": []
   },
   "outputs": [
    {
     "data": {
      "text/html": [
       "<div>\n",
       "<style scoped>\n",
       "    .dataframe tbody tr th:only-of-type {\n",
       "        vertical-align: middle;\n",
       "    }\n",
       "\n",
       "    .dataframe tbody tr th {\n",
       "        vertical-align: top;\n",
       "    }\n",
       "\n",
       "    .dataframe thead th {\n",
       "        text-align: right;\n",
       "    }\n",
       "</style>\n",
       "<table border=\"1\" class=\"dataframe\">\n",
       "  <thead>\n",
       "    <tr style=\"text-align: right;\">\n",
       "      <th></th>\n",
       "      <th>steering_wheel</th>\n",
       "    </tr>\n",
       "  </thead>\n",
       "  <tbody>\n",
       "    <tr>\n",
       "      <th>0</th>\n",
       "      <td>left</td>\n",
       "    </tr>\n",
       "    <tr>\n",
       "      <th>1</th>\n",
       "      <td>left</td>\n",
       "    </tr>\n",
       "    <tr>\n",
       "      <th>2</th>\n",
       "      <td>left</td>\n",
       "    </tr>\n",
       "    <tr>\n",
       "      <th>3</th>\n",
       "      <td>left</td>\n",
       "    </tr>\n",
       "    <tr>\n",
       "      <th>4</th>\n",
       "      <td>left</td>\n",
       "    </tr>\n",
       "    <tr>\n",
       "      <th>...</th>\n",
       "      <td>...</td>\n",
       "    </tr>\n",
       "    <tr>\n",
       "      <th>158299</th>\n",
       "      <td>left</td>\n",
       "    </tr>\n",
       "    <tr>\n",
       "      <th>158300</th>\n",
       "      <td>left</td>\n",
       "    </tr>\n",
       "    <tr>\n",
       "      <th>158301</th>\n",
       "      <td>left</td>\n",
       "    </tr>\n",
       "    <tr>\n",
       "      <th>158302</th>\n",
       "      <td>left</td>\n",
       "    </tr>\n",
       "    <tr>\n",
       "      <th>158303</th>\n",
       "      <td>left</td>\n",
       "    </tr>\n",
       "  </tbody>\n",
       "</table>\n",
       "<p>150472 rows × 1 columns</p>\n",
       "</div>"
      ],
      "text/plain": [
       "       steering_wheel\n",
       "0                left\n",
       "1                left\n",
       "2                left\n",
       "3                left\n",
       "4                left\n",
       "...               ...\n",
       "158299           left\n",
       "158300           left\n",
       "158301           left\n",
       "158302           left\n",
       "158303           left\n",
       "\n",
       "[150472 rows x 1 columns]"
      ]
     },
     "execution_count": 178,
     "metadata": {},
     "output_type": "execute_result"
    }
   ],
   "source": [
    "data[bin_cols]"
   ]
  },
  {
   "cell_type": "code",
   "execution_count": 179,
   "metadata": {
    "execution": {
     "iopub.execute_input": "2021-09-01T03:33:09.383492Z",
     "iopub.status.busy": "2021-09-01T03:33:09.382687Z",
     "iopub.status.idle": "2021-09-01T03:33:09.384781Z",
     "shell.execute_reply": "2021-09-01T03:33:09.385533Z",
     "shell.execute_reply.started": "2021-09-01T00:31:30.442285Z"
    },
    "papermill": {
     "duration": 0.233788,
     "end_time": "2021-09-01T03:33:09.385728",
     "exception": false,
     "start_time": "2021-09-01T03:33:09.151940",
     "status": "completed"
    },
    "tags": []
   },
   "outputs": [],
   "source": [
    "# cat_cols\n",
    "cat_oh_cols = ['fuel_type', 'transmis', 'type_of_drive']\n",
    "cat_le_cols = ['model_of_car', 'body_type', 'brand', 'steering_wheel']"
   ]
  },
  {
   "cell_type": "code",
   "execution_count": 180,
   "metadata": {
    "execution": {
     "iopub.execute_input": "2021-09-01T03:33:09.827780Z",
     "iopub.status.busy": "2021-09-01T03:33:09.826959Z",
     "iopub.status.idle": "2021-09-01T03:33:09.897982Z",
     "shell.execute_reply": "2021-09-01T03:33:09.897393Z",
     "shell.execute_reply.started": "2021-09-01T00:31:30.451305Z"
    },
    "papermill": {
     "duration": 0.289722,
     "end_time": "2021-09-01T03:33:09.898076",
     "exception": false,
     "start_time": "2021-09-01T03:33:09.608354",
     "status": "completed"
    },
    "tags": []
   },
   "outputs": [],
   "source": [
    "# Преобразуем все значения категориальных признаков в числа:\n",
    "data = pd.get_dummies(data, columns=cat_oh_cols, dummy_na=False)"
   ]
  },
  {
   "cell_type": "code",
   "execution_count": 181,
   "metadata": {
    "execution": {
     "iopub.execute_input": "2021-09-01T03:33:10.345976Z",
     "iopub.status.busy": "2021-09-01T03:33:10.340594Z",
     "iopub.status.idle": "2021-09-01T03:33:10.469083Z",
     "shell.execute_reply": "2021-09-01T03:33:10.469449Z",
     "shell.execute_reply.started": "2021-09-01T00:31:30.549058Z"
    },
    "papermill": {
     "duration": 0.360681,
     "end_time": "2021-09-01T03:33:10.469570",
     "exception": false,
     "start_time": "2021-09-01T03:33:10.108889",
     "status": "completed"
    },
    "tags": []
   },
   "outputs": [
    {
     "name": "stdout",
     "output_type": "stream",
     "text": [
      "<class 'pandas.core.frame.DataFrame'>\n",
      "Int64Index: 150472 entries, 0 to 158303\n",
      "Data columns (total 28 columns):\n",
      " #   Column               Non-Null Count   Dtype  \n",
      "---  ------               --------------   -----  \n",
      " 0   body_type            150472 non-null  int64  \n",
      " 1   brand                150472 non-null  int64  \n",
      " 2   model_of_car         150472 non-null  int64  \n",
      " 3   color                150472 non-null  int64  \n",
      " 4   engine_volume        150472 non-null  float64\n",
      " 5   engine_power         150472 non-null  int64  \n",
      " 6   mileage              150472 non-null  int64  \n",
      " 7   production_d         150472 non-null  int64  \n",
      " 8   number_of_doors      150472 non-null  float64\n",
      " 9   sell_id              150472 non-null  int64  \n",
      " 10  owners_qty           150472 non-null  float64\n",
      " 11  licence              150472 non-null  float64\n",
      " 12  mileage_per_year     150472 non-null  float64\n",
      " 13  steering_wheel       150472 non-null  int64  \n",
      " 14  price                150472 non-null  float64\n",
      " 15  sample               150472 non-null  int64  \n",
      " 16  fuel_type_diesel     150472 non-null  uint8  \n",
      " 17  fuel_type_electro    150472 non-null  uint8  \n",
      " 18  fuel_type_gas        150472 non-null  uint8  \n",
      " 19  fuel_type_hybrid     150472 non-null  uint8  \n",
      " 20  fuel_type_petrol     150472 non-null  uint8  \n",
      " 21  transmis_AMT         150472 non-null  uint8  \n",
      " 22  transmis_AT          150472 non-null  uint8  \n",
      " 23  transmis_CVT         150472 non-null  uint8  \n",
      " 24  transmis_MT          150472 non-null  uint8  \n",
      " 25  type_of_drive_back   150472 non-null  uint8  \n",
      " 26  type_of_drive_front  150472 non-null  uint8  \n",
      " 27  type_of_drive_full   150472 non-null  uint8  \n",
      "dtypes: float64(6), int64(10), uint8(12)\n",
      "memory usage: 21.2 MB\n"
     ]
    }
   ],
   "source": [
    "# Преобразуем все значения категориальных признаков в числа:\n",
    "\n",
    "label_encoder = LabelEncoder()\n",
    "for i in cat_le_cols:\n",
    "    data[i] = label_encoder.fit_transform(data[i])\n",
    "data.info()    "
   ]
  },
  {
   "cell_type": "markdown",
   "metadata": {
    "papermill": {
     "duration": 0.208574,
     "end_time": "2021-09-01T03:33:10.885938",
     "exception": false,
     "start_time": "2021-09-01T03:33:10.677364",
     "status": "completed"
    },
    "tags": []
   },
   "source": [
    "**Оценим влияние категориальных признаков на целевую переменную**"
   ]
  },
  {
   "cell_type": "code",
   "execution_count": 182,
   "metadata": {
    "execution": {
     "iopub.execute_input": "2021-09-01T03:33:11.316535Z",
     "iopub.status.busy": "2021-09-01T03:33:11.315833Z",
     "iopub.status.idle": "2021-09-01T03:33:11.331966Z",
     "shell.execute_reply": "2021-09-01T03:33:11.332493Z",
     "shell.execute_reply.started": "2021-09-01T00:31:30.812422Z"
    },
    "papermill": {
     "duration": 0.236545,
     "end_time": "2021-09-01T03:33:11.332658",
     "exception": false,
     "start_time": "2021-09-01T03:33:11.096113",
     "status": "completed"
    },
    "tags": []
   },
   "outputs": [
    {
     "name": "stdout",
     "output_type": "stream",
     "text": [
      "<class 'pandas.core.frame.DataFrame'>\n",
      "Int64Index: 150472 entries, 0 to 158303\n",
      "Data columns (total 19 columns):\n",
      " #   Column               Non-Null Count   Dtype  \n",
      "---  ------               --------------   -----  \n",
      " 0   body_type            150472 non-null  int64  \n",
      " 1   brand                150472 non-null  int64  \n",
      " 2   model_of_car         150472 non-null  int64  \n",
      " 3   color                150472 non-null  int64  \n",
      " 4   owners_qty           150472 non-null  float64\n",
      " 5   licence              150472 non-null  float64\n",
      " 6   steering_wheel       150472 non-null  int64  \n",
      " 7   fuel_type_diesel     150472 non-null  uint8  \n",
      " 8   fuel_type_electro    150472 non-null  uint8  \n",
      " 9   fuel_type_gas        150472 non-null  uint8  \n",
      " 10  fuel_type_hybrid     150472 non-null  uint8  \n",
      " 11  fuel_type_petrol     150472 non-null  uint8  \n",
      " 12  transmis_AMT         150472 non-null  uint8  \n",
      " 13  transmis_AT          150472 non-null  uint8  \n",
      " 14  transmis_CVT         150472 non-null  uint8  \n",
      " 15  transmis_MT          150472 non-null  uint8  \n",
      " 16  type_of_drive_back   150472 non-null  uint8  \n",
      " 17  type_of_drive_front  150472 non-null  uint8  \n",
      " 18  type_of_drive_full   150472 non-null  uint8  \n",
      "dtypes: float64(2), int64(5), uint8(12)\n",
      "memory usage: 10.9 MB\n"
     ]
    }
   ],
   "source": [
    "cat_new_cols = data.columns\n",
    "# len(cat_cols)\n",
    "cat_new_cols = [x for x in cat_new_cols if x not in (num_cols + ['sell_id','price','sample'])]\n",
    "data[cat_new_cols].info()"
   ]
  },
  {
   "cell_type": "code",
   "execution_count": 183,
   "metadata": {
    "execution": {
     "iopub.execute_input": "2021-09-01T03:33:11.757269Z",
     "iopub.status.busy": "2021-09-01T03:33:11.756777Z",
     "iopub.status.idle": "2021-09-01T03:33:11.759916Z",
     "shell.execute_reply": "2021-09-01T03:33:11.759425Z",
     "shell.execute_reply.started": "2021-09-01T00:31:30.839102Z"
    },
    "papermill": {
     "duration": 0.217755,
     "end_time": "2021-09-01T03:33:11.760016",
     "exception": false,
     "start_time": "2021-09-01T03:33:11.542261",
     "status": "completed"
    },
    "tags": []
   },
   "outputs": [],
   "source": [
    "imp_num = imp_cat.copy()"
   ]
  },
  {
   "cell_type": "code",
   "execution_count": 184,
   "metadata": {
    "execution": {
     "iopub.execute_input": "2021-09-01T03:33:12.228489Z",
     "iopub.status.busy": "2021-09-01T03:33:12.227924Z",
     "iopub.status.idle": "2021-09-01T03:33:13.114537Z",
     "shell.execute_reply": "2021-09-01T03:33:13.113731Z",
     "shell.execute_reply.started": "2021-09-01T00:31:30.845260Z"
    },
    "papermill": {
     "duration": 1.14628,
     "end_time": "2021-09-01T03:33:13.114680",
     "exception": false,
     "start_time": "2021-09-01T03:33:11.968400",
     "status": "completed"
    },
    "tags": []
   },
   "outputs": [
    {
     "data": {
      "text/plain": [
       "Text(0.5, 1.0, 'Влияние категориальных признаков на price')"
      ]
     },
     "execution_count": 184,
     "metadata": {},
     "output_type": "execute_result"
    },
    {
     "data": {
      "image/png": "[encoded data removed]",
      "text/plain": [
       "<Figure size 576x396 with 1 Axes>"
      ]
     },
     "metadata": {},
     "output_type": "display_data"
    }
   ],
   "source": [
    "imp_cat = Series(mutual_info_classif(data[data['price'].isna() == False][cat_new_cols], \n",
    "                                     data[data['price'].isna() == False]['price'],\n",
    "                                     discrete_features = True), index = cat_new_cols)\n",
    "imp_cat.sort_values(inplace = True)\n",
    "imp_cat.plot(kind = 'barh')\n",
    "plt.title('Влияние категориальных признаков на price')"
   ]
  },
  {
   "cell_type": "markdown",
   "metadata": {
    "papermill": {
     "duration": 0.207624,
     "end_time": "2021-09-01T03:33:13.534127",
     "exception": false,
     "start_time": "2021-09-01T03:33:13.326503",
     "status": "completed"
    },
    "tags": []
   },
   "source": [
    "Объединим веса в один сериес. Нужно перевести его в list, но чтобы значения признаков стояли в том же порядке, что и в data"
   ]
  },
  {
   "cell_type": "code",
   "execution_count": 185,
   "metadata": {
    "execution": {
     "iopub.execute_input": "2021-09-01T03:33:13.959212Z",
     "iopub.status.busy": "2021-09-01T03:33:13.958708Z",
     "iopub.status.idle": "2021-09-01T03:33:13.962983Z",
     "shell.execute_reply": "2021-09-01T03:33:13.962515Z",
     "shell.execute_reply.started": "2021-09-01T00:31:31.916185Z"
    },
    "papermill": {
     "duration": 0.221675,
     "end_time": "2021-09-01T03:33:13.963088",
     "exception": false,
     "start_time": "2021-09-01T03:33:13.741413",
     "status": "completed"
    },
    "tags": []
   },
   "outputs": [
    {
     "data": {
      "text/plain": [
       "[0.2598420544532554,\n",
       " 0.584722254783069,\n",
       " 1.5358601409722747,\n",
       " 0.10906383910677706,\n",
       " 0.6611426465135456,\n",
       " 0.5000900381074692,\n",
       " 3.2018591841560973,\n",
       " 0.8346842197439535,\n",
       " 0.12230722576410077,\n",
       " 0.1426790904241566,\n",
       " 0.04562003826217516,\n",
       " 1.2889327564275799,\n",
       " 0.013708160169295238,\n",
       " 0.08440383887192603,\n",
       " 0.0038307130403143095,\n",
       " 0.00031540682766595656,\n",
       " 0.005842868447791583,\n",
       " 0.08596834037119944,\n",
       " 0.04413467360471849,\n",
       " 0.09524821947400779,\n",
       " 0.04367541814456523,\n",
       " 0.14292494007165915,\n",
       " 0.02595454467200306,\n",
       " 0.1600269221920217,\n",
       " 0.1546096066877986]"
      ]
     },
     "execution_count": 185,
     "metadata": {},
     "output_type": "execute_result"
    }
   ],
   "source": [
    "imp_weights = pd.concat([imp_num, imp_cat]).drop_duplicates()\n",
    "cols = data.columns\n",
    "weights = [imp_weights[col] for col in cols if col not in ['sell_id', 'price', 'sample']]\n",
    "weights\n"
   ]
  },
  {
   "cell_type": "markdown",
   "metadata": {
    "papermill": {
     "duration": 0.20829,
     "end_time": "2021-09-01T03:33:14.379206",
     "exception": false,
     "start_time": "2021-09-01T03:33:14.170916",
     "status": "completed"
    },
    "tags": []
   },
   "source": [
    "# Улучшение числовых признаков\n",
    "Проведем нормализацию и логарифмирование"
   ]
  },
  {
   "cell_type": "code",
   "execution_count": 186,
   "metadata": {
    "execution": {
     "iopub.execute_input": "2021-09-01T03:33:14.803041Z",
     "iopub.status.busy": "2021-09-01T03:33:14.802332Z",
     "iopub.status.idle": "2021-09-01T03:33:14.804579Z",
     "shell.execute_reply": "2021-09-01T03:33:14.805095Z",
     "shell.execute_reply.started": "2021-09-01T00:31:31.927157Z"
    },
    "papermill": {
     "duration": 0.21583,
     "end_time": "2021-09-01T03:33:14.805211",
     "exception": false,
     "start_time": "2021-09-01T03:33:14.589381",
     "status": "completed"
    },
    "tags": []
   },
   "outputs": [],
   "source": [
    "# # data = data20.copy()\n",
    "# dn = data.copy()"
   ]
  },
  {
   "cell_type": "markdown",
   "metadata": {
    "papermill": {
     "duration": 0.209743,
     "end_time": "2021-09-01T03:33:15.225072",
     "exception": false,
     "start_time": "2021-09-01T03:33:15.015329",
     "status": "completed"
    },
    "tags": []
   },
   "source": [
    "К числовым признакам добавим еще и те категориальные признаки, которые мы обработали с помощью LabelEncoding, так как получили в них большой разброс чисел"
   ]
  },
  {
   "cell_type": "code",
   "execution_count": 187,
   "metadata": {
    "execution": {
     "iopub.execute_input": "2021-09-01T03:33:15.642419Z",
     "iopub.status.busy": "2021-09-01T03:33:15.641033Z",
     "iopub.status.idle": "2021-09-01T03:33:15.646277Z",
     "shell.execute_reply": "2021-09-01T03:33:15.645820Z",
     "shell.execute_reply.started": "2021-09-01T00:31:31.937641Z"
    },
    "papermill": {
     "duration": 0.215028,
     "end_time": "2021-09-01T03:33:15.646377",
     "exception": false,
     "start_time": "2021-09-01T03:33:15.431349",
     "status": "completed"
    },
    "tags": []
   },
   "outputs": [],
   "source": [
    "# dd = dn.drop(['sample','sell_id','price'],1).copy()\n",
    "# dd = pd.DataFrame(StandardScaler().fit_transform(dd), columns = dd.columns)\n",
    "# dn[dd.columns] = dd\n",
    "# dn"
   ]
  },
  {
   "cell_type": "code",
   "execution_count": 188,
   "metadata": {
    "execution": {
     "iopub.execute_input": "2021-09-01T03:33:16.071675Z",
     "iopub.status.busy": "2021-09-01T03:33:16.070725Z",
     "iopub.status.idle": "2021-09-01T03:33:16.073970Z",
     "shell.execute_reply": "2021-09-01T03:33:16.073320Z",
     "shell.execute_reply.started": "2021-09-01T00:31:31.948654Z"
    },
    "papermill": {
     "duration": 0.217398,
     "end_time": "2021-09-01T03:33:16.074081",
     "exception": false,
     "start_time": "2021-09-01T03:33:15.856683",
     "status": "completed"
    },
    "tags": []
   },
   "outputs": [],
   "source": [
    "# # 'production_d', 'engine_power', 'mileage', 'mileage_per_year'\n",
    "# dn[['production_d', 'engine_power', 'mileage', 'mileage_per_year']] = np.log(dn[['production_d', 'engine_power', 'mileage', 'mileage_per_year']] + 1)"
   ]
  },
  {
   "cell_type": "code",
   "execution_count": 189,
   "metadata": {
    "execution": {
     "iopub.execute_input": "2021-09-01T03:33:16.692238Z",
     "iopub.status.busy": "2021-09-01T03:33:16.691126Z",
     "iopub.status.idle": "2021-09-01T03:33:16.695683Z",
     "shell.execute_reply": "2021-09-01T03:33:16.695080Z",
     "shell.execute_reply.started": "2021-09-01T00:31:31.959462Z"
    },
    "papermill": {
     "duration": 0.313645,
     "end_time": "2021-09-01T03:33:16.695808",
     "exception": false,
     "start_time": "2021-09-01T03:33:16.382163",
     "status": "completed"
    },
    "tags": []
   },
   "outputs": [],
   "source": [
    "# for col in num_cols:\n",
    "#     visualizing_number(data20, col)"
   ]
  },
  {
   "cell_type": "code",
   "execution_count": 190,
   "metadata": {
    "execution": {
     "iopub.execute_input": "2021-09-01T03:33:17.333708Z",
     "iopub.status.busy": "2021-09-01T03:33:17.332241Z",
     "iopub.status.idle": "2021-09-01T03:33:17.338060Z",
     "shell.execute_reply": "2021-09-01T03:33:17.337309Z",
     "shell.execute_reply.started": "2021-09-01T00:31:31.970642Z"
    },
    "papermill": {
     "duration": 0.330192,
     "end_time": "2021-09-01T03:33:17.338193",
     "exception": false,
     "start_time": "2021-09-01T03:33:17.008001",
     "status": "completed"
    },
    "tags": []
   },
   "outputs": [],
   "source": [
    "# for col in num_cols:\n",
    "#     visualizing_number(dn, col)"
   ]
  },
  {
   "cell_type": "code",
   "execution_count": 191,
   "metadata": {
    "execution": {
     "iopub.execute_input": "2021-09-01T03:33:17.977831Z",
     "iopub.status.busy": "2021-09-01T03:33:17.977271Z",
     "iopub.status.idle": "2021-09-01T03:33:17.979388Z",
     "shell.execute_reply": "2021-09-01T03:33:17.978924Z",
     "shell.execute_reply.started": "2021-09-01T00:31:31.980760Z"
    },
    "papermill": {
     "duration": 0.320343,
     "end_time": "2021-09-01T03:33:17.979480",
     "exception": false,
     "start_time": "2021-09-01T03:33:17.659137",
     "status": "completed"
    },
    "tags": []
   },
   "outputs": [],
   "source": [
    "# data20 = data.copy()\n",
    "# data = dn.copy()"
   ]
  },
  {
   "cell_type": "markdown",
   "metadata": {
    "papermill": {
     "duration": 0.214446,
     "end_time": "2021-09-01T03:33:18.404701",
     "exception": false,
     "start_time": "2021-09-01T03:33:18.190255",
     "status": "completed"
    },
    "tags": []
   },
   "source": [
    "# Разделение переменных"
   ]
  },
  {
   "cell_type": "code",
   "execution_count": 192,
   "metadata": {
    "execution": {
     "iopub.execute_input": "2021-09-01T03:33:18.991092Z",
     "iopub.status.busy": "2021-09-01T03:33:18.989989Z",
     "iopub.status.idle": "2021-09-01T03:33:19.049531Z",
     "shell.execute_reply": "2021-09-01T03:33:19.048939Z",
     "shell.execute_reply.started": "2021-09-01T00:31:31.993361Z"
    },
    "papermill": {
     "duration": 0.379348,
     "end_time": "2021-09-01T03:33:19.049681",
     "exception": false,
     "start_time": "2021-09-01T03:33:18.670333",
     "status": "completed"
    },
    "tags": []
   },
   "outputs": [
    {
     "data": {
      "text/html": [
       "<div>\n",
       "<style scoped>\n",
       "    .dataframe tbody tr th:only-of-type {\n",
       "        vertical-align: middle;\n",
       "    }\n",
       "\n",
       "    .dataframe tbody tr th {\n",
       "        vertical-align: top;\n",
       "    }\n",
       "\n",
       "    .dataframe thead th {\n",
       "        text-align: right;\n",
       "    }\n",
       "</style>\n",
       "<table border=\"1\" class=\"dataframe\">\n",
       "  <thead>\n",
       "    <tr style=\"text-align: right;\">\n",
       "      <th></th>\n",
       "      <th>body_type</th>\n",
       "      <th>brand</th>\n",
       "      <th>model_of_car</th>\n",
       "      <th>color</th>\n",
       "      <th>engine_volume</th>\n",
       "      <th>engine_power</th>\n",
       "      <th>mileage</th>\n",
       "      <th>production_d</th>\n",
       "      <th>number_of_doors</th>\n",
       "      <th>sell_id</th>\n",
       "      <th>...</th>\n",
       "      <th>fuel_type_gas</th>\n",
       "      <th>fuel_type_hybrid</th>\n",
       "      <th>fuel_type_petrol</th>\n",
       "      <th>transmis_AMT</th>\n",
       "      <th>transmis_AT</th>\n",
       "      <th>transmis_CVT</th>\n",
       "      <th>transmis_MT</th>\n",
       "      <th>type_of_drive_back</th>\n",
       "      <th>type_of_drive_front</th>\n",
       "      <th>type_of_drive_full</th>\n",
       "    </tr>\n",
       "  </thead>\n",
       "  <tbody>\n",
       "    <tr>\n",
       "      <th>0</th>\n",
       "      <td>6</td>\n",
       "      <td>29</td>\n",
       "      <td>718</td>\n",
       "      <td>2</td>\n",
       "      <td>1.2</td>\n",
       "      <td>2</td>\n",
       "      <td>74000</td>\n",
       "      <td>7</td>\n",
       "      <td>5.0</td>\n",
       "      <td>1100575026</td>\n",
       "      <td>...</td>\n",
       "      <td>0</td>\n",
       "      <td>0</td>\n",
       "      <td>1</td>\n",
       "      <td>1</td>\n",
       "      <td>0</td>\n",
       "      <td>0</td>\n",
       "      <td>0</td>\n",
       "      <td>0</td>\n",
       "      <td>1</td>\n",
       "      <td>0</td>\n",
       "    </tr>\n",
       "    <tr>\n",
       "      <th>1</th>\n",
       "      <td>6</td>\n",
       "      <td>29</td>\n",
       "      <td>718</td>\n",
       "      <td>1</td>\n",
       "      <td>1.6</td>\n",
       "      <td>2</td>\n",
       "      <td>60563</td>\n",
       "      <td>4</td>\n",
       "      <td>5.0</td>\n",
       "      <td>1100549428</td>\n",
       "      <td>...</td>\n",
       "      <td>0</td>\n",
       "      <td>0</td>\n",
       "      <td>1</td>\n",
       "      <td>0</td>\n",
       "      <td>0</td>\n",
       "      <td>0</td>\n",
       "      <td>1</td>\n",
       "      <td>0</td>\n",
       "      <td>1</td>\n",
       "      <td>0</td>\n",
       "    </tr>\n",
       "    <tr>\n",
       "      <th>2</th>\n",
       "      <td>6</td>\n",
       "      <td>29</td>\n",
       "      <td>973</td>\n",
       "      <td>2</td>\n",
       "      <td>1.8</td>\n",
       "      <td>3</td>\n",
       "      <td>88000</td>\n",
       "      <td>7</td>\n",
       "      <td>5.0</td>\n",
       "      <td>1100658222</td>\n",
       "      <td>...</td>\n",
       "      <td>0</td>\n",
       "      <td>0</td>\n",
       "      <td>1</td>\n",
       "      <td>1</td>\n",
       "      <td>0</td>\n",
       "      <td>0</td>\n",
       "      <td>0</td>\n",
       "      <td>0</td>\n",
       "      <td>1</td>\n",
       "      <td>0</td>\n",
       "    </tr>\n",
       "    <tr>\n",
       "      <th>3</th>\n",
       "      <td>6</td>\n",
       "      <td>29</td>\n",
       "      <td>718</td>\n",
       "      <td>3</td>\n",
       "      <td>1.6</td>\n",
       "      <td>2</td>\n",
       "      <td>95000</td>\n",
       "      <td>7</td>\n",
       "      <td>5.0</td>\n",
       "      <td>1100937408</td>\n",
       "      <td>...</td>\n",
       "      <td>0</td>\n",
       "      <td>0</td>\n",
       "      <td>1</td>\n",
       "      <td>0</td>\n",
       "      <td>1</td>\n",
       "      <td>0</td>\n",
       "      <td>0</td>\n",
       "      <td>0</td>\n",
       "      <td>1</td>\n",
       "      <td>0</td>\n",
       "    </tr>\n",
       "    <tr>\n",
       "      <th>4</th>\n",
       "      <td>6</td>\n",
       "      <td>29</td>\n",
       "      <td>718</td>\n",
       "      <td>1</td>\n",
       "      <td>1.8</td>\n",
       "      <td>3</td>\n",
       "      <td>58536</td>\n",
       "      <td>9</td>\n",
       "      <td>5.0</td>\n",
       "      <td>1101037972</td>\n",
       "      <td>...</td>\n",
       "      <td>0</td>\n",
       "      <td>0</td>\n",
       "      <td>1</td>\n",
       "      <td>0</td>\n",
       "      <td>1</td>\n",
       "      <td>0</td>\n",
       "      <td>0</td>\n",
       "      <td>0</td>\n",
       "      <td>1</td>\n",
       "      <td>0</td>\n",
       "    </tr>\n",
       "    <tr>\n",
       "      <th>...</th>\n",
       "      <td>...</td>\n",
       "      <td>...</td>\n",
       "      <td>...</td>\n",
       "      <td>...</td>\n",
       "      <td>...</td>\n",
       "      <td>...</td>\n",
       "      <td>...</td>\n",
       "      <td>...</td>\n",
       "      <td>...</td>\n",
       "      <td>...</td>\n",
       "      <td>...</td>\n",
       "      <td>...</td>\n",
       "      <td>...</td>\n",
       "      <td>...</td>\n",
       "      <td>...</td>\n",
       "      <td>...</td>\n",
       "      <td>...</td>\n",
       "      <td>...</td>\n",
       "      <td>...</td>\n",
       "      <td>...</td>\n",
       "      <td>...</td>\n",
       "    </tr>\n",
       "    <tr>\n",
       "      <th>34681</th>\n",
       "      <td>11</td>\n",
       "      <td>1</td>\n",
       "      <td>50</td>\n",
       "      <td>3</td>\n",
       "      <td>1.6</td>\n",
       "      <td>2</td>\n",
       "      <td>115000</td>\n",
       "      <td>7</td>\n",
       "      <td>4.0</td>\n",
       "      <td>1101369263</td>\n",
       "      <td>...</td>\n",
       "      <td>0</td>\n",
       "      <td>0</td>\n",
       "      <td>1</td>\n",
       "      <td>0</td>\n",
       "      <td>1</td>\n",
       "      <td>0</td>\n",
       "      <td>0</td>\n",
       "      <td>1</td>\n",
       "      <td>0</td>\n",
       "      <td>0</td>\n",
       "    </tr>\n",
       "    <tr>\n",
       "      <th>34682</th>\n",
       "      <td>11</td>\n",
       "      <td>1</td>\n",
       "      <td>66</td>\n",
       "      <td>1</td>\n",
       "      <td>2.0</td>\n",
       "      <td>3</td>\n",
       "      <td>98000</td>\n",
       "      <td>3</td>\n",
       "      <td>4.0</td>\n",
       "      <td>1101369581</td>\n",
       "      <td>...</td>\n",
       "      <td>0</td>\n",
       "      <td>0</td>\n",
       "      <td>0</td>\n",
       "      <td>0</td>\n",
       "      <td>1</td>\n",
       "      <td>0</td>\n",
       "      <td>0</td>\n",
       "      <td>0</td>\n",
       "      <td>0</td>\n",
       "      <td>1</td>\n",
       "    </tr>\n",
       "    <tr>\n",
       "      <th>34683</th>\n",
       "      <td>11</td>\n",
       "      <td>1</td>\n",
       "      <td>66</td>\n",
       "      <td>2</td>\n",
       "      <td>2.5</td>\n",
       "      <td>3</td>\n",
       "      <td>360000</td>\n",
       "      <td>24</td>\n",
       "      <td>4.0</td>\n",
       "      <td>1101364889</td>\n",
       "      <td>...</td>\n",
       "      <td>0</td>\n",
       "      <td>0</td>\n",
       "      <td>1</td>\n",
       "      <td>0</td>\n",
       "      <td>1</td>\n",
       "      <td>0</td>\n",
       "      <td>0</td>\n",
       "      <td>1</td>\n",
       "      <td>0</td>\n",
       "      <td>0</td>\n",
       "    </tr>\n",
       "    <tr>\n",
       "      <th>34684</th>\n",
       "      <td>0</td>\n",
       "      <td>1</td>\n",
       "      <td>1103</td>\n",
       "      <td>3</td>\n",
       "      <td>2.0</td>\n",
       "      <td>3</td>\n",
       "      <td>90500</td>\n",
       "      <td>8</td>\n",
       "      <td>5.0</td>\n",
       "      <td>1101362518</td>\n",
       "      <td>...</td>\n",
       "      <td>0</td>\n",
       "      <td>0</td>\n",
       "      <td>0</td>\n",
       "      <td>0</td>\n",
       "      <td>1</td>\n",
       "      <td>0</td>\n",
       "      <td>0</td>\n",
       "      <td>0</td>\n",
       "      <td>0</td>\n",
       "      <td>1</td>\n",
       "    </tr>\n",
       "    <tr>\n",
       "      <th>34685</th>\n",
       "      <td>0</td>\n",
       "      <td>1</td>\n",
       "      <td>1109</td>\n",
       "      <td>1</td>\n",
       "      <td>3.0</td>\n",
       "      <td>4</td>\n",
       "      <td>240000</td>\n",
       "      <td>13</td>\n",
       "      <td>5.0</td>\n",
       "      <td>1101256068</td>\n",
       "      <td>...</td>\n",
       "      <td>0</td>\n",
       "      <td>0</td>\n",
       "      <td>0</td>\n",
       "      <td>0</td>\n",
       "      <td>1</td>\n",
       "      <td>0</td>\n",
       "      <td>0</td>\n",
       "      <td>0</td>\n",
       "      <td>0</td>\n",
       "      <td>1</td>\n",
       "    </tr>\n",
       "  </tbody>\n",
       "</table>\n",
       "<p>34686 rows × 26 columns</p>\n",
       "</div>"
      ],
      "text/plain": [
       "       body_type  brand  model_of_car  color  engine_volume  engine_power  \\\n",
       "0              6     29           718      2            1.2             2   \n",
       "1              6     29           718      1            1.6             2   \n",
       "2              6     29           973      2            1.8             3   \n",
       "3              6     29           718      3            1.6             2   \n",
       "4              6     29           718      1            1.8             3   \n",
       "...          ...    ...           ...    ...            ...           ...   \n",
       "34681         11      1            50      3            1.6             2   \n",
       "34682         11      1            66      1            2.0             3   \n",
       "34683         11      1            66      2            2.5             3   \n",
       "34684          0      1          1103      3            2.0             3   \n",
       "34685          0      1          1109      1            3.0             4   \n",
       "\n",
       "       mileage  production_d  number_of_doors     sell_id  ...  fuel_type_gas  \\\n",
       "0        74000             7              5.0  1100575026  ...              0   \n",
       "1        60563             4              5.0  1100549428  ...              0   \n",
       "2        88000             7              5.0  1100658222  ...              0   \n",
       "3        95000             7              5.0  1100937408  ...              0   \n",
       "4        58536             9              5.0  1101037972  ...              0   \n",
       "...        ...           ...              ...         ...  ...            ...   \n",
       "34681   115000             7              4.0  1101369263  ...              0   \n",
       "34682    98000             3              4.0  1101369581  ...              0   \n",
       "34683   360000            24              4.0  1101364889  ...              0   \n",
       "34684    90500             8              5.0  1101362518  ...              0   \n",
       "34685   240000            13              5.0  1101256068  ...              0   \n",
       "\n",
       "       fuel_type_hybrid  fuel_type_petrol  transmis_AMT  transmis_AT  \\\n",
       "0                     0                 1             1            0   \n",
       "1                     0                 1             0            0   \n",
       "2                     0                 1             1            0   \n",
       "3                     0                 1             0            1   \n",
       "4                     0                 1             0            1   \n",
       "...                 ...               ...           ...          ...   \n",
       "34681                 0                 1             0            1   \n",
       "34682                 0                 0             0            1   \n",
       "34683                 0                 1             0            1   \n",
       "34684                 0                 0             0            1   \n",
       "34685                 0                 0             0            1   \n",
       "\n",
       "       transmis_CVT  transmis_MT  type_of_drive_back  type_of_drive_front  \\\n",
       "0                 0            0                   0                    1   \n",
       "1                 0            1                   0                    1   \n",
       "2                 0            0                   0                    1   \n",
       "3                 0            0                   0                    1   \n",
       "4                 0            0                   0                    1   \n",
       "...             ...          ...                 ...                  ...   \n",
       "34681             0            0                   1                    0   \n",
       "34682             0            0                   0                    0   \n",
       "34683             0            0                   1                    0   \n",
       "34684             0            0                   0                    0   \n",
       "34685             0            0                   0                    0   \n",
       "\n",
       "       type_of_drive_full  \n",
       "0                       0  \n",
       "1                       0  \n",
       "2                       0  \n",
       "3                       0  \n",
       "4                       0  \n",
       "...                   ...  \n",
       "34681                   0  \n",
       "34682                   1  \n",
       "34683                   0  \n",
       "34684                   1  \n",
       "34685                   1  \n",
       "\n",
       "[34686 rows x 26 columns]"
      ]
     },
     "execution_count": 192,
     "metadata": {},
     "output_type": "execute_result"
    }
   ],
   "source": [
    "X = data.query('sample == 1').drop(['sample', 'price', 'sell_id'], axis=1)\n",
    "X_sub = data.query('sample == 0').drop(['sample', 'price'], axis=1)\n",
    "y = data.query('sample == 1')['price'].values\n",
    "X_sub"
   ]
  },
  {
   "cell_type": "code",
   "execution_count": 193,
   "metadata": {
    "execution": {
     "iopub.execute_input": "2021-09-01T03:33:19.680658Z",
     "iopub.status.busy": "2021-09-01T03:33:19.674715Z",
     "iopub.status.idle": "2021-09-01T03:33:19.736817Z",
     "shell.execute_reply": "2021-09-01T03:33:19.736269Z",
     "shell.execute_reply.started": "2021-09-01T00:31:32.072703Z"
    },
    "papermill": {
     "duration": 0.377236,
     "end_time": "2021-09-01T03:33:19.736939",
     "exception": false,
     "start_time": "2021-09-01T03:33:19.359703",
     "status": "completed"
    },
    "tags": []
   },
   "outputs": [
    {
     "data": {
      "text/html": [
       "<div>\n",
       "<style scoped>\n",
       "    .dataframe tbody tr th:only-of-type {\n",
       "        vertical-align: middle;\n",
       "    }\n",
       "\n",
       "    .dataframe tbody tr th {\n",
       "        vertical-align: top;\n",
       "    }\n",
       "\n",
       "    .dataframe thead th {\n",
       "        text-align: right;\n",
       "    }\n",
       "</style>\n",
       "<table border=\"1\" class=\"dataframe\">\n",
       "  <thead>\n",
       "    <tr style=\"text-align: right;\">\n",
       "      <th></th>\n",
       "      <th>body_type</th>\n",
       "      <th>brand</th>\n",
       "      <th>model_of_car</th>\n",
       "      <th>color</th>\n",
       "      <th>engine_volume</th>\n",
       "      <th>engine_power</th>\n",
       "      <th>mileage</th>\n",
       "      <th>production_d</th>\n",
       "      <th>number_of_doors</th>\n",
       "      <th>owners_qty</th>\n",
       "      <th>...</th>\n",
       "      <th>fuel_type_gas</th>\n",
       "      <th>fuel_type_hybrid</th>\n",
       "      <th>fuel_type_petrol</th>\n",
       "      <th>transmis_AMT</th>\n",
       "      <th>transmis_AT</th>\n",
       "      <th>transmis_CVT</th>\n",
       "      <th>transmis_MT</th>\n",
       "      <th>type_of_drive_back</th>\n",
       "      <th>type_of_drive_front</th>\n",
       "      <th>type_of_drive_full</th>\n",
       "    </tr>\n",
       "  </thead>\n",
       "  <tbody>\n",
       "    <tr>\n",
       "      <th>36326</th>\n",
       "      <td>6</td>\n",
       "      <td>29</td>\n",
       "      <td>718</td>\n",
       "      <td>1</td>\n",
       "      <td>1.4</td>\n",
       "      <td>3</td>\n",
       "      <td>34539</td>\n",
       "      <td>3</td>\n",
       "      <td>5.0</td>\n",
       "      <td>1.0</td>\n",
       "      <td>...</td>\n",
       "      <td>0</td>\n",
       "      <td>0</td>\n",
       "      <td>1</td>\n",
       "      <td>1</td>\n",
       "      <td>0</td>\n",
       "      <td>0</td>\n",
       "      <td>0</td>\n",
       "      <td>0</td>\n",
       "      <td>1</td>\n",
       "      <td>0</td>\n",
       "    </tr>\n",
       "    <tr>\n",
       "      <th>105807</th>\n",
       "      <td>0</td>\n",
       "      <td>17</td>\n",
       "      <td>937</td>\n",
       "      <td>2</td>\n",
       "      <td>2.4</td>\n",
       "      <td>3</td>\n",
       "      <td>117000</td>\n",
       "      <td>8</td>\n",
       "      <td>5.0</td>\n",
       "      <td>3.0</td>\n",
       "      <td>...</td>\n",
       "      <td>0</td>\n",
       "      <td>0</td>\n",
       "      <td>1</td>\n",
       "      <td>0</td>\n",
       "      <td>1</td>\n",
       "      <td>0</td>\n",
       "      <td>0</td>\n",
       "      <td>0</td>\n",
       "      <td>0</td>\n",
       "      <td>1</td>\n",
       "    </tr>\n",
       "    <tr>\n",
       "      <th>136940</th>\n",
       "      <td>17</td>\n",
       "      <td>33</td>\n",
       "      <td>659</td>\n",
       "      <td>3</td>\n",
       "      <td>1.8</td>\n",
       "      <td>2</td>\n",
       "      <td>120000</td>\n",
       "      <td>19</td>\n",
       "      <td>5.0</td>\n",
       "      <td>1.0</td>\n",
       "      <td>...</td>\n",
       "      <td>0</td>\n",
       "      <td>0</td>\n",
       "      <td>1</td>\n",
       "      <td>0</td>\n",
       "      <td>1</td>\n",
       "      <td>0</td>\n",
       "      <td>0</td>\n",
       "      <td>0</td>\n",
       "      <td>1</td>\n",
       "      <td>0</td>\n",
       "    </tr>\n",
       "    <tr>\n",
       "      <th>51755</th>\n",
       "      <td>0</td>\n",
       "      <td>24</td>\n",
       "      <td>802</td>\n",
       "      <td>3</td>\n",
       "      <td>1.2</td>\n",
       "      <td>2</td>\n",
       "      <td>18217</td>\n",
       "      <td>2</td>\n",
       "      <td>5.0</td>\n",
       "      <td>1.0</td>\n",
       "      <td>...</td>\n",
       "      <td>0</td>\n",
       "      <td>0</td>\n",
       "      <td>1</td>\n",
       "      <td>0</td>\n",
       "      <td>0</td>\n",
       "      <td>1</td>\n",
       "      <td>0</td>\n",
       "      <td>0</td>\n",
       "      <td>1</td>\n",
       "      <td>0</td>\n",
       "    </tr>\n",
       "    <tr>\n",
       "      <th>94132</th>\n",
       "      <td>11</td>\n",
       "      <td>13</td>\n",
       "      <td>103</td>\n",
       "      <td>2</td>\n",
       "      <td>2.3</td>\n",
       "      <td>2</td>\n",
       "      <td>148000</td>\n",
       "      <td>13</td>\n",
       "      <td>4.0</td>\n",
       "      <td>2.0</td>\n",
       "      <td>...</td>\n",
       "      <td>0</td>\n",
       "      <td>0</td>\n",
       "      <td>1</td>\n",
       "      <td>0</td>\n",
       "      <td>0</td>\n",
       "      <td>0</td>\n",
       "      <td>1</td>\n",
       "      <td>0</td>\n",
       "      <td>1</td>\n",
       "      <td>0</td>\n",
       "    </tr>\n",
       "    <tr>\n",
       "      <th>...</th>\n",
       "      <td>...</td>\n",
       "      <td>...</td>\n",
       "      <td>...</td>\n",
       "      <td>...</td>\n",
       "      <td>...</td>\n",
       "      <td>...</td>\n",
       "      <td>...</td>\n",
       "      <td>...</td>\n",
       "      <td>...</td>\n",
       "      <td>...</td>\n",
       "      <td>...</td>\n",
       "      <td>...</td>\n",
       "      <td>...</td>\n",
       "      <td>...</td>\n",
       "      <td>...</td>\n",
       "      <td>...</td>\n",
       "      <td>...</td>\n",
       "      <td>...</td>\n",
       "      <td>...</td>\n",
       "      <td>...</td>\n",
       "      <td>...</td>\n",
       "    </tr>\n",
       "    <tr>\n",
       "      <th>115338</th>\n",
       "      <td>11</td>\n",
       "      <td>24</td>\n",
       "      <td>119</td>\n",
       "      <td>1</td>\n",
       "      <td>1.6</td>\n",
       "      <td>2</td>\n",
       "      <td>72000</td>\n",
       "      <td>4</td>\n",
       "      <td>4.0</td>\n",
       "      <td>1.0</td>\n",
       "      <td>...</td>\n",
       "      <td>0</td>\n",
       "      <td>0</td>\n",
       "      <td>1</td>\n",
       "      <td>0</td>\n",
       "      <td>0</td>\n",
       "      <td>0</td>\n",
       "      <td>1</td>\n",
       "      <td>0</td>\n",
       "      <td>1</td>\n",
       "      <td>0</td>\n",
       "    </tr>\n",
       "    <tr>\n",
       "      <th>151642</th>\n",
       "      <td>11</td>\n",
       "      <td>21</td>\n",
       "      <td>363</td>\n",
       "      <td>3</td>\n",
       "      <td>3.0</td>\n",
       "      <td>4</td>\n",
       "      <td>160000</td>\n",
       "      <td>12</td>\n",
       "      <td>4.0</td>\n",
       "      <td>2.0</td>\n",
       "      <td>...</td>\n",
       "      <td>0</td>\n",
       "      <td>0</td>\n",
       "      <td>1</td>\n",
       "      <td>0</td>\n",
       "      <td>1</td>\n",
       "      <td>0</td>\n",
       "      <td>0</td>\n",
       "      <td>1</td>\n",
       "      <td>0</td>\n",
       "      <td>0</td>\n",
       "    </tr>\n",
       "    <tr>\n",
       "      <th>144639</th>\n",
       "      <td>0</td>\n",
       "      <td>34</td>\n",
       "      <td>1005</td>\n",
       "      <td>1</td>\n",
       "      <td>3.2</td>\n",
       "      <td>4</td>\n",
       "      <td>235992</td>\n",
       "      <td>17</td>\n",
       "      <td>5.0</td>\n",
       "      <td>3.0</td>\n",
       "      <td>...</td>\n",
       "      <td>0</td>\n",
       "      <td>0</td>\n",
       "      <td>1</td>\n",
       "      <td>0</td>\n",
       "      <td>1</td>\n",
       "      <td>0</td>\n",
       "      <td>0</td>\n",
       "      <td>0</td>\n",
       "      <td>0</td>\n",
       "      <td>1</td>\n",
       "    </tr>\n",
       "    <tr>\n",
       "      <th>35546</th>\n",
       "      <td>6</td>\n",
       "      <td>29</td>\n",
       "      <td>827</td>\n",
       "      <td>4</td>\n",
       "      <td>1.6</td>\n",
       "      <td>1</td>\n",
       "      <td>290000</td>\n",
       "      <td>4</td>\n",
       "      <td>5.0</td>\n",
       "      <td>2.0</td>\n",
       "      <td>...</td>\n",
       "      <td>0</td>\n",
       "      <td>0</td>\n",
       "      <td>1</td>\n",
       "      <td>0</td>\n",
       "      <td>0</td>\n",
       "      <td>0</td>\n",
       "      <td>1</td>\n",
       "      <td>0</td>\n",
       "      <td>1</td>\n",
       "      <td>0</td>\n",
       "    </tr>\n",
       "    <tr>\n",
       "      <th>50488</th>\n",
       "      <td>0</td>\n",
       "      <td>24</td>\n",
       "      <td>695</td>\n",
       "      <td>1</td>\n",
       "      <td>3.5</td>\n",
       "      <td>4</td>\n",
       "      <td>230000</td>\n",
       "      <td>12</td>\n",
       "      <td>5.0</td>\n",
       "      <td>3.0</td>\n",
       "      <td>...</td>\n",
       "      <td>0</td>\n",
       "      <td>0</td>\n",
       "      <td>1</td>\n",
       "      <td>0</td>\n",
       "      <td>0</td>\n",
       "      <td>1</td>\n",
       "      <td>0</td>\n",
       "      <td>0</td>\n",
       "      <td>0</td>\n",
       "      <td>1</td>\n",
       "    </tr>\n",
       "  </tbody>\n",
       "</table>\n",
       "<p>92628 rows × 25 columns</p>\n",
       "</div>"
      ],
      "text/plain": [
       "        body_type  brand  model_of_car  color  engine_volume  engine_power  \\\n",
       "36326           6     29           718      1            1.4             3   \n",
       "105807          0     17           937      2            2.4             3   \n",
       "136940         17     33           659      3            1.8             2   \n",
       "51755           0     24           802      3            1.2             2   \n",
       "94132          11     13           103      2            2.3             2   \n",
       "...           ...    ...           ...    ...            ...           ...   \n",
       "115338         11     24           119      1            1.6             2   \n",
       "151642         11     21           363      3            3.0             4   \n",
       "144639          0     34          1005      1            3.2             4   \n",
       "35546           6     29           827      4            1.6             1   \n",
       "50488           0     24           695      1            3.5             4   \n",
       "\n",
       "        mileage  production_d  number_of_doors  owners_qty  ...  \\\n",
       "36326     34539             3              5.0         1.0  ...   \n",
       "105807   117000             8              5.0         3.0  ...   \n",
       "136940   120000            19              5.0         1.0  ...   \n",
       "51755     18217             2              5.0         1.0  ...   \n",
       "94132    148000            13              4.0         2.0  ...   \n",
       "...         ...           ...              ...         ...  ...   \n",
       "115338    72000             4              4.0         1.0  ...   \n",
       "151642   160000            12              4.0         2.0  ...   \n",
       "144639   235992            17              5.0         3.0  ...   \n",
       "35546    290000             4              5.0         2.0  ...   \n",
       "50488    230000            12              5.0         3.0  ...   \n",
       "\n",
       "        fuel_type_gas  fuel_type_hybrid  fuel_type_petrol  transmis_AMT  \\\n",
       "36326               0                 0                 1             1   \n",
       "105807              0                 0                 1             0   \n",
       "136940              0                 0                 1             0   \n",
       "51755               0                 0                 1             0   \n",
       "94132               0                 0                 1             0   \n",
       "...               ...               ...               ...           ...   \n",
       "115338              0                 0                 1             0   \n",
       "151642              0                 0                 1             0   \n",
       "144639              0                 0                 1             0   \n",
       "35546               0                 0                 1             0   \n",
       "50488               0                 0                 1             0   \n",
       "\n",
       "        transmis_AT  transmis_CVT  transmis_MT  type_of_drive_back  \\\n",
       "36326             0             0            0                   0   \n",
       "105807            1             0            0                   0   \n",
       "136940            1             0            0                   0   \n",
       "51755             0             1            0                   0   \n",
       "94132             0             0            1                   0   \n",
       "...             ...           ...          ...                 ...   \n",
       "115338            0             0            1                   0   \n",
       "151642            1             0            0                   1   \n",
       "144639            1             0            0                   0   \n",
       "35546             0             0            1                   0   \n",
       "50488             0             1            0                   0   \n",
       "\n",
       "        type_of_drive_front  type_of_drive_full  \n",
       "36326                     1                   0  \n",
       "105807                    0                   1  \n",
       "136940                    1                   0  \n",
       "51755                     1                   0  \n",
       "94132                     1                   0  \n",
       "...                     ...                 ...  \n",
       "115338                    1                   0  \n",
       "151642                    0                   0  \n",
       "144639                    0                   1  \n",
       "35546                     1                   0  \n",
       "50488                     0                   1  \n",
       "\n",
       "[92628 rows x 25 columns]"
      ]
     },
     "execution_count": 193,
     "metadata": {},
     "output_type": "execute_result"
    }
   ],
   "source": [
    "X_train, X_test, y_train, y_test = train_test_split(X, y, test_size=VAL_SIZE, shuffle=True, random_state=RANDOM_SEED)\n",
    "X_train"
   ]
  },
  {
   "cell_type": "code",
   "execution_count": 194,
   "metadata": {
    "execution": {
     "iopub.execute_input": "2021-09-01T03:33:20.364289Z",
     "iopub.status.busy": "2021-09-01T03:33:20.363435Z",
     "iopub.status.idle": "2021-09-01T03:33:20.366012Z",
     "shell.execute_reply": "2021-09-01T03:33:20.365364Z",
     "shell.execute_reply.started": "2021-09-01T00:31:32.136121Z"
    },
    "papermill": {
     "duration": 0.316567,
     "end_time": "2021-09-01T03:33:20.366125",
     "exception": false,
     "start_time": "2021-09-01T03:33:20.049558",
     "status": "completed"
    },
    "tags": []
   },
   "outputs": [],
   "source": [
    "# def standart():\n",
    "\n"
   ]
  },
  {
   "cell_type": "markdown",
   "metadata": {
    "papermill": {
     "duration": 0.309213,
     "end_time": "2021-09-01T03:33:20.982650",
     "exception": false,
     "start_time": "2021-09-01T03:33:20.673437",
     "status": "completed"
    },
    "tags": []
   },
   "source": [
    "# # Model 1 : CatBoost\n",
    "![](https://pbs.twimg.com/media/DP-jUCyXcAArRTo.png:large)   \n",
    "\n",
    "\n",
    "У нас в данных практически все признаки категориальные. Специально для работы с такими данными была создана очень удобная библиотека CatBoost от Яндекса. [https://catboost.ai](http://)     \n",
    "На данный момент **CatBoost является одной из лучших библиотек для табличных данных!**\n",
    "\n",
    "#### Полезные видео о CatBoost (на русском):\n",
    "* [Доклад про CatBoost](https://youtu.be/9ZrfErvm97M)\n",
    "* [Свежий Туториал от команды CatBoost (практическая часть)](https://youtu.be/wQt4kgAOgV0) "
   ]
  },
  {
   "cell_type": "markdown",
   "metadata": {
    "papermill": {
     "duration": 0.308563,
     "end_time": "2021-09-01T03:33:21.603329",
     "exception": false,
     "start_time": "2021-09-01T03:33:21.294766",
     "status": "completed"
    },
    "tags": []
   },
   "source": [
    "## Fit"
   ]
  },
  {
   "cell_type": "code",
   "execution_count": 195,
   "metadata": {
    "execution": {
     "iopub.execute_input": "2021-09-01T03:33:22.232670Z",
     "iopub.status.busy": "2021-09-01T03:33:22.231786Z",
     "iopub.status.idle": "2021-09-01T03:33:22.283406Z",
     "shell.execute_reply": "2021-09-01T03:33:22.282735Z",
     "shell.execute_reply.started": "2021-09-01T00:31:32.141626Z"
    },
    "papermill": {
     "duration": 0.369416,
     "end_time": "2021-09-01T03:33:22.283528",
     "exception": false,
     "start_time": "2021-09-01T03:33:21.914112",
     "status": "completed"
    },
    "tags": []
   },
   "outputs": [],
   "source": [
    "# model = CatBoostRegressor(iterations = 5000,\n",
    "#                           random_seed = RANDOM_SEED,\n",
    "#                           eval_metric='MAPE',\n",
    "#                           custom_metric=['R2', 'MAE'],\n",
    "#                           silent=True,\n",
    "#                          )\n",
    "\n",
    "stsc = StandardScaler()\n",
    "X_train = stsc.fit_transform(X_train)\n",
    "X_test = stsc.transform(X_test)\n",
    "\n",
    "# Добавим веса\n",
    "X_train = X_train * weights\n",
    "X_test = X_test * weights\n"
   ]
  },
  {
   "cell_type": "code",
   "execution_count": 196,
   "metadata": {
    "_kg_hide-output": true,
    "execution": {
     "iopub.execute_input": "2021-09-01T03:33:22.907293Z",
     "iopub.status.busy": "2021-09-01T03:33:22.906534Z",
     "iopub.status.idle": "2021-09-01T03:33:22.910903Z",
     "shell.execute_reply": "2021-09-01T03:33:22.910226Z",
     "shell.execute_reply.started": "2021-09-01T00:31:32.219220Z"
    },
    "papermill": {
     "duration": 0.317119,
     "end_time": "2021-09-01T03:33:22.911026",
     "exception": false,
     "start_time": "2021-09-01T03:33:22.593907",
     "status": "completed"
    },
    "tags": []
   },
   "outputs": [],
   "source": [
    "# model.fit(X_train, y_train,\n",
    "#          #cat_features=cat_features_ids,\n",
    "#          eval_set=(X_test, y_test),\n",
    "#          verbose_eval=0,\n",
    "#          use_best_model=True,\n",
    "#          #plot=True\n",
    "#          )\n",
    "\n",
    "# # model.save_model('catboost_single_model_baseline.model')\n",
    "\n",
    "# # оцениваем точность\n",
    "# predict = model.predict(X_test)\n",
    "# print(f\"Точность модели по метрике MAPE: {(mape(y_test, predict))*100:0.2f}%\")\n",
    "# # Без стандартизации Точность модели по метрике MAPE: 15.61%"
   ]
  },
  {
   "cell_type": "markdown",
   "metadata": {
    "papermill": {
     "duration": 0.306229,
     "end_time": "2021-09-01T03:33:23.523905",
     "exception": false,
     "start_time": "2021-09-01T03:33:23.217676",
     "status": "completed"
    },
    "tags": []
   },
   "source": [
    "### Log Traget\n",
    "Попробуем взять таргет в логорифм - это позволит уменьшить влияние выбросов на обучение модели (используем для этого np.log и np.exp).    \n",
    "В принциепе мы можем использовать любое приобразование на целевую переменную. Например деление на курс доллара, евро или гречки :) в дату сбора данных, смотрим дату парсинга в тесте в **parsing_unixtime**"
   ]
  },
  {
   "cell_type": "code",
   "execution_count": 197,
   "metadata": {
    "execution": {
     "iopub.execute_input": "2021-09-01T03:33:24.146200Z",
     "iopub.status.busy": "2021-09-01T03:33:24.145530Z",
     "iopub.status.idle": "2021-09-01T03:33:24.153574Z",
     "shell.execute_reply": "2021-09-01T03:33:24.152927Z",
     "shell.execute_reply.started": "2021-09-01T00:31:32.227044Z"
    },
    "papermill": {
     "duration": 0.318723,
     "end_time": "2021-09-01T03:33:24.153704",
     "exception": false,
     "start_time": "2021-09-01T03:33:23.834981",
     "status": "completed"
    },
    "tags": []
   },
   "outputs": [
    {
     "data": {
      "text/plain": [
       "array([14.28488899, 13.92883924, 12.50246666, ..., 13.38472764,\n",
       "       12.95984445, 13.52782849])"
      ]
     },
     "execution_count": 197,
     "metadata": {},
     "output_type": "execute_result"
    }
   ],
   "source": [
    "np.log(y_train)"
   ]
  },
  {
   "cell_type": "code",
   "execution_count": 198,
   "metadata": {
    "execution": {
     "iopub.execute_input": "2021-09-01T03:33:24.775305Z",
     "iopub.status.busy": "2021-09-01T03:33:24.774767Z",
     "iopub.status.idle": "2021-09-01T03:33:24.779588Z",
     "shell.execute_reply": "2021-09-01T03:33:24.779044Z",
     "shell.execute_reply.started": "2021-09-01T00:31:32.243221Z"
    },
    "papermill": {
     "duration": 0.317851,
     "end_time": "2021-09-01T03:33:24.779707",
     "exception": false,
     "start_time": "2021-09-01T03:33:24.461856",
     "status": "completed"
    },
    "tags": []
   },
   "outputs": [],
   "source": [
    "# model = CatBoostRegressor(iterations = 5000,\n",
    "#                           random_seed = RANDOM_SEED,\n",
    "#                           eval_metric='MAPE',\n",
    "#                           custom_metric=['R2', 'MAE'],\n",
    "#                           silent=True,\n",
    "#                          )\n",
    "\n",
    "# model.fit(X_train, np.log(y_train),\n",
    "#          #cat_features=cat_features_ids,\n",
    "#          eval_set=(X_test, np.log(y_test)),\n",
    "#          verbose_eval=0,\n",
    "#          use_best_model=True,\n",
    "#          #plot=True\n",
    "#          )\n",
    "\n",
    "# # model.save_model('catboost_single_model_2_baseline.model')"
   ]
  },
  {
   "cell_type": "code",
   "execution_count": 199,
   "metadata": {
    "execution": {
     "iopub.execute_input": "2021-09-01T03:33:25.216952Z",
     "iopub.status.busy": "2021-09-01T03:33:25.216323Z",
     "iopub.status.idle": "2021-09-01T03:33:25.219048Z",
     "shell.execute_reply": "2021-09-01T03:33:25.218569Z",
     "shell.execute_reply.started": "2021-09-01T00:31:32.250196Z"
    },
    "papermill": {
     "duration": 0.222144,
     "end_time": "2021-09-01T03:33:25.219138",
     "exception": false,
     "start_time": "2021-09-01T03:33:24.996994",
     "status": "completed"
    },
    "tags": []
   },
   "outputs": [],
   "source": [
    "# predict_test = np.exp(model.predict(X_test))\n",
    "# predict_submission = np.exp(model.predict(X_sub))"
   ]
  },
  {
   "cell_type": "code",
   "execution_count": 200,
   "metadata": {
    "execution": {
     "iopub.execute_input": "2021-09-01T03:33:25.634665Z",
     "iopub.status.busy": "2021-09-01T03:33:25.634050Z",
     "iopub.status.idle": "2021-09-01T03:33:25.636544Z",
     "shell.execute_reply": "2021-09-01T03:33:25.636095Z",
     "shell.execute_reply.started": "2021-09-01T00:31:32.260757Z"
    },
    "papermill": {
     "duration": 0.210957,
     "end_time": "2021-09-01T03:33:25.636649",
     "exception": false,
     "start_time": "2021-09-01T03:33:25.425692",
     "status": "completed"
    },
    "tags": []
   },
   "outputs": [],
   "source": [
    "# print(f\"Точность модели по метрике MAPE: {(mape(y_test, predict_test))*100:0.2f}%\")\n",
    "# # без стандартизации и логорифмирования\n",
    "# # Точность модели по метрике MAPE: 13.74%"
   ]
  },
  {
   "cell_type": "markdown",
   "metadata": {
    "papermill": {
     "duration": 0.199385,
     "end_time": "2021-09-01T03:33:26.037800",
     "exception": false,
     "start_time": "2021-09-01T03:33:25.838415",
     "status": "completed"
    },
    "tags": []
   },
   "source": [
    "# # Model 2 : LinearRegression"
   ]
  },
  {
   "cell_type": "code",
   "execution_count": 201,
   "metadata": {
    "execution": {
     "iopub.execute_input": "2021-09-01T03:33:26.462875Z",
     "iopub.status.busy": "2021-09-01T03:33:26.462108Z",
     "iopub.status.idle": "2021-09-01T03:33:26.464233Z",
     "shell.execute_reply": "2021-09-01T03:33:26.464588Z",
     "shell.execute_reply.started": "2021-09-01T00:31:32.274561Z"
    },
    "papermill": {
     "duration": 0.216185,
     "end_time": "2021-09-01T03:33:26.464737",
     "exception": false,
     "start_time": "2021-09-01T03:33:26.248552",
     "status": "completed"
    },
    "tags": []
   },
   "outputs": [],
   "source": [
    "# lin_reg = LinearRegression().fit(X_train, y_train)\n",
    "# y_pred = lin_reg.predict(X_test)\n",
    "# print(f\"Точность модели по метрике MAPE: {(mape(y_test, y_pred))*100:0.2f}%\")\n",
    "\n",
    "# # Точность модели по метрике MAPE: 117.26%"
   ]
  },
  {
   "cell_type": "markdown",
   "metadata": {
    "papermill": {
     "duration": 0.208243,
     "end_time": "2021-09-01T03:33:26.882338",
     "exception": false,
     "start_time": "2021-09-01T03:33:26.674095",
     "status": "completed"
    },
    "tags": []
   },
   "source": [
    "# # Model 3: GradientBoosting"
   ]
  },
  {
   "cell_type": "code",
   "execution_count": 202,
   "metadata": {
    "execution": {
     "iopub.execute_input": "2021-09-01T03:33:27.310320Z",
     "iopub.status.busy": "2021-09-01T03:33:27.309805Z",
     "iopub.status.idle": "2021-09-01T03:33:27.314081Z",
     "shell.execute_reply": "2021-09-01T03:33:27.313533Z",
     "shell.execute_reply.started": "2021-09-01T00:31:32.283307Z"
    },
    "papermill": {
     "duration": 0.2197,
     "end_time": "2021-09-01T03:33:27.314190",
     "exception": false,
     "start_time": "2021-09-01T03:33:27.094490",
     "status": "completed"
    },
    "tags": []
   },
   "outputs": [],
   "source": [
    "# # max_depth должно примерно соответствовать количеству признаков или быть больше.\n",
    "# gb = GradientBoostingRegressor(min_samples_split=2,\n",
    "#                                learning_rate=0.03,\n",
    "#                                max_depth=30,\n",
    "#                                n_estimators=1000)\n",
    "# gb.fit(X_train,y_train)\n",
    "# # Сначала попробуем без логорифмирования таргета\n",
    "# y_pred = gb.predict(X_test)\n",
    "# print(f\"Точность модели по метрике MAPE_без лого: {(mape(y_test, y_pred))*100:0.2f}%\")\n",
    "\n",
    "# # \n",
    "# # Точность модели по метрике MAPE: 14.96%\n",
    "# # \n",
    "\n",
    "# # без стандартизации и логорифмирования 15.65%"
   ]
  },
  {
   "cell_type": "code",
   "execution_count": 203,
   "metadata": {
    "execution": {
     "iopub.execute_input": "2021-09-01T03:33:27.736849Z",
     "iopub.status.busy": "2021-09-01T03:33:27.736312Z",
     "iopub.status.idle": "2021-09-01T03:33:27.739344Z",
     "shell.execute_reply": "2021-09-01T03:33:27.738859Z",
     "shell.execute_reply.started": "2021-09-01T00:31:32.295245Z"
    },
    "papermill": {
     "duration": 0.214182,
     "end_time": "2021-09-01T03:33:27.739444",
     "exception": false,
     "start_time": "2021-09-01T03:33:27.525262",
     "status": "completed"
    },
    "tags": []
   },
   "outputs": [],
   "source": [
    "# #Тоже самое с логорифмом таргета\n",
    "# gb.fit(X_train,np.log(y_train))\n",
    "# y_pred = gb.predict(X_test)\n",
    "# print(f\"Точность модели по метрике MAPE c лого: {(mape(y_test, y_pred))*100:0.2f}%\")\n",
    "# # Точность модели по метрике MAPE c лого: 100.00%"
   ]
  },
  {
   "cell_type": "markdown",
   "metadata": {
    "papermill": {
     "duration": 0.212624,
     "end_time": "2021-09-01T03:33:28.165287",
     "exception": false,
     "start_time": "2021-09-01T03:33:27.952663",
     "status": "completed"
    },
    "tags": []
   },
   "source": [
    "# # Model 4: Forest"
   ]
  },
  {
   "cell_type": "code",
   "execution_count": 204,
   "metadata": {
    "execution": {
     "iopub.execute_input": "2021-09-01T03:33:28.609192Z",
     "iopub.status.busy": "2021-09-01T03:33:28.608692Z",
     "iopub.status.idle": "2021-09-01T03:33:28.611662Z",
     "shell.execute_reply": "2021-09-01T03:33:28.611240Z",
     "shell.execute_reply.started": "2021-09-01T00:31:32.305091Z"
    },
    "papermill": {
     "duration": 0.214126,
     "end_time": "2021-09-01T03:33:28.611758",
     "exception": false,
     "start_time": "2021-09-01T03:33:28.397632",
     "status": "completed"
    },
    "tags": []
   },
   "outputs": [],
   "source": [
    "# rf = RandomForestRegressor(n_estimators=1000,\n",
    "#                            n_jobs=-1,\n",
    "#                            max_depth=30,\n",
    "#                            max_features='log2',\n",
    "#                            random_state=RANDOM_SEED,\n",
    "#                            oob_score=True)\n",
    "# rf.fit(X_train,y_train)\n",
    "\n"
   ]
  },
  {
   "cell_type": "code",
   "execution_count": 205,
   "metadata": {
    "execution": {
     "iopub.execute_input": "2021-09-01T03:33:29.032340Z",
     "iopub.status.busy": "2021-09-01T03:33:29.031823Z",
     "iopub.status.idle": "2021-09-01T03:33:29.033890Z",
     "shell.execute_reply": "2021-09-01T03:33:29.034362Z",
     "shell.execute_reply.started": "2021-09-01T00:31:32.315258Z"
    },
    "papermill": {
     "duration": 0.215289,
     "end_time": "2021-09-01T03:33:29.034483",
     "exception": false,
     "start_time": "2021-09-01T03:33:28.819194",
     "status": "completed"
    },
    "tags": []
   },
   "outputs": [],
   "source": [
    "# # Сначала попробуем без логорифмирования таргета\n",
    "# y_pred = rf.predict(X_test)\n",
    "# print(f\"Точность модели по метрике MAPE_без лого: {(mape(y_test, y_pred))*100:0.2f}%\")\n",
    "\n",
    "# # Точность модели по метрике MAPE_без лого: 18.15%, max_depth=50, || 100\n",
    "# # Точность модели по метрике MAPE_без лого: 18.10%, max_depth=30"
   ]
  },
  {
   "cell_type": "markdown",
   "metadata": {
    "papermill": {
     "duration": 0.208557,
     "end_time": "2021-09-01T03:33:29.450268",
     "exception": false,
     "start_time": "2021-09-01T03:33:29.241711",
     "status": "completed"
    },
    "tags": []
   },
   "source": [
    "# # Model 5: Xgboosting"
   ]
  },
  {
   "cell_type": "code",
   "execution_count": 206,
   "metadata": {
    "execution": {
     "iopub.execute_input": "2021-09-01T03:33:29.871526Z",
     "iopub.status.busy": "2021-09-01T03:33:29.870910Z",
     "iopub.status.idle": "2021-09-01T03:36:25.625768Z",
     "shell.execute_reply": "2021-09-01T03:36:25.626182Z",
     "shell.execute_reply.started": "2021-09-01T01:07:46.352866Z"
    },
    "papermill": {
     "duration": 175.968357,
     "end_time": "2021-09-01T03:36:25.626305",
     "exception": false,
     "start_time": "2021-09-01T03:33:29.657948",
     "status": "completed"
    },
    "tags": []
   },
   "outputs": [
    {
     "name": "stdout",
     "output_type": "stream",
     "text": [
      "Точность модели по метрике MAPE: 13.89%\n"
     ]
    }
   ],
   "source": [
    "import xgboost as xgb\n",
    "xb = xgb.XGBRegressor(objective='reg:squarederror', colsample_bytree=0.5, learning_rate=0.03, \\\n",
    "                      max_depth=12, alpha=1, n_jobs=-1, n_estimators=1000)\n",
    "xb.fit(X_train, np.log(y_train+1))\n",
    "print(f\"Точность модели по метрике MAPE: {(mape(y_test, np.exp(xb.predict(X_test))))*100:0.2f}%\")\n",
    "\n",
    "\n",
    "#Точность модели по метрике MAPE: 14.15%,  max_depth=8\n",
    "#Точность модели по метрике MAPE: 13.89%,  max_depth=12\n",
    "#Точность модели по метрике MAPE: 14.07%,  max_depth=35\n",
    "#Точность модели по метрике MAPE: 14.02%,  max_depth=20"
   ]
  },
  {
   "cell_type": "markdown",
   "metadata": {
    "papermill": {
     "duration": 0.212827,
     "end_time": "2021-09-01T03:36:26.049563",
     "exception": false,
     "start_time": "2021-09-01T03:36:25.836736",
     "status": "completed"
    },
    "tags": []
   },
   "source": [
    "# # Model 6: StackingRegressor"
   ]
  },
  {
   "cell_type": "markdown",
   "metadata": {
    "papermill": {
     "duration": 0.214851,
     "end_time": "2021-09-01T03:36:26.476831",
     "exception": false,
     "start_time": "2021-09-01T03:36:26.261980",
     "status": "completed"
    },
    "tags": []
   },
   "source": [
    "Выбирем для стека самые лучшие модели,  которые мы получили: Xgboosting, CatBoosting. Для обработки результатов возьмем линейную регрессию.\n",
    "До этого пробовали брать за последнюю модель CatBoosting, но результаты оказались хуже.\n",
    "\n",
    "Брать много сложных моделей не будем, так как даже при 2-3 моделях выполнение обучения идет более 30 минут."
   ]
  },
  {
   "cell_type": "code",
   "execution_count": 207,
   "metadata": {
    "execution": {
     "iopub.execute_input": "2021-09-01T03:36:26.905775Z",
     "iopub.status.busy": "2021-09-01T03:36:26.905116Z",
     "iopub.status.idle": "2021-09-01T03:36:26.908675Z",
     "shell.execute_reply": "2021-09-01T03:36:26.908164Z",
     "shell.execute_reply.started": "2021-09-01T01:37:51.703911Z"
    },
    "papermill": {
     "duration": 0.218825,
     "end_time": "2021-09-01T03:36:26.908768",
     "exception": false,
     "start_time": "2021-09-01T03:36:26.689943",
     "status": "completed"
    },
    "tags": []
   },
   "outputs": [],
   "source": [
    "estimators = [('xb',xgb.XGBRegressor(objective='reg:squarederror', colsample_bytree=0.5, learning_rate=0.03, \\\n",
    "                      max_depth=12, alpha=1, n_jobs=-1, n_estimators=1000)),\n",
    "              ('xb2',xgb.XGBRegressor(objective='reg:squarederror', colsample_bytree=0.5, learning_rate=0.03, \\\n",
    "                      max_depth=12, alpha=1, n_jobs=-1, n_estimators=500)),\n",
    "              ('cb', CatBoostRegressor(iterations = 2000,\n",
    "                          random_seed = RANDOM_SEED,\n",
    "                          eval_metric='MAPE',\n",
    "                          custom_metric=['R2', 'MAE'],\n",
    "                          silent=True,\n",
    "                         ))\n",
    "            ]\n",
    "\n"
   ]
  },
  {
   "cell_type": "code",
   "execution_count": 208,
   "metadata": {
    "execution": {
     "iopub.execute_input": "2021-09-01T03:36:27.338870Z",
     "iopub.status.busy": "2021-09-01T03:36:27.338335Z",
     "iopub.status.idle": "2021-09-01T04:01:10.926723Z",
     "shell.execute_reply": "2021-09-01T04:01:10.927315Z",
     "shell.execute_reply.started": "2021-09-01T01:37:53.281957Z"
    },
    "papermill": {
     "duration": 1483.803756,
     "end_time": "2021-09-01T04:01:10.927502",
     "exception": false,
     "start_time": "2021-09-01T03:36:27.123746",
     "status": "completed"
    },
    "tags": []
   },
   "outputs": [
    {
     "name": "stdout",
     "output_type": "stream",
     "text": [
      "Точность модели по метрике MAPE: 13.80%\n"
     ]
    }
   ],
   "source": [
    "st_ensemble = StackingRegressor(estimators=estimators,final_estimator=LinearRegression())\n",
    "\n",
    "# оцениваем точность\n",
    "st_ensemble.fit(X_train, np.log(y_train))\n",
    "predict_e = np.exp(st_ensemble.predict(X_test))\n",
    "print(f\"Точность модели по метрике MAPE: {(mape(y_test, predict_e))*100:0.2f}%\")\n",
    "\n",
    "# Точность модели по метрике MAPE: 14.01%: xb1_12_1000, xb2_12_500,-> cb\n",
    "# Точность модели по метрике MAPE: 13.80%: xb1_12_1000, xb2_12_500, cb -> LR"
   ]
  },
  {
   "cell_type": "markdown",
   "metadata": {
    "papermill": {
     "duration": 0.211065,
     "end_time": "2021-09-01T04:01:11.353560",
     "exception": false,
     "start_time": "2021-09-01T04:01:11.142495",
     "status": "completed"
    },
    "tags": []
   },
   "source": [
    "# Выбор модели\n"
   ]
  },
  {
   "cell_type": "markdown",
   "metadata": {
    "papermill": {
     "duration": 0.209117,
     "end_time": "2021-09-01T04:01:11.773086",
     "exception": false,
     "start_time": "2021-09-01T04:01:11.563969",
     "status": "completed"
    },
    "tags": []
   },
   "source": [
    "Во время исследования все модели запускались много раз. У нас были следующие параметры для проверки:\n",
    "- Подключать или нет датасет 2020 года\n",
    "- учитывать или нет инфляцию для датасета 2021 года\n",
    "- учитывать или нет авто старше 2020 года в трейне,\n",
    "- логорифмировать или нет числовые признаки,\n",
    "- Выбор обработки категориальных данных: Dumming, LabelEncoding\n",
    "- Проводить или нет стандартизацию данных перед обучением\n",
    "- Учитывать вес каждого признака или нет.\n",
    "\n",
    "По логике все эти процедуры должны улучшать обучение, однако, например \n",
    "\n",
    "- учет или не учет авто старше 2020 года не изменяет результат. Просто таких авто мало в процентах.\n",
    "\n",
    "- Подключение датасета 2020 года повлияло очень сильно. Метрика на XBoost улучшилась в submission с 20% до 13%. Однако на трейне получили 13% в обоих случаях. Это конечно же влияет то, что цены за год сильно изменились.\n",
    "\n",
    "- Логорифмирование числовых данных немного ухудшает модель. Убрали эту процедуру.\n",
    "\n",
    "- Выбор того, как распределить категориальные переменные для обработки указан выше. Это оказался оптимальный вариант, который дал не так много новых столбцов.\n",
    "\n",
    "\n",
    "<table class=\"table\">\n",
    "  <thead>\n",
    "    <tr>\n",
    "      <th scope=\"col\">#</th>\n",
    "      <th scope=\"col\">Model</th>\n",
    "      <th scope=\"col\">отброшены старше 1980</th>\n",
    "      <th scope=\"col\">Проведена стандартизация и веса</th>\n",
    "      <th scope=\"col\">max_depth</th>\n",
    "      <th scope=\"col\">MAPE</th>\n",
    "    </tr>\n",
    "  </thead>\n",
    "  <tbody>\n",
    "    <tr>\n",
    "      <th scope=\"row\">1</th>\n",
    "      <td>CatBoost</td>\n",
    "      <td>no</td>\n",
    "      <td>yes</td>\n",
    "      <td>-</td>\n",
    "      <td>17.15%</td>\n",
    "    </tr>\n",
    "    <tr>\n",
    "      <th scope=\"row\">1</th>\n",
    "      <td>CatBoost (log res)</td>\n",
    "      <td>no</td>\n",
    "      <td>yes</td>\n",
    "      <td>-</td>\n",
    "      <td>14.24%</td>\n",
    "    </tr>\n",
    "    <tr>\n",
    "      <th scope=\"row\">2</th>\n",
    "      <td>LinearRegression</td>\n",
    "      <td>no</td>\n",
    "      <td>yes</td>\n",
    "      <td>-</td>\n",
    "      <td>117.26%</td>\n",
    "    </tr>\n",
    "    <tr>\n",
    "      <th scope=\"row\">3</th>\n",
    "      <td>GradientBoosting</td>\n",
    "      <td>no</td>\n",
    "      <td>yes</td>\n",
    "      <td>30</td>\n",
    "      <td>14.96%</td>\n",
    "    </tr>\n",
    "    <tr>\n",
    "      <th scope=\"row\">4</th>\n",
    "      <td>RandomForest</td>\n",
    "      <td>no</td>\n",
    "      <td>yes</td>\n",
    "      <td>30</td>\n",
    "      <td>18.10%</td>\n",
    "    </tr>\n",
    "    <tr>\n",
    "      <th scope=\"row\">4</th>\n",
    "      <td>RandomForest</td>\n",
    "      <td>no</td>\n",
    "      <td>yes</td>\n",
    "      <td>50</td>\n",
    "      <td>18.15%</td>\n",
    "    </tr>\n",
    "    <tr>\n",
    "      <th scope=\"row\">5</th>\n",
    "      <td>Xgboosting</td>\n",
    "      <td>no</td>\n",
    "      <td>yes</td>\n",
    "      <td>12</td>\n",
    "      <td>13.89%</td>\n",
    "    </tr>\n",
    "      <tr>\n",
    "      <th scope=\"row\">5</th>\n",
    "      <td>Xgboosting</td>\n",
    "      <td>no</td>\n",
    "      <td>yes</td>\n",
    "      <td>20</td>\n",
    "      <td>14.02%</td>\n",
    "    </tr>\n",
    "  <tr>\n",
    "      <th scope=\"row\">5</th>\n",
    "      <td>Xgboosting</td>\n",
    "      <td>no</td>\n",
    "      <td>yes</td>\n",
    "      <td>35</td>\n",
    "      <td>14.07%</td>\n",
    "    </tr>\n",
    "    <tr>\n",
    "      <th scope=\"row\">6</th>\n",
    "      <td>Stacking</td>\n",
    "      <td>no</td>\n",
    "      <td>yes</td>\n",
    "      <td>Stack models: Xb,Xb, Cb. Finish: LR</td>\n",
    "      <td>13.80</td>\n",
    "    </tr>\n",
    "  </tbody>\n",
    "</table>"
   ]
  },
  {
   "cell_type": "markdown",
   "metadata": {
    "papermill": {
     "duration": 0.212112,
     "end_time": "2021-09-01T04:01:12.193101",
     "exception": false,
     "start_time": "2021-09-01T04:01:11.980989",
     "status": "completed"
    },
    "tags": []
   },
   "source": [
    "# Submission"
   ]
  },
  {
   "cell_type": "code",
   "execution_count": 209,
   "metadata": {
    "execution": {
     "iopub.execute_input": "2021-09-01T04:01:12.626485Z",
     "iopub.status.busy": "2021-09-01T04:01:12.625949Z",
     "iopub.status.idle": "2021-09-01T04:01:12.641640Z",
     "shell.execute_reply": "2021-09-01T04:01:12.642134Z",
     "shell.execute_reply.started": "2021-09-01T02:21:53.979101Z"
    },
    "papermill": {
     "duration": 0.232518,
     "end_time": "2021-09-01T04:01:12.642294",
     "exception": false,
     "start_time": "2021-09-01T04:01:12.409776",
     "status": "completed"
    },
    "tags": []
   },
   "outputs": [],
   "source": [
    "X_sub_st = stsc.transform(X_sub.drop('sell_id',1))\n",
    "X_sub_st = X_sub_st * weights\n",
    "# X_sub_st['sell_id']\n"
   ]
  },
  {
   "cell_type": "code",
   "execution_count": 210,
   "metadata": {
    "execution": {
     "iopub.execute_input": "2021-09-01T04:01:13.066489Z",
     "iopub.status.busy": "2021-09-01T04:01:13.066002Z",
     "iopub.status.idle": "2021-09-01T04:01:43.031165Z",
     "shell.execute_reply": "2021-09-01T04:01:43.031614Z",
     "shell.execute_reply.started": "2021-09-01T02:21:56.154856Z"
    },
    "papermill": {
     "duration": 30.179409,
     "end_time": "2021-09-01T04:01:43.031774",
     "exception": false,
     "start_time": "2021-09-01T04:01:12.852365",
     "status": "completed"
    },
    "tags": []
   },
   "outputs": [],
   "source": [
    "# xb.fit(X_train, np.log(y_train+1))\n",
    "# X_train\n",
    "pred = np.exp(st_ensemble.predict(X_sub_st))"
   ]
  },
  {
   "cell_type": "code",
   "execution_count": 211,
   "metadata": {
    "execution": {
     "iopub.execute_input": "2021-09-01T04:01:43.459801Z",
     "iopub.status.busy": "2021-09-01T04:01:43.459232Z",
     "iopub.status.idle": "2021-09-01T04:01:43.463695Z",
     "shell.execute_reply": "2021-09-01T04:01:43.464153Z",
     "shell.execute_reply.started": "2021-09-01T02:22:24.138583Z"
    },
    "papermill": {
     "duration": 0.219795,
     "end_time": "2021-09-01T04:01:43.464291",
     "exception": false,
     "start_time": "2021-09-01T04:01:43.244496",
     "status": "completed"
    },
    "tags": []
   },
   "outputs": [],
   "source": [
    "predict_submission = np.round(pred,-3).astype('int')\n"
   ]
  },
  {
   "cell_type": "code",
   "execution_count": 212,
   "metadata": {
    "execution": {
     "iopub.execute_input": "2021-09-01T04:01:43.899709Z",
     "iopub.status.busy": "2021-09-01T04:01:43.899126Z",
     "iopub.status.idle": "2021-09-01T04:01:44.325584Z",
     "shell.execute_reply": "2021-09-01T04:01:44.324518Z",
     "shell.execute_reply.started": "2021-09-01T02:24:56.967480Z"
    },
    "papermill": {
     "duration": 0.648626,
     "end_time": "2021-09-01T04:01:44.325735",
     "exception": false,
     "start_time": "2021-09-01T04:01:43.677109",
     "status": "completed"
    },
    "tags": []
   },
   "outputs": [
    {
     "data": {
      "text/html": [
       "<div>\n",
       "<style scoped>\n",
       "    .dataframe tbody tr th:only-of-type {\n",
       "        vertical-align: middle;\n",
       "    }\n",
       "\n",
       "    .dataframe tbody tr th {\n",
       "        vertical-align: top;\n",
       "    }\n",
       "\n",
       "    .dataframe thead th {\n",
       "        text-align: right;\n",
       "    }\n",
       "</style>\n",
       "<table border=\"1\" class=\"dataframe\">\n",
       "  <thead>\n",
       "    <tr style=\"text-align: right;\">\n",
       "      <th></th>\n",
       "      <th>sell_id</th>\n",
       "      <th>price</th>\n",
       "    </tr>\n",
       "  </thead>\n",
       "  <tbody>\n",
       "    <tr>\n",
       "      <th>0</th>\n",
       "      <td>1100575026</td>\n",
       "      <td>688000</td>\n",
       "    </tr>\n",
       "    <tr>\n",
       "      <th>1</th>\n",
       "      <td>1100549428</td>\n",
       "      <td>984000</td>\n",
       "    </tr>\n",
       "    <tr>\n",
       "      <th>2</th>\n",
       "      <td>1100658222</td>\n",
       "      <td>1069000</td>\n",
       "    </tr>\n",
       "    <tr>\n",
       "      <th>3</th>\n",
       "      <td>1100937408</td>\n",
       "      <td>769000</td>\n",
       "    </tr>\n",
       "    <tr>\n",
       "      <th>4</th>\n",
       "      <td>1101037972</td>\n",
       "      <td>820000</td>\n",
       "    </tr>\n",
       "    <tr>\n",
       "      <th>5</th>\n",
       "      <td>1100912634</td>\n",
       "      <td>847000</td>\n",
       "    </tr>\n",
       "    <tr>\n",
       "      <th>6</th>\n",
       "      <td>1101228730</td>\n",
       "      <td>724000</td>\n",
       "    </tr>\n",
       "    <tr>\n",
       "      <th>7</th>\n",
       "      <td>1100165896</td>\n",
       "      <td>453000</td>\n",
       "    </tr>\n",
       "    <tr>\n",
       "      <th>8</th>\n",
       "      <td>1100768262</td>\n",
       "      <td>2030000</td>\n",
       "    </tr>\n",
       "    <tr>\n",
       "      <th>9</th>\n",
       "      <td>1101218501</td>\n",
       "      <td>966000</td>\n",
       "    </tr>\n",
       "  </tbody>\n",
       "</table>\n",
       "</div>"
      ],
      "text/plain": [
       "      sell_id    price\n",
       "0  1100575026   688000\n",
       "1  1100549428   984000\n",
       "2  1100658222  1069000\n",
       "3  1100937408   769000\n",
       "4  1101037972   820000\n",
       "5  1100912634   847000\n",
       "6  1101228730   724000\n",
       "7  1100165896   453000\n",
       "8  1100768262  2030000\n",
       "9  1101218501   966000"
      ]
     },
     "execution_count": 212,
     "metadata": {},
     "output_type": "execute_result"
    }
   ],
   "source": [
    "sample_submission['price'] = predict_submission\n",
    "sample_submission.to_csv(f'submission_2_v{VERSION}.csv', index=False)\n",
    "sample_submission.head(10)"
   ]
  },
  {
   "cell_type": "code",
   "execution_count": 213,
   "metadata": {
    "execution": {
     "iopub.execute_input": "2021-09-01T04:01:44.972777Z",
     "iopub.status.busy": "2021-09-01T04:01:44.957776Z",
     "iopub.status.idle": "2021-09-01T04:01:45.280931Z",
     "shell.execute_reply": "2021-09-01T04:01:45.280325Z",
     "shell.execute_reply.started": "2021-09-01T02:25:15.195445Z"
    },
    "papermill": {
     "duration": 0.641692,
     "end_time": "2021-09-01T04:01:45.281037",
     "exception": false,
     "start_time": "2021-09-01T04:01:44.639345",
     "status": "completed"
    },
    "tags": []
   },
   "outputs": [
    {
     "name": "stdout",
     "output_type": "stream",
     "text": [
      "cars-df-v2  parsing-all-moscow-auto-ru-09-09-2020  sf-dst-car-price-prediction\r\n"
     ]
    }
   ],
   "source": [
    "!ls '../input'"
   ]
  },
  {
   "cell_type": "markdown",
   "metadata": {
    "papermill": {
     "duration": 0.209481,
     "end_time": "2021-09-01T04:01:45.706654",
     "exception": false,
     "start_time": "2021-09-01T04:01:45.497173",
     "status": "completed"
    },
    "tags": []
   },
   "source": [
    "# Выводы:\n",
    "\n",
    "Лучший результат на валидации показала модель Xgboosting: 13.69623%, лучше чем StackingRegression: 13.77556%\n",
    "Как мы уже не раз убеждались, сильнее всего на результат влияют сами данные. Спарсить удалось только 34 тыс. объявлений 2021 года, а в тесте данные 2020 года. Цены на авто сильно изменились, причем не равномерно по моделям. Сделали учет инфляции в среднем по брендам и добавили датасет объявлений за 2020 год.\n",
    "\n",
    "В Exploratory data analysis провели следующие преобразования:\n",
    "- выделили модели из car_url,\n",
    "- выделили группы цветов по-популярности,\n",
    "- рассчитали пробег в год,\n",
    "- рассчитали возраст авто,\n",
    "- обработали категориальные переменные.\n",
    "\n",
    "Что можно было еще сделать:\n",
    "- Можно было обработать поля комплектации equipmentGroups, обычно от этого цена сильно зависит.\n"
   ]
  },
  {
   "cell_type": "code",
   "execution_count": null,
   "metadata": {
    "papermill": {
     "duration": 0.213661,
     "end_time": "2021-09-01T04:01:46.132913",
     "exception": false,
     "start_time": "2021-09-01T04:01:45.919252",
     "status": "completed"
    },
    "tags": []
   },
   "outputs": [],
   "source": []
  },
  {
   "cell_type": "code",
   "execution_count": null,
   "metadata": {
    "papermill": {
     "duration": 0.212175,
     "end_time": "2021-09-01T04:01:46.558484",
     "exception": false,
     "start_time": "2021-09-01T04:01:46.346309",
     "status": "completed"
    },
    "tags": []
   },
   "outputs": [],
   "source": []
  }
 ],
 "metadata": {
  "kernelspec": {
   "display_name": "Python 3",
   "language": "python",
   "name": "python3"
  },
  "language_info": {
   "codemirror_mode": {
    "name": "ipython",
    "version": 3
   },
   "file_extension": ".py",
   "mimetype": "text/x-python",
   "name": "python",
   "nbconvert_exporter": "python",
   "pygments_lexer": "ipython3",
   "version": "3.7.6"
  },
  "papermill": {
   "duration": 1862.033603,
   "end_time": "2021-09-01T04:01:46.881431",
   "environment_variables": {},
   "exception": null,
   "input_path": "__notebook__.ipynb",
   "output_path": "__notebook__.ipynb",
   "parameters": {},
   "start_time": "2021-09-01T03:30:44.847828",
   "version": "2.1.0"
  }
 },
 "nbformat": 4,
 "nbformat_minor": 4
}
