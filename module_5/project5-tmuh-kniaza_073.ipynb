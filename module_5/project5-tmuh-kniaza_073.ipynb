{
 "cells": [
  {
   "cell_type": "markdown",
   "id": "continuing-journalist",
   "metadata": {
    "papermill": {
     "duration": 0.066057,
     "end_time": "2021-06-24T14:17:26.453040",
     "exception": false,
     "start_time": "2021-06-24T14:17:26.386983",
     "status": "completed"
    },
    "tags": []
   },
   "source": [
    "Проект №5.\n"
   ]
  },
  {
   "cell_type": "markdown",
   "id": "useful-expense",
   "metadata": {
    "papermill": {
     "duration": 0.061977,
     "end_time": "2021-06-24T14:17:26.578687",
     "exception": false,
     "start_time": "2021-06-24T14:17:26.516710",
     "status": "completed"
    },
    "tags": []
   },
   "source": [
    "# Компьютер говорит НЕТ\n",
    "\n",
    "## Описание задачи\n",
    "Построить модель банковского скоринга. По имеющимся данным клиента (информация из анкетных данных заемщиков и факт наличия дефолта) необходимо определить, стоит ли ему выдавать кредит. Флаг default = 1, если кредит лучше не выдавать, = 0, если можно выдать.\n",
    "\n",
    "## Описание полей\n",
    "\n",
    "* client_id - идентификатор клиента\n",
    "\n",
    "* education - уровень образования\n",
    " \n",
    "* sex - пол заемщика\n",
    " \n",
    "* age - возраст заемщика\n",
    " \n",
    "* car - флаг наличия автомобиля\n",
    " \n",
    "* car_type - флаг автомобиля иномарки\n",
    " \n",
    "* decline_app_cnt - количество отказанных прошлых заявок\n",
    " \n",
    "* good_work - флаг наличия “хорошей” работы\n",
    " \n",
    "* bki_request_cnt - количество запросов в БКИ\n",
    " \n",
    "* home_address - категоризатор домашнего адреса\n",
    " \n",
    "* work_address - категоризатор рабочего адреса\n",
    " \n",
    "* income - доход заемщика\n",
    " \n",
    "* foreign_passport - наличие загранпаспорта\n",
    " \n",
    "* sna - связь заемщика с клиентами банка\n",
    " \n",
    "* first_time - давность наличия информации о заемщике\n",
    "\n",
    "* score_bki - скоринговый балл по данным из БКИ\n",
    " \n",
    "* region_rating - рейтинг региона\n",
    " \n",
    "* app_date - дата подачи заявки\n",
    " \n",
    "* default - флаг дефолта по кредиту"
   ]
  },
  {
   "cell_type": "markdown",
   "id": "fifth-toilet",
   "metadata": {
    "papermill": {
     "duration": 0.063882,
     "end_time": "2021-06-24T14:17:26.705981",
     "exception": false,
     "start_time": "2021-06-24T14:17:26.642099",
     "status": "completed"
    },
    "tags": []
   },
   "source": [
    "## Этапы работы.\n",
    "1. Сделать общий краткий анализ датасета\n",
    "2. Разделить признаки по типу данных\n",
    "3. Очистка данных. Обработка пропусков, подготовка данных к обработке.\n",
    "4. Анализ корреляции. Удаление лишних признаков, добавление новых.\n",
    "5. Выбор модели. Настройка.\n",
    "6. Пробуем.[](http://)\n"
   ]
  },
  {
   "cell_type": "markdown",
   "id": "painful-adaptation",
   "metadata": {
    "papermill": {
     "duration": 0.062311,
     "end_time": "2021-06-24T14:17:26.831160",
     "exception": false,
     "start_time": "2021-06-24T14:17:26.768849",
     "status": "completed"
    },
    "tags": []
   },
   "source": [
    "# Загрузка библиотек и файлов"
   ]
  },
  {
   "cell_type": "code",
   "execution_count": 1,
   "id": "super-safety",
   "metadata": {
    "_cell_guid": "b1076dfc-b9ad-4769-8c92-a6c4dae69d19",
    "_uuid": "8f2839f25d086af736a60e9eeb907d3b93b6e0e5",
    "execution": {
     "iopub.execute_input": "2021-06-24T14:17:26.966069Z",
     "iopub.status.busy": "2021-06-24T14:17:26.965482Z",
     "iopub.status.idle": "2021-06-24T14:17:29.287655Z",
     "shell.execute_reply": "2021-06-24T14:17:29.286916Z",
     "shell.execute_reply.started": "2021-06-24T13:53:04.374556Z"
    },
    "papermill": {
     "duration": 2.395045,
     "end_time": "2021-06-24T14:17:29.287816",
     "exception": false,
     "start_time": "2021-06-24T14:17:26.892771",
     "status": "completed"
    },
    "tags": []
   },
   "outputs": [
    {
     "name": "stdout",
     "output_type": "stream",
     "text": [
      "/kaggle/input/sf-dst-scoring/sample_submission.csv\n",
      "/kaggle/input/sf-dst-scoring/train.csv\n",
      "/kaggle/input/sf-dst-scoring/test.csv\n"
     ]
    }
   ],
   "source": [
    "from pandas import Series\n",
    "import pandas as pd\n",
    "import numpy as np\n",
    "import math\n",
    "\n",
    "from datetime import date\n",
    "from datetime import datetime, timedelta\n",
    "import pandas_profiling\n",
    "\n",
    "import matplotlib.pyplot as plt\n",
    "import seaborn as sns\n",
    "\n",
    "from sklearn.preprocessing import PolynomialFeatures\n",
    "\n",
    "from sklearn.feature_selection import f_classif, mutual_info_classif\n",
    "from sklearn.preprocessing import LabelEncoder, OneHotEncoder, StandardScaler,RobustScaler\n",
    "\n",
    "from sklearn.model_selection import GridSearchCV\n",
    "from sklearn.model_selection import train_test_split\n",
    "from sklearn.linear_model import LogisticRegression\n",
    "\n",
    "from sklearn.metrics import accuracy_score, recall_score, f1_score, mean_absolute_error, mean_squared_error, precision_score\n",
    "from sklearn.metrics import confusion_matrix\n",
    "from sklearn.metrics import auc, roc_auc_score, roc_curve\n",
    "\n",
    "import warnings\n",
    "warnings.filterwarnings(\"ignore\")\n",
    "\n",
    "import os\n",
    "for dirname, _, filenames in os.walk('/kaggle/input'):\n",
    "    for filename in filenames:\n",
    "        print(os.path.join(dirname, filename))\n",
    "\n",
    "# You can write up to 20GB to the current directory (/kaggle/working/) that gets preserved as output when you create a version using \"Save & Run All\" \n",
    "# You can also write temporary files to /kaggle/temp/, but they won't be saved outside of the current session"
   ]
  },
  {
   "cell_type": "markdown",
   "id": "proved-median",
   "metadata": {
    "papermill": {
     "duration": 0.064189,
     "end_time": "2021-06-24T14:17:29.417964",
     "exception": false,
     "start_time": "2021-06-24T14:17:29.353775",
     "status": "completed"
    },
    "tags": []
   },
   "source": [
    "Установим константы для воспроизводимости эксперимента"
   ]
  },
  {
   "cell_type": "code",
   "execution_count": 2,
   "id": "quiet-renewal",
   "metadata": {
    "execution": {
     "iopub.execute_input": "2021-06-24T14:17:29.559827Z",
     "iopub.status.busy": "2021-06-24T14:17:29.547073Z",
     "iopub.status.idle": "2021-06-24T14:17:32.043819Z",
     "shell.execute_reply": "2021-06-24T14:17:32.043203Z",
     "shell.execute_reply.started": "2021-06-24T13:37:26.523128Z"
    },
    "papermill": {
     "duration": 2.563267,
     "end_time": "2021-06-24T14:17:32.043965",
     "exception": false,
     "start_time": "2021-06-24T14:17:29.480698",
     "status": "completed"
    },
    "tags": []
   },
   "outputs": [],
   "source": [
    "# всегда фиксируйте RANDOM_SEED, чтобы ваши эксперименты были воспроизводимы!\n",
    "RANDOM_SEED = 42\n",
    "\n",
    "TEST_SIZE = 0.2\n",
    "# зафиксируем версию пакетов, чтобы эксперименты были воспроизводимы:\n",
    "!pip freeze > requirements.txt"
   ]
  },
  {
   "cell_type": "markdown",
   "id": "ordered-recipe",
   "metadata": {
    "papermill": {
     "duration": 0.066028,
     "end_time": "2021-06-24T14:17:32.174405",
     "exception": false,
     "start_time": "2021-06-24T14:17:32.108377",
     "status": "completed"
    },
    "tags": []
   },
   "source": [
    "* df_train - тренировочные данные. Целевая переменная известна\n",
    "* df_test - проверочные данные без целевой переменной"
   ]
  },
  {
   "cell_type": "code",
   "execution_count": 3,
   "id": "organized-fifteen",
   "metadata": {
    "execution": {
     "iopub.execute_input": "2021-06-24T14:17:32.313574Z",
     "iopub.status.busy": "2021-06-24T14:17:32.312715Z",
     "iopub.status.idle": "2021-06-24T14:17:32.665806Z",
     "shell.execute_reply": "2021-06-24T14:17:32.665214Z",
     "shell.execute_reply.started": "2021-06-24T13:37:28.253153Z"
    },
    "papermill": {
     "duration": 0.42496,
     "end_time": "2021-06-24T14:17:32.665953",
     "exception": false,
     "start_time": "2021-06-24T14:17:32.240993",
     "status": "completed"
    },
    "tags": []
   },
   "outputs": [
    {
     "data": {
      "text/html": [
       "<div>\n",
       "<style scoped>\n",
       "    .dataframe tbody tr th:only-of-type {\n",
       "        vertical-align: middle;\n",
       "    }\n",
       "\n",
       "    .dataframe tbody tr th {\n",
       "        vertical-align: top;\n",
       "    }\n",
       "\n",
       "    .dataframe thead th {\n",
       "        text-align: right;\n",
       "    }\n",
       "</style>\n",
       "<table border=\"1\" class=\"dataframe\">\n",
       "  <thead>\n",
       "    <tr style=\"text-align: right;\">\n",
       "      <th></th>\n",
       "      <th>client_id</th>\n",
       "      <th>app_date</th>\n",
       "      <th>education</th>\n",
       "      <th>sex</th>\n",
       "      <th>age</th>\n",
       "      <th>car</th>\n",
       "      <th>car_type</th>\n",
       "      <th>decline_app_cnt</th>\n",
       "      <th>good_work</th>\n",
       "      <th>score_bki</th>\n",
       "      <th>bki_request_cnt</th>\n",
       "      <th>region_rating</th>\n",
       "      <th>home_address</th>\n",
       "      <th>work_address</th>\n",
       "      <th>income</th>\n",
       "      <th>sna</th>\n",
       "      <th>first_time</th>\n",
       "      <th>foreign_passport</th>\n",
       "      <th>default</th>\n",
       "    </tr>\n",
       "  </thead>\n",
       "  <tbody>\n",
       "    <tr>\n",
       "      <th>0</th>\n",
       "      <td>25905</td>\n",
       "      <td>01FEB2014</td>\n",
       "      <td>SCH</td>\n",
       "      <td>M</td>\n",
       "      <td>62</td>\n",
       "      <td>Y</td>\n",
       "      <td>Y</td>\n",
       "      <td>0</td>\n",
       "      <td>0</td>\n",
       "      <td>-2.008753</td>\n",
       "      <td>1</td>\n",
       "      <td>50</td>\n",
       "      <td>1</td>\n",
       "      <td>2</td>\n",
       "      <td>18000</td>\n",
       "      <td>4</td>\n",
       "      <td>1</td>\n",
       "      <td>N</td>\n",
       "      <td>0</td>\n",
       "    </tr>\n",
       "    <tr>\n",
       "      <th>1</th>\n",
       "      <td>63161</td>\n",
       "      <td>12MAR2014</td>\n",
       "      <td>SCH</td>\n",
       "      <td>F</td>\n",
       "      <td>59</td>\n",
       "      <td>N</td>\n",
       "      <td>N</td>\n",
       "      <td>0</td>\n",
       "      <td>0</td>\n",
       "      <td>-1.532276</td>\n",
       "      <td>3</td>\n",
       "      <td>50</td>\n",
       "      <td>2</td>\n",
       "      <td>3</td>\n",
       "      <td>19000</td>\n",
       "      <td>4</td>\n",
       "      <td>1</td>\n",
       "      <td>N</td>\n",
       "      <td>0</td>\n",
       "    </tr>\n",
       "    <tr>\n",
       "      <th>2</th>\n",
       "      <td>25887</td>\n",
       "      <td>01FEB2014</td>\n",
       "      <td>SCH</td>\n",
       "      <td>M</td>\n",
       "      <td>25</td>\n",
       "      <td>Y</td>\n",
       "      <td>N</td>\n",
       "      <td>2</td>\n",
       "      <td>0</td>\n",
       "      <td>-1.408142</td>\n",
       "      <td>1</td>\n",
       "      <td>80</td>\n",
       "      <td>1</td>\n",
       "      <td>2</td>\n",
       "      <td>30000</td>\n",
       "      <td>1</td>\n",
       "      <td>4</td>\n",
       "      <td>Y</td>\n",
       "      <td>0</td>\n",
       "    </tr>\n",
       "  </tbody>\n",
       "</table>\n",
       "</div>"
      ],
      "text/plain": [
       "   client_id   app_date education sex  age car car_type  decline_app_cnt  \\\n",
       "0      25905  01FEB2014       SCH   M   62   Y        Y                0   \n",
       "1      63161  12MAR2014       SCH   F   59   N        N                0   \n",
       "2      25887  01FEB2014       SCH   M   25   Y        N                2   \n",
       "\n",
       "   good_work  score_bki  bki_request_cnt  region_rating  home_address  \\\n",
       "0          0  -2.008753                1             50             1   \n",
       "1          0  -1.532276                3             50             2   \n",
       "2          0  -1.408142                1             80             1   \n",
       "\n",
       "   work_address  income  sna  first_time foreign_passport  default  \n",
       "0             2   18000    4           1                N        0  \n",
       "1             3   19000    4           1                N        0  \n",
       "2             2   30000    1           4                Y        0  "
      ]
     },
     "metadata": {},
     "output_type": "display_data"
    },
    {
     "data": {
      "text/html": [
       "<div>\n",
       "<style scoped>\n",
       "    .dataframe tbody tr th:only-of-type {\n",
       "        vertical-align: middle;\n",
       "    }\n",
       "\n",
       "    .dataframe tbody tr th {\n",
       "        vertical-align: top;\n",
       "    }\n",
       "\n",
       "    .dataframe thead th {\n",
       "        text-align: right;\n",
       "    }\n",
       "</style>\n",
       "<table border=\"1\" class=\"dataframe\">\n",
       "  <thead>\n",
       "    <tr style=\"text-align: right;\">\n",
       "      <th></th>\n",
       "      <th>client_id</th>\n",
       "      <th>app_date</th>\n",
       "      <th>education</th>\n",
       "      <th>sex</th>\n",
       "      <th>age</th>\n",
       "      <th>car</th>\n",
       "      <th>car_type</th>\n",
       "      <th>decline_app_cnt</th>\n",
       "      <th>good_work</th>\n",
       "      <th>score_bki</th>\n",
       "      <th>bki_request_cnt</th>\n",
       "      <th>region_rating</th>\n",
       "      <th>home_address</th>\n",
       "      <th>work_address</th>\n",
       "      <th>income</th>\n",
       "      <th>sna</th>\n",
       "      <th>first_time</th>\n",
       "      <th>foreign_passport</th>\n",
       "    </tr>\n",
       "  </thead>\n",
       "  <tbody>\n",
       "    <tr>\n",
       "      <th>0</th>\n",
       "      <td>74835</td>\n",
       "      <td>22MAR2014</td>\n",
       "      <td>GRD</td>\n",
       "      <td>M</td>\n",
       "      <td>29</td>\n",
       "      <td>Y</td>\n",
       "      <td>Y</td>\n",
       "      <td>0</td>\n",
       "      <td>0</td>\n",
       "      <td>-2.271884</td>\n",
       "      <td>3</td>\n",
       "      <td>50</td>\n",
       "      <td>1</td>\n",
       "      <td>2</td>\n",
       "      <td>50000</td>\n",
       "      <td>1</td>\n",
       "      <td>4</td>\n",
       "      <td>N</td>\n",
       "    </tr>\n",
       "    <tr>\n",
       "      <th>1</th>\n",
       "      <td>17527</td>\n",
       "      <td>24JAN2014</td>\n",
       "      <td>SCH</td>\n",
       "      <td>F</td>\n",
       "      <td>39</td>\n",
       "      <td>N</td>\n",
       "      <td>N</td>\n",
       "      <td>5</td>\n",
       "      <td>0</td>\n",
       "      <td>-1.504999</td>\n",
       "      <td>2</td>\n",
       "      <td>50</td>\n",
       "      <td>1</td>\n",
       "      <td>2</td>\n",
       "      <td>5000</td>\n",
       "      <td>4</td>\n",
       "      <td>3</td>\n",
       "      <td>N</td>\n",
       "    </tr>\n",
       "    <tr>\n",
       "      <th>2</th>\n",
       "      <td>75683</td>\n",
       "      <td>23MAR2014</td>\n",
       "      <td>UGR</td>\n",
       "      <td>M</td>\n",
       "      <td>50</td>\n",
       "      <td>Y</td>\n",
       "      <td>Y</td>\n",
       "      <td>0</td>\n",
       "      <td>0</td>\n",
       "      <td>-1.691339</td>\n",
       "      <td>1</td>\n",
       "      <td>50</td>\n",
       "      <td>1</td>\n",
       "      <td>2</td>\n",
       "      <td>30000</td>\n",
       "      <td>1</td>\n",
       "      <td>3</td>\n",
       "      <td>Y</td>\n",
       "    </tr>\n",
       "  </tbody>\n",
       "</table>\n",
       "</div>"
      ],
      "text/plain": [
       "   client_id   app_date education sex  age car car_type  decline_app_cnt  \\\n",
       "0      74835  22MAR2014       GRD   M   29   Y        Y                0   \n",
       "1      17527  24JAN2014       SCH   F   39   N        N                5   \n",
       "2      75683  23MAR2014       UGR   M   50   Y        Y                0   \n",
       "\n",
       "   good_work  score_bki  bki_request_cnt  region_rating  home_address  \\\n",
       "0          0  -2.271884                3             50             1   \n",
       "1          0  -1.504999                2             50             1   \n",
       "2          0  -1.691339                1             50             1   \n",
       "\n",
       "   work_address  income  sna  first_time foreign_passport  \n",
       "0             2   50000    1           4                N  \n",
       "1             2    5000    4           3                N  \n",
       "2             2   30000    1           3                Y  "
      ]
     },
     "metadata": {},
     "output_type": "display_data"
    },
    {
     "data": {
      "text/html": [
       "<div>\n",
       "<style scoped>\n",
       "    .dataframe tbody tr th:only-of-type {\n",
       "        vertical-align: middle;\n",
       "    }\n",
       "\n",
       "    .dataframe tbody tr th {\n",
       "        vertical-align: top;\n",
       "    }\n",
       "\n",
       "    .dataframe thead th {\n",
       "        text-align: right;\n",
       "    }\n",
       "</style>\n",
       "<table border=\"1\" class=\"dataframe\">\n",
       "  <thead>\n",
       "    <tr style=\"text-align: right;\">\n",
       "      <th></th>\n",
       "      <th>client_id</th>\n",
       "      <th>default</th>\n",
       "    </tr>\n",
       "  </thead>\n",
       "  <tbody>\n",
       "    <tr>\n",
       "      <th>0</th>\n",
       "      <td>66799</td>\n",
       "      <td>0.441004</td>\n",
       "    </tr>\n",
       "    <tr>\n",
       "      <th>1</th>\n",
       "      <td>25379</td>\n",
       "      <td>0.138092</td>\n",
       "    </tr>\n",
       "    <tr>\n",
       "      <th>2</th>\n",
       "      <td>28825</td>\n",
       "      <td>0.373370</td>\n",
       "    </tr>\n",
       "  </tbody>\n",
       "</table>\n",
       "</div>"
      ],
      "text/plain": [
       "   client_id   default\n",
       "0      66799  0.441004\n",
       "1      25379  0.138092\n",
       "2      28825  0.373370"
      ]
     },
     "metadata": {},
     "output_type": "display_data"
    }
   ],
   "source": [
    "DATA_DIR = '/kaggle/input/sf-dst-scoring/'\n",
    "df_train = pd.read_csv(DATA_DIR+'train.csv')\n",
    "df_test = pd.read_csv(DATA_DIR+'test.csv')\n",
    "sample_submission = pd.read_csv(DATA_DIR+'sample_submission.csv')\n",
    "display(df_train.head(3))\n",
    "display(df_test.head(3))\n",
    "display(sample_submission.head(3))"
   ]
  },
  {
   "cell_type": "markdown",
   "id": "wooden-roots",
   "metadata": {
    "papermill": {
     "duration": 0.065899,
     "end_time": "2021-06-24T14:17:32.797875",
     "exception": false,
     "start_time": "2021-06-24T14:17:32.731976",
     "status": "completed"
    },
    "tags": []
   },
   "source": [
    "Объединим эти датасеты, так как признаки нужно обработать одинаково. Чтобы их различать создадим флаг *train*"
   ]
  },
  {
   "cell_type": "code",
   "execution_count": 4,
   "id": "automated-accordance",
   "metadata": {
    "execution": {
     "iopub.execute_input": "2021-06-24T14:17:32.936153Z",
     "iopub.status.busy": "2021-06-24T14:17:32.935562Z",
     "iopub.status.idle": "2021-06-24T14:17:32.999933Z",
     "shell.execute_reply": "2021-06-24T14:17:33.000459Z",
     "shell.execute_reply.started": "2021-06-24T13:37:28.529176Z"
    },
    "papermill": {
     "duration": 0.136828,
     "end_time": "2021-06-24T14:17:33.000643",
     "exception": false,
     "start_time": "2021-06-24T14:17:32.863815",
     "status": "completed"
    },
    "tags": []
   },
   "outputs": [
    {
     "name": "stdout",
     "output_type": "stream",
     "text": [
      "Размер df_train: (73799, 20)\n"
     ]
    },
    {
     "data": {
      "text/html": [
       "<div>\n",
       "<style scoped>\n",
       "    .dataframe tbody tr th:only-of-type {\n",
       "        vertical-align: middle;\n",
       "    }\n",
       "\n",
       "    .dataframe tbody tr th {\n",
       "        vertical-align: top;\n",
       "    }\n",
       "\n",
       "    .dataframe thead th {\n",
       "        text-align: right;\n",
       "    }\n",
       "</style>\n",
       "<table border=\"1\" class=\"dataframe\">\n",
       "  <thead>\n",
       "    <tr style=\"text-align: right;\">\n",
       "      <th></th>\n",
       "      <th>client_id</th>\n",
       "      <th>app_date</th>\n",
       "      <th>education</th>\n",
       "      <th>sex</th>\n",
       "      <th>age</th>\n",
       "      <th>car</th>\n",
       "      <th>car_type</th>\n",
       "      <th>decline_app_cnt</th>\n",
       "      <th>good_work</th>\n",
       "      <th>score_bki</th>\n",
       "      <th>bki_request_cnt</th>\n",
       "      <th>region_rating</th>\n",
       "      <th>home_address</th>\n",
       "      <th>work_address</th>\n",
       "      <th>income</th>\n",
       "      <th>sna</th>\n",
       "      <th>first_time</th>\n",
       "      <th>foreign_passport</th>\n",
       "      <th>default</th>\n",
       "      <th>train</th>\n",
       "    </tr>\n",
       "  </thead>\n",
       "  <tbody>\n",
       "    <tr>\n",
       "      <th>0</th>\n",
       "      <td>25905</td>\n",
       "      <td>01FEB2014</td>\n",
       "      <td>SCH</td>\n",
       "      <td>M</td>\n",
       "      <td>62</td>\n",
       "      <td>Y</td>\n",
       "      <td>Y</td>\n",
       "      <td>0</td>\n",
       "      <td>0</td>\n",
       "      <td>-2.008753</td>\n",
       "      <td>1</td>\n",
       "      <td>50</td>\n",
       "      <td>1</td>\n",
       "      <td>2</td>\n",
       "      <td>18000</td>\n",
       "      <td>4</td>\n",
       "      <td>1</td>\n",
       "      <td>N</td>\n",
       "      <td>0.0</td>\n",
       "      <td>1</td>\n",
       "    </tr>\n",
       "    <tr>\n",
       "      <th>1</th>\n",
       "      <td>63161</td>\n",
       "      <td>12MAR2014</td>\n",
       "      <td>SCH</td>\n",
       "      <td>F</td>\n",
       "      <td>59</td>\n",
       "      <td>N</td>\n",
       "      <td>N</td>\n",
       "      <td>0</td>\n",
       "      <td>0</td>\n",
       "      <td>-1.532276</td>\n",
       "      <td>3</td>\n",
       "      <td>50</td>\n",
       "      <td>2</td>\n",
       "      <td>3</td>\n",
       "      <td>19000</td>\n",
       "      <td>4</td>\n",
       "      <td>1</td>\n",
       "      <td>N</td>\n",
       "      <td>0.0</td>\n",
       "      <td>1</td>\n",
       "    </tr>\n",
       "    <tr>\n",
       "      <th>2</th>\n",
       "      <td>25887</td>\n",
       "      <td>01FEB2014</td>\n",
       "      <td>SCH</td>\n",
       "      <td>M</td>\n",
       "      <td>25</td>\n",
       "      <td>Y</td>\n",
       "      <td>N</td>\n",
       "      <td>2</td>\n",
       "      <td>0</td>\n",
       "      <td>-1.408142</td>\n",
       "      <td>1</td>\n",
       "      <td>80</td>\n",
       "      <td>1</td>\n",
       "      <td>2</td>\n",
       "      <td>30000</td>\n",
       "      <td>1</td>\n",
       "      <td>4</td>\n",
       "      <td>Y</td>\n",
       "      <td>0.0</td>\n",
       "      <td>1</td>\n",
       "    </tr>\n",
       "  </tbody>\n",
       "</table>\n",
       "</div>"
      ],
      "text/plain": [
       "   client_id   app_date education sex  age car car_type  decline_app_cnt  \\\n",
       "0      25905  01FEB2014       SCH   M   62   Y        Y                0   \n",
       "1      63161  12MAR2014       SCH   F   59   N        N                0   \n",
       "2      25887  01FEB2014       SCH   M   25   Y        N                2   \n",
       "\n",
       "   good_work  score_bki  bki_request_cnt  region_rating  home_address  \\\n",
       "0          0  -2.008753                1             50             1   \n",
       "1          0  -1.532276                3             50             2   \n",
       "2          0  -1.408142                1             80             1   \n",
       "\n",
       "   work_address  income  sna  first_time foreign_passport  default  train  \n",
       "0             2   18000    4           1                N      0.0      1  \n",
       "1             3   19000    4           1                N      0.0      1  \n",
       "2             2   30000    1           4                Y      0.0      1  "
      ]
     },
     "metadata": {},
     "output_type": "display_data"
    },
    {
     "name": "stdout",
     "output_type": "stream",
     "text": [
      "Размер df_test: (36349, 19)\n"
     ]
    },
    {
     "data": {
      "text/html": [
       "<div>\n",
       "<style scoped>\n",
       "    .dataframe tbody tr th:only-of-type {\n",
       "        vertical-align: middle;\n",
       "    }\n",
       "\n",
       "    .dataframe tbody tr th {\n",
       "        vertical-align: top;\n",
       "    }\n",
       "\n",
       "    .dataframe thead th {\n",
       "        text-align: right;\n",
       "    }\n",
       "</style>\n",
       "<table border=\"1\" class=\"dataframe\">\n",
       "  <thead>\n",
       "    <tr style=\"text-align: right;\">\n",
       "      <th></th>\n",
       "      <th>client_id</th>\n",
       "      <th>app_date</th>\n",
       "      <th>education</th>\n",
       "      <th>sex</th>\n",
       "      <th>age</th>\n",
       "      <th>car</th>\n",
       "      <th>car_type</th>\n",
       "      <th>decline_app_cnt</th>\n",
       "      <th>good_work</th>\n",
       "      <th>score_bki</th>\n",
       "      <th>bki_request_cnt</th>\n",
       "      <th>region_rating</th>\n",
       "      <th>home_address</th>\n",
       "      <th>work_address</th>\n",
       "      <th>income</th>\n",
       "      <th>sna</th>\n",
       "      <th>first_time</th>\n",
       "      <th>foreign_passport</th>\n",
       "      <th>default</th>\n",
       "      <th>train</th>\n",
       "    </tr>\n",
       "  </thead>\n",
       "  <tbody>\n",
       "    <tr>\n",
       "      <th>110145</th>\n",
       "      <td>81852</td>\n",
       "      <td>30MAR2014</td>\n",
       "      <td>GRD</td>\n",
       "      <td>M</td>\n",
       "      <td>31</td>\n",
       "      <td>N</td>\n",
       "      <td>N</td>\n",
       "      <td>2</td>\n",
       "      <td>0</td>\n",
       "      <td>-0.940752</td>\n",
       "      <td>1</td>\n",
       "      <td>50</td>\n",
       "      <td>1</td>\n",
       "      <td>2</td>\n",
       "      <td>60000</td>\n",
       "      <td>4</td>\n",
       "      <td>2</td>\n",
       "      <td>N</td>\n",
       "      <td>NaN</td>\n",
       "      <td>0</td>\n",
       "    </tr>\n",
       "    <tr>\n",
       "      <th>110146</th>\n",
       "      <td>1971</td>\n",
       "      <td>07JAN2014</td>\n",
       "      <td>UGR</td>\n",
       "      <td>F</td>\n",
       "      <td>27</td>\n",
       "      <td>N</td>\n",
       "      <td>N</td>\n",
       "      <td>1</td>\n",
       "      <td>0</td>\n",
       "      <td>-1.242392</td>\n",
       "      <td>2</td>\n",
       "      <td>80</td>\n",
       "      <td>2</td>\n",
       "      <td>3</td>\n",
       "      <td>30000</td>\n",
       "      <td>1</td>\n",
       "      <td>1</td>\n",
       "      <td>N</td>\n",
       "      <td>NaN</td>\n",
       "      <td>0</td>\n",
       "    </tr>\n",
       "    <tr>\n",
       "      <th>110147</th>\n",
       "      <td>69044</td>\n",
       "      <td>17MAR2014</td>\n",
       "      <td>SCH</td>\n",
       "      <td>M</td>\n",
       "      <td>38</td>\n",
       "      <td>N</td>\n",
       "      <td>N</td>\n",
       "      <td>0</td>\n",
       "      <td>0</td>\n",
       "      <td>-1.507549</td>\n",
       "      <td>2</td>\n",
       "      <td>50</td>\n",
       "      <td>1</td>\n",
       "      <td>2</td>\n",
       "      <td>15000</td>\n",
       "      <td>4</td>\n",
       "      <td>2</td>\n",
       "      <td>N</td>\n",
       "      <td>NaN</td>\n",
       "      <td>0</td>\n",
       "    </tr>\n",
       "  </tbody>\n",
       "</table>\n",
       "</div>"
      ],
      "text/plain": [
       "        client_id   app_date education sex  age car car_type  decline_app_cnt  \\\n",
       "110145      81852  30MAR2014       GRD   M   31   N        N                2   \n",
       "110146       1971  07JAN2014       UGR   F   27   N        N                1   \n",
       "110147      69044  17MAR2014       SCH   M   38   N        N                0   \n",
       "\n",
       "        good_work  score_bki  bki_request_cnt  region_rating  home_address  \\\n",
       "110145          0  -0.940752                1             50             1   \n",
       "110146          0  -1.242392                2             80             2   \n",
       "110147          0  -1.507549                2             50             1   \n",
       "\n",
       "        work_address  income  sna  first_time foreign_passport  default  train  \n",
       "110145             2   60000    4           2                N      NaN      0  \n",
       "110146             3   30000    1           1                N      NaN      0  \n",
       "110147             2   15000    4           2                N      NaN      0  "
      ]
     },
     "metadata": {},
     "output_type": "display_data"
    }
   ],
   "source": [
    "df_train['train'] = 1 # пометим тренировочные\n",
    "df_test['train'] = 0 # пометим тестовые\n",
    "df = pd.concat([df_train, df_test], ignore_index=True)\n",
    "print('Размер df_train:', df_train.shape)\n",
    "display(df.head(3))\n",
    "print('Размер df_test:', df_test.shape)\n",
    "display(df.tail(3))\n"
   ]
  },
  {
   "cell_type": "markdown",
   "id": "mighty-death",
   "metadata": {
    "execution": {
     "iopub.execute_input": "2021-06-22T07:55:50.672107Z",
     "iopub.status.busy": "2021-06-22T07:55:50.671706Z",
     "iopub.status.idle": "2021-06-22T07:55:50.679567Z",
     "shell.execute_reply": "2021-06-22T07:55:50.677462Z",
     "shell.execute_reply.started": "2021-06-22T07:55:50.672073Z"
    },
    "papermill": {
     "duration": 0.069009,
     "end_time": "2021-06-24T14:17:33.138432",
     "exception": false,
     "start_time": "2021-06-24T14:17:33.069423",
     "status": "completed"
    },
    "tags": []
   },
   "source": [
    "Найдем пропуски и их количество в данных, заполним/удалим их"
   ]
  },
  {
   "cell_type": "code",
   "execution_count": 5,
   "id": "heard-advertiser",
   "metadata": {
    "execution": {
     "iopub.execute_input": "2021-06-24T14:17:33.309745Z",
     "iopub.status.busy": "2021-06-24T14:17:33.308898Z",
     "iopub.status.idle": "2021-06-24T14:17:33.350675Z",
     "shell.execute_reply": "2021-06-24T14:17:33.350175Z",
     "shell.execute_reply.started": "2021-06-24T13:37:28.611973Z"
    },
    "papermill": {
     "duration": 0.143272,
     "end_time": "2021-06-24T14:17:33.350810",
     "exception": false,
     "start_time": "2021-06-24T14:17:33.207538",
     "status": "completed"
    },
    "tags": []
   },
   "outputs": [
    {
     "data": {
      "text/plain": [
       "client_id               0\n",
       "app_date                0\n",
       "education             478\n",
       "sex                     0\n",
       "age                     0\n",
       "car                     0\n",
       "car_type                0\n",
       "decline_app_cnt         0\n",
       "good_work               0\n",
       "score_bki               0\n",
       "bki_request_cnt         0\n",
       "region_rating           0\n",
       "home_address            0\n",
       "work_address            0\n",
       "income                  0\n",
       "sna                     0\n",
       "first_time              0\n",
       "foreign_passport        0\n",
       "default             36349\n",
       "train                   0\n",
       "dtype: int64"
      ]
     },
     "execution_count": 5,
     "metadata": {},
     "output_type": "execute_result"
    }
   ],
   "source": [
    "df.isnull().sum()"
   ]
  },
  {
   "cell_type": "markdown",
   "id": "possible-campbell",
   "metadata": {
    "papermill": {
     "duration": 0.067164,
     "end_time": "2021-06-24T14:17:33.485888",
     "exception": false,
     "start_time": "2021-06-24T14:17:33.418724",
     "status": "completed"
    },
    "tags": []
   },
   "source": [
    "Пропуски есть только в признаке Education. Рассмотрим признак поподробнее, а затем и остальные признаки изучм более детально"
   ]
  },
  {
   "cell_type": "markdown",
   "id": "empirical-valuation",
   "metadata": {
    "papermill": {
     "duration": 0.066876,
     "end_time": "2021-06-24T14:17:33.620370",
     "exception": false,
     "start_time": "2021-06-24T14:17:33.553494",
     "status": "completed"
    },
    "tags": []
   },
   "source": [
    "## Education"
   ]
  },
  {
   "cell_type": "code",
   "execution_count": 6,
   "id": "french-commodity",
   "metadata": {
    "execution": {
     "iopub.execute_input": "2021-06-24T14:17:33.775915Z",
     "iopub.status.busy": "2021-06-24T14:17:33.775281Z",
     "iopub.status.idle": "2021-06-24T14:17:34.035241Z",
     "shell.execute_reply": "2021-06-24T14:17:34.034733Z",
     "shell.execute_reply.started": "2021-06-24T13:37:28.686597Z"
    },
    "papermill": {
     "duration": 0.347135,
     "end_time": "2021-06-24T14:17:34.035408",
     "exception": false,
     "start_time": "2021-06-24T14:17:33.688273",
     "status": "completed"
    },
    "tags": []
   },
   "outputs": [
    {
     "data": {
      "text/plain": [
       "<AxesSubplot:xlabel='education', ylabel='count'>"
      ]
     },
     "execution_count": 6,
     "metadata": {},
     "output_type": "execute_result"
    },
    {
     "data": {
      "image/png": "[encoded data removed]",
      "text/plain": [
       "<Figure size 576x396 with 1 Axes>"
      ]
     },
     "metadata": {},
     "output_type": "display_data"
    }
   ],
   "source": [
    "mode = df['education'].mode().item() # найдем наиболее часто встречающийся вид образования в датасете#\n",
    "sns.countplot(df_train['education'],palette=\"Set1\")  #подтвердим графиком"
   ]
  },
  {
   "cell_type": "markdown",
   "id": "incorporate-friend",
   "metadata": {
    "papermill": {
     "duration": 0.068617,
     "end_time": "2021-06-24T14:17:34.173974",
     "exception": false,
     "start_time": "2021-06-24T14:17:34.105357",
     "status": "completed"
    },
    "tags": []
   },
   "source": [
    "Заменим пустые значения в *education* самыми частыми. \n",
    "\n",
    "Пробовали ставить слово 'unknown', но метрики ухудшились"
   ]
  },
  {
   "cell_type": "code",
   "execution_count": 7,
   "id": "ceramic-ottawa",
   "metadata": {
    "execution": {
     "iopub.execute_input": "2021-06-24T14:17:34.331676Z",
     "iopub.status.busy": "2021-06-24T14:17:34.330602Z",
     "iopub.status.idle": "2021-06-24T14:17:34.334953Z",
     "shell.execute_reply": "2021-06-24T14:17:34.335402Z",
     "shell.execute_reply.started": "2021-06-24T13:37:28.913802Z"
    },
    "papermill": {
     "duration": 0.09076,
     "end_time": "2021-06-24T14:17:34.335571",
     "exception": false,
     "start_time": "2021-06-24T14:17:34.244811",
     "status": "completed"
    },
    "tags": []
   },
   "outputs": [],
   "source": [
    "df['education'] = df['education'].fillna(mode)"
   ]
  },
  {
   "cell_type": "markdown",
   "id": "joined-content",
   "metadata": {
    "papermill": {
     "duration": 0.067602,
     "end_time": "2021-06-24T14:17:34.472463",
     "exception": false,
     "start_time": "2021-06-24T14:17:34.404861",
     "status": "completed"
    },
    "tags": []
   },
   "source": [
    "Преобразуемуем в числовое значение данный столбец"
   ]
  },
  {
   "cell_type": "code",
   "execution_count": 8,
   "id": "fundamental-championship",
   "metadata": {
    "execution": {
     "iopub.execute_input": "2021-06-24T14:17:34.612420Z",
     "iopub.status.busy": "2021-06-24T14:17:34.611462Z",
     "iopub.status.idle": "2021-06-24T14:17:34.699278Z",
     "shell.execute_reply": "2021-06-24T14:17:34.698493Z",
     "shell.execute_reply.started": "2021-06-24T13:37:28.931733Z"
    },
    "papermill": {
     "duration": 0.158793,
     "end_time": "2021-06-24T14:17:34.699461",
     "exception": false,
     "start_time": "2021-06-24T14:17:34.540668",
     "status": "completed"
    },
    "tags": []
   },
   "outputs": [
    {
     "name": "stdout",
     "output_type": "stream",
     "text": [
      "{0: 'ACD', 1: 'GRD', 2: 'PGR', 3: 'SCH', 4: 'UGR'}\n"
     ]
    },
    {
     "data": {
      "text/html": [
       "<div>\n",
       "<style scoped>\n",
       "    .dataframe tbody tr th:only-of-type {\n",
       "        vertical-align: middle;\n",
       "    }\n",
       "\n",
       "    .dataframe tbody tr th {\n",
       "        vertical-align: top;\n",
       "    }\n",
       "\n",
       "    .dataframe thead th {\n",
       "        text-align: right;\n",
       "    }\n",
       "</style>\n",
       "<table border=\"1\" class=\"dataframe\">\n",
       "  <thead>\n",
       "    <tr style=\"text-align: right;\">\n",
       "      <th></th>\n",
       "      <th>client_id</th>\n",
       "      <th>app_date</th>\n",
       "      <th>education</th>\n",
       "      <th>sex</th>\n",
       "      <th>age</th>\n",
       "      <th>car</th>\n",
       "      <th>car_type</th>\n",
       "      <th>decline_app_cnt</th>\n",
       "      <th>good_work</th>\n",
       "      <th>score_bki</th>\n",
       "      <th>bki_request_cnt</th>\n",
       "      <th>region_rating</th>\n",
       "      <th>home_address</th>\n",
       "      <th>work_address</th>\n",
       "      <th>income</th>\n",
       "      <th>sna</th>\n",
       "      <th>first_time</th>\n",
       "      <th>foreign_passport</th>\n",
       "      <th>default</th>\n",
       "      <th>train</th>\n",
       "    </tr>\n",
       "  </thead>\n",
       "  <tbody>\n",
       "    <tr>\n",
       "      <th>46870</th>\n",
       "      <td>52048</td>\n",
       "      <td>28FEB2014</td>\n",
       "      <td>1</td>\n",
       "      <td>M</td>\n",
       "      <td>27</td>\n",
       "      <td>Y</td>\n",
       "      <td>N</td>\n",
       "      <td>0</td>\n",
       "      <td>0</td>\n",
       "      <td>-1.696550</td>\n",
       "      <td>1</td>\n",
       "      <td>40</td>\n",
       "      <td>1</td>\n",
       "      <td>3</td>\n",
       "      <td>25000</td>\n",
       "      <td>3</td>\n",
       "      <td>3</td>\n",
       "      <td>N</td>\n",
       "      <td>0.0</td>\n",
       "      <td>1</td>\n",
       "    </tr>\n",
       "    <tr>\n",
       "      <th>35827</th>\n",
       "      <td>26691</td>\n",
       "      <td>03FEB2014</td>\n",
       "      <td>3</td>\n",
       "      <td>F</td>\n",
       "      <td>35</td>\n",
       "      <td>N</td>\n",
       "      <td>N</td>\n",
       "      <td>0</td>\n",
       "      <td>0</td>\n",
       "      <td>-2.667342</td>\n",
       "      <td>0</td>\n",
       "      <td>50</td>\n",
       "      <td>2</td>\n",
       "      <td>3</td>\n",
       "      <td>30000</td>\n",
       "      <td>1</td>\n",
       "      <td>3</td>\n",
       "      <td>N</td>\n",
       "      <td>0.0</td>\n",
       "      <td>1</td>\n",
       "    </tr>\n",
       "    <tr>\n",
       "      <th>75422</th>\n",
       "      <td>28169</td>\n",
       "      <td>04FEB2014</td>\n",
       "      <td>3</td>\n",
       "      <td>F</td>\n",
       "      <td>34</td>\n",
       "      <td>Y</td>\n",
       "      <td>N</td>\n",
       "      <td>0</td>\n",
       "      <td>0</td>\n",
       "      <td>-2.057099</td>\n",
       "      <td>0</td>\n",
       "      <td>50</td>\n",
       "      <td>2</td>\n",
       "      <td>2</td>\n",
       "      <td>15000</td>\n",
       "      <td>1</td>\n",
       "      <td>4</td>\n",
       "      <td>N</td>\n",
       "      <td>NaN</td>\n",
       "      <td>0</td>\n",
       "    </tr>\n",
       "  </tbody>\n",
       "</table>\n",
       "</div>"
      ],
      "text/plain": [
       "       client_id   app_date  education sex  age car car_type  decline_app_cnt  \\\n",
       "46870      52048  28FEB2014          1   M   27   Y        N                0   \n",
       "35827      26691  03FEB2014          3   F   35   N        N                0   \n",
       "75422      28169  04FEB2014          3   F   34   Y        N                0   \n",
       "\n",
       "       good_work  score_bki  bki_request_cnt  region_rating  home_address  \\\n",
       "46870          0  -1.696550                1             40             1   \n",
       "35827          0  -2.667342                0             50             2   \n",
       "75422          0  -2.057099                0             50             2   \n",
       "\n",
       "       work_address  income  sna  first_time foreign_passport  default  train  \n",
       "46870             3   25000    3           3                N      0.0      1  \n",
       "35827             3   30000    1           3                N      0.0      1  \n",
       "75422             2   15000    1           4                N      NaN      0  "
      ]
     },
     "execution_count": 8,
     "metadata": {},
     "output_type": "execute_result"
    }
   ],
   "source": [
    "label_encoder = LabelEncoder()\n",
    "\n",
    "df['education'] = label_encoder.fit_transform(df['education'])\n",
    "print(dict(enumerate(label_encoder.classes_)))\n",
    "df.sample(3)"
   ]
  },
  {
   "cell_type": "code",
   "execution_count": 9,
   "id": "pleasant-indonesia",
   "metadata": {
    "execution": {
     "iopub.execute_input": "2021-06-24T14:17:34.843299Z",
     "iopub.status.busy": "2021-06-24T14:17:34.842686Z",
     "iopub.status.idle": "2021-06-24T14:17:34.844847Z",
     "shell.execute_reply": "2021-06-24T14:17:34.845318Z",
     "shell.execute_reply.started": "2021-06-24T13:37:29.017988Z"
    },
    "papermill": {
     "duration": 0.075394,
     "end_time": "2021-06-24T14:17:34.845479",
     "exception": false,
     "start_time": "2021-06-24T14:17:34.770085",
     "status": "completed"
    },
    "tags": []
   },
   "outputs": [],
   "source": [
    "# df.drop(['client_id'], 1, inplace=True)"
   ]
  },
  {
   "cell_type": "code",
   "execution_count": 10,
   "id": "southwest-vehicle",
   "metadata": {
    "execution": {
     "iopub.execute_input": "2021-06-24T14:17:34.989736Z",
     "iopub.status.busy": "2021-06-24T14:17:34.989114Z",
     "iopub.status.idle": "2021-06-24T14:17:35.048626Z",
     "shell.execute_reply": "2021-06-24T14:17:35.049061Z",
     "shell.execute_reply.started": "2021-06-24T13:37:29.023334Z"
    },
    "papermill": {
     "duration": 0.133665,
     "end_time": "2021-06-24T14:17:35.049234",
     "exception": false,
     "start_time": "2021-06-24T14:17:34.915569",
     "status": "completed"
    },
    "tags": []
   },
   "outputs": [
    {
     "data": {
      "text/plain": [
       "client_id               0\n",
       "app_date                0\n",
       "education               0\n",
       "sex                     0\n",
       "age                     0\n",
       "car                     0\n",
       "car_type                0\n",
       "decline_app_cnt         0\n",
       "good_work               0\n",
       "score_bki               0\n",
       "bki_request_cnt         0\n",
       "region_rating           0\n",
       "home_address            0\n",
       "work_address            0\n",
       "income                  0\n",
       "sna                     0\n",
       "first_time              0\n",
       "foreign_passport        0\n",
       "default             36349\n",
       "train                   0\n",
       "dtype: int64"
      ]
     },
     "execution_count": 10,
     "metadata": {},
     "output_type": "execute_result"
    }
   ],
   "source": [
    "df.isnull().sum()"
   ]
  },
  {
   "cell_type": "markdown",
   "id": "reflected-reply",
   "metadata": {
    "papermill": {
     "duration": 0.071227,
     "end_time": "2021-06-24T14:17:35.192405",
     "exception": false,
     "start_time": "2021-06-24T14:17:35.121178",
     "status": "completed"
    },
    "tags": []
   },
   "source": [
    "## APP_DATE\n",
    "Обработка признака, получение новых числовых признаков на его основе"
   ]
  },
  {
   "cell_type": "code",
   "execution_count": 11,
   "id": "italic-witch",
   "metadata": {
    "execution": {
     "iopub.execute_input": "2021-06-24T14:17:35.335639Z",
     "iopub.status.busy": "2021-06-24T14:17:35.335017Z",
     "iopub.status.idle": "2021-06-24T14:17:35.404955Z",
     "shell.execute_reply": "2021-06-24T14:17:35.404404Z",
     "shell.execute_reply.started": "2021-06-24T13:37:29.094396Z"
    },
    "papermill": {
     "duration": 0.142838,
     "end_time": "2021-06-24T14:17:35.405093",
     "exception": false,
     "start_time": "2021-06-24T14:17:35.262255",
     "status": "completed"
    },
    "tags": []
   },
   "outputs": [],
   "source": [
    "df['app_date'] = pd.to_datetime(df['app_date']) # - преобразуем в нормальный вид столбец с датой подачи\n",
    "df = df.sort_values(by='app_date')"
   ]
  },
  {
   "cell_type": "markdown",
   "id": "freelance-rebecca",
   "metadata": {
    "papermill": {
     "duration": 0.070118,
     "end_time": "2021-06-24T14:17:35.543951",
     "exception": false,
     "start_time": "2021-06-24T14:17:35.473833",
     "status": "completed"
    },
    "tags": []
   },
   "source": [
    "Посмотрим количство заявок по датам"
   ]
  },
  {
   "cell_type": "code",
   "execution_count": 12,
   "id": "intelligent-detective",
   "metadata": {
    "execution": {
     "iopub.execute_input": "2021-06-24T14:17:35.719612Z",
     "iopub.status.busy": "2021-06-24T14:17:35.718976Z",
     "iopub.status.idle": "2021-06-24T14:17:41.847199Z",
     "shell.execute_reply": "2021-06-24T14:17:41.846652Z",
     "shell.execute_reply.started": "2021-06-24T13:37:29.174718Z"
    },
    "papermill": {
     "duration": 6.232243,
     "end_time": "2021-06-24T14:17:41.847341",
     "exception": false,
     "start_time": "2021-06-24T14:17:35.615098",
     "status": "completed"
    },
    "tags": []
   },
   "outputs": [
    {
     "data": {
      "text/plain": [
       "<AxesSubplot:xlabel='app_date', ylabel='count'>"
      ]
     },
     "execution_count": 12,
     "metadata": {},
     "output_type": "execute_result"
    },
    {
     "data": {
      "image/png": "[encoded data removed]",
      "text/plain": [
       "<Figure size 1440x360 with 1 Axes>"
      ]
     },
     "metadata": {},
     "output_type": "display_data"
    }
   ],
   "source": [
    "fig, axes = plt.subplots(1, 1, figsize=(20,5))\n",
    "plt.xticks(rotation=90)\n",
    "# plt.xticks(rotation=90, ['jan','feb','mar','apr'])\n",
    "sns.countplot(x='app_date', data=df, orient='v')"
   ]
  },
  {
   "cell_type": "markdown",
   "id": "returning-indonesian",
   "metadata": {
    "execution": {
     "iopub.execute_input": "2021-06-22T09:00:10.129999Z",
     "iopub.status.busy": "2021-06-22T09:00:10.129595Z",
     "iopub.status.idle": "2021-06-22T09:00:10.137497Z",
     "shell.execute_reply": "2021-06-22T09:00:10.135898Z",
     "shell.execute_reply.started": "2021-06-22T09:00:10.129967Z"
    },
    "papermill": {
     "duration": 0.071098,
     "end_time": "2021-06-24T14:17:41.989992",
     "exception": false,
     "start_time": "2021-06-24T14:17:41.918894",
     "status": "completed"
    },
    "tags": []
   },
   "source": [
    "Из чего сделаем выводы:\n",
    "* данные взяты на отрезке времени с января 2014 по апрель 2014\n",
    "* количество заявок зависит от дня недели и от новогодних праздников"
   ]
  },
  {
   "cell_type": "markdown",
   "id": "joint-confusion",
   "metadata": {
    "execution": {
     "iopub.execute_input": "2021-06-22T08:26:45.293271Z",
     "iopub.status.busy": "2021-06-22T08:26:45.292812Z",
     "iopub.status.idle": "2021-06-22T08:26:45.302659Z",
     "shell.execute_reply": "2021-06-22T08:26:45.301606Z",
     "shell.execute_reply.started": "2021-06-22T08:26:45.293223Z"
    },
    "papermill": {
     "duration": 0.07054,
     "end_time": "2021-06-24T14:17:42.132037",
     "exception": false,
     "start_time": "2021-06-24T14:17:42.061497",
     "status": "completed"
    },
    "tags": []
   },
   "source": [
    "Сделаем новые признаки:\n",
    "- *weekday_app* - день недели, в который происходила подачи заявки (0-пн, 1-вт, 2-ср...)\n",
    "- *day_app* - Еще один признак - количество дней с начала записи данных до каждой конкретной подачи "
   ]
  },
  {
   "cell_type": "code",
   "execution_count": 13,
   "id": "first-launch",
   "metadata": {
    "execution": {
     "iopub.execute_input": "2021-06-24T14:17:42.281225Z",
     "iopub.status.busy": "2021-06-24T14:17:42.280603Z",
     "iopub.status.idle": "2021-06-24T14:17:42.319790Z",
     "shell.execute_reply": "2021-06-24T14:17:42.319181Z",
     "shell.execute_reply.started": "2021-06-24T13:37:32.465725Z"
    },
    "papermill": {
     "duration": 0.116638,
     "end_time": "2021-06-24T14:17:42.319929",
     "exception": false,
     "start_time": "2021-06-24T14:17:42.203291",
     "status": "completed"
    },
    "tags": []
   },
   "outputs": [
    {
     "data": {
      "text/html": [
       "<div>\n",
       "<style scoped>\n",
       "    .dataframe tbody tr th:only-of-type {\n",
       "        vertical-align: middle;\n",
       "    }\n",
       "\n",
       "    .dataframe tbody tr th {\n",
       "        vertical-align: top;\n",
       "    }\n",
       "\n",
       "    .dataframe thead th {\n",
       "        text-align: right;\n",
       "    }\n",
       "</style>\n",
       "<table border=\"1\" class=\"dataframe\">\n",
       "  <thead>\n",
       "    <tr style=\"text-align: right;\">\n",
       "      <th></th>\n",
       "      <th>client_id</th>\n",
       "      <th>app_date</th>\n",
       "      <th>day_app</th>\n",
       "      <th>weekday_app</th>\n",
       "      <th>education</th>\n",
       "      <th>sex</th>\n",
       "      <th>age</th>\n",
       "      <th>car</th>\n",
       "      <th>car_type</th>\n",
       "      <th>decline_app_cnt</th>\n",
       "      <th>...</th>\n",
       "      <th>bki_request_cnt</th>\n",
       "      <th>region_rating</th>\n",
       "      <th>home_address</th>\n",
       "      <th>work_address</th>\n",
       "      <th>income</th>\n",
       "      <th>sna</th>\n",
       "      <th>first_time</th>\n",
       "      <th>foreign_passport</th>\n",
       "      <th>default</th>\n",
       "      <th>train</th>\n",
       "    </tr>\n",
       "  </thead>\n",
       "  <tbody>\n",
       "    <tr>\n",
       "      <th>11038</th>\n",
       "      <td>42</td>\n",
       "      <td>2014-01-01</td>\n",
       "      <td>0</td>\n",
       "      <td>2</td>\n",
       "      <td>4</td>\n",
       "      <td>F</td>\n",
       "      <td>47</td>\n",
       "      <td>Y</td>\n",
       "      <td>N</td>\n",
       "      <td>0</td>\n",
       "      <td>...</td>\n",
       "      <td>1</td>\n",
       "      <td>60</td>\n",
       "      <td>2</td>\n",
       "      <td>3</td>\n",
       "      <td>35000</td>\n",
       "      <td>1</td>\n",
       "      <td>4</td>\n",
       "      <td>Y</td>\n",
       "      <td>0.0</td>\n",
       "      <td>1</td>\n",
       "    </tr>\n",
       "    <tr>\n",
       "      <th>25920</th>\n",
       "      <td>14</td>\n",
       "      <td>2014-01-01</td>\n",
       "      <td>0</td>\n",
       "      <td>2</td>\n",
       "      <td>3</td>\n",
       "      <td>F</td>\n",
       "      <td>36</td>\n",
       "      <td>N</td>\n",
       "      <td>N</td>\n",
       "      <td>0</td>\n",
       "      <td>...</td>\n",
       "      <td>0</td>\n",
       "      <td>70</td>\n",
       "      <td>1</td>\n",
       "      <td>1</td>\n",
       "      <td>90000</td>\n",
       "      <td>1</td>\n",
       "      <td>4</td>\n",
       "      <td>Y</td>\n",
       "      <td>0.0</td>\n",
       "      <td>1</td>\n",
       "    </tr>\n",
       "    <tr>\n",
       "      <th>72759</th>\n",
       "      <td>56</td>\n",
       "      <td>2014-01-01</td>\n",
       "      <td>0</td>\n",
       "      <td>2</td>\n",
       "      <td>4</td>\n",
       "      <td>M</td>\n",
       "      <td>25</td>\n",
       "      <td>N</td>\n",
       "      <td>N</td>\n",
       "      <td>0</td>\n",
       "      <td>...</td>\n",
       "      <td>5</td>\n",
       "      <td>80</td>\n",
       "      <td>2</td>\n",
       "      <td>3</td>\n",
       "      <td>50000</td>\n",
       "      <td>1</td>\n",
       "      <td>3</td>\n",
       "      <td>N</td>\n",
       "      <td>0.0</td>\n",
       "      <td>1</td>\n",
       "    </tr>\n",
       "    <tr>\n",
       "      <th>108665</th>\n",
       "      <td>35</td>\n",
       "      <td>2014-01-01</td>\n",
       "      <td>0</td>\n",
       "      <td>2</td>\n",
       "      <td>1</td>\n",
       "      <td>M</td>\n",
       "      <td>35</td>\n",
       "      <td>N</td>\n",
       "      <td>N</td>\n",
       "      <td>0</td>\n",
       "      <td>...</td>\n",
       "      <td>1</td>\n",
       "      <td>70</td>\n",
       "      <td>1</td>\n",
       "      <td>2</td>\n",
       "      <td>50000</td>\n",
       "      <td>1</td>\n",
       "      <td>3</td>\n",
       "      <td>Y</td>\n",
       "      <td>NaN</td>\n",
       "      <td>0</td>\n",
       "    </tr>\n",
       "    <tr>\n",
       "      <th>31672</th>\n",
       "      <td>20</td>\n",
       "      <td>2014-01-01</td>\n",
       "      <td>0</td>\n",
       "      <td>2</td>\n",
       "      <td>3</td>\n",
       "      <td>M</td>\n",
       "      <td>47</td>\n",
       "      <td>N</td>\n",
       "      <td>N</td>\n",
       "      <td>4</td>\n",
       "      <td>...</td>\n",
       "      <td>3</td>\n",
       "      <td>50</td>\n",
       "      <td>1</td>\n",
       "      <td>2</td>\n",
       "      <td>30000</td>\n",
       "      <td>1</td>\n",
       "      <td>2</td>\n",
       "      <td>N</td>\n",
       "      <td>0.0</td>\n",
       "      <td>1</td>\n",
       "    </tr>\n",
       "  </tbody>\n",
       "</table>\n",
       "<p>5 rows × 22 columns</p>\n",
       "</div>"
      ],
      "text/plain": [
       "        client_id   app_date  day_app  weekday_app  education sex  age car  \\\n",
       "11038          42 2014-01-01        0            2          4   F   47   Y   \n",
       "25920          14 2014-01-01        0            2          3   F   36   N   \n",
       "72759          56 2014-01-01        0            2          4   M   25   N   \n",
       "108665         35 2014-01-01        0            2          1   M   35   N   \n",
       "31672          20 2014-01-01        0            2          3   M   47   N   \n",
       "\n",
       "       car_type  decline_app_cnt  ...  bki_request_cnt  region_rating  \\\n",
       "11038         N                0  ...                1             60   \n",
       "25920         N                0  ...                0             70   \n",
       "72759         N                0  ...                5             80   \n",
       "108665        N                0  ...                1             70   \n",
       "31672         N                4  ...                3             50   \n",
       "\n",
       "        home_address  work_address  income  sna  first_time  foreign_passport  \\\n",
       "11038              2             3   35000    1           4                 Y   \n",
       "25920              1             1   90000    1           4                 Y   \n",
       "72759              2             3   50000    1           3                 N   \n",
       "108665             1             2   50000    1           3                 Y   \n",
       "31672              1             2   30000    1           2                 N   \n",
       "\n",
       "        default train  \n",
       "11038       0.0     1  \n",
       "25920       0.0     1  \n",
       "72759       0.0     1  \n",
       "108665      NaN     0  \n",
       "31672       0.0     1  \n",
       "\n",
       "[5 rows x 22 columns]"
      ]
     },
     "execution_count": 13,
     "metadata": {},
     "output_type": "execute_result"
    }
   ],
   "source": [
    "idx = df.columns.get_loc('app_date') \n",
    "df.insert(loc=idx+1, column='weekday_app', value= df['app_date'].dt.dayofweek)\n",
    "df.insert(loc=idx+1, column='day_app', value= (df['app_date'] - df['app_date'].min()).dt.days.astype(int))\n",
    "df.head()"
   ]
  },
  {
   "cell_type": "markdown",
   "id": "determined-isolation",
   "metadata": {
    "papermill": {
     "duration": 0.07187,
     "end_time": "2021-06-24T14:17:42.461252",
     "exception": false,
     "start_time": "2021-06-24T14:17:42.389382",
     "status": "completed"
    },
    "tags": []
   },
   "source": [
    "Проверим новые признаки на линейность."
   ]
  },
  {
   "cell_type": "code",
   "execution_count": 14,
   "id": "aggressive-mentor",
   "metadata": {
    "execution": {
     "iopub.execute_input": "2021-06-24T14:17:42.611018Z",
     "iopub.status.busy": "2021-06-24T14:17:42.610388Z",
     "iopub.status.idle": "2021-06-24T14:17:42.886348Z",
     "shell.execute_reply": "2021-06-24T14:17:42.886765Z",
     "shell.execute_reply.started": "2021-06-24T13:37:32.516359Z"
    },
    "papermill": {
     "duration": 0.35354,
     "end_time": "2021-06-24T14:17:42.886940",
     "exception": false,
     "start_time": "2021-06-24T14:17:42.533400",
     "status": "completed"
    },
    "tags": []
   },
   "outputs": [
    {
     "data": {
      "text/plain": [
       "<AxesSubplot:>"
      ]
     },
     "execution_count": 14,
     "metadata": {},
     "output_type": "execute_result"
    },
    {
     "data": {
      "image/png": "[encoded data removed]",
      "text/plain": [
       "<Figure size 720x360 with 2 Axes>"
      ]
     },
     "metadata": {},
     "output_type": "display_data"
    }
   ],
   "source": [
    "plt.figure(figsize=(10,5))\n",
    "sns.heatmap(df[['app_date','weekday_app','day_app','default']].corr(), annot=True,cmap = 'magma')\n"
   ]
  },
  {
   "cell_type": "markdown",
   "id": "historical-communication",
   "metadata": {
    "papermill": {
     "duration": 0.084066,
     "end_time": "2021-06-24T14:17:43.054726",
     "exception": false,
     "start_time": "2021-06-24T14:17:42.970660",
     "status": "completed"
    },
    "tags": []
   },
   "source": [
    "Линейности нет. Выкинем из датасета исходный столбец с датой - взяли из него всю нужную информацию"
   ]
  },
  {
   "cell_type": "code",
   "execution_count": 15,
   "id": "bronze-roommate",
   "metadata": {
    "execution": {
     "iopub.execute_input": "2021-06-24T14:17:43.219103Z",
     "iopub.status.busy": "2021-06-24T14:17:43.218132Z",
     "iopub.status.idle": "2021-06-24T14:17:43.233539Z",
     "shell.execute_reply": "2021-06-24T14:17:43.232978Z",
     "shell.execute_reply.started": "2021-06-24T13:37:32.804702Z"
    },
    "papermill": {
     "duration": 0.09689,
     "end_time": "2021-06-24T14:17:43.233691",
     "exception": false,
     "start_time": "2021-06-24T14:17:43.136801",
     "status": "completed"
    },
    "tags": []
   },
   "outputs": [],
   "source": [
    "df = df.drop('app_date',1)"
   ]
  },
  {
   "cell_type": "code",
   "execution_count": 16,
   "id": "lovely-despite",
   "metadata": {
    "execution": {
     "iopub.execute_input": "2021-06-24T14:17:43.382163Z",
     "iopub.status.busy": "2021-06-24T14:17:43.381363Z",
     "iopub.status.idle": "2021-06-24T14:17:43.437502Z",
     "shell.execute_reply": "2021-06-24T14:17:43.436873Z",
     "shell.execute_reply.started": "2021-06-24T13:37:32.817886Z"
    },
    "papermill": {
     "duration": 0.131996,
     "end_time": "2021-06-24T14:17:43.437642",
     "exception": false,
     "start_time": "2021-06-24T14:17:43.305646",
     "status": "completed"
    },
    "tags": []
   },
   "outputs": [
    {
     "name": "stdout",
     "output_type": "stream",
     "text": [
      "<class 'pandas.core.frame.DataFrame'>\n",
      "Int64Index: 110148 entries, 11038 to 60236\n",
      "Data columns (total 21 columns):\n",
      " #   Column            Non-Null Count   Dtype  \n",
      "---  ------            --------------   -----  \n",
      " 0   client_id         110148 non-null  int64  \n",
      " 1   day_app           110148 non-null  int64  \n",
      " 2   weekday_app       110148 non-null  int64  \n",
      " 3   education         110148 non-null  int64  \n",
      " 4   sex               110148 non-null  object \n",
      " 5   age               110148 non-null  int64  \n",
      " 6   car               110148 non-null  object \n",
      " 7   car_type          110148 non-null  object \n",
      " 8   decline_app_cnt   110148 non-null  int64  \n",
      " 9   good_work         110148 non-null  int64  \n",
      " 10  score_bki         110148 non-null  float64\n",
      " 11  bki_request_cnt   110148 non-null  int64  \n",
      " 12  region_rating     110148 non-null  int64  \n",
      " 13  home_address      110148 non-null  int64  \n",
      " 14  work_address      110148 non-null  int64  \n",
      " 15  income            110148 non-null  int64  \n",
      " 16  sna               110148 non-null  int64  \n",
      " 17  first_time        110148 non-null  int64  \n",
      " 18  foreign_passport  110148 non-null  object \n",
      " 19  default           73799 non-null   float64\n",
      " 20  train             110148 non-null  int64  \n",
      "dtypes: float64(2), int64(15), object(4)\n",
      "memory usage: 22.5+ MB\n"
     ]
    }
   ],
   "source": [
    "df.info()"
   ]
  },
  {
   "cell_type": "code",
   "execution_count": 17,
   "id": "standing-perth",
   "metadata": {
    "execution": {
     "iopub.execute_input": "2021-06-24T14:17:43.590065Z",
     "iopub.status.busy": "2021-06-24T14:17:43.589234Z",
     "iopub.status.idle": "2021-06-24T14:17:43.726006Z",
     "shell.execute_reply": "2021-06-24T14:17:43.726554Z",
     "shell.execute_reply.started": "2021-06-24T13:37:32.887249Z"
    },
    "papermill": {
     "duration": 0.216998,
     "end_time": "2021-06-24T14:17:43.726715",
     "exception": false,
     "start_time": "2021-06-24T14:17:43.509717",
     "status": "completed"
    },
    "tags": []
   },
   "outputs": [
    {
     "name": "stdout",
     "output_type": "stream",
     "text": [
      "bin_cols ['sex', 'car', 'car_type', 'good_work', 'foreign_passport', 'default', 'train']\n",
      "cat_cols ['weekday_app', 'education', 'region_rating', 'home_address', 'work_address', 'sna', 'first_time']\n",
      "num_cols ['client_id', 'day_app', 'age', 'decline_app_cnt', 'score_bki', 'bki_request_cnt', 'income']\n"
     ]
    }
   ],
   "source": [
    "bin_cols = []\n",
    "cat_cols = []\n",
    "num_cols = []\n",
    "for col in df.columns:\n",
    "    s = df[col].value_counts()\n",
    "    if len(s)<=2:\n",
    "        bin_cols.append(col)\n",
    "    elif(len(s)<=10):\n",
    "        cat_cols.append(col)\n",
    "    else:\n",
    "        num_cols.append(col)\n",
    "#     display(s)\n",
    "print('bin_cols',bin_cols)\n",
    "print('cat_cols',cat_cols)\n",
    "print('num_cols',num_cols)\n",
    "\n",
    "# проверим распределение вручную\n",
    "# display(df)\n",
    "        \n",
    "        "
   ]
  },
  {
   "cell_type": "markdown",
   "id": "chinese-number",
   "metadata": {
    "papermill": {
     "duration": 0.073369,
     "end_time": "2021-06-24T14:17:43.875173",
     "exception": false,
     "start_time": "2021-06-24T14:17:43.801804",
     "status": "completed"
    },
    "tags": []
   },
   "source": [
    "**Для упрощения обработки разобьем данные на три типа переменных: числовые, категориальные и бинарные**"
   ]
  },
  {
   "cell_type": "code",
   "execution_count": 18,
   "id": "paperback-driving",
   "metadata": {
    "execution": {
     "iopub.execute_input": "2021-06-24T14:17:44.026183Z",
     "iopub.status.busy": "2021-06-24T14:17:44.025220Z",
     "iopub.status.idle": "2021-06-24T14:17:44.028644Z",
     "shell.execute_reply": "2021-06-24T14:17:44.028156Z",
     "shell.execute_reply.started": "2021-06-24T13:37:33.042615Z"
    },
    "papermill": {
     "duration": 0.080765,
     "end_time": "2021-06-24T14:17:44.028781",
     "exception": false,
     "start_time": "2021-06-24T14:17:43.948016",
     "status": "completed"
    },
    "tags": []
   },
   "outputs": [],
   "source": [
    "# убираем 'default' и 'train'\n",
    "\n",
    "bin_cols = ['sex', 'car', 'car_type', 'good_work', 'foreign_passport']\n",
    "cat_cols = ['weekday_app', 'education', 'region_rating', 'home_address', 'work_address', 'sna', 'first_time']\n",
    "num_cols = ['day_app', 'age', 'decline_app_cnt', 'score_bki', 'bki_request_cnt', 'income']\n"
   ]
  },
  {
   "cell_type": "markdown",
   "id": "contemporary-flexibility",
   "metadata": {
    "papermill": {
     "duration": 0.074434,
     "end_time": "2021-06-24T14:17:44.176362",
     "exception": false,
     "start_time": "2021-06-24T14:17:44.101928",
     "status": "completed"
    },
    "tags": []
   },
   "source": [
    "## Обработа бинарных признаков"
   ]
  },
  {
   "cell_type": "code",
   "execution_count": 19,
   "id": "wanted-freeze",
   "metadata": {
    "execution": {
     "iopub.execute_input": "2021-06-24T14:17:44.397415Z",
     "iopub.status.busy": "2021-06-24T14:17:44.362092Z",
     "iopub.status.idle": "2021-06-24T14:17:44.476357Z",
     "shell.execute_reply": "2021-06-24T14:17:44.475747Z",
     "shell.execute_reply.started": "2021-06-24T13:37:33.050622Z"
    },
    "papermill": {
     "duration": 0.226244,
     "end_time": "2021-06-24T14:17:44.476500",
     "exception": false,
     "start_time": "2021-06-24T14:17:44.250256",
     "status": "completed"
    },
    "tags": []
   },
   "outputs": [],
   "source": [
    "# Преобразуем все бинарные признаки в 1 и 0 и посмотрим их важность\n",
    "label_encoder = LabelEncoder()\n",
    "for column in bin_cols:\n",
    "    df[column] = label_encoder.fit_transform(df[column])"
   ]
  },
  {
   "cell_type": "code",
   "execution_count": 20,
   "id": "negative-annex",
   "metadata": {
    "execution": {
     "iopub.execute_input": "2021-06-24T14:17:44.630135Z",
     "iopub.status.busy": "2021-06-24T14:17:44.629485Z",
     "iopub.status.idle": "2021-06-24T14:17:44.653176Z",
     "shell.execute_reply": "2021-06-24T14:17:44.652694Z",
     "shell.execute_reply.started": "2021-06-24T13:37:33.226708Z"
    },
    "papermill": {
     "duration": 0.102824,
     "end_time": "2021-06-24T14:17:44.653334",
     "exception": false,
     "start_time": "2021-06-24T14:17:44.550510",
     "status": "completed"
    },
    "tags": []
   },
   "outputs": [
    {
     "data": {
      "text/html": [
       "<div>\n",
       "<style scoped>\n",
       "    .dataframe tbody tr th:only-of-type {\n",
       "        vertical-align: middle;\n",
       "    }\n",
       "\n",
       "    .dataframe tbody tr th {\n",
       "        vertical-align: top;\n",
       "    }\n",
       "\n",
       "    .dataframe thead th {\n",
       "        text-align: right;\n",
       "    }\n",
       "</style>\n",
       "<table border=\"1\" class=\"dataframe\">\n",
       "  <thead>\n",
       "    <tr style=\"text-align: right;\">\n",
       "      <th></th>\n",
       "      <th>sex</th>\n",
       "      <th>car</th>\n",
       "      <th>car_type</th>\n",
       "      <th>good_work</th>\n",
       "      <th>foreign_passport</th>\n",
       "    </tr>\n",
       "  </thead>\n",
       "  <tbody>\n",
       "    <tr>\n",
       "      <th>11038</th>\n",
       "      <td>0</td>\n",
       "      <td>1</td>\n",
       "      <td>0</td>\n",
       "      <td>0</td>\n",
       "      <td>1</td>\n",
       "    </tr>\n",
       "    <tr>\n",
       "      <th>25920</th>\n",
       "      <td>0</td>\n",
       "      <td>0</td>\n",
       "      <td>0</td>\n",
       "      <td>0</td>\n",
       "      <td>1</td>\n",
       "    </tr>\n",
       "    <tr>\n",
       "      <th>72759</th>\n",
       "      <td>1</td>\n",
       "      <td>0</td>\n",
       "      <td>0</td>\n",
       "      <td>1</td>\n",
       "      <td>0</td>\n",
       "    </tr>\n",
       "    <tr>\n",
       "      <th>108665</th>\n",
       "      <td>1</td>\n",
       "      <td>0</td>\n",
       "      <td>0</td>\n",
       "      <td>1</td>\n",
       "      <td>1</td>\n",
       "    </tr>\n",
       "    <tr>\n",
       "      <th>31672</th>\n",
       "      <td>1</td>\n",
       "      <td>0</td>\n",
       "      <td>0</td>\n",
       "      <td>0</td>\n",
       "      <td>0</td>\n",
       "    </tr>\n",
       "  </tbody>\n",
       "</table>\n",
       "</div>"
      ],
      "text/plain": [
       "        sex  car  car_type  good_work  foreign_passport\n",
       "11038     0    1         0          0                 1\n",
       "25920     0    0         0          0                 1\n",
       "72759     1    0         0          1                 0\n",
       "108665    1    0         0          1                 1\n",
       "31672     1    0         0          0                 0"
      ]
     },
     "execution_count": 20,
     "metadata": {},
     "output_type": "execute_result"
    }
   ],
   "source": [
    "df[bin_cols].head(5)"
   ]
  },
  {
   "cell_type": "markdown",
   "id": "chemical-perspective",
   "metadata": {
    "papermill": {
     "duration": 0.075037,
     "end_time": "2021-06-24T14:17:44.803148",
     "exception": false,
     "start_time": "2021-06-24T14:17:44.728111",
     "status": "completed"
    },
    "tags": []
   },
   "source": [
    "Для анализа связи с default выделим строки из df_train, где default известен"
   ]
  },
  {
   "cell_type": "code",
   "execution_count": 21,
   "id": "fossil-plaza",
   "metadata": {
    "execution": {
     "iopub.execute_input": "2021-06-24T14:17:44.958986Z",
     "iopub.status.busy": "2021-06-24T14:17:44.958410Z",
     "iopub.status.idle": "2021-06-24T14:17:44.982314Z",
     "shell.execute_reply": "2021-06-24T14:17:44.981798Z",
     "shell.execute_reply.started": "2021-06-24T13:37:33.262974Z"
    },
    "papermill": {
     "duration": 0.102836,
     "end_time": "2021-06-24T14:17:44.982474",
     "exception": false,
     "start_time": "2021-06-24T14:17:44.879638",
     "status": "completed"
    },
    "tags": []
   },
   "outputs": [],
   "source": [
    "df1 = df[df['train']==1]"
   ]
  },
  {
   "cell_type": "markdown",
   "id": "convinced-numbers",
   "metadata": {
    "papermill": {
     "duration": 0.074075,
     "end_time": "2021-06-24T14:17:45.131607",
     "exception": false,
     "start_time": "2021-06-24T14:17:45.057532",
     "status": "completed"
    },
    "tags": []
   },
   "source": [
    "Посмотрим, как распределение каждого бинарного признака в зависимости от default"
   ]
  },
  {
   "cell_type": "code",
   "execution_count": 22,
   "id": "appropriate-ordinary",
   "metadata": {
    "execution": {
     "iopub.execute_input": "2021-06-24T14:17:45.341691Z",
     "iopub.status.busy": "2021-06-24T14:17:45.339317Z",
     "iopub.status.idle": "2021-06-24T14:17:45.987521Z",
     "shell.execute_reply": "2021-06-24T14:17:45.986947Z",
     "shell.execute_reply.started": "2021-06-24T13:37:33.279158Z"
    },
    "papermill": {
     "duration": 0.781507,
     "end_time": "2021-06-24T14:17:45.987664",
     "exception": false,
     "start_time": "2021-06-24T14:17:45.206157",
     "status": "completed"
    },
    "tags": []
   },
   "outputs": [
    {
     "data": {
      "image/png": "[encoded data removed]",
      "text/plain": [
       "<Figure size 1440x360 with 5 Axes>"
      ]
     },
     "metadata": {},
     "output_type": "display_data"
    }
   ],
   "source": [
    "fig, axes = plt.subplots(1, 5, figsize=(20,5))\n",
    "for column,i in zip (bin_cols,range(5)):\n",
    "    data = df1[column].groupby(df1[\"default\"]).value_counts(normalize=True).rename(\"Доля\").reset_index()\n",
    "    sns.barplot(x=column, y=\"Доля\", hue=\"default\", data=data,palette=\"Set1\",ax=axes.flat[i])\n",
    "   "
   ]
  },
  {
   "cell_type": "markdown",
   "id": "intelligent-collapse",
   "metadata": {
    "papermill": {
     "duration": 0.078003,
     "end_time": "2021-06-24T14:17:46.143643",
     "exception": false,
     "start_time": "2021-06-24T14:17:46.065640",
     "status": "completed"
    },
    "tags": []
   },
   "source": [
    "Проверим значимость категориальных и бинарных переменных"
   ]
  },
  {
   "cell_type": "code",
   "execution_count": 23,
   "id": "accessory-preview",
   "metadata": {
    "execution": {
     "iopub.execute_input": "2021-06-24T14:17:46.302069Z",
     "iopub.status.busy": "2021-06-24T14:17:46.301252Z",
     "iopub.status.idle": "2021-06-24T14:17:46.669194Z",
     "shell.execute_reply": "2021-06-24T14:17:46.668686Z",
     "shell.execute_reply.started": "2021-06-24T13:37:34.002899Z"
    },
    "papermill": {
     "duration": 0.451647,
     "end_time": "2021-06-24T14:17:46.669352",
     "exception": false,
     "start_time": "2021-06-24T14:17:46.217705",
     "status": "completed"
    },
    "tags": []
   },
   "outputs": [
    {
     "data": {
      "text/plain": [
       "<AxesSubplot:>"
      ]
     },
     "execution_count": 23,
     "metadata": {},
     "output_type": "execute_result"
    },
    {
     "data": {
      "image/png": "[encoded data removed]",
      "text/plain": [
       "<Figure size 576x396 with 1 Axes>"
      ]
     },
     "metadata": {},
     "output_type": "display_data"
    }
   ],
   "source": [
    "imp_cat = Series(mutual_info_classif(df1[bin_cols + cat_cols], df1['default'], discrete_features =True), index = bin_cols + cat_cols)\n",
    "imp_cat.sort_values(inplace = True)\n",
    "imp_cat.plot(kind = 'barh')"
   ]
  },
  {
   "cell_type": "markdown",
   "id": "bottom-optimum",
   "metadata": {
    "papermill": {
     "duration": 0.078189,
     "end_time": "2021-06-24T14:17:46.824182",
     "exception": false,
     "start_time": "2021-06-24T14:17:46.745993",
     "status": "completed"
    },
    "tags": []
   },
   "source": [
    "В результате оценки параметров важности можно понять, что новый признак weekday_app имеет некую важность в данном датасете отличную от нуля"
   ]
  },
  {
   "cell_type": "markdown",
   "id": "rapid-state",
   "metadata": {
    "papermill": {
     "duration": 0.080099,
     "end_time": "2021-06-24T14:17:46.984452",
     "exception": false,
     "start_time": "2021-06-24T14:17:46.904353",
     "status": "completed"
    },
    "tags": []
   },
   "source": [
    "**Вывод: 1.очевидно, что люди с плохой работой берут чаще кредиты, а также чаще его не возвращают\n",
    "2. Неочевидно но факт, женщны чаще берут кредиты\n",
    "3. Наличие машины скорее всего связано с хорошей работой,так как люди без машины берут чаще кредиты.\n",
    "4. Аналогично п.3 люди с хорошей работой скорре всего имеют загран паспор**"
   ]
  },
  {
   "cell_type": "markdown",
   "id": "ancient-jumping",
   "metadata": {
    "papermill": {
     "duration": 0.077524,
     "end_time": "2021-06-24T14:17:47.140596",
     "exception": false,
     "start_time": "2021-06-24T14:17:47.063072",
     "status": "completed"
    },
    "tags": []
   },
   "source": [
    "## Рассмотрим числовые признаки"
   ]
  },
  {
   "cell_type": "code",
   "execution_count": 24,
   "id": "sonic-soccer",
   "metadata": {
    "execution": {
     "iopub.execute_input": "2021-06-24T14:17:47.304751Z",
     "iopub.status.busy": "2021-06-24T14:17:47.303778Z",
     "iopub.status.idle": "2021-06-24T14:17:47.315703Z",
     "shell.execute_reply": "2021-06-24T14:17:47.315190Z",
     "shell.execute_reply.started": "2021-06-24T13:37:34.339529Z"
    },
    "papermill": {
     "duration": 0.097221,
     "end_time": "2021-06-24T14:17:47.315839",
     "exception": false,
     "start_time": "2021-06-24T14:17:47.218618",
     "status": "completed"
    },
    "tags": []
   },
   "outputs": [
    {
     "name": "stdout",
     "output_type": "stream",
     "text": [
      "<class 'pandas.core.frame.DataFrame'>\n",
      "Int64Index: 73799 entries, 11038 to 60236\n",
      "Data columns (total 6 columns):\n",
      " #   Column           Non-Null Count  Dtype  \n",
      "---  ------           --------------  -----  \n",
      " 0   day_app          73799 non-null  int64  \n",
      " 1   age              73799 non-null  int64  \n",
      " 2   decline_app_cnt  73799 non-null  int64  \n",
      " 3   score_bki        73799 non-null  float64\n",
      " 4   bki_request_cnt  73799 non-null  int64  \n",
      " 5   income           73799 non-null  int64  \n",
      "dtypes: float64(1), int64(5)\n",
      "memory usage: 6.0 MB\n"
     ]
    }
   ],
   "source": [
    "df1[num_cols].info()"
   ]
  },
  {
   "cell_type": "code",
   "execution_count": 25,
   "id": "grand-stationery",
   "metadata": {
    "execution": {
     "iopub.execute_input": "2021-06-24T14:17:47.482336Z",
     "iopub.status.busy": "2021-06-24T14:17:47.481706Z",
     "iopub.status.idle": "2021-06-24T14:17:48.013962Z",
     "shell.execute_reply": "2021-06-24T14:17:48.013405Z",
     "shell.execute_reply.started": "2021-06-24T13:37:34.362590Z"
    },
    "papermill": {
     "duration": 0.620619,
     "end_time": "2021-06-24T14:17:48.014102",
     "exception": false,
     "start_time": "2021-06-24T14:17:47.393483",
     "status": "completed"
    },
    "tags": []
   },
   "outputs": [
    {
     "data": {
      "text/plain": [
       "<AxesSubplot:>"
      ]
     },
     "execution_count": 25,
     "metadata": {},
     "output_type": "execute_result"
    },
    {
     "data": {
      "image/png": "[encoded data removed]",
      "text/plain": [
       "<Figure size 1440x360 with 1 Axes>"
      ]
     },
     "metadata": {},
     "output_type": "display_data"
    }
   ],
   "source": [
    "imp_cat = Series(mutual_info_classif(df1[num_cols+bin_cols + cat_cols], df1['default'],\n",
    "                                     discrete_features =True), index = num_cols+bin_cols + cat_cols)\n",
    "\n",
    "fig, axes = plt.subplots(1, 1, figsize=(20,5))\n",
    "imp_cat.sort_values(inplace = True)\n",
    "imp_cat.plot(kind = 'barh')"
   ]
  },
  {
   "cell_type": "markdown",
   "id": "given-memorial",
   "metadata": {
    "papermill": {
     "duration": 0.078033,
     "end_time": "2021-06-24T14:17:48.170345",
     "exception": false,
     "start_time": "2021-06-24T14:17:48.092312",
     "status": "completed"
    },
    "tags": []
   },
   "source": [
    "<del>Отметим, что день недели имеет более высокую важност, чем возраст</del>\n"
   ]
  },
  {
   "cell_type": "code",
   "execution_count": 26,
   "id": "shaped-newfoundland",
   "metadata": {
    "execution": {
     "iopub.execute_input": "2021-06-24T14:17:48.359496Z",
     "iopub.status.busy": "2021-06-24T14:17:48.356163Z",
     "iopub.status.idle": "2021-06-24T14:17:49.897738Z",
     "shell.execute_reply": "2021-06-24T14:17:49.896942Z",
     "shell.execute_reply.started": "2021-06-24T13:37:34.901598Z"
    },
    "papermill": {
     "duration": 1.649426,
     "end_time": "2021-06-24T14:17:49.897872",
     "exception": false,
     "start_time": "2021-06-24T14:17:48.248446",
     "status": "completed"
    },
    "tags": []
   },
   "outputs": [
    {
     "data": {
      "image/png": "[encoded data removed]",
      "text/plain": [
       "<Figure size 1800x360 with 6 Axes>"
      ]
     },
     "metadata": {},
     "output_type": "display_data"
    }
   ],
   "source": [
    "fig, axes = plt.subplots(1, 6, figsize=(25,5))\n",
    "for i,j in zip (num_cols,range(6)):\n",
    "    sns.distplot(df[i], kde = False, rug=False,ax=axes.flat[j],color=\"g\")\n",
    "  "
   ]
  },
  {
   "cell_type": "code",
   "execution_count": 27,
   "id": "fifty-rugby",
   "metadata": {
    "execution": {
     "iopub.execute_input": "2021-06-24T14:17:50.082178Z",
     "iopub.status.busy": "2021-06-24T14:17:50.081509Z",
     "iopub.status.idle": "2021-06-24T14:17:50.325669Z",
     "shell.execute_reply": "2021-06-24T14:17:50.326135Z",
     "shell.execute_reply.started": "2021-06-24T13:37:36.137860Z"
    },
    "papermill": {
     "duration": 0.349323,
     "end_time": "2021-06-24T14:17:50.326314",
     "exception": false,
     "start_time": "2021-06-24T14:17:49.976991",
     "status": "completed"
    },
    "tags": []
   },
   "outputs": [
    {
     "data": {
      "image/png": "[encoded data removed]",
      "text/plain": [
       "<Figure size 576x396 with 1 Axes>"
      ]
     },
     "metadata": {},
     "output_type": "display_data"
    }
   ],
   "source": [
    "plt.figure()\n",
    "sns.distplot(df1['score_bki'], kde = False, rug=False,color=\"g\")\n",
    "plt.show()"
   ]
  },
  {
   "cell_type": "markdown",
   "id": "motivated-teach",
   "metadata": {
    "papermill": {
     "duration": 0.079891,
     "end_time": "2021-06-24T14:17:50.485477",
     "exception": false,
     "start_time": "2021-06-24T14:17:50.405586",
     "status": "completed"
    },
    "tags": []
   },
   "source": [
    "**Прологорифмируем смещенные числовые данные, чтобы данные были распределны более нормально и еще раз построим графики**"
   ]
  },
  {
   "cell_type": "code",
   "execution_count": 28,
   "id": "proper-trinity",
   "metadata": {
    "execution": {
     "iopub.execute_input": "2021-06-24T14:17:50.652005Z",
     "iopub.status.busy": "2021-06-24T14:17:50.651353Z",
     "iopub.status.idle": "2021-06-24T14:17:50.672240Z",
     "shell.execute_reply": "2021-06-24T14:17:50.671622Z",
     "shell.execute_reply.started": "2021-06-24T13:37:36.362978Z"
    },
    "papermill": {
     "duration": 0.106653,
     "end_time": "2021-06-24T14:17:50.672395",
     "exception": false,
     "start_time": "2021-06-24T14:17:50.565742",
     "status": "completed"
    },
    "tags": []
   },
   "outputs": [],
   "source": [
    "num_cols_2 = ['age','income']\n",
    "# df[num_cols_2] =(df[num_cols_2]).transform(np.log)\n",
    "for i,col in enumerate(num_cols_2):\n",
    "    df[col] = np.log(df[col] + 1)\n"
   ]
  },
  {
   "cell_type": "code",
   "execution_count": 29,
   "id": "exotic-black",
   "metadata": {
    "execution": {
     "iopub.execute_input": "2021-06-24T14:17:50.870592Z",
     "iopub.status.busy": "2021-06-24T14:17:50.869958Z",
     "iopub.status.idle": "2021-06-24T14:17:51.365827Z",
     "shell.execute_reply": "2021-06-24T14:17:51.366301Z",
     "shell.execute_reply.started": "2021-06-24T13:37:36.390069Z"
    },
    "papermill": {
     "duration": 0.610667,
     "end_time": "2021-06-24T14:17:51.366487",
     "exception": false,
     "start_time": "2021-06-24T14:17:50.755820",
     "status": "completed"
    },
    "tags": []
   },
   "outputs": [
    {
     "data": {
      "image/png": "[encoded data removed]",
      "text/plain": [
       "<Figure size 720x360 with 2 Axes>"
      ]
     },
     "metadata": {},
     "output_type": "display_data"
    }
   ],
   "source": [
    "fig, axes = plt.subplots(1, 2, figsize=(10,5))\n",
    "for i,j in zip (num_cols_2,range(6)):\n",
    "    sns.distplot(df[i], kde = False, rug=False,ax=axes.flat[j],color=\"r\")"
   ]
  },
  {
   "cell_type": "markdown",
   "id": "incorrect-reflection",
   "metadata": {
    "papermill": {
     "duration": 0.08099,
     "end_time": "2021-06-24T14:17:51.528200",
     "exception": false,
     "start_time": "2021-06-24T14:17:51.447210",
     "status": "completed"
    },
    "tags": []
   },
   "source": [
    "**Исследование графиков зависимости категориальных признаков от Default не имеет смысла, так как все равно мы не знаем значений каждой категории**"
   ]
  },
  {
   "cell_type": "markdown",
   "id": "speaking-incentive",
   "metadata": {
    "papermill": {
     "duration": 0.081049,
     "end_time": "2021-06-24T14:17:51.690623",
     "exception": false,
     "start_time": "2021-06-24T14:17:51.609574",
     "status": "completed"
    },
    "tags": []
   },
   "source": [
    "## Оценка корреляции"
   ]
  },
  {
   "cell_type": "code",
   "execution_count": 30,
   "id": "solved-roberts",
   "metadata": {
    "execution": {
     "iopub.execute_input": "2021-06-24T14:17:51.873480Z",
     "iopub.status.busy": "2021-06-24T14:17:51.872875Z",
     "iopub.status.idle": "2021-06-24T14:17:53.873067Z",
     "shell.execute_reply": "2021-06-24T14:17:53.873698Z",
     "shell.execute_reply.started": "2021-06-24T13:37:36.829721Z"
    },
    "papermill": {
     "duration": 2.093979,
     "end_time": "2021-06-24T14:17:53.873858",
     "exception": false,
     "start_time": "2021-06-24T14:17:51.779879",
     "status": "completed"
    },
    "tags": []
   },
   "outputs": [
    {
     "data": {
      "text/plain": [
       "<AxesSubplot:>"
      ]
     },
     "execution_count": 30,
     "metadata": {},
     "output_type": "execute_result"
    },
    {
     "data": {
      "image/png": "[encoded data removed]",
      "text/plain": [
       "<Figure size 1440x1440 with 2 Axes>"
      ]
     },
     "metadata": {},
     "output_type": "display_data"
    }
   ],
   "source": [
    "plt.figure(figsize=(20,20)) \n",
    "sns.heatmap(df.drop(['client_id', 'train'], axis=1).corr(),annot = True, cmap = 'magma')"
   ]
  },
  {
   "cell_type": "markdown",
   "id": "trained-poker",
   "metadata": {
    "papermill": {
     "duration": 0.087594,
     "end_time": "2021-06-24T14:17:54.047646",
     "exception": false,
     "start_time": "2021-06-24T14:17:53.960052",
     "status": "completed"
    },
    "tags": []
   },
   "source": [
    "Видим пары сильно зависимых признаков:\n",
    "- car и car_type. В типе машины добавим тип 2 - \"нет машины\". А наличие машины удалим\n",
    "- work_address and home_address. Удалим домашний адрес, так как он чуть хуже коррелирует с целевой переменной"
   ]
  },
  {
   "cell_type": "code",
   "execution_count": 31,
   "id": "dirty-alexandria",
   "metadata": {
    "execution": {
     "iopub.execute_input": "2021-06-24T14:17:54.258900Z",
     "iopub.status.busy": "2021-06-24T14:17:54.253873Z",
     "iopub.status.idle": "2021-06-24T14:17:55.815444Z",
     "shell.execute_reply": "2021-06-24T14:17:55.814895Z",
     "shell.execute_reply.started": "2021-06-24T13:37:39.411040Z"
    },
    "papermill": {
     "duration": 1.680816,
     "end_time": "2021-06-24T14:17:55.815604",
     "exception": false,
     "start_time": "2021-06-24T14:17:54.134788",
     "status": "completed"
    },
    "tags": []
   },
   "outputs": [],
   "source": [
    "df['car_type'] = df[['car','car_type']].apply(lambda x: 2 if x['car']==0 else x['car_type'], axis=1)\n",
    "df[['car','car_type']]\n",
    "\n",
    "df.drop('car', axis=1, inplace=True)"
   ]
  },
  {
   "cell_type": "code",
   "execution_count": 32,
   "id": "similar-behavior",
   "metadata": {
    "execution": {
     "iopub.execute_input": "2021-06-24T14:17:56.004689Z",
     "iopub.status.busy": "2021-06-24T14:17:56.003752Z",
     "iopub.status.idle": "2021-06-24T14:17:56.006893Z",
     "shell.execute_reply": "2021-06-24T14:17:56.006437Z",
     "shell.execute_reply.started": "2021-06-24T13:37:41.058025Z"
    },
    "papermill": {
     "duration": 0.102287,
     "end_time": "2021-06-24T14:17:56.007029",
     "exception": false,
     "start_time": "2021-06-24T14:17:55.904742",
     "status": "completed"
    },
    "tags": []
   },
   "outputs": [],
   "source": [
    "df[['work_address','home_address']]\n",
    "df.drop('home_address', axis=1, inplace=True)"
   ]
  },
  {
   "cell_type": "markdown",
   "id": "thermal-raleigh",
   "metadata": {
    "papermill": {
     "duration": 0.087334,
     "end_time": "2021-06-24T14:17:56.183579",
     "exception": false,
     "start_time": "2021-06-24T14:17:56.096245",
     "status": "completed"
    },
    "tags": []
   },
   "source": [
    "#  Подготовка данных к машинному обучению"
   ]
  },
  {
   "cell_type": "markdown",
   "id": "artistic-guide",
   "metadata": {
    "papermill": {
     "duration": 0.086407,
     "end_time": "2021-06-24T14:17:56.357465",
     "exception": false,
     "start_time": "2021-06-24T14:17:56.271058",
     "status": "completed"
    },
    "tags": []
   },
   "source": [
    "\n",
    "<del>Применим One-Hot Encoding для того, чтобы наша модель могла работать с данным, у которох 3 и более категорий</del>\n",
    "\n",
    "\n",
    "Применим Dumming к категориальным признакам"
   ]
  },
  {
   "cell_type": "code",
   "execution_count": 33,
   "id": "historical-stereo",
   "metadata": {
    "execution": {
     "iopub.execute_input": "2021-06-24T14:17:56.537657Z",
     "iopub.status.busy": "2021-06-24T14:17:56.537048Z",
     "iopub.status.idle": "2021-06-24T14:17:56.582104Z",
     "shell.execute_reply": "2021-06-24T14:17:56.582619Z",
     "shell.execute_reply.started": "2021-06-24T13:37:41.073984Z"
    },
    "papermill": {
     "duration": 0.137984,
     "end_time": "2021-06-24T14:17:56.582786",
     "exception": false,
     "start_time": "2021-06-24T14:17:56.444802",
     "status": "completed"
    },
    "tags": []
   },
   "outputs": [],
   "source": [
    "# x_cat = OneHotEncoder(sparse = False).fit_transform((df[cat_cols].values))\n",
    "# x_cat.shape\n",
    "cat_cols = ['weekday_app',\n",
    " 'education',\n",
    " 'region_rating',\n",
    " 'work_address',\n",
    "'car_type',\n",
    " 'sna',\n",
    " 'first_time']\n",
    "\n",
    "bin_cols = ['sex', 'good_work', 'foreign_passport']\n",
    "num_cols = ['day_app', 'age', 'decline_app_cnt', 'score_bki', 'bki_request_cnt', 'income']\n",
    "\n",
    "df = pd.get_dummies(df, columns=cat_cols, dummy_na=False)"
   ]
  },
  {
   "cell_type": "code",
   "execution_count": 34,
   "id": "communist-camel",
   "metadata": {
    "execution": {
     "iopub.execute_input": "2021-06-24T14:17:56.761456Z",
     "iopub.status.busy": "2021-06-24T14:17:56.760811Z",
     "iopub.status.idle": "2021-06-24T14:17:56.784939Z",
     "shell.execute_reply": "2021-06-24T14:17:56.784404Z",
     "shell.execute_reply.started": "2021-06-24T13:37:41.127813Z"
    },
    "papermill": {
     "duration": 0.114261,
     "end_time": "2021-06-24T14:17:56.785085",
     "exception": false,
     "start_time": "2021-06-24T14:17:56.670824",
     "status": "completed"
    },
    "tags": []
   },
   "outputs": [
    {
     "data": {
      "text/html": [
       "<div>\n",
       "<style scoped>\n",
       "    .dataframe tbody tr th:only-of-type {\n",
       "        vertical-align: middle;\n",
       "    }\n",
       "\n",
       "    .dataframe tbody tr th {\n",
       "        vertical-align: top;\n",
       "    }\n",
       "\n",
       "    .dataframe thead th {\n",
       "        text-align: right;\n",
       "    }\n",
       "</style>\n",
       "<table border=\"1\" class=\"dataframe\">\n",
       "  <thead>\n",
       "    <tr style=\"text-align: right;\">\n",
       "      <th></th>\n",
       "      <th>client_id</th>\n",
       "      <th>day_app</th>\n",
       "      <th>sex</th>\n",
       "      <th>age</th>\n",
       "      <th>decline_app_cnt</th>\n",
       "      <th>good_work</th>\n",
       "      <th>score_bki</th>\n",
       "      <th>bki_request_cnt</th>\n",
       "      <th>income</th>\n",
       "      <th>foreign_passport</th>\n",
       "      <th>...</th>\n",
       "      <th>car_type_1</th>\n",
       "      <th>car_type_2</th>\n",
       "      <th>sna_1</th>\n",
       "      <th>sna_2</th>\n",
       "      <th>sna_3</th>\n",
       "      <th>sna_4</th>\n",
       "      <th>first_time_1</th>\n",
       "      <th>first_time_2</th>\n",
       "      <th>first_time_3</th>\n",
       "      <th>first_time_4</th>\n",
       "    </tr>\n",
       "  </thead>\n",
       "  <tbody>\n",
       "    <tr>\n",
       "      <th>11038</th>\n",
       "      <td>42</td>\n",
       "      <td>0</td>\n",
       "      <td>0</td>\n",
       "      <td>3.871201</td>\n",
       "      <td>0</td>\n",
       "      <td>0</td>\n",
       "      <td>-2.211580</td>\n",
       "      <td>1</td>\n",
       "      <td>10.463132</td>\n",
       "      <td>1</td>\n",
       "      <td>...</td>\n",
       "      <td>0</td>\n",
       "      <td>0</td>\n",
       "      <td>1</td>\n",
       "      <td>0</td>\n",
       "      <td>0</td>\n",
       "      <td>0</td>\n",
       "      <td>0</td>\n",
       "      <td>0</td>\n",
       "      <td>0</td>\n",
       "      <td>1</td>\n",
       "    </tr>\n",
       "    <tr>\n",
       "      <th>25920</th>\n",
       "      <td>14</td>\n",
       "      <td>0</td>\n",
       "      <td>0</td>\n",
       "      <td>3.610918</td>\n",
       "      <td>0</td>\n",
       "      <td>0</td>\n",
       "      <td>-2.164185</td>\n",
       "      <td>0</td>\n",
       "      <td>11.407576</td>\n",
       "      <td>1</td>\n",
       "      <td>...</td>\n",
       "      <td>0</td>\n",
       "      <td>1</td>\n",
       "      <td>1</td>\n",
       "      <td>0</td>\n",
       "      <td>0</td>\n",
       "      <td>0</td>\n",
       "      <td>0</td>\n",
       "      <td>0</td>\n",
       "      <td>0</td>\n",
       "      <td>1</td>\n",
       "    </tr>\n",
       "    <tr>\n",
       "      <th>72759</th>\n",
       "      <td>56</td>\n",
       "      <td>0</td>\n",
       "      <td>1</td>\n",
       "      <td>3.258097</td>\n",
       "      <td>0</td>\n",
       "      <td>1</td>\n",
       "      <td>-1.629831</td>\n",
       "      <td>5</td>\n",
       "      <td>10.819798</td>\n",
       "      <td>0</td>\n",
       "      <td>...</td>\n",
       "      <td>0</td>\n",
       "      <td>1</td>\n",
       "      <td>1</td>\n",
       "      <td>0</td>\n",
       "      <td>0</td>\n",
       "      <td>0</td>\n",
       "      <td>0</td>\n",
       "      <td>0</td>\n",
       "      <td>1</td>\n",
       "      <td>0</td>\n",
       "    </tr>\n",
       "    <tr>\n",
       "      <th>108665</th>\n",
       "      <td>35</td>\n",
       "      <td>0</td>\n",
       "      <td>1</td>\n",
       "      <td>3.583519</td>\n",
       "      <td>0</td>\n",
       "      <td>1</td>\n",
       "      <td>-2.211979</td>\n",
       "      <td>1</td>\n",
       "      <td>10.819798</td>\n",
       "      <td>1</td>\n",
       "      <td>...</td>\n",
       "      <td>0</td>\n",
       "      <td>1</td>\n",
       "      <td>1</td>\n",
       "      <td>0</td>\n",
       "      <td>0</td>\n",
       "      <td>0</td>\n",
       "      <td>0</td>\n",
       "      <td>0</td>\n",
       "      <td>1</td>\n",
       "      <td>0</td>\n",
       "    </tr>\n",
       "    <tr>\n",
       "      <th>31672</th>\n",
       "      <td>20</td>\n",
       "      <td>0</td>\n",
       "      <td>1</td>\n",
       "      <td>3.871201</td>\n",
       "      <td>4</td>\n",
       "      <td>0</td>\n",
       "      <td>-2.047099</td>\n",
       "      <td>3</td>\n",
       "      <td>10.308986</td>\n",
       "      <td>0</td>\n",
       "      <td>...</td>\n",
       "      <td>0</td>\n",
       "      <td>1</td>\n",
       "      <td>1</td>\n",
       "      <td>0</td>\n",
       "      <td>0</td>\n",
       "      <td>0</td>\n",
       "      <td>0</td>\n",
       "      <td>1</td>\n",
       "      <td>0</td>\n",
       "      <td>0</td>\n",
       "    </tr>\n",
       "  </tbody>\n",
       "</table>\n",
       "<p>5 rows × 45 columns</p>\n",
       "</div>"
      ],
      "text/plain": [
       "        client_id  day_app  sex       age  decline_app_cnt  good_work  \\\n",
       "11038          42        0    0  3.871201                0          0   \n",
       "25920          14        0    0  3.610918                0          0   \n",
       "72759          56        0    1  3.258097                0          1   \n",
       "108665         35        0    1  3.583519                0          1   \n",
       "31672          20        0    1  3.871201                4          0   \n",
       "\n",
       "        score_bki  bki_request_cnt     income  foreign_passport  ...  \\\n",
       "11038   -2.211580                1  10.463132                 1  ...   \n",
       "25920   -2.164185                0  11.407576                 1  ...   \n",
       "72759   -1.629831                5  10.819798                 0  ...   \n",
       "108665  -2.211979                1  10.819798                 1  ...   \n",
       "31672   -2.047099                3  10.308986                 0  ...   \n",
       "\n",
       "        car_type_1  car_type_2  sna_1  sna_2  sna_3  sna_4  first_time_1  \\\n",
       "11038            0           0      1      0      0      0             0   \n",
       "25920            0           1      1      0      0      0             0   \n",
       "72759            0           1      1      0      0      0             0   \n",
       "108665           0           1      1      0      0      0             0   \n",
       "31672            0           1      1      0      0      0             0   \n",
       "\n",
       "        first_time_2  first_time_3  first_time_4  \n",
       "11038              0             0             1  \n",
       "25920              0             0             1  \n",
       "72759              0             1             0  \n",
       "108665             0             1             0  \n",
       "31672              1             0             0  \n",
       "\n",
       "[5 rows x 45 columns]"
      ]
     },
     "execution_count": 34,
     "metadata": {},
     "output_type": "execute_result"
    }
   ],
   "source": [
    "df.head(5)"
   ]
  },
  {
   "cell_type": "markdown",
   "id": "immediate-tracy",
   "metadata": {
    "papermill": {
     "duration": 0.089872,
     "end_time": "2021-06-24T14:17:56.965828",
     "exception": false,
     "start_time": "2021-06-24T14:17:56.875956",
     "status": "completed"
    },
    "tags": []
   },
   "source": [
    "## Разделение данных\n",
    "Выберем для обучения только данные из файла train"
   ]
  },
  {
   "cell_type": "code",
   "execution_count": 35,
   "id": "excessive-consortium",
   "metadata": {
    "execution": {
     "iopub.execute_input": "2021-06-24T14:17:57.147732Z",
     "iopub.status.busy": "2021-06-24T14:17:57.147069Z",
     "iopub.status.idle": "2021-06-24T14:17:57.186056Z",
     "shell.execute_reply": "2021-06-24T14:17:57.186610Z",
     "shell.execute_reply.started": "2021-06-24T13:37:41.160892Z"
    },
    "papermill": {
     "duration": 0.132635,
     "end_time": "2021-06-24T14:17:57.186785",
     "exception": false,
     "start_time": "2021-06-24T14:17:57.054150",
     "status": "completed"
    },
    "tags": []
   },
   "outputs": [],
   "source": [
    "train = df[df['train'] == 1].drop(['train','client_id'], axis=1)\n",
    "# Удалим\n",
    "# train.drop('client_id',1, inplace=True)\n",
    "test = df[df['train'] == 0].drop(['train','client_id'], axis=1)"
   ]
  },
  {
   "cell_type": "markdown",
   "id": "normal-litigation",
   "metadata": {
    "papermill": {
     "duration": 0.086264,
     "end_time": "2021-06-24T14:17:57.362007",
     "exception": false,
     "start_time": "2021-06-24T14:17:57.275743",
     "status": "completed"
    },
    "tags": []
   },
   "source": [
    "Сначала необходимо разделить данные на тестовые и тренировочные, и уже потом проводить стандартизацию"
   ]
  },
  {
   "cell_type": "code",
   "execution_count": 36,
   "id": "changing-bread",
   "metadata": {
    "execution": {
     "iopub.execute_input": "2021-06-24T14:17:57.547866Z",
     "iopub.status.busy": "2021-06-24T14:17:57.547196Z",
     "iopub.status.idle": "2021-06-24T14:17:57.555615Z",
     "shell.execute_reply": "2021-06-24T14:17:57.556164Z",
     "shell.execute_reply.started": "2021-06-24T13:37:41.225540Z"
    },
    "papermill": {
     "duration": 0.105412,
     "end_time": "2021-06-24T14:17:57.556358",
     "exception": false,
     "start_time": "2021-06-24T14:17:57.450946",
     "status": "completed"
    },
    "tags": []
   },
   "outputs": [],
   "source": [
    "# X = np.hstack([df[df['train']==1][bin_cols + num_cols].values, x_cat])\n",
    "# Y = df[df['train']==1]['default'].values\n",
    "\n",
    "X = train.drop(['default'], axis=1)\n",
    "Y = train['default']"
   ]
  },
  {
   "cell_type": "code",
   "execution_count": 37,
   "id": "macro-breeding",
   "metadata": {
    "execution": {
     "iopub.execute_input": "2021-06-24T14:17:57.748497Z",
     "iopub.status.busy": "2021-06-24T14:17:57.747617Z",
     "iopub.status.idle": "2021-06-24T14:17:57.777777Z",
     "shell.execute_reply": "2021-06-24T14:17:57.777156Z",
     "shell.execute_reply.started": "2021-06-24T13:37:41.239197Z"
    },
    "papermill": {
     "duration": 0.128178,
     "end_time": "2021-06-24T14:17:57.777915",
     "exception": false,
     "start_time": "2021-06-24T14:17:57.649737",
     "status": "completed"
    },
    "tags": []
   },
   "outputs": [],
   "source": [
    "# Разделим данные для обучения следующим образом:\n",
    "X_train, X_test, y_train, y_test = train_test_split(X, Y, test_size=TEST_SIZE, random_state=RANDOM_SEED)"
   ]
  },
  {
   "cell_type": "markdown",
   "id": "breathing-stranger",
   "metadata": {
    "papermill": {
     "duration": 0.090399,
     "end_time": "2021-06-24T14:17:57.956635",
     "exception": false,
     "start_time": "2021-06-24T14:17:57.866236",
     "status": "completed"
    },
    "tags": []
   },
   "source": [
    "Проведем нормализацию наших числовых данных"
   ]
  },
  {
   "cell_type": "code",
   "execution_count": 38,
   "id": "everyday-packet",
   "metadata": {
    "execution": {
     "iopub.execute_input": "2021-06-24T14:17:58.144331Z",
     "iopub.status.busy": "2021-06-24T14:17:58.143166Z",
     "iopub.status.idle": "2021-06-24T14:17:58.274532Z",
     "shell.execute_reply": "2021-06-24T14:17:58.273955Z",
     "shell.execute_reply.started": "2021-06-24T13:37:44.100588Z"
    },
    "papermill": {
     "duration": 0.229336,
     "end_time": "2021-06-24T14:17:58.274672",
     "exception": false,
     "start_time": "2021-06-24T14:17:58.045336",
     "status": "completed"
    },
    "tags": []
   },
   "outputs": [],
   "source": [
    "# num_cols = ['age','decline_app_cnt','income','bki_request_cnt','score_bki','day_app']\n",
    "scaler = RobustScaler()\n",
    "# x_num = scaler.fit_transform(df.values)\n",
    "\n",
    "# scaler = StandardScaler()\n",
    "X_train[num_cols] = scaler.fit_transform(X_train[num_cols])\n",
    "X_test[num_cols] = scaler.transform(X_test[num_cols])"
   ]
  },
  {
   "cell_type": "markdown",
   "id": "signal-influence",
   "metadata": {
    "papermill": {
     "duration": 0.086002,
     "end_time": "2021-06-24T14:17:58.446958",
     "exception": false,
     "start_time": "2021-06-24T14:17:58.360956",
     "status": "completed"
    },
    "tags": []
   },
   "source": [
    "## Пробуем обучение"
   ]
  },
  {
   "cell_type": "code",
   "execution_count": 39,
   "id": "competitive-trinity",
   "metadata": {
    "execution": {
     "iopub.execute_input": "2021-06-24T14:17:58.632041Z",
     "iopub.status.busy": "2021-06-24T14:17:58.630806Z",
     "iopub.status.idle": "2021-06-24T14:17:59.955352Z",
     "shell.execute_reply": "2021-06-24T14:17:59.956181Z",
     "shell.execute_reply.started": "2021-06-24T13:37:46.051076Z"
    },
    "papermill": {
     "duration": 1.421169,
     "end_time": "2021-06-24T14:17:59.956452",
     "exception": false,
     "start_time": "2021-06-24T14:17:58.535283",
     "status": "completed"
    },
    "tags": []
   },
   "outputs": [],
   "source": [
    "lr = LogisticRegression()\n",
    "lr.fit(X_train, y_train)\n",
    "y_pred = lr.predict(X_test)"
   ]
  },
  {
   "cell_type": "code",
   "execution_count": 40,
   "id": "third-blake",
   "metadata": {
    "execution": {
     "iopub.execute_input": "2021-06-24T14:18:00.193841Z",
     "iopub.status.busy": "2021-06-24T14:18:00.192622Z",
     "iopub.status.idle": "2021-06-24T14:18:00.444587Z",
     "shell.execute_reply": "2021-06-24T14:18:00.443983Z",
     "shell.execute_reply.started": "2021-06-24T13:37:49.652378Z"
    },
    "papermill": {
     "duration": 0.347972,
     "end_time": "2021-06-24T14:18:00.444711",
     "exception": false,
     "start_time": "2021-06-24T14:18:00.096739",
     "status": "completed"
    },
    "tags": []
   },
   "outputs": [
    {
     "data": {
      "image/png": "[encoded data removed]",
      "text/plain": [
       "<Figure size 576x396 with 1 Axes>"
      ]
     },
     "metadata": {},
     "output_type": "display_data"
    }
   ],
   "source": [
    "probs = lr.predict_proba(X_test)[:,1]\n",
    "fpr, tpr, threshold = roc_curve(y_test, probs)\n",
    "roc_auc = roc_auc_score(y_test, probs)\n",
    "\n",
    "plt.figure()\n",
    "plt.plot([0, 1], label='Baseline', linestyle='--')\n",
    "plt.plot(fpr, tpr, label = 'Regression')\n",
    "plt.title('Logistic Regression ROC AUC = %0.3f' % roc_auc)\n",
    "plt.ylabel('True Positive Rate')\n",
    "plt.xlabel('False Positive Rate')\n",
    "plt.legend(loc = 'lower right')\n",
    "plt.show()"
   ]
  },
  {
   "cell_type": "code",
   "execution_count": 41,
   "id": "conservative-lawrence",
   "metadata": {
    "execution": {
     "iopub.execute_input": "2021-06-24T14:18:00.629727Z",
     "iopub.status.busy": "2021-06-24T14:18:00.629023Z",
     "iopub.status.idle": "2021-06-24T14:18:00.937302Z",
     "shell.execute_reply": "2021-06-24T14:18:00.936668Z",
     "shell.execute_reply.started": "2021-06-24T13:32:09.700989Z"
    },
    "papermill": {
     "duration": 0.40289,
     "end_time": "2021-06-24T14:18:00.937451",
     "exception": false,
     "start_time": "2021-06-24T14:18:00.534561",
     "status": "completed"
    },
    "tags": []
   },
   "outputs": [
    {
     "name": "stdout",
     "output_type": "stream",
     "text": [
      "accuracy_score 0.8707994579945799\n",
      "f1_score 0.03832576903681291\n",
      "precision_score 0.475\n",
      "precision_score 0.475\n"
     ]
    },
    {
     "data": {
      "image/png": "[encoded data removed]",
      "text/plain": [
       "<Figure size 576x396 with 2 Axes>"
      ]
     },
     "metadata": {},
     "output_type": "display_data"
    }
   ],
   "source": [
    "# Визуализация confusion matrix:\n",
    "sns.set_context(context='paper', font_scale=2, rc=None)\n",
    "group_names = ['True Neg', 'False Pos', 'False Neg', 'True Pos']\n",
    "group_counts = ['{0:0.0f}'.format(value) for value in\n",
    "                confusion_matrix(y_test, y_pred).flatten()]\n",
    "labels = [f'{v1}\\n{v2}' for v1, v2 in\n",
    "          zip(group_names, group_counts)]\n",
    "labels = np.asarray(labels).reshape(2, 2)\n",
    "sns.heatmap(confusion_matrix(y_test, y_pred), annot=labels, fmt='', cmap='Blues')\n",
    "\n",
    "print('accuracy_score', accuracy_score(y_test, y_pred))\n",
    "print('f1_score', f1_score(y_test, y_pred))\n",
    "print('precision_score', precision_score(y_test, y_pred))\n",
    "print('precision_score', precision_score(y_test, y_pred))\n"
   ]
  },
  {
   "cell_type": "markdown",
   "id": "hearing-roots",
   "metadata": {
    "execution": {
     "iopub.execute_input": "2021-06-23T12:51:27.955084Z",
     "iopub.status.busy": "2021-06-23T12:51:27.954707Z",
     "iopub.status.idle": "2021-06-23T12:51:27.962333Z",
     "shell.execute_reply": "2021-06-23T12:51:27.960644Z",
     "shell.execute_reply.started": "2021-06-23T12:51:27.955052Z"
    },
    "papermill": {
     "duration": 0.092116,
     "end_time": "2021-06-24T14:18:01.121931",
     "exception": false,
     "start_time": "2021-06-24T14:18:01.029815",
     "status": "completed"
    },
    "tags": []
   },
   "source": [
    "Довольно неплохо, попробуем улучшить модель!"
   ]
  },
  {
   "cell_type": "markdown",
   "id": "desperate-overview",
   "metadata": {
    "papermill": {
     "duration": 0.089509,
     "end_time": "2021-06-24T14:18:01.301469",
     "exception": false,
     "start_time": "2021-06-24T14:18:01.211960",
     "status": "completed"
    },
    "tags": []
   },
   "source": [
    "# Устранение дисбаланса выборки. Undersampling"
   ]
  },
  {
   "cell_type": "markdown",
   "id": "lyric-volleyball",
   "metadata": {
    "papermill": {
     "duration": 0.091058,
     "end_time": "2021-06-24T14:18:01.481362",
     "exception": false,
     "start_time": "2021-06-24T14:18:01.390304",
     "status": "completed"
    },
    "tags": []
   },
   "source": [
    "Наша выборка не сбалансирована. Посмотрим, что получится, если сбалансировать"
   ]
  },
  {
   "cell_type": "code",
   "execution_count": 42,
   "id": "undefined-request",
   "metadata": {
    "execution": {
     "iopub.execute_input": "2021-06-24T14:18:01.669705Z",
     "iopub.status.busy": "2021-06-24T14:18:01.669039Z",
     "iopub.status.idle": "2021-06-24T14:18:01.675581Z",
     "shell.execute_reply": "2021-06-24T14:18:01.676054Z",
     "shell.execute_reply.started": "2021-06-24T01:54:00.315972Z"
    },
    "papermill": {
     "duration": 0.103069,
     "end_time": "2021-06-24T14:18:01.676205",
     "exception": false,
     "start_time": "2021-06-24T14:18:01.573136",
     "status": "completed"
    },
    "tags": []
   },
   "outputs": [
    {
     "data": {
      "text/plain": [
       "0.0    64427\n",
       "1.0     9372\n",
       "Name: default, dtype: int64"
      ]
     },
     "execution_count": 42,
     "metadata": {},
     "output_type": "execute_result"
    }
   ],
   "source": [
    "Y.value_counts()\n",
    "# Y[Y == 0]"
   ]
  },
  {
   "cell_type": "code",
   "execution_count": 43,
   "id": "adequate-armstrong",
   "metadata": {
    "execution": {
     "iopub.execute_input": "2021-06-24T14:18:01.862989Z",
     "iopub.status.busy": "2021-06-24T14:18:01.862005Z",
     "iopub.status.idle": "2021-06-24T14:18:01.896747Z",
     "shell.execute_reply": "2021-06-24T14:18:01.896081Z",
     "shell.execute_reply.started": "2021-06-24T13:37:55.282667Z"
    },
    "papermill": {
     "duration": 0.129926,
     "end_time": "2021-06-24T14:18:01.896886",
     "exception": false,
     "start_time": "2021-06-24T14:18:01.766960",
     "status": "completed"
    },
    "tags": []
   },
   "outputs": [],
   "source": [
    "zeros = Y[Y == 0]\n",
    "ones = Y[Y == 1]\n",
    "down_index = list(zeros.index[:len(ones)]) + list(ones.index)\n",
    "X_down = X.loc[down_index, :]\n",
    "Y_down = Y[down_index]\n"
   ]
  },
  {
   "cell_type": "code",
   "execution_count": 44,
   "id": "intensive-shelter",
   "metadata": {
    "execution": {
     "iopub.execute_input": "2021-06-24T14:18:02.090504Z",
     "iopub.status.busy": "2021-06-24T14:18:02.089776Z",
     "iopub.status.idle": "2021-06-24T14:18:02.723205Z",
     "shell.execute_reply": "2021-06-24T14:18:02.722683Z",
     "shell.execute_reply.started": "2021-06-24T13:37:56.274587Z"
    },
    "papermill": {
     "duration": 0.735033,
     "end_time": "2021-06-24T14:18:02.723413",
     "exception": false,
     "start_time": "2021-06-24T14:18:01.988380",
     "status": "completed"
    },
    "tags": []
   },
   "outputs": [
    {
     "data": {
      "image/png": "[encoded data removed]",
      "text/plain": [
       "<Figure size 576x396 with 1 Axes>"
      ]
     },
     "metadata": {},
     "output_type": "display_data"
    }
   ],
   "source": [
    "\n",
    "# Разделим данные для обучения следующим образом:\n",
    "X_train, X_test, y_train, y_test = train_test_split(X_down, Y_down, test_size=TEST_SIZE, random_state=RANDOM_SEED)\n",
    "\n",
    "# num_cols = ['age','decline_app_cnt','income','bki_request_cnt','score_bki','day_app']\n",
    "scaler = RobustScaler()\n",
    "# x_num = scaler.fit_transform(df.values)\n",
    "\n",
    "# scaler = StandardScaler()\n",
    "X_train[num_cols] = scaler.fit_transform(X_train[num_cols])\n",
    "X_test[num_cols] = scaler.transform(X_test[num_cols])\n",
    "lr = LogisticRegression()\n",
    "lr.fit(X_train, y_train)\n",
    "y_pred = lr.predict(X_test)\n",
    "\n",
    "probs = lr.predict_proba(X_test)[:,1]\n",
    "fpr, tpr, threshold = roc_curve(y_test, probs)\n",
    "roc_auc = roc_auc_score(y_test, probs)\n",
    "\n",
    "plt.figure()\n",
    "plt.plot([0, 1], label='Baseline', linestyle='--')\n",
    "plt.plot(fpr, tpr, label = 'Regression')\n",
    "plt.title('Logistic Regression ROC AUC = %0.3f' % roc_auc)\n",
    "plt.ylabel('True Positive Rate')\n",
    "plt.xlabel('False Positive Rate')\n",
    "plt.legend(loc = 'lower right')\n",
    "plt.show()"
   ]
  },
  {
   "cell_type": "code",
   "execution_count": 45,
   "id": "desirable-satin",
   "metadata": {
    "execution": {
     "iopub.execute_input": "2021-06-24T14:18:02.947567Z",
     "iopub.status.busy": "2021-06-24T14:18:02.946585Z",
     "iopub.status.idle": "2021-06-24T14:18:02.950495Z",
     "shell.execute_reply": "2021-06-24T14:18:02.949940Z",
     "shell.execute_reply.started": "2021-06-24T13:38:16.190374Z"
    },
    "papermill": {
     "duration": 0.10418,
     "end_time": "2021-06-24T14:18:02.950631",
     "exception": false,
     "start_time": "2021-06-24T14:18:02.846451",
     "status": "completed"
    },
    "tags": []
   },
   "outputs": [
    {
     "data": {
      "text/plain": [
       "(18744, 42)"
      ]
     },
     "execution_count": 45,
     "metadata": {},
     "output_type": "execute_result"
    }
   ],
   "source": [
    "X_down.shape"
   ]
  },
  {
   "cell_type": "code",
   "execution_count": 46,
   "id": "norman-individual",
   "metadata": {
    "execution": {
     "iopub.execute_input": "2021-06-24T14:18:03.147391Z",
     "iopub.status.busy": "2021-06-24T14:18:03.146453Z",
     "iopub.status.idle": "2021-06-24T14:18:03.408954Z",
     "shell.execute_reply": "2021-06-24T14:18:03.408422Z",
     "shell.execute_reply.started": "2021-06-24T01:54:03.01948Z"
    },
    "papermill": {
     "duration": 0.363515,
     "end_time": "2021-06-24T14:18:03.409095",
     "exception": false,
     "start_time": "2021-06-24T14:18:03.045580",
     "status": "completed"
    },
    "tags": []
   },
   "outputs": [
    {
     "name": "stdout",
     "output_type": "stream",
     "text": [
      "accuracy_score 0.900506801813817\n",
      "f1_score 0.8937019093758906\n",
      "precision_score 0.9520340012143291\n",
      "precision_score 0.9520340012143291\n"
     ]
    },
    {
     "data": {
      "image/png": "[encoded data removed]",
      "text/plain": [
       "<Figure size 576x396 with 2 Axes>"
      ]
     },
     "metadata": {},
     "output_type": "display_data"
    }
   ],
   "source": [
    "# Визуализация confusion matrix:\n",
    "sns.set_context(context='paper', font_scale=2, rc=None)\n",
    "group_names = ['True Neg', 'False Pos', 'False Neg', 'True Pos']\n",
    "group_counts = ['{0:0.0f}'.format(value) for value in\n",
    "                confusion_matrix(y_test, y_pred).flatten()]\n",
    "labels = [f'{v1}\\n{v2}' for v1, v2 in\n",
    "          zip(group_names, group_counts)]\n",
    "labels = np.asarray(labels).reshape(2, 2)\n",
    "sns.heatmap(confusion_matrix(y_test, y_pred), annot=labels, fmt='', cmap='Blues')\n",
    "\n",
    "print('accuracy_score', accuracy_score(y_test, y_pred))\n",
    "print('f1_score', f1_score(y_test, y_pred))\n",
    "print('precision_score', precision_score(y_test, y_pred))\n",
    "print('precision_score', precision_score(y_test, y_pred))\n"
   ]
  },
  {
   "cell_type": "markdown",
   "id": "sixth-silicon",
   "metadata": {
    "papermill": {
     "duration": 0.093211,
     "end_time": "2021-06-24T14:18:03.598967",
     "exception": false,
     "start_time": "2021-06-24T14:18:03.505756",
     "status": "completed"
    },
    "tags": []
   },
   "source": [
    "# Для удобства обернем модель в класс"
   ]
  },
  {
   "cell_type": "code",
   "execution_count": 47,
   "id": "colored-domestic",
   "metadata": {
    "execution": {
     "iopub.execute_input": "2021-06-24T14:18:03.791041Z",
     "iopub.status.busy": "2021-06-24T14:18:03.790398Z",
     "iopub.status.idle": "2021-06-24T14:18:03.806912Z",
     "shell.execute_reply": "2021-06-24T14:18:03.806363Z",
     "shell.execute_reply.started": "2021-06-24T14:02:51.510749Z"
    },
    "papermill": {
     "duration": 0.114561,
     "end_time": "2021-06-24T14:18:03.807055",
     "exception": false,
     "start_time": "2021-06-24T14:18:03.692494",
     "status": "completed"
    },
    "tags": []
   },
   "outputs": [],
   "source": [
    "# Для упрощения обработки разобьем данные на три типа переменных: числовые, категориальные и бинарные\n",
    "bin_cols = ['sex', 'good_work', 'foreign_passport']\n",
    "cat_cols = ['weekday_app', 'education', 'region_rating', 'work_address', 'car_type', 'sna', 'first_time']\n",
    "num_cols = ['day_app', 'age', 'decline_app_cnt', 'score_bki', 'bki_request_cnt', 'income']\n",
    "\n",
    "def prepare_data(df_train,df_test):\n",
    "    \n",
    "    # объединим их\n",
    "    df_train['train'] = 1 # пометим тренировочные\n",
    "    df_test['train'] = 0 # пометим тестовые\n",
    "    df = pd.concat([df_train, df_test], ignore_index=True)\n",
    "    \n",
    "    # обработаем данные\n",
    "    mode = df['education'].mode().item() # найдем наиболее часто встречающийся вид образования в датасете#\n",
    "    df['education'] = df['education'].fillna(mode)\n",
    "    df['education'] = LabelEncoder().fit_transform(df['education'])\n",
    "\n",
    "    df['app_date'] = pd.to_datetime(df['app_date']) # - преобразуем в нормальный вид столбец с датой подачи\n",
    "    \n",
    "    # weekday_app - день недели, в который происходила подачи заявки (0-пн, 1-вт, 2-ср...)\n",
    "    # day_app - Еще один признак - количество дней с начала записи данных до каждой конкретной подачи\n",
    "    idx = df.columns.get_loc('app_date') \n",
    "    df.insert(loc=idx+1, column='weekday_app', value= df['app_date'].dt.dayofweek)\n",
    "    df.insert(loc=idx+1, column='day_app', value= (df['app_date'] - df['app_date'].min()).dt.days.astype(int))\n",
    "    a = [0,1,2,3,4]\n",
    "    df.insert(loc = idx+1,column='is_workday',value = df['app_date'].dt.weekday.apply(lambda x: 1 if x in a else 0 ))\n",
    "\n",
    "    df = df.drop('app_date',1)\n",
    "    \n",
    "    # car и car_type. В типе машины добавим тип 2 - \"нет машины\". А наличие машины удалим\n",
    "    df['car_type'] = df[['car','car_type']].apply(lambda x: 2 if x['car']==0 else x['car_type'], axis=1)\n",
    "    df.drop('car', axis=1, inplace=True)\n",
    "    \n",
    "    # work_address and home_address. Удалим домашний адрес, так как он чуть хуже коррелирует с целевой переменной\n",
    "    df.drop('home_address', axis=1, inplace=True)\n",
    "    \n",
    "    \n",
    "    # Прологорифмируем смещенные числовые данные, чтобы данные были распределны более нормально\n",
    "    num_cols_2 = ['age','income']\n",
    "    for i,col in enumerate(num_cols_2):\n",
    "        df[col] = np.log(df[col] + 1)\n",
    "        \n",
    "        \n",
    "    # Преобразуем все бинарные признаки в 1 и 0\n",
    "    label_encoder = LabelEncoder()\n",
    "    for column in bin_cols:\n",
    "        df[column] = label_encoder.fit_transform(df[column])\n",
    "        \n",
    "    # Преобразуем все категориалные признаки в дамминг-переменные\n",
    "    df = pd.get_dummies(df, columns=cat_cols, dummy_na=False)        \n",
    "        \n",
    "    return df\n",
    "\n",
    "\n",
    "def devided_data(df):\n",
    "    train = df.query('train == 1').drop(['train','client_id'], axis=1)\n",
    "    test = df.query('train == 0').drop(['train'], axis=1)\n",
    "        \n",
    "    # Преобразуем все категориалные признаки\n",
    "#     X_cat = OneHotEncoder(sparse=False).fit_transform(train[cat_cols].values)\n",
    "#     X_cat = train[cat_cols].values\n",
    "    # Стандартизация числовых переменных:\n",
    "#     X_num = StandardScaler().fit_transform(train[num_cols].values)\n",
    "#     X_num = train[num_cols].values\n",
    "#     X = np.hstack([X_num, train[num_cols + bin_cols+cat_cols].values, X_cat])\n",
    "    X = train.drop(['default'],axis=1)\n",
    "    y = train['default']\n",
    "#     X_train, X_test, y_train, y_test = train_test_split(X, Y, test_size=0.20, random_state=42)\n",
    "    \n",
    "    # Подготовим тестовые данные, которые пойдут в сабмит\n",
    "#     test_X_cat = OneHotEncoder(sparse=False).fit_transform(test[cat_cols].values)\n",
    "#     test_X_cat = test[cat_cols].values\n",
    "#     # Стандартизация числовых переменных:\n",
    "#     test_X_num = StandardScaler().fit_transform(test[num_cols].values)\n",
    "#     test_data = np.hstack([test_X_num, test[bin_cols].values, test_X_cat])\n",
    "    test_data = test.drop(['default','client_id'],axis=1)\n",
    "    return X, y, test_data   "
   ]
  },
  {
   "cell_type": "code",
   "execution_count": 48,
   "id": "incoming-luxury",
   "metadata": {
    "execution": {
     "iopub.execute_input": "2021-06-24T14:18:03.999210Z",
     "iopub.status.busy": "2021-06-24T14:18:03.998661Z",
     "iopub.status.idle": "2021-06-24T14:18:04.010351Z",
     "shell.execute_reply": "2021-06-24T14:18:04.010832Z",
     "shell.execute_reply.started": "2021-06-24T14:01:04.124246Z"
    },
    "papermill": {
     "duration": 0.109434,
     "end_time": "2021-06-24T14:18:04.010984",
     "exception": false,
     "start_time": "2021-06-24T14:18:03.901550",
     "status": "completed"
    },
    "tags": []
   },
   "outputs": [],
   "source": [
    "# Разделим данные для обучения следующим образом:\n",
    "\n",
    "\n",
    "class LogReg():\n",
    "    def __init__(self, model):\n",
    "        self.model = model\n",
    "        \n",
    "    # Функция обучает модель\n",
    "    def teach_model(self, X_train, y_train):\n",
    "        return self.model.fit(X_train, y_train)\n",
    "         \n",
    "        \n",
    "    def get_predict(self, X_test):\n",
    "        y_pred = self.model.predict(X_test)\n",
    "        self.y_pred = y_pred\n",
    "        return y_pred\n",
    "    \n",
    "    def get_predict_proba(self, X_test):\n",
    "        probs = self.model.predict_proba(X_test)[:,1]\n",
    "        self.probs = probs\n",
    "        return probs\n",
    "    \n",
    "    def show_roc_auc(self, y_test, probs):\n",
    "        fpr, tpr, threshold = roc_curve(y_test, probs)\n",
    "        roc_auc = roc_auc_score(y_test, probs)\n",
    "\n",
    "        plt.figure()\n",
    "        plt.plot([0, 1], label='Baseline', linestyle='--')\n",
    "        plt.plot(fpr, tpr, label = 'Regression')\n",
    "        plt.title('Logistic Regression ROC AUC = %0.3f' % roc_auc)\n",
    "        plt.ylabel('True Positive Rate')\n",
    "        plt.xlabel('False Positive Rate')\n",
    "        plt.legend(loc = 'lower right')\n",
    "        plt.show()\n",
    "        \n",
    "    def show_metrics(self, y_test, y_pred):\n",
    "        # Визуализация confusion matrix:\n",
    "        sns.set_context(context='paper', font_scale=2, rc=None)\n",
    "        group_names = ['True Neg', 'False Pos', 'False Neg', 'True Pos']\n",
    "        group_counts = ['{0:0.0f}'.format(value) for value in\n",
    "                        confusion_matrix(y_test, y_pred).flatten()]\n",
    "        labels = [f'{v1}\\n{v2}' for v1, v2 in\n",
    "                  zip(group_names, group_counts)]\n",
    "        labels = np.asarray(labels).reshape(2, 2)\n",
    "        sns.heatmap(confusion_matrix(y_test, y_pred), annot=labels, fmt='', cmap='Blues')\n",
    "\n",
    "        print('accuracy_score', accuracy_score(y_test, y_pred))\n",
    "        print('f1_score', f1_score(y_test, y_pred))\n",
    "        print('precision_score', precision_score(y_test, y_pred))\n",
    "        print('precision_score', precision_score(y_test, y_pred))"
   ]
  },
  {
   "cell_type": "markdown",
   "id": "laden-score",
   "metadata": {
    "papermill": {
     "duration": 0.096542,
     "end_time": "2021-06-24T14:18:04.201840",
     "exception": false,
     "start_time": "2021-06-24T14:18:04.105298",
     "status": "completed"
    },
    "tags": []
   },
   "source": [
    "## Воспроизведем эксперимент с первой моделью"
   ]
  },
  {
   "cell_type": "code",
   "execution_count": 49,
   "id": "labeled-yukon",
   "metadata": {
    "execution": {
     "iopub.execute_input": "2021-06-24T14:18:04.396999Z",
     "iopub.status.busy": "2021-06-24T14:18:04.396358Z",
     "iopub.status.idle": "2021-06-24T14:18:08.748153Z",
     "shell.execute_reply": "2021-06-24T14:18:08.747710Z",
     "shell.execute_reply.started": "2021-06-24T14:07:39.940623Z"
    },
    "papermill": {
     "duration": 4.448907,
     "end_time": "2021-06-24T14:18:08.748301",
     "exception": false,
     "start_time": "2021-06-24T14:18:04.299394",
     "status": "completed"
    },
    "tags": []
   },
   "outputs": [
    {
     "data": {
      "image/png": "[encoded data removed]",
      "text/plain": [
       "<Figure size 576x396 with 1 Axes>"
      ]
     },
     "metadata": {},
     "output_type": "display_data"
    },
    {
     "name": "stdout",
     "output_type": "stream",
     "text": [
      "accuracy_score 0.8744579945799458\n",
      "f1_score 0.0374025974025974\n",
      "precision_score 0.3673469387755102\n",
      "precision_score 0.3673469387755102\n"
     ]
    },
    {
     "data": {
      "image/png": "[encoded data removed]",
      "text/plain": [
       "<Figure size 576x396 with 2 Axes>"
      ]
     },
     "metadata": {},
     "output_type": "display_data"
    }
   ],
   "source": [
    "# получаем данные из файла\n",
    "DATA_DIR = '/kaggle/input/sf-dst-scoring/'\n",
    "df_train = pd.read_csv(DATA_DIR+'train.csv')\n",
    "df_test = pd.read_csv(DATA_DIR+'test.csv')\n",
    "df = prepare_data(df_train,df_test)\n",
    "X, y, test_data = devided_data(df)\n",
    "X_train, X_test, y_train, y_test = train_test_split(X, y, test_size=0.2, random_state=42)\n",
    "scaler = StandardScaler()\n",
    "X_train[num_cols] = scaler.fit_transform(X_train[num_cols])\n",
    "X_test[num_cols] = scaler.transform(X_test[num_cols])\n",
    "\n",
    "lr = LogReg(LogisticRegression())\n",
    "model_0 = lr.teach_model(X_train, y_train)\n",
    "y_pred = lr.get_predict(X_test)\n",
    "\n",
    "probs = lr.get_predict_proba(X_test)\n",
    "lr.show_roc_auc(y_test, probs)\n",
    "lr.show_metrics(y_test, y_pred)\n"
   ]
  },
  {
   "cell_type": "markdown",
   "id": "rapid-sheet",
   "metadata": {
    "papermill": {
     "duration": 0.098631,
     "end_time": "2021-06-24T14:18:08.945941",
     "exception": false,
     "start_time": "2021-06-24T14:18:08.847310",
     "status": "completed"
    },
    "tags": []
   },
   "source": [
    "## Воспроизведем эксперимент с балансированной выборкой"
   ]
  },
  {
   "cell_type": "markdown",
   "id": "devoted-stretch",
   "metadata": {
    "papermill": {
     "duration": 0.098419,
     "end_time": "2021-06-24T14:18:09.142075",
     "exception": false,
     "start_time": "2021-06-24T14:18:09.043656",
     "status": "completed"
    },
    "tags": []
   },
   "source": [
    "### 1. Undersampling"
   ]
  },
  {
   "cell_type": "code",
   "execution_count": 50,
   "id": "fiscal-ukraine",
   "metadata": {
    "execution": {
     "iopub.execute_input": "2021-06-24T14:18:09.346843Z",
     "iopub.status.busy": "2021-06-24T14:18:09.346139Z",
     "iopub.status.idle": "2021-06-24T14:18:12.658538Z",
     "shell.execute_reply": "2021-06-24T14:18:12.657877Z",
     "shell.execute_reply.started": "2021-06-24T14:11:02.367963Z"
    },
    "papermill": {
     "duration": 3.418359,
     "end_time": "2021-06-24T14:18:12.658684",
     "exception": false,
     "start_time": "2021-06-24T14:18:09.240325",
     "status": "completed"
    },
    "tags": []
   },
   "outputs": [
    {
     "data": {
      "image/png": "[encoded data removed]",
      "text/plain": [
       "<Figure size 576x396 with 1 Axes>"
      ]
     },
     "metadata": {},
     "output_type": "display_data"
    },
    {
     "name": "stdout",
     "output_type": "stream",
     "text": [
      "accuracy_score 0.6777807415310749\n",
      "f1_score 0.6768325307651151\n",
      "precision_score 0.6743070362473348\n",
      "precision_score 0.6743070362473348\n"
     ]
    },
    {
     "data": {
      "image/png": "[encoded data removed]",
      "text/plain": [
       "<Figure size 576x396 with 2 Axes>"
      ]
     },
     "metadata": {},
     "output_type": "display_data"
    }
   ],
   "source": [
    "\n",
    "DATA_DIR = '/kaggle/input/sf-dst-scoring/'\n",
    "df_train = pd.read_csv(DATA_DIR+'train.csv')\n",
    "df_test = pd.read_csv(DATA_DIR+'test.csv')\n",
    "df = prepare_data(df_train,df_test)\n",
    "X, y, test_data = devided_data(df)\n",
    "\n",
    "zeros = y[y == 0]\n",
    "ones = y[y == 1]\n",
    "down_index = list(zeros.index[:len(ones)]) + list(ones.index)\n",
    "# default_new = int(len(zeros) / len(ones))\n",
    "x_down = X.loc[down_index, :]\n",
    "y_down = y[down_index]\n",
    "\n",
    "# display(y_down)\n",
    "X_train, X_test, y_train, y_test = train_test_split(x_down, y_down, test_size=0.2, random_state=42)\n",
    "# scaler = RobustScaler()\n",
    "# x_num = scaler.fit_transform(df.values)\n",
    "\n",
    "scaler = StandardScaler()\n",
    "X_train[num_cols] = scaler.fit_transform(X_train[num_cols])\n",
    "X_test[num_cols] = scaler.transform(X_test[num_cols])\n",
    "\n",
    "lr1 = LogReg(LogisticRegression())\n",
    "model_1 = lr1.teach_model(X_train, y_train)\n",
    "y_pred = lr1.get_predict(X_test)\n",
    "\n",
    "probs = lr1.get_predict_proba(X_test)\n",
    "lr1.show_roc_auc(y_test, probs)\n",
    "lr1.show_metrics(y_test, y_pred)"
   ]
  },
  {
   "cell_type": "code",
   "execution_count": 51,
   "id": "considered-forge",
   "metadata": {
    "execution": {
     "iopub.execute_input": "2021-06-24T14:18:12.874864Z",
     "iopub.status.busy": "2021-06-24T14:18:12.871059Z",
     "iopub.status.idle": "2021-06-24T14:18:13.424007Z",
     "shell.execute_reply": "2021-06-24T14:18:13.423415Z",
     "shell.execute_reply.started": "2021-06-24T14:12:18.444087Z"
    },
    "papermill": {
     "duration": 0.662128,
     "end_time": "2021-06-24T14:18:13.424139",
     "exception": false,
     "start_time": "2021-06-24T14:18:12.762011",
     "status": "completed"
    },
    "tags": []
   },
   "outputs": [
    {
     "data": {
      "text/plain": [
       "(110148, 45)"
      ]
     },
     "metadata": {},
     "output_type": "display_data"
    },
    {
     "data": {
      "text/plain": [
       "(18744, 42)"
      ]
     },
     "metadata": {},
     "output_type": "display_data"
    },
    {
     "data": {
      "text/plain": [
       "(18744, 42)"
      ]
     },
     "metadata": {},
     "output_type": "display_data"
    },
    {
     "data": {
      "image/png": "[encoded data removed]",
      "text/plain": [
       "<Figure size 576x396 with 1 Axes>"
      ]
     },
     "metadata": {},
     "output_type": "display_data"
    }
   ],
   "source": [
    "train = df[df['train'] == 1].drop(['train','client_id'], axis=1)\n",
    "# Удалим\n",
    "# train.drop('client_id',1, inplace=True)\n",
    "test = df[df['train'] == 0].drop(['train','client_id'], axis=1)\n",
    "\n",
    "\n",
    "X = train.drop(['default'], axis=1)\n",
    "Y = train['default']\n",
    "\n",
    "\n",
    "scaler = StandardScaler()\n",
    "X[num_cols] = scaler.fit_transform(X[num_cols])\n",
    "# X_test[num_cols] = scaler.transform(X_test[num_cols])\n",
    "\n",
    "zeros = Y[Y == 0]\n",
    "ones = Y[Y == 1]\n",
    "down_index = list(zeros.index[:len(ones)]) + list(ones.index)\n",
    "X_down = X.loc[down_index, :]\n",
    "Y_down = Y[down_index]\n",
    "\n",
    "display(df.shape)\n",
    "display(x_down.shape)\n",
    "display(X_down.shape)\n",
    "np.array_equal(x_down,X_down)\n",
    "# Разделим данные для обучения следующим образом:\n",
    "X_train, X_test, y_train, y_test = train_test_split(X_down, Y_down, test_size=0.2, random_state=42)\n",
    "\n",
    "# num_cols = ['age','decline_app_cnt','income','bki_request_cnt','score_bki','day_app']\n",
    "# scaler = RobustScaler()\n",
    "# x_num = scaler.fit_transform(df.values)\n",
    "\n",
    "model_3 = LogisticRegression(C=7.7826, penalty = 'l2', max_iter = 1000,\n",
    "                        class_weight='balanced',solver = 'liblinear')\n",
    "model_3.fit(X_train, y_train)\n",
    "y_pred = model_3.predict(X_test)\n",
    "\n",
    "probs = model_3.predict_proba(X_test)[:,1]\n",
    "fpr, tpr, threshold = roc_curve(y_test, probs)\n",
    "roc_auc = roc_auc_score(y_test, probs)\n",
    "\n",
    "plt.figure()\n",
    "plt.plot([0, 1], label='Baseline', linestyle='--')\n",
    "plt.plot(fpr, tpr, label = 'Regression')\n",
    "plt.title('Logistic Regression ROC AUC = %0.3f' % roc_auc)\n",
    "plt.ylabel('True Positive Rate')\n",
    "plt.xlabel('False Positive Rate')\n",
    "plt.legend(loc = 'lower right')\n",
    "plt.show()"
   ]
  },
  {
   "cell_type": "code",
   "execution_count": null,
   "id": "european-bridge",
   "metadata": {
    "papermill": {
     "duration": 0.103518,
     "end_time": "2021-06-24T14:18:13.632906",
     "exception": false,
     "start_time": "2021-06-24T14:18:13.529388",
     "status": "completed"
    },
    "tags": []
   },
   "outputs": [],
   "source": []
  },
  {
   "cell_type": "markdown",
   "id": "functional-knight",
   "metadata": {
    "papermill": {
     "duration": 0.130421,
     "end_time": "2021-06-24T14:18:13.872155",
     "exception": false,
     "start_time": "2021-06-24T14:18:13.741734",
     "status": "completed"
    },
    "tags": []
   },
   "source": [
    "# Submission"
   ]
  },
  {
   "cell_type": "code",
   "execution_count": 52,
   "id": "potential-proof",
   "metadata": {
    "execution": {
     "iopub.execute_input": "2021-06-24T14:18:14.158816Z",
     "iopub.status.busy": "2021-06-24T14:18:14.145035Z",
     "iopub.status.idle": "2021-06-24T14:18:14.163218Z",
     "shell.execute_reply": "2021-06-24T14:18:14.162609Z",
     "shell.execute_reply.started": "2021-06-24T14:12:30.215158Z"
    },
    "papermill": {
     "duration": 0.137426,
     "end_time": "2021-06-24T14:18:14.163394",
     "exception": false,
     "start_time": "2021-06-24T14:18:14.025968",
     "status": "completed"
    },
    "tags": []
   },
   "outputs": [
    {
     "data": {
      "text/html": [
       "<div>\n",
       "<style scoped>\n",
       "    .dataframe tbody tr th:only-of-type {\n",
       "        vertical-align: middle;\n",
       "    }\n",
       "\n",
       "    .dataframe tbody tr th {\n",
       "        vertical-align: top;\n",
       "    }\n",
       "\n",
       "    .dataframe thead th {\n",
       "        text-align: right;\n",
       "    }\n",
       "</style>\n",
       "<table border=\"1\" class=\"dataframe\">\n",
       "  <thead>\n",
       "    <tr style=\"text-align: right;\">\n",
       "      <th></th>\n",
       "      <th>client_id</th>\n",
       "      <th>app_date</th>\n",
       "      <th>education</th>\n",
       "      <th>sex</th>\n",
       "      <th>age</th>\n",
       "      <th>car</th>\n",
       "      <th>car_type</th>\n",
       "      <th>decline_app_cnt</th>\n",
       "      <th>good_work</th>\n",
       "      <th>score_bki</th>\n",
       "      <th>bki_request_cnt</th>\n",
       "      <th>region_rating</th>\n",
       "      <th>home_address</th>\n",
       "      <th>work_address</th>\n",
       "      <th>income</th>\n",
       "      <th>sna</th>\n",
       "      <th>first_time</th>\n",
       "      <th>foreign_passport</th>\n",
       "      <th>train</th>\n",
       "    </tr>\n",
       "  </thead>\n",
       "  <tbody>\n",
       "    <tr>\n",
       "      <th>0</th>\n",
       "      <td>74835</td>\n",
       "      <td>22MAR2014</td>\n",
       "      <td>GRD</td>\n",
       "      <td>M</td>\n",
       "      <td>29</td>\n",
       "      <td>Y</td>\n",
       "      <td>Y</td>\n",
       "      <td>0</td>\n",
       "      <td>0</td>\n",
       "      <td>-2.271884</td>\n",
       "      <td>3</td>\n",
       "      <td>50</td>\n",
       "      <td>1</td>\n",
       "      <td>2</td>\n",
       "      <td>50000</td>\n",
       "      <td>1</td>\n",
       "      <td>4</td>\n",
       "      <td>N</td>\n",
       "      <td>0</td>\n",
       "    </tr>\n",
       "    <tr>\n",
       "      <th>1</th>\n",
       "      <td>17527</td>\n",
       "      <td>24JAN2014</td>\n",
       "      <td>SCH</td>\n",
       "      <td>F</td>\n",
       "      <td>39</td>\n",
       "      <td>N</td>\n",
       "      <td>N</td>\n",
       "      <td>5</td>\n",
       "      <td>0</td>\n",
       "      <td>-1.504999</td>\n",
       "      <td>2</td>\n",
       "      <td>50</td>\n",
       "      <td>1</td>\n",
       "      <td>2</td>\n",
       "      <td>5000</td>\n",
       "      <td>4</td>\n",
       "      <td>3</td>\n",
       "      <td>N</td>\n",
       "      <td>0</td>\n",
       "    </tr>\n",
       "    <tr>\n",
       "      <th>2</th>\n",
       "      <td>75683</td>\n",
       "      <td>23MAR2014</td>\n",
       "      <td>UGR</td>\n",
       "      <td>M</td>\n",
       "      <td>50</td>\n",
       "      <td>Y</td>\n",
       "      <td>Y</td>\n",
       "      <td>0</td>\n",
       "      <td>0</td>\n",
       "      <td>-1.691339</td>\n",
       "      <td>1</td>\n",
       "      <td>50</td>\n",
       "      <td>1</td>\n",
       "      <td>2</td>\n",
       "      <td>30000</td>\n",
       "      <td>1</td>\n",
       "      <td>3</td>\n",
       "      <td>Y</td>\n",
       "      <td>0</td>\n",
       "    </tr>\n",
       "    <tr>\n",
       "      <th>3</th>\n",
       "      <td>26883</td>\n",
       "      <td>03FEB2014</td>\n",
       "      <td>SCH</td>\n",
       "      <td>M</td>\n",
       "      <td>56</td>\n",
       "      <td>N</td>\n",
       "      <td>N</td>\n",
       "      <td>0</td>\n",
       "      <td>0</td>\n",
       "      <td>-2.374182</td>\n",
       "      <td>1</td>\n",
       "      <td>40</td>\n",
       "      <td>1</td>\n",
       "      <td>2</td>\n",
       "      <td>17000</td>\n",
       "      <td>1</td>\n",
       "      <td>3</td>\n",
       "      <td>N</td>\n",
       "      <td>0</td>\n",
       "    </tr>\n",
       "    <tr>\n",
       "      <th>4</th>\n",
       "      <td>28862</td>\n",
       "      <td>04FEB2014</td>\n",
       "      <td>GRD</td>\n",
       "      <td>F</td>\n",
       "      <td>38</td>\n",
       "      <td>N</td>\n",
       "      <td>N</td>\n",
       "      <td>0</td>\n",
       "      <td>0</td>\n",
       "      <td>-2.487502</td>\n",
       "      <td>0</td>\n",
       "      <td>80</td>\n",
       "      <td>2</td>\n",
       "      <td>3</td>\n",
       "      <td>120000</td>\n",
       "      <td>1</td>\n",
       "      <td>3</td>\n",
       "      <td>N</td>\n",
       "      <td>0</td>\n",
       "    </tr>\n",
       "    <tr>\n",
       "      <th>...</th>\n",
       "      <td>...</td>\n",
       "      <td>...</td>\n",
       "      <td>...</td>\n",
       "      <td>...</td>\n",
       "      <td>...</td>\n",
       "      <td>...</td>\n",
       "      <td>...</td>\n",
       "      <td>...</td>\n",
       "      <td>...</td>\n",
       "      <td>...</td>\n",
       "      <td>...</td>\n",
       "      <td>...</td>\n",
       "      <td>...</td>\n",
       "      <td>...</td>\n",
       "      <td>...</td>\n",
       "      <td>...</td>\n",
       "      <td>...</td>\n",
       "      <td>...</td>\n",
       "      <td>...</td>\n",
       "    </tr>\n",
       "    <tr>\n",
       "      <th>36344</th>\n",
       "      <td>83775</td>\n",
       "      <td>31MAR2014</td>\n",
       "      <td>SCH</td>\n",
       "      <td>F</td>\n",
       "      <td>37</td>\n",
       "      <td>N</td>\n",
       "      <td>N</td>\n",
       "      <td>1</td>\n",
       "      <td>0</td>\n",
       "      <td>-1.744976</td>\n",
       "      <td>3</td>\n",
       "      <td>50</td>\n",
       "      <td>2</td>\n",
       "      <td>3</td>\n",
       "      <td>15000</td>\n",
       "      <td>4</td>\n",
       "      <td>1</td>\n",
       "      <td>N</td>\n",
       "      <td>0</td>\n",
       "    </tr>\n",
       "    <tr>\n",
       "      <th>36345</th>\n",
       "      <td>106254</td>\n",
       "      <td>25APR2014</td>\n",
       "      <td>GRD</td>\n",
       "      <td>F</td>\n",
       "      <td>64</td>\n",
       "      <td>Y</td>\n",
       "      <td>Y</td>\n",
       "      <td>0</td>\n",
       "      <td>0</td>\n",
       "      <td>-2.293781</td>\n",
       "      <td>3</td>\n",
       "      <td>60</td>\n",
       "      <td>1</td>\n",
       "      <td>2</td>\n",
       "      <td>200000</td>\n",
       "      <td>1</td>\n",
       "      <td>4</td>\n",
       "      <td>N</td>\n",
       "      <td>0</td>\n",
       "    </tr>\n",
       "    <tr>\n",
       "      <th>36346</th>\n",
       "      <td>81852</td>\n",
       "      <td>30MAR2014</td>\n",
       "      <td>GRD</td>\n",
       "      <td>M</td>\n",
       "      <td>31</td>\n",
       "      <td>N</td>\n",
       "      <td>N</td>\n",
       "      <td>2</td>\n",
       "      <td>0</td>\n",
       "      <td>-0.940752</td>\n",
       "      <td>1</td>\n",
       "      <td>50</td>\n",
       "      <td>1</td>\n",
       "      <td>2</td>\n",
       "      <td>60000</td>\n",
       "      <td>4</td>\n",
       "      <td>2</td>\n",
       "      <td>N</td>\n",
       "      <td>0</td>\n",
       "    </tr>\n",
       "    <tr>\n",
       "      <th>36347</th>\n",
       "      <td>1971</td>\n",
       "      <td>07JAN2014</td>\n",
       "      <td>UGR</td>\n",
       "      <td>F</td>\n",
       "      <td>27</td>\n",
       "      <td>N</td>\n",
       "      <td>N</td>\n",
       "      <td>1</td>\n",
       "      <td>0</td>\n",
       "      <td>-1.242392</td>\n",
       "      <td>2</td>\n",
       "      <td>80</td>\n",
       "      <td>2</td>\n",
       "      <td>3</td>\n",
       "      <td>30000</td>\n",
       "      <td>1</td>\n",
       "      <td>1</td>\n",
       "      <td>N</td>\n",
       "      <td>0</td>\n",
       "    </tr>\n",
       "    <tr>\n",
       "      <th>36348</th>\n",
       "      <td>69044</td>\n",
       "      <td>17MAR2014</td>\n",
       "      <td>SCH</td>\n",
       "      <td>M</td>\n",
       "      <td>38</td>\n",
       "      <td>N</td>\n",
       "      <td>N</td>\n",
       "      <td>0</td>\n",
       "      <td>0</td>\n",
       "      <td>-1.507549</td>\n",
       "      <td>2</td>\n",
       "      <td>50</td>\n",
       "      <td>1</td>\n",
       "      <td>2</td>\n",
       "      <td>15000</td>\n",
       "      <td>4</td>\n",
       "      <td>2</td>\n",
       "      <td>N</td>\n",
       "      <td>0</td>\n",
       "    </tr>\n",
       "  </tbody>\n",
       "</table>\n",
       "<p>36349 rows × 19 columns</p>\n",
       "</div>"
      ],
      "text/plain": [
       "       client_id   app_date education sex  age car car_type  decline_app_cnt  \\\n",
       "0          74835  22MAR2014       GRD   M   29   Y        Y                0   \n",
       "1          17527  24JAN2014       SCH   F   39   N        N                5   \n",
       "2          75683  23MAR2014       UGR   M   50   Y        Y                0   \n",
       "3          26883  03FEB2014       SCH   M   56   N        N                0   \n",
       "4          28862  04FEB2014       GRD   F   38   N        N                0   \n",
       "...          ...        ...       ...  ..  ...  ..      ...              ...   \n",
       "36344      83775  31MAR2014       SCH   F   37   N        N                1   \n",
       "36345     106254  25APR2014       GRD   F   64   Y        Y                0   \n",
       "36346      81852  30MAR2014       GRD   M   31   N        N                2   \n",
       "36347       1971  07JAN2014       UGR   F   27   N        N                1   \n",
       "36348      69044  17MAR2014       SCH   M   38   N        N                0   \n",
       "\n",
       "       good_work  score_bki  bki_request_cnt  region_rating  home_address  \\\n",
       "0              0  -2.271884                3             50             1   \n",
       "1              0  -1.504999                2             50             1   \n",
       "2              0  -1.691339                1             50             1   \n",
       "3              0  -2.374182                1             40             1   \n",
       "4              0  -2.487502                0             80             2   \n",
       "...          ...        ...              ...            ...           ...   \n",
       "36344          0  -1.744976                3             50             2   \n",
       "36345          0  -2.293781                3             60             1   \n",
       "36346          0  -0.940752                1             50             1   \n",
       "36347          0  -1.242392                2             80             2   \n",
       "36348          0  -1.507549                2             50             1   \n",
       "\n",
       "       work_address  income  sna  first_time foreign_passport  train  \n",
       "0                 2   50000    1           4                N      0  \n",
       "1                 2    5000    4           3                N      0  \n",
       "2                 2   30000    1           3                Y      0  \n",
       "3                 2   17000    1           3                N      0  \n",
       "4                 3  120000    1           3                N      0  \n",
       "...             ...     ...  ...         ...              ...    ...  \n",
       "36344             3   15000    4           1                N      0  \n",
       "36345             2  200000    1           4                N      0  \n",
       "36346             2   60000    4           2                N      0  \n",
       "36347             3   30000    1           1                N      0  \n",
       "36348             2   15000    4           2                N      0  \n",
       "\n",
       "[36349 rows x 19 columns]"
      ]
     },
     "execution_count": 52,
     "metadata": {},
     "output_type": "execute_result"
    }
   ],
   "source": [
    "df_test"
   ]
  },
  {
   "cell_type": "code",
   "execution_count": 53,
   "id": "seasonal-greenhouse",
   "metadata": {
    "execution": {
     "iopub.execute_input": "2021-06-24T14:18:14.372679Z",
     "iopub.status.busy": "2021-06-24T14:18:14.372023Z",
     "iopub.status.idle": "2021-06-24T14:18:14.494773Z",
     "shell.execute_reply": "2021-06-24T14:18:14.495583Z",
     "shell.execute_reply.started": "2021-06-24T14:15:08.333931Z"
    },
    "papermill": {
     "duration": 0.228867,
     "end_time": "2021-06-24T14:18:14.495839",
     "exception": false,
     "start_time": "2021-06-24T14:18:14.266972",
     "status": "completed"
    },
    "tags": []
   },
   "outputs": [
    {
     "data": {
      "text/html": [
       "<div>\n",
       "<style scoped>\n",
       "    .dataframe tbody tr th:only-of-type {\n",
       "        vertical-align: middle;\n",
       "    }\n",
       "\n",
       "    .dataframe tbody tr th {\n",
       "        vertical-align: top;\n",
       "    }\n",
       "\n",
       "    .dataframe thead th {\n",
       "        text-align: right;\n",
       "    }\n",
       "</style>\n",
       "<table border=\"1\" class=\"dataframe\">\n",
       "  <thead>\n",
       "    <tr style=\"text-align: right;\">\n",
       "      <th></th>\n",
       "      <th>client_id</th>\n",
       "      <th>default</th>\n",
       "    </tr>\n",
       "  </thead>\n",
       "  <tbody>\n",
       "    <tr>\n",
       "      <th>73799</th>\n",
       "      <td>74835</td>\n",
       "      <td>0.204679</td>\n",
       "    </tr>\n",
       "    <tr>\n",
       "      <th>73800</th>\n",
       "      <td>17527</td>\n",
       "      <td>0.854269</td>\n",
       "    </tr>\n",
       "    <tr>\n",
       "      <th>73801</th>\n",
       "      <td>75683</td>\n",
       "      <td>0.344853</td>\n",
       "    </tr>\n",
       "    <tr>\n",
       "      <th>73802</th>\n",
       "      <td>26883</td>\n",
       "      <td>0.449305</td>\n",
       "    </tr>\n",
       "    <tr>\n",
       "      <th>73803</th>\n",
       "      <td>28862</td>\n",
       "      <td>0.155476</td>\n",
       "    </tr>\n",
       "    <tr>\n",
       "      <th>...</th>\n",
       "      <td>...</td>\n",
       "      <td>...</td>\n",
       "    </tr>\n",
       "    <tr>\n",
       "      <th>110143</th>\n",
       "      <td>83775</td>\n",
       "      <td>0.763154</td>\n",
       "    </tr>\n",
       "    <tr>\n",
       "      <th>110144</th>\n",
       "      <td>106254</td>\n",
       "      <td>0.116267</td>\n",
       "    </tr>\n",
       "    <tr>\n",
       "      <th>110145</th>\n",
       "      <td>81852</td>\n",
       "      <td>0.823445</td>\n",
       "    </tr>\n",
       "    <tr>\n",
       "      <th>110146</th>\n",
       "      <td>1971</td>\n",
       "      <td>0.603842</td>\n",
       "    </tr>\n",
       "    <tr>\n",
       "      <th>110147</th>\n",
       "      <td>69044</td>\n",
       "      <td>0.750117</td>\n",
       "    </tr>\n",
       "  </tbody>\n",
       "</table>\n",
       "<p>36349 rows × 2 columns</p>\n",
       "</div>"
      ],
      "text/plain": [
       "        client_id   default\n",
       "73799       74835  0.204679\n",
       "73800       17527  0.854269\n",
       "73801       75683  0.344853\n",
       "73802       26883  0.449305\n",
       "73803       28862  0.155476\n",
       "...           ...       ...\n",
       "110143      83775  0.763154\n",
       "110144     106254  0.116267\n",
       "110145      81852  0.823445\n",
       "110146       1971  0.603842\n",
       "110147      69044  0.750117\n",
       "\n",
       "[36349 rows x 2 columns]"
      ]
     },
     "execution_count": 53,
     "metadata": {},
     "output_type": "execute_result"
    }
   ],
   "source": [
    "test = df[df['train'] == 0].drop(['train','client_id','default'], axis=1)\n",
    "test[num_cols] = scaler.fit_transform(test[num_cols])\n",
    "y_pred = model_1.predict_proba(test)[:,1]\n",
    "\n",
    "test['default'] = y_pred\n",
    "submission = df[df['train'] == 0][['client_id']].merge(test[['default']], left_index=True, right_index=True)\n",
    "submission"
   ]
  },
  {
   "cell_type": "code",
   "execution_count": 54,
   "id": "incomplete-lincoln",
   "metadata": {
    "execution": {
     "iopub.execute_input": "2021-06-24T14:18:14.751701Z",
     "iopub.status.busy": "2021-06-24T14:18:14.750780Z",
     "iopub.status.idle": "2021-06-24T14:18:14.884530Z",
     "shell.execute_reply": "2021-06-24T14:18:14.883924Z",
     "shell.execute_reply.started": "2021-06-24T14:15:20.479852Z"
    },
    "papermill": {
     "duration": 0.246584,
     "end_time": "2021-06-24T14:18:14.884676",
     "exception": false,
     "start_time": "2021-06-24T14:18:14.638092",
     "status": "completed"
    },
    "tags": []
   },
   "outputs": [],
   "source": [
    "submission.to_csv('submission.csv', index=False)"
   ]
  },
  {
   "cell_type": "code",
   "execution_count": 55,
   "id": "three-sheffield",
   "metadata": {
    "execution": {
     "iopub.execute_input": "2021-06-24T14:18:15.128470Z",
     "iopub.status.busy": "2021-06-24T14:18:15.127558Z",
     "iopub.status.idle": "2021-06-24T14:18:15.149888Z",
     "shell.execute_reply": "2021-06-24T14:18:15.150696Z",
     "shell.execute_reply.started": "2021-06-24T14:16:53.615723Z"
    },
    "papermill": {
     "duration": 0.147475,
     "end_time": "2021-06-24T14:18:15.150932",
     "exception": false,
     "start_time": "2021-06-24T14:18:15.003457",
     "status": "completed"
    },
    "tags": []
   },
   "outputs": [
    {
     "data": {
      "text/html": [
       "<div>\n",
       "<style scoped>\n",
       "    .dataframe tbody tr th:only-of-type {\n",
       "        vertical-align: middle;\n",
       "    }\n",
       "\n",
       "    .dataframe tbody tr th {\n",
       "        vertical-align: top;\n",
       "    }\n",
       "\n",
       "    .dataframe thead th {\n",
       "        text-align: right;\n",
       "    }\n",
       "</style>\n",
       "<table border=\"1\" class=\"dataframe\">\n",
       "  <thead>\n",
       "    <tr style=\"text-align: right;\">\n",
       "      <th></th>\n",
       "      <th>client_id</th>\n",
       "      <th>default</th>\n",
       "    </tr>\n",
       "  </thead>\n",
       "  <tbody>\n",
       "    <tr>\n",
       "      <th>7587</th>\n",
       "      <td>110116</td>\n",
       "      <td>0.565833</td>\n",
       "    </tr>\n",
       "  </tbody>\n",
       "</table>\n",
       "</div>"
      ],
      "text/plain": [
       "      client_id   default\n",
       "7587     110116  0.565833"
      ]
     },
     "execution_count": 55,
     "metadata": {},
     "output_type": "execute_result"
    }
   ],
   "source": [
    "import pandas as pd\n",
    "dd = pd.read_csv('/kaggle/working/submission.csv')\n",
    "dd[dd.client_id == 110116]\n"
   ]
  },
  {
   "cell_type": "code",
   "execution_count": null,
   "id": "present-willow",
   "metadata": {
    "papermill": {
     "duration": 0.110074,
     "end_time": "2021-06-24T14:18:15.380441",
     "exception": false,
     "start_time": "2021-06-24T14:18:15.270367",
     "status": "completed"
    },
    "tags": []
   },
   "outputs": [],
   "source": []
  }
 ],
 "metadata": {
  "kernelspec": {
   "display_name": "Python 3",
   "language": "python",
   "name": "python3"
  },
  "language_info": {
   "codemirror_mode": {
    "name": "ipython",
    "version": 3
   },
   "file_extension": ".py",
   "mimetype": "text/x-python",
   "name": "python",
   "nbconvert_exporter": "python",
   "pygments_lexer": "ipython3",
   "version": "3.7.9"
  },
  "papermill": {
   "default_parameters": {},
   "duration": 55.938164,
   "end_time": "2021-06-24T14:18:16.499874",
   "environment_variables": {},
   "exception": null,
   "input_path": "__notebook__.ipynb",
   "output_path": "__notebook__.ipynb",
   "parameters": {},
   "start_time": "2021-06-24T14:17:20.561710",
   "version": "2.3.2"
  }
 },
 "nbformat": 4,
 "nbformat_minor": 5
}
