{
 "cells": [
  {
   "cell_type": "code",
   "execution_count": 1,
   "id": "152caae1",
   "metadata": {},
   "outputs": [],
   "source": [
    "from sklearn.linear_model import LinearRegression\n",
    "from sklearn.datasets import load_diabetes\n",
    "import numpy as np\n",
    "import pickle"
   ]
  },
  {
   "cell_type": "code",
   "execution_count": 9,
   "id": "80b4d2d1",
   "metadata": {},
   "outputs": [],
   "source": [
    "X, y = load_diabetes(return_X_y=True)"
   ]
  },
  {
   "cell_type": "code",
   "execution_count": 8,
   "id": "1c5204dc",
   "metadata": {},
   "outputs": [
    {
     "data": {
      "text/plain": [
       "(442, 10)"
      ]
     },
     "execution_count": 8,
     "metadata": {},
     "output_type": "execute_result"
    }
   ],
   "source": [
    "X.shape"
   ]
  },
  {
   "cell_type": "code",
   "execution_count": 4,
   "id": "4fbe890f",
   "metadata": {},
   "outputs": [
    {
     "data": {
      "text/plain": [
       "(442,)"
      ]
     },
     "execution_count": 4,
     "metadata": {},
     "output_type": "execute_result"
    }
   ],
   "source": [
    "y.shape"
   ]
  },
  {
   "cell_type": "code",
   "execution_count": 5,
   "id": "d36a7654",
   "metadata": {},
   "outputs": [],
   "source": [
    "X = X[:, 0].reshape(-1, 1) # Берём только один признак и переведем строку в столбец"
   ]
  },
  {
   "cell_type": "code",
   "execution_count": 11,
   "id": "125eed65",
   "metadata": {},
   "outputs": [
    {
     "data": {
      "text/plain": [
       "array([ 0.03807591,  0.05068012,  0.06169621,  0.02187235, -0.0442235 ,\n",
       "       -0.03482076, -0.04340085, -0.00259226,  0.01990842, -0.01764613])"
      ]
     },
     "execution_count": 11,
     "metadata": {},
     "output_type": "execute_result"
    }
   ],
   "source": [
    "X[0]"
   ]
  },
  {
   "cell_type": "code",
   "execution_count": 19,
   "id": "f845c7b7",
   "metadata": {},
   "outputs": [
    {
     "data": {
      "text/plain": [
       "LinearRegression()"
      ]
     },
     "execution_count": 19,
     "metadata": {},
     "output_type": "execute_result"
    }
   ],
   "source": [
    "regressor = LinearRegression()\n",
    "regressor.fit(X,y)"
   ]
  },
  {
   "cell_type": "code",
   "execution_count": 20,
   "id": "f9db631a",
   "metadata": {},
   "outputs": [
    {
     "data": {
      "text/plain": [
       "array([164.30080714])"
      ]
     },
     "execution_count": 20,
     "metadata": {},
     "output_type": "execute_result"
    }
   ],
   "source": [
    "value_to_predict = np.array([0.04]).reshape(-1, 1)\n",
    "regressor.predict(value_to_predict)"
   ]
  },
  {
   "cell_type": "code",
   "execution_count": 21,
   "id": "04981cb2",
   "metadata": {},
   "outputs": [],
   "source": [
    "with open('myfile.pkl', 'wb') as output:\n",
    "   \tpickle.dump(regressor, output) #Сохраняем\n",
    "\n",
    "with open('myfile.pkl', 'rb') as pkl_file:\n",
    "    \tregressor_from_file = pickle.load(pkl_file) #Загружаем"
   ]
  },
  {
   "cell_type": "code",
   "execution_count": 24,
   "id": "55b42bdc",
   "metadata": {},
   "outputs": [
    {
     "data": {
      "text/plain": [
       "array([152.13348416])"
      ]
     },
     "execution_count": 24,
     "metadata": {},
     "output_type": "execute_result"
    }
   ],
   "source": [
    "regressor_from_file.predict(np.array([0]).reshape(-1, 1))"
   ]
  },
  {
   "cell_type": "code",
   "execution_count": null,
   "id": "f681ee3c",
   "metadata": {},
   "outputs": [],
   "source": []
  }
 ],
 "metadata": {
  "kernelspec": {
   "display_name": "Python 3",
   "language": "python",
   "name": "python3"
  },
  "language_info": {
   "codemirror_mode": {
    "name": "ipython",
    "version": 3
   },
   "file_extension": ".py",
   "mimetype": "text/x-python",
   "name": "python",
   "nbconvert_exporter": "python",
   "pygments_lexer": "ipython3",
   "version": "3.8.8"
  }
 },
 "nbformat": 4,
 "nbformat_minor": 5
}
